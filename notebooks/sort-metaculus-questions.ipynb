{
 "cells": [
  {
   "cell_type": "markdown",
   "metadata": {},
   "source": [
    "# Setup"
   ]
  },
  {
   "cell_type": "code",
   "execution_count": 17,
   "metadata": {},
   "outputs": [],
   "source": [
    "import pandas as pd\n",
    "from datetime import datetime\n",
    "\n",
    "import ergo\n",
    "from ergo.platforms.metaculus.question import LinearQuestion, LogQuestion, ContinuousQuestion"
   ]
  },
  {
   "cell_type": "code",
   "execution_count": 3,
   "metadata": {},
   "outputs": [],
   "source": [
    "pd.set_option('display.max_rows', None)\n",
    "pd.set_option('display.max_columns', None)"
   ]
  },
  {
   "cell_type": "markdown",
   "metadata": {},
   "source": [
    "# Get questions to sort"
   ]
  },
  {
   "cell_type": "markdown",
   "metadata": {},
   "source": [
    "Get all *open* questions on the *main* subdomain."
   ]
  },
  {
   "cell_type": "code",
   "execution_count": 4,
   "metadata": {},
   "outputs": [],
   "source": [
    "metaculus = ergo.Metaculus(username=\"oughtpublic\", password=\"123456\", api_domain=\"www\")"
   ]
  },
  {
   "cell_type": "code",
   "execution_count": 5,
   "metadata": {},
   "outputs": [],
   "source": [
    "qs = metaculus.get_questions(question_status=\"open\", pages=99999)"
   ]
  },
  {
   "cell_type": "code",
   "execution_count": 18,
   "metadata": {},
   "outputs": [],
   "source": [
    "exemplar_q_id = 3530"
   ]
  },
  {
   "cell_type": "code",
   "execution_count": 19,
   "metadata": {},
   "outputs": [],
   "source": [
    "exemplar_q = metaculus.get_question(exemplar_q_id)"
   ]
  },
  {
   "cell_type": "code",
   "execution_count": 20,
   "metadata": {},
   "outputs": [],
   "source": [
    "qs_df = exemplar_q.to_dataframe(qs)"
   ]
  },
  {
   "cell_type": "markdown",
   "metadata": {},
   "source": [
    "# Get question metadata"
   ]
  },
  {
   "cell_type": "markdown",
   "metadata": {},
   "source": [
    "## Get all of the metadata already on the question"
   ]
  },
  {
   "cell_type": "markdown",
   "metadata": {},
   "source": [
    "Get the field names from the question JSON from Metaculus:"
   ]
  },
  {
   "cell_type": "code",
   "execution_count": 21,
   "metadata": {},
   "outputs": [],
   "source": [
    "metaculus_json_fields = list(exemplar_q.data.keys())"
   ]
  },
  {
   "cell_type": "markdown",
   "metadata": {},
   "source": [
    "Get the property names from the ContinuousQuestion class:"
   ]
  },
  {
   "cell_type": "code",
   "execution_count": 22,
   "metadata": {},
   "outputs": [],
   "source": [
    "def properties(some_class):\n",
    "    class_items = some_class.__dict__.items()\n",
    "    return [name for (name, value) in class_items if isinstance(value, property)]"
   ]
  },
  {
   "cell_type": "code",
   "execution_count": 23,
   "metadata": {},
   "outputs": [],
   "source": [
    "continuous_question_properties = properties(ContinuousQuestion)"
   ]
  },
  {
   "cell_type": "code",
   "execution_count": 30,
   "metadata": {},
   "outputs": [],
   "source": [
    "%%capture\n",
    "q_fields = metaculus_json_fields + continuous_question_properties\n",
    "\n",
    "simple_fields = [field for field in q_fields if type(getattr(exemplar_q, field)) in [bool, int, float, str, datetime]]\n",
    "\n",
    "# This property causes an exception for some reason\n",
    "simple_fields.remove(\"question_range_width\")\n",
    "\n",
    "for field in simple_fields:\n",
    "    qs_df[field] = [getattr(q, field, None) for q in qs]"
   ]
  },
  {
   "cell_type": "markdown",
   "metadata": {},
   "source": [
    "## Generate and add more metadata"
   ]
  },
  {
   "cell_type": "code",
   "execution_count": 31,
   "metadata": {},
   "outputs": [],
   "source": [
    "def get_p_outside(q):\n",
    "    if not hasattr(q, \"latest_community_percentiles\"):\n",
    "        return None\n",
    "    # for some reason q.latest_community_percentiles is a float for some questions\n",
    "    if type(q.latest_community_percentiles) == float:\n",
    "        return None\n",
    "    \n",
    "    return q.latest_community_percentiles[\"low\"] + (1 - q.latest_community_percentiles[\"high\"])"
   ]
  },
  {
   "cell_type": "code",
   "execution_count": 32,
   "metadata": {},
   "outputs": [],
   "source": [
    "metadata_columns = {\n",
    "    \"type\": lambda q: type(q).__name__,\n",
    "    \"num_boundaries_open\": lambda q: int(q.low_open) + int(q.high_open) if hasattr(q, \"low_open\") else None,\n",
    "    \"p_outside\": get_p_outside,\n",
    "    \"question_range_min\": lambda q: q.question_range[\"min\"] if hasattr(q, \"question_range\") else None,\n",
    "    \"question_range_max\": lambda q: q.question_range[\"max\"] if hasattr(q, \"question_range\") else None,\n",
    "    \"question_url\": lambda q: f\"https://www.metaculus.com{q.page_url}\"\n",
    "}"
   ]
  },
  {
   "cell_type": "code",
   "execution_count": 33,
   "metadata": {},
   "outputs": [],
   "source": [
    "for (name, fn) in metadata_columns.items():\n",
    "    qs_df[name] = [fn(q) for q in qs]"
   ]
  },
  {
   "cell_type": "markdown",
   "metadata": {},
   "source": [
    "## Select and reorder columns"
   ]
  },
  {
   "cell_type": "markdown",
   "metadata": {},
   "source": [
    "At this point, we have these columns:"
   ]
  },
  {
   "cell_type": "code",
   "execution_count": 34,
   "metadata": {},
   "outputs": [
    {
     "data": {
      "text/html": [
       "<div>\n",
       "<style scoped>\n",
       "    .dataframe tbody tr th:only-of-type {\n",
       "        vertical-align: middle;\n",
       "    }\n",
       "\n",
       "    .dataframe tbody tr th {\n",
       "        vertical-align: top;\n",
       "    }\n",
       "\n",
       "    .dataframe thead th {\n",
       "        text-align: right;\n",
       "    }\n",
       "</style>\n",
       "<table border=\"1\" class=\"dataframe\">\n",
       "  <thead>\n",
       "    <tr style=\"text-align: right;\">\n",
       "      <th></th>\n",
       "      <th>id</th>\n",
       "      <th>title</th>\n",
       "      <th>resolve_time</th>\n",
       "      <th>type</th>\n",
       "      <th>num_boundaries_open</th>\n",
       "      <th>p_outside</th>\n",
       "      <th>question_range_min</th>\n",
       "      <th>question_range_max</th>\n",
       "      <th>question_url</th>\n",
       "      <th>url</th>\n",
       "      <th>page_url</th>\n",
       "      <th>author</th>\n",
       "      <th>status</th>\n",
       "      <th>created_time</th>\n",
       "      <th>publish_time</th>\n",
       "      <th>close_time</th>\n",
       "      <th>can_use_powers</th>\n",
       "      <th>last_activity_time</th>\n",
       "      <th>activity</th>\n",
       "      <th>comment_count</th>\n",
       "      <th>votes</th>\n",
       "      <th>title_short</th>\n",
       "      <th>user_vote</th>\n",
       "      <th>user_community_vis</th>\n",
       "      <th>author_name</th>\n",
       "      <th>anon_prediction_count</th>\n",
       "      <th>last_read</th>\n",
       "      <th>low_open</th>\n",
       "      <th>high_open</th>\n",
       "      <th>has_predictions</th>\n",
       "      <th>plot_title</th>\n",
       "    </tr>\n",
       "  </thead>\n",
       "  <tbody>\n",
       "    <tr>\n",
       "      <th>253</th>\n",
       "      <td>3530</td>\n",
       "      <td>How many people will die as a result of the 20...</td>\n",
       "      <td>2021-01-01 00:00:00</td>\n",
       "      <td>LogQuestion</td>\n",
       "      <td>2.0</td>\n",
       "      <td>0.03308</td>\n",
       "      <td>200</td>\n",
       "      <td>100000000</td>\n",
       "      <td>https://www.metaculus.com/questions/3530/how-m...</td>\n",
       "      <td>https://www.metaculus.com/api2/questions/3530/</td>\n",
       "      <td>/questions/3530/how-many-people-will-die-as-a-...</td>\n",
       "      <td>101465</td>\n",
       "      <td>A</td>\n",
       "      <td>2020-01-25T04:09:23.208127Z</td>\n",
       "      <td>2020-01-27</td>\n",
       "      <td>2020-11-01 00:00:00</td>\n",
       "      <td>True</td>\n",
       "      <td>2020-06-16T00:13:10.915866Z</td>\n",
       "      <td>11.692703</td>\n",
       "      <td>229</td>\n",
       "      <td>146</td>\n",
       "      <td>COVID-19 related deaths before 2021:</td>\n",
       "      <td>0</td>\n",
       "      <td>0.0</td>\n",
       "      <td>Jgalt</td>\n",
       "      <td>101</td>\n",
       "      <td>2020-06-16T02:28:51.275880Z</td>\n",
       "      <td>True</td>\n",
       "      <td>True</td>\n",
       "      <td>True</td>\n",
       "      <td>How many people will die as a result of the 20...</td>\n",
       "    </tr>\n",
       "  </tbody>\n",
       "</table>\n",
       "</div>"
      ],
      "text/plain": [
       "       id                                              title  \\\n",
       "253  3530  How many people will die as a result of the 20...   \n",
       "\n",
       "            resolve_time         type  num_boundaries_open  p_outside  \\\n",
       "253  2021-01-01 00:00:00  LogQuestion                  2.0    0.03308   \n",
       "\n",
       "    question_range_min question_range_max  \\\n",
       "253                200          100000000   \n",
       "\n",
       "                                          question_url  \\\n",
       "253  https://www.metaculus.com/questions/3530/how-m...   \n",
       "\n",
       "                                                url  \\\n",
       "253  https://www.metaculus.com/api2/questions/3530/   \n",
       "\n",
       "                                              page_url  author status  \\\n",
       "253  /questions/3530/how-many-people-will-die-as-a-...  101465      A   \n",
       "\n",
       "                    created_time publish_time           close_time  \\\n",
       "253  2020-01-25T04:09:23.208127Z   2020-01-27  2020-11-01 00:00:00   \n",
       "\n",
       "     can_use_powers           last_activity_time   activity  comment_count  \\\n",
       "253            True  2020-06-16T00:13:10.915866Z  11.692703            229   \n",
       "\n",
       "     votes                           title_short  user_vote  \\\n",
       "253    146  COVID-19 related deaths before 2021:          0   \n",
       "\n",
       "     user_community_vis author_name  anon_prediction_count  \\\n",
       "253                 0.0       Jgalt                    101   \n",
       "\n",
       "                       last_read low_open high_open has_predictions  \\\n",
       "253  2020-06-16T02:28:51.275880Z     True      True            True   \n",
       "\n",
       "                                            plot_title  \n",
       "253  How many people will die as a result of the 20...  "
      ]
     },
     "execution_count": 34,
     "metadata": {},
     "output_type": "execute_result"
    }
   ],
   "source": [
    "qs_df[qs_df[\"id\"] == exemplar_q_id]"
   ]
  },
  {
   "cell_type": "markdown",
   "metadata": {},
   "source": [
    "Select all the ones that might plausibly be useful, and put them in a reasonable order:"
   ]
  },
  {
   "cell_type": "code",
   "execution_count": 35,
   "metadata": {},
   "outputs": [],
   "source": [
    "qs_df = qs_df[[\n",
    "    \"id\",\n",
    "    \"title\",\n",
    "    \"question_url\",\n",
    "    \"type\",\n",
    "    \"num_boundaries_open\",\n",
    "    \"low_open\",\n",
    "    \"high_open\",\n",
    "    \"p_outside\",\n",
    "    \"question_range_min\",\n",
    "    \"question_range_max\",\n",
    "    \"anon_prediction_count\",\n",
    "    \"last_activity_time\",\n",
    "    \"votes\",\n",
    "    \"comment_count\",\n",
    "    \"created_time\",\n",
    "    \"publish_time\",\n",
    "    \"close_time\",\n",
    "    \"resolve_time\",\n",
    "    \"author_name\",\n",
    "    \"last_read\",\n",
    "    \"has_predictions\",\n",
    "    \"activity\",\n",
    "    \"title_short\"\n",
    "]]"
   ]
  },
  {
   "cell_type": "code",
   "execution_count": 36,
   "metadata": {},
   "outputs": [
    {
     "data": {
      "text/html": [
       "<div>\n",
       "<style scoped>\n",
       "    .dataframe tbody tr th:only-of-type {\n",
       "        vertical-align: middle;\n",
       "    }\n",
       "\n",
       "    .dataframe tbody tr th {\n",
       "        vertical-align: top;\n",
       "    }\n",
       "\n",
       "    .dataframe thead th {\n",
       "        text-align: right;\n",
       "    }\n",
       "</style>\n",
       "<table border=\"1\" class=\"dataframe\">\n",
       "  <thead>\n",
       "    <tr style=\"text-align: right;\">\n",
       "      <th></th>\n",
       "      <th>id</th>\n",
       "      <th>title</th>\n",
       "      <th>question_url</th>\n",
       "      <th>type</th>\n",
       "      <th>num_boundaries_open</th>\n",
       "      <th>low_open</th>\n",
       "      <th>high_open</th>\n",
       "      <th>p_outside</th>\n",
       "      <th>question_range_min</th>\n",
       "      <th>question_range_max</th>\n",
       "      <th>anon_prediction_count</th>\n",
       "      <th>last_activity_time</th>\n",
       "      <th>votes</th>\n",
       "      <th>comment_count</th>\n",
       "      <th>created_time</th>\n",
       "      <th>publish_time</th>\n",
       "      <th>close_time</th>\n",
       "      <th>resolve_time</th>\n",
       "      <th>author_name</th>\n",
       "      <th>last_read</th>\n",
       "      <th>has_predictions</th>\n",
       "      <th>activity</th>\n",
       "      <th>title_short</th>\n",
       "    </tr>\n",
       "  </thead>\n",
       "  <tbody>\n",
       "    <tr>\n",
       "      <th>253</th>\n",
       "      <td>3530</td>\n",
       "      <td>How many people will die as a result of the 20...</td>\n",
       "      <td>https://www.metaculus.com/questions/3530/how-m...</td>\n",
       "      <td>LogQuestion</td>\n",
       "      <td>2.0</td>\n",
       "      <td>True</td>\n",
       "      <td>True</td>\n",
       "      <td>0.03308</td>\n",
       "      <td>200</td>\n",
       "      <td>100000000</td>\n",
       "      <td>101</td>\n",
       "      <td>2020-06-16T00:13:10.915866Z</td>\n",
       "      <td>146</td>\n",
       "      <td>229</td>\n",
       "      <td>2020-01-25T04:09:23.208127Z</td>\n",
       "      <td>2020-01-27</td>\n",
       "      <td>2020-11-01 00:00:00</td>\n",
       "      <td>2021-01-01 00:00:00</td>\n",
       "      <td>Jgalt</td>\n",
       "      <td>2020-06-16T02:28:51.275880Z</td>\n",
       "      <td>True</td>\n",
       "      <td>11.692703</td>\n",
       "      <td>COVID-19 related deaths before 2021:</td>\n",
       "    </tr>\n",
       "  </tbody>\n",
       "</table>\n",
       "</div>"
      ],
      "text/plain": [
       "       id                                              title  \\\n",
       "253  3530  How many people will die as a result of the 20...   \n",
       "\n",
       "                                          question_url         type  \\\n",
       "253  https://www.metaculus.com/questions/3530/how-m...  LogQuestion   \n",
       "\n",
       "     num_boundaries_open low_open high_open  p_outside question_range_min  \\\n",
       "253                  2.0     True      True    0.03308                200   \n",
       "\n",
       "    question_range_max  anon_prediction_count           last_activity_time  \\\n",
       "253          100000000                    101  2020-06-16T00:13:10.915866Z   \n",
       "\n",
       "     votes  comment_count                 created_time publish_time  \\\n",
       "253    146            229  2020-01-25T04:09:23.208127Z   2020-01-27   \n",
       "\n",
       "              close_time         resolve_time author_name  \\\n",
       "253  2020-11-01 00:00:00  2021-01-01 00:00:00       Jgalt   \n",
       "\n",
       "                       last_read has_predictions   activity  \\\n",
       "253  2020-06-16T02:28:51.275880Z            True  11.692703   \n",
       "\n",
       "                              title_short  \n",
       "253  COVID-19 related deaths before 2021:  "
      ]
     },
     "execution_count": 36,
     "metadata": {},
     "output_type": "execute_result"
    }
   ],
   "source": [
    "qs_df[qs_df[\"id\"] == exemplar_q_id]"
   ]
  },
  {
   "cell_type": "markdown",
   "metadata": {},
   "source": [
    "## Explanations of some important fields\n",
    "- `low_open`: Is the lower boundary of the question open? (only applies to ContinuousQuestions)\n",
    "- `high_open`: Is the upper boundary of the question open? (only applies to ContinuousQuestions)\n",
    "- `p_outside`: How much of the total probability mass of the community prediction is outside the question range?\n",
    "- `anon_prediction_count`: Seems to be a proxy for the number of predictions. See \"Data notes\" below.\n",
    "- `last_activity_time`: Seems to be a quick proxy for the time of the last prediction on the question. See \"Data notes\" below.\n",
    "- `comment_count`: How many comments have been left on this question? VERIFY\n",
    "- `created_time`: When did the author of the question create it? (I think)\n",
    "- `publish_time`: When was the question published to all Metaculus users?\n",
    "- `close_time`: After what time are predictions on this question no longer allowed?\n",
    "- `resolve_time`: When can the question be resolved, i.e. when will the answer be known?"
   ]
  },
  {
   "cell_type": "markdown",
   "metadata": {},
   "source": [
    "## Data notes:\n",
    "1. `anon_prediction_count` is the closest thing I could find to a count of number of predictions, but I'm not really sure how it relates to the number of predictions. In my testing:\n",
    "    1. It seems to always be the same as the length of `prediction_timeseries`\n",
    "    2. It seems to be correlated with something about the number of predictions shown. E.g.\n",
    "        1. it's 101 for this question where the community prediction is shown: https://www.metaculus.com/questions/3530/how-many-people-will-die-as-a-result-of-the-2019-novel-coronavirus-covid-19-before-2021/.\n",
    "        2. While it's 0 for this question where the community prediction is not shown yet: https://www.metaculus.com/questions/4614/when-will-directly-removing-carbon-dioxide-from-the-atmosphere-be-economically-feasible/ \n",
    "    3. I couldn't get it to increment. I tried:\n",
    "        1. making a new prediction with an account that had already predicted on the question\n",
    "        2. making a prediction with an account that had never predicted on that question before.\n",
    "2.`last_activity_time` seems like the most obvious easy proxy for when the most recent prediction was made. However, I'm not sure how reliable it is.\n",
    "    1. It did not update when I made a new prediction from an account that had already predicted on the question previously\n",
    "    2. It may update when people leave comments or at other times\n",
    "    3. Alternatively, we could use the last time from the `prediction_timeseries`, but that also doesn't seem to update every time someone makes a prediction\n",
    "3. To get the datetime of the last posted comment, I think we'd need to retrieve it from a separate API (prob at least 30 min of work, maybe more like hours), so I haven't tried"
   ]
  },
  {
   "cell_type": "markdown",
   "metadata": {},
   "source": [
    "# View data"
   ]
  },
  {
   "cell_type": "markdown",
   "metadata": {},
   "source": [
    "## Export as csv"
   ]
  },
  {
   "cell_type": "code",
   "execution_count": 40,
   "metadata": {},
   "outputs": [],
   "source": [
    "qs_df.to_csv(\"metac_qs_data.csv\", index=False)"
   ]
  },
  {
   "cell_type": "code",
   "execution_count": null,
   "metadata": {},
   "outputs": [],
   "source": []
  }
 ],
 "metadata": {
  "kernelspec": {
   "display_name": "Python 3.6.9 64-bit ('.venv': venv)",
   "language": "python",
   "name": "python36964bitvenvvenvffa84885c5a1483eae7946a1eb2bccf8"
  },
  "language_info": {
   "codemirror_mode": {
    "name": "ipython",
    "version": 3
   },
   "file_extension": ".py",
   "mimetype": "text/x-python",
   "name": "python",
   "nbconvert_exporter": "python",
   "pygments_lexer": "ipython3",
   "version": "3.6.9"
  }
 },
 "nbformat": 4,
 "nbformat_minor": 4
}
