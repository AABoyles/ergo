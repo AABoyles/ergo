{
 "cells": [
  {
   "cell_type": "markdown",
   "metadata": {
    "colab_type": "text",
    "id": "Q_-THNG8VDkh"
   },
   "source": [
    "# Setup"
   ]
  },
  {
   "cell_type": "code",
   "execution_count": null,
   "metadata": {
    "colab": {},
    "colab_type": "code",
    "id": "14bP3Mm6U4JT"
   },
   "outputs": [],
   "source": [
    "%%capture\n",
    "%pip install poetry\n",
    "%pip install git+https://github.com/oughtinc/ergo.git@munging-to-files\n",
    "%pip install xlrd"
   ]
  },
  {
   "cell_type": "code",
   "execution_count": null,
   "metadata": {
    "colab": {},
    "colab_type": "code",
    "id": "Mu7ON6p_VHo6"
   },
   "outputs": [],
   "source": [
    "%load_ext google.colab.data_table"
   ]
  },
  {
   "cell_type": "code",
   "execution_count": null,
   "metadata": {
    "colab": {},
    "colab_type": "code",
    "id": "GUs6gmy-VJg_"
   },
   "outputs": [],
   "source": [
    "%%capture\n",
    "import ergo\n",
    "import numpy as np\n",
    "import pandas as pd\n",
    "import ssl\n",
    "import math\n",
    "import datetime\n",
    "import warnings\n",
    "import functools\n",
    "import sklearn\n",
    "\n",
    "from datetime import timedelta, date"
   ]
  },
  {
   "cell_type": "code",
   "execution_count": null,
   "metadata": {
    "colab": {},
    "colab_type": "code",
    "id": "6vH8dOGwVMh4"
   },
   "outputs": [],
   "source": [
    "warnings.filterwarnings(module=\"plotnine\", action=\"ignore\")\n",
    "warnings.filterwarnings(module=\"jax\", action=\"ignore\")\n",
    "ssl._create_default_https_context = ssl._create_unverified_context"
   ]
  },
  {
   "cell_type": "markdown",
   "metadata": {
    "colab_type": "text",
    "id": "FR11zIBytDv7"
   },
   "source": [
    "## Import modules with data and models"
   ]
  },
  {
   "cell_type": "code",
   "execution_count": null,
   "metadata": {
    "colab": {
     "base_uri": "https://localhost:8080/",
     "height": 141
    },
    "colab_type": "code",
    "id": "0U-50BC5tKmC",
    "outputId": "d7e8f31d-e0c4-4722-fb50-2c3b4a7bc5a2"
   },
   "outputs": [],
   "source": [
    "!git clone -b munging-to-files https://github.com/oughtinc/ergo"
   ]
  },
  {
   "cell_type": "code",
   "execution_count": null,
   "metadata": {
    "colab": {},
    "colab_type": "code",
    "id": "p5dRCqqWtLB_"
   },
   "outputs": [],
   "source": [
    "import sys\n",
    "\n",
    "sys.path.append('ergo/notebooks/el-paso/scripts')"
   ]
  },
  {
   "cell_type": "code",
   "execution_count": null,
   "metadata": {
    "colab": {},
    "colab_type": "code",
    "id": "Iegqnya1tdhu"
   },
   "outputs": [],
   "source": [
    "import texas_data\n",
    "import onlyasith\n",
    "import krismoore\n",
    "import brachbach"
   ]
  },
  {
   "cell_type": "markdown",
   "metadata": {
    "colab_type": "text",
    "id": "PCcmeYcrVOYK"
   },
   "source": [
    "# Load questions"
   ]
  },
  {
   "cell_type": "markdown",
   "metadata": {
    "colab_type": "text",
    "id": "GWnPokJlVRY-"
   },
   "source": [
    "We'll load all questions from the [El Paso](https://pandemic.metaculus.com/questions/4161/el-paso-series-supporting-covid-19-response-planning-in-a-mid-sized-city/) series."
   ]
  },
  {
   "cell_type": "code",
   "execution_count": null,
   "metadata": {
    "colab": {
     "base_uri": "https://localhost:8080/",
     "height": 272
    },
    "colab_type": "code",
    "id": "sFOWHXjaVYep",
    "outputId": "49878eaa-0fb2-4b2a-da5d-255f04859854"
   },
   "outputs": [],
   "source": [
    "metaculus = ergo.Metaculus(\n",
    "    username=\"oughtpublic\", \n",
    "    password=\"123456\",\n",
    "    api_domain = \"pandemic\"\n",
    ")\n",
    "\n",
    "questions = metaculus.get_questions(cat=\"internal--el-paso\")\n",
    "\n",
    "# the most logical order for the questions\n",
    "order = [4128, 4137, 4152, 4170, 4155, 4154, 4153, 4204, 4201, 4185]\n",
    "\n",
    "questions.sort(key = lambda q: order.index(q.id))\n",
    "\n",
    "ergo.MetaculusQuestion.to_dataframe(questions)"
   ]
  },
  {
   "cell_type": "markdown",
   "metadata": {
    "colab_type": "text",
    "id": "KLgXU7LdVkjk"
   },
   "source": [
    "# Ergo extensions"
   ]
  },
  {
   "cell_type": "markdown",
   "metadata": {
    "colab_type": "text",
    "id": "so5gNjQAVmEr"
   },
   "source": [
    "We'll define some helper functions that might get moved into Ergo in the future."
   ]
  },
  {
   "cell_type": "code",
   "execution_count": null,
   "metadata": {
    "colab": {},
    "colab_type": "code",
    "id": "jXROZqtXV-Rt"
   },
   "outputs": [],
   "source": [
    "START_DATE = date(2020, 4, 1)\n",
    "\n",
    "\n",
    "def daterange(start_date, end_date):\n",
    "    for n in range(int((end_date - start_date).days)):\n",
    "        yield start_date + timedelta(n)\n",
    "\n",
    "\n",
    "# Memoization\n",
    "\n",
    "memoized_functions = []\n",
    "\n",
    "def mem(func):\n",
    "    func = functools.lru_cache(None)(func)\n",
    "    memoized_functions.append(func)\n",
    "    return func\n",
    "\n",
    "def clear_mem():\n",
    "    for func in memoized_functions:\n",
    "        func.cache_clear()\n",
    "\n",
    "\n",
    "# Associating functions with Metaculus questions\n",
    "\n",
    "question_samplers = {}\n",
    "question_function_names = {}\n",
    "id_to_question = dict((q.id, q) for q in questions)\n",
    "\n",
    "def question(question_id, community_weight=0):\n",
    "    q = id_to_question[question_id]\n",
    "    q.refresh_question()\n",
    "    def decorator(func):\n",
    "        @functools.wraps(func)\n",
    "        @mem\n",
    "        def sampler():\n",
    "            if ergo.flip(community_weight):\n",
    "                value = q.sample_community()\n",
    "            else:\n",
    "                value = func()\n",
    "            tagged_value = value\n",
    "            if isinstance(value, date):\n",
    "                # FIXME: Ergo needs to handle dates\n",
    "                tagged_value = int((value - START_DATE).days)\n",
    "            ergo.tag(tagged_value, str(question_id))\n",
    "            return value\n",
    "        question_samplers[question_id] = sampler\n",
    "        question_function_names[question_id] = func.__name__\n",
    "        sampler.question_id = question_id\n",
    "        return sampler\n",
    "    return decorator\n",
    "\n",
    "def summarize_question_samples(samples):\n",
    "    summary = samples.describe().transpose().round(2)\n",
    "    summary.index = [question_function_names[int(i)] for i in summary.index]\n",
    "    display(summary)\n",
    "\n",
    "# Plotting distributions on return values\n",
    "def plot_question(question_fn, num_samples=200):\n",
    "  def model():\n",
    "      clear_mem()\n",
    "      question_fn()\n",
    "\n",
    "  samples = ergo.run(model, num_samples=num_samples)\n",
    "\n",
    "  summarize_question_samples(samples)\n",
    "  question_id = question_fn.question_id\n",
    "\n",
    "  q = id_to_question[question_id]\n",
    "  key = str(q.id)\n",
    "  q_samples = samples[str(q.id)]\n",
    "\n",
    "  if key == \"4128\": # Date question: Need to convert back to date from days (https://github.com/oughtinc/ergo/issues/144)\n",
    "      q_samples = np.array([START_DATE + timedelta(s) for s in q_samples])\n",
    "\n",
    "  q.refresh_question() \n",
    "  print(q.show_prediction(samples=q_samples, show_community=True, percent_kept=0.9))"
   ]
  },
  {
   "cell_type": "markdown",
   "metadata": {
    "colab_type": "text",
    "id": "YHJ07K0oWBvb"
   },
   "source": [
    "# External data (cases, estimates, models)"
   ]
  },
  {
   "cell_type": "markdown",
   "metadata": {
    "colab_type": "text",
    "id": "AuaIf5qUT9Qw"
   },
   "source": [
    "## Texas government cases data"
   ]
  },
  {
   "cell_type": "code",
   "execution_count": null,
   "metadata": {
    "colab": {
     "base_uri": "https://localhost:8080/",
     "height": 566
    },
    "colab_type": "code",
    "id": "PMIpyw_lA9fv",
    "outputId": "312e40c8-a6c4-4cf1-c671-e0f565052509"
   },
   "outputs": [],
   "source": [
    "el_paso_cases = texas_data.get_el_paso_data()\n",
    "\n",
    "el_paso_cases"
   ]
  },
  {
   "cell_type": "markdown",
   "metadata": {
    "colab_type": "text",
    "id": "8e1F7mXTUDPm"
   },
   "source": [
    "## @onlyasith's cases model\n",
    "\n"
   ]
  },
  {
   "cell_type": "markdown",
   "metadata": {
    "colab_type": "text",
    "id": "b7gIpN_oUKoV"
   },
   "source": [
    "Pulled [here](https://docs.google.com/spreadsheets/d/1L6pzFAEJ6MfnUwt-ea6tetKyvdi0YubnK_70SGm436c/edit#gid=1807978187)"
   ]
  },
  {
   "cell_type": "code",
   "execution_count": null,
   "metadata": {
    "colab": {
     "base_uri": "https://localhost:8080/",
     "height": 566
    },
    "colab_type": "code",
    "id": "KRCw-5w_UG9p",
    "outputId": "fc395e03-40da-4d59-d4da-9dc061c89fd1"
   },
   "outputs": [],
   "source": [
    "projected_cases = onlyasith.get_onlyasith_results()\n",
    "\n",
    "projected_cases"
   ]
  },
  {
   "cell_type": "markdown",
   "metadata": {
    "colab_type": "text",
    "id": "yMiICBUrh5eQ"
   },
   "source": [
    "## @KrisMoore's compiled data\n",
    "\n",
    "Pulled [here](https://docs.google.com/spreadsheets/d/1eGF9xYmDmvAkr-dCmd-N4efHzPyYEfVl0YmL9zBvH9Q/edit#gid=1694267458)."
   ]
  },
  {
   "cell_type": "code",
   "execution_count": null,
   "metadata": {
    "colab": {
     "base_uri": "https://localhost:8080/",
     "height": 337
    },
    "colab_type": "code",
    "id": "3a4gqniKiRMv",
    "outputId": "256c9a17-2b51-4f0d-fe95-db980a4fc9f3"
   },
   "outputs": [],
   "source": [
    "compiled_data = krismoore.get_krismoore_data()\n",
    "\n",
    "compiled_data"
   ]
  },
  {
   "cell_type": "markdown",
   "metadata": {
    "colab_type": "text",
    "id": "zj9Ow70dXTpp"
   },
   "source": [
    "## @brachbach model (cases -> hospitalized)"
   ]
  },
  {
   "cell_type": "code",
   "execution_count": null,
   "metadata": {
    "colab": {},
    "colab_type": "code",
    "id": "HXvkT9LGXYYL"
   },
   "outputs": [],
   "source": [
    "get_daily_hospital_confirmed = brachbach.get_daily_hospital_confirmed"
   ]
  },
  {
   "cell_type": "markdown",
   "metadata": {
    "colab_type": "text",
    "id": "f5vxl9NyWuHv"
   },
   "source": [
    "# Model components"
   ]
  },
  {
   "cell_type": "code",
   "execution_count": null,
   "metadata": {
    "colab": {},
    "colab_type": "code",
    "id": "chX3ETQOW6Ro"
   },
   "outputs": [],
   "source": [
    "@mem\n",
    "def daily_infections(date: date) -> int:\n",
    "    \"\"\"\n",
    "    What is the number of reported (new) Covid-19 infections on [date]?\n",
    "    \"\"\"\n",
    "    try:\n",
    "        # Look up Texas Government data\n",
    "        new_cases = el_paso_cases.loc[date, \"New cases\"]\n",
    "        if np.isnan(new_cases):\n",
    "            raise KeyError\n",
    "        return new_cases\n",
    "    except KeyError:\n",
    "        try:\n",
    "            # Look up projections from @onlyasith's model\n",
    "            cases = projected_cases.loc[date, \"New cases\"]\n",
    "            if np.isnan(cases):\n",
    "                raise KeyError\n",
    "            \n",
    "            # Add some (fairly arbitrary) uncertainty around this point estimate\n",
    "            if cases == 0:\n",
    "              return cases\n",
    "            cases_estimate = ergo.lognormal_from_interval(cases * 0.8, cases * 1.2)\n",
    "            return np.clip(cases_estimate, cases * 0.5, cases * 2)\n",
    "        except KeyError:\n",
    "            # We're beyond the time range for data and model\n",
    "            return 0\n",
    "\n",
    "@mem\n",
    "def mean_infections(start_date: date, end_date: date):\n",
    "    \"\"\"\n",
    "    What is the average number of reported new infections for this range of \n",
    "    dates? (Including start date, excluding end date)\n",
    "    \"\"\"\n",
    "    days = daterange(start_date, end_date)\n",
    "    return np.mean([daily_infections(day) for day in days])\n",
    "\n",
    "# Build @brachbach regression model\n",
    "hospital_confirmed_from_daily_infected_model = get_daily_hospital_confirmed(compiled_data, daily_infections)\n",
    "\n",
    "@mem\n",
    "def hospital_confirmed_for_date(date: date) -> int:\n",
    "    \"\"\"\n",
    "    The total number of lab-confirmed COVID-19 patients in El Paso County in\n",
    "    the hospital on this date\n",
    "    \"\"\"\n",
    "    try:\n",
    "        # Look up in-hospital confirmed cases from @KrisMoore's compiled data\n",
    "        new_hospital_confirmed = compiled_data.loc[date, \"In hospital confirmed\"]\n",
    "        if np.isnan(new_hospital_confirmed):\n",
    "            raise KeyError\n",
    "        return new_hospital_confirmed\n",
    "    except KeyError:\n",
    "        try:\n",
    "            # Get point estimate from @brachbach's regression model\n",
    "            cases = hospital_confirmed_from_daily_infected_model(date)\n",
    "            \n",
    "            # Add some (fairly arbitrary) uncertainty around this point estimate\n",
    "            if cases == 0:\n",
    "              return cases\n",
    "            cases_estimate = ergo.lognormal_from_interval(cases * 0.8, cases * 1.2)\n",
    "            return np.clip(cases_estimate, cases * 0.5, cases * 2)\n",
    "        except KeyError:\n",
    "            return 0\n",
    "\n",
    "@mem\n",
    "def frac_icu_ventilation():\n",
    "    \"\"\"\n",
    "    Proportion of ICU admissions requiring ventilation\n",
    "\n",
    "    Approach (PabloStafforini et al): \n",
    "    https://pandemic.metaculus.com/questions/4154/#comment-28155\n",
    "\n",
    "    TODO: \n",
    "    - Improve how we use case data\n",
    "    - Add qualitative adjustments\n",
    "    \"\"\"\n",
    "    ventilation_pseudocounts = 25 + 17 + 0.05 * 1150 + 0.1 * 132\n",
    "    icu_pseudocounts = 100 + 36 + 0.05 * 1300 + 0.1 * 196\n",
    "    return ergo.beta_from_hits(ventilation_pseudocounts, icu_pseudocounts)"
   ]
  },
  {
   "cell_type": "markdown",
   "metadata": {
    "colab_type": "text",
    "id": "yuyLbplkW611"
   },
   "source": [
    "# El Paso questions"
   ]
  },
  {
   "cell_type": "code",
   "execution_count": null,
   "metadata": {
    "colab": {
     "base_uri": "https://localhost:8080/",
     "height": 665,
     "referenced_widgets": [
      "9f73a26041f54f6291faa9ae7b8bdff5",
      "b1cf47a8f6d74782a77d16bb30d411be",
      "b6d703c7a32140a580ef260dfd9274f7",
      "f57278eac28d42cdaafa7653380d8f5d",
      "75f4689d2c464fd990623361a95f0f1b",
      "f538b9e93d7a448eab6bc91d47c4abe0",
      "8508c57a23d94594a22df5d6c98821d6",
      "6764f7eb09d64bff928e8383975a3c28"
     ]
    },
    "colab_type": "code",
    "id": "NLJEZu9LeLlZ",
    "outputId": "1a523d56-517e-4d6a-86d7-886fc15239a6"
   },
   "outputs": [],
   "source": [
    "@question(4128, community_weight=0.5)\n",
    "def peak_infection_date() -> date:\n",
    "    \"\"\"\n",
    "    When will El Paso County, Texas, experience its first peak number of COVID\n",
    "    infections?\n",
    "    \"\"\"    \n",
    "    end_date = date(2020, 7, 1)\n",
    "    for today in daterange(START_DATE, end_date):\n",
    "        yesterday = today - timedelta(1)\n",
    "        tomorrow = today + timedelta(1)\n",
    "        two_day_mean = mean_infections(yesterday, tomorrow)\n",
    "        future_means = [mean_infections(today + timedelta(i), today + timedelta(i+2)) for i in range(10)]\n",
    "        if two_day_mean > max(future_means):\n",
    "            return today\n",
    "    return end_date\n",
    "plot_question(peak_infection_date)"
   ]
  },
  {
   "cell_type": "code",
   "execution_count": null,
   "metadata": {
    "colab": {
     "base_uri": "https://localhost:8080/",
     "height": 671,
     "referenced_widgets": [
      "3a95338b062d496f864d254914bd0450",
      "144611236fc8498a91695e42b2a7e254",
      "898a09fa35e7403c9a85b0d8c963e6a0",
      "d8e3ef4d6b634f92ac0297d76003361a",
      "75668c22867a42a0bf04b6c75700edf2",
      "41d0846220a74dadaf4abecea7d4c0a1",
      "c2f4e3520f194c76b44fe112aec4d653",
      "65019f859e024c11ab505ee056abac9c"
     ]
    },
    "colab_type": "code",
    "id": "1VeQHr38jPa7",
    "outputId": "ee74f66c-d4a1-4331-9fe6-32cca10e2fff"
   },
   "outputs": [],
   "source": [
    "@question(4137, community_weight=0.5)\n",
    "def peak_infections():\n",
    "    \"\"\"\n",
    "    How many new infections will be reported in El Paso on the day on which\n",
    "    the number of new reported infections peaks?\n",
    "    \"\"\"\n",
    "    peak = peak_infection_date()\n",
    "    return daily_infections(peak)\n",
    "plot_question(peak_infections)"
   ]
  },
  {
   "cell_type": "code",
   "execution_count": null,
   "metadata": {
    "colab": {},
    "colab_type": "code",
    "id": "0vIpv31pjVcE"
   },
   "outputs": [],
   "source": [
    "@question(4152, community_weight=0.5)\n",
    "def mean_infections_peak345():\n",
    "    \"\"\"\n",
    "    What will the average number of reported daily infections be in El Paso,\n",
    "    over the 3rd, 4th and 5th days after the first \"peak\"?\n",
    "    \"\"\"\n",
    "    peak = peak_infection_date()\n",
    "    return mean_infections(peak + timedelta(3), peak + timedelta(6))\n",
    "plot_question(mean_infections_peak345)"
   ]
  },
  {
   "cell_type": "code",
   "execution_count": null,
   "metadata": {
    "colab": {},
    "colab_type": "code",
    "id": "L-1c5lKQW9S8"
   },
   "outputs": [],
   "source": [
    "\n",
    "@question(4170, community_weight=0.8)\n",
    "def mean_infections_peak678():\n",
    "    \"\"\"\n",
    "    What will the average number of reported daily infections be in El Paso,\n",
    "    over the 6th, 7th and 8th days after the first \"peak\"?  \n",
    "    \"\"\"\n",
    "    peak = peak_infection_date()\n",
    "    return mean_infections(peak + timedelta(6), peak + timedelta(9))\n",
    "plot_question(mean_infections_peak678)"
   ]
  },
  {
   "cell_type": "code",
   "execution_count": null,
   "metadata": {
    "colab": {},
    "colab_type": "code",
    "id": "2YZbvHDjjDca"
   },
   "outputs": [],
   "source": [
    "@question(4155, community_weight=0.7)\n",
    "def frac_patients_icu():\n",
    "    \"\"\"\n",
    "    What portion of in-hospital cases in El Paso County will require admission\n",
    "    to the ICU?\n",
    "\n",
    "    Following @katifish's approach:\n",
    "    https://pandemic.metaculus.com/questions/4155/#comment-28054\n",
    "\n",
    "    TODO: Add others from katifish comment\n",
    "    \"\"\"\n",
    "    alpha = 0.1 # Rescaling counts becase we're more uncertain than implied by counts\n",
    "    return ergo.random_choice([\n",
    "      ergo.beta_from_hits(alpha * 121, alpha * 508),\n",
    "      ergo.beta_from_hits(alpha * 181, alpha * 507),\n",
    "    ])\n",
    "plot_question(frac_patients_icu)"
   ]
  },
  {
   "cell_type": "code",
   "execution_count": null,
   "metadata": {
    "colab": {},
    "colab_type": "code",
    "id": "t93CW729i8fi"
   },
   "outputs": [],
   "source": [
    "@question(4154, community_weight=0.3)\n",
    "def frac_patients_invasive():\n",
    "    \"\"\"\n",
    "    What portion of in-hospital patients with Covid-19 in El Paso County will\n",
    "    require invasive ventilation?\n",
    "\n",
    "    Following @PabloStafforini's indirect estimation approach:\n",
    "    https://pandemic.metaculus.com/questions/4154/#comment-28155\n",
    "\n",
    "    TODO:\n",
    "    - Combine with direct estimate\n",
    "      direct_estimate = ergo.beta_from_hits(0.1 * 130, 0.1 * 393)\n",
    "    \"\"\"\n",
    "    return frac_patients_icu() * frac_icu_ventilation()\n",
    "plot_question(frac_patients_invasive)"
   ]
  },
  {
   "cell_type": "code",
   "execution_count": null,
   "metadata": {
    "colab": {},
    "colab_type": "code",
    "id": "8nfFqas-imKT"
   },
   "outputs": [],
   "source": [
    "@question(4153, community_weight=0.3)\n",
    "def max_30d_hospital_confirmed_for_peak():\n",
    "    \"\"\"\n",
    "    What will the maximum number of in-hospital lab-confirmed COVID-19 \n",
    "    patients in El Paso County, in the 30-day period during which the \"peak\"\n",
    "    occurs?\n",
    "    \"\"\"\n",
    "    peak = peak_infection_date()\n",
    "    days = daterange(peak - timedelta(15), peak + timedelta(15))\n",
    "    return max(hospital_confirmed_for_date(day) for day in days)\n",
    "\n",
    "plot_question(max_30d_hospital_confirmed_for_peak)"
   ]
  },
  {
   "cell_type": "code",
   "execution_count": null,
   "metadata": {
    "colab": {},
    "colab_type": "code",
    "id": "4chT7tG8i4At"
   },
   "outputs": [],
   "source": [
    "@question(4204)\n",
    "def peak_icu_admissions():\n",
    "    \"\"\"\n",
    "    How many patients with Covid-19 in El Paso County will be admitted to the\n",
    "    ICU on the day when the number of hospital admissions of cases peak?\n",
    "\n",
    "    Following @Tamay's approach:\n",
    "    https://pandemic.metaculus.com/questions/4204/\n",
    "\n",
    "    Alternative:    \n",
    "    - peak = peak_hospitalizations_date()\n",
    "    - return daily_icu_admissions(peak)\n",
    "\n",
    "    FIXME: Admissions vs in-hospital patients unclear\n",
    "\n",
    "    Not mixing in community since this is just the product of two other questions.    \n",
    "    \"\"\"\n",
    "    max_patients = max_30d_hospital_confirmed_for_peak()\n",
    "    return max_patients * frac_patients_icu()\n",
    "plot_question(max_30d_hospital_confirmed_for_peak)"
   ]
  },
  {
   "cell_type": "code",
   "execution_count": null,
   "metadata": {
    "colab": {},
    "colab_type": "code",
    "id": "M008tkxOjJfC"
   },
   "outputs": [],
   "source": [
    "@question(4201)\n",
    "def peak_invasive_ventilation():\n",
    "    \"\"\"\n",
    "    How many patients with Covid-19 in El Paso County will require invasive \n",
    "    ventilation on the day when the number of hospital admissions of cases \n",
    "    peak?\n",
    "\n",
    "    Following @Tamay's approach:\n",
    "    https://pandemic.metaculus.com/questions/4201/#comment-28004\n",
    "\n",
    "    Not mixing in community since this is just the product of two other questions.\n",
    "    \"\"\"\n",
    "    return frac_icu_ventilation() * peak_icu_admissions()\n",
    "\n",
    "plot_question(peak_invasive_ventilation)"
   ]
  },
  {
   "cell_type": "markdown",
   "metadata": {
    "colab_type": "text",
    "id": "BMVjqvYFYti_"
   },
   "source": [
    "# Generate predictions for all questions"
   ]
  },
  {
   "cell_type": "code",
   "execution_count": null,
   "metadata": {
    "colab": {},
    "colab_type": "code",
    "id": "C-ioJfwyY9qV"
   },
   "outputs": [],
   "source": [
    "def model():\n",
    "    clear_mem()\n",
    "    for question_sampler in question_samplers.values():\n",
    "        question_sampler()\n",
    "\n",
    "samples = ergo.run(model, num_samples=2000)\n",
    "\n",
    "summarize_question_samples(samples)"
   ]
  },
  {
   "cell_type": "markdown",
   "metadata": {
    "colab_type": "text",
    "id": "mQ6CLIGhZdWQ"
   },
   "source": [
    "# Compare predictions to community"
   ]
  },
  {
   "cell_type": "markdown",
   "metadata": {
    "colab_type": "text",
    "id": "50UP8lQoZpvU"
   },
   "source": [
    "This takes a while since we're fitting a mixture of logistic distributions to our samples before visualizing (and submitting) them.\n",
    "These may look a little different from the plots below the questions above, because we've taken more samples from the distribution and we're fitting logistic distributions so we can submit them to metaculus"
   ]
  },
  {
   "cell_type": "code",
   "execution_count": null,
   "metadata": {
    "colab": {},
    "colab_type": "code",
    "id": "z2DLZ79SZgFF"
   },
   "outputs": [],
   "source": [
    "submissions = {}\n",
    "for q in questions:\n",
    "    print(q.id)\n",
    "    if q.id == 4185: # We didn't predict the unemployment question\n",
    "        continue\n",
    "\n",
    "    key = str(q.id)\n",
    "    q_samples = samples[str(q.id)]\n",
    "\n",
    "    if key == \"4128\": # Date question: Need to convert back to date from days (https://github.com/oughtinc/ergo/issues/144)\n",
    "        q_samples = np.array([START_DATE + timedelta(s) for s in q_samples])\n",
    "    \n",
    "    q.refresh_question()\n",
    "\n",
    "    if q.id in [4201, 4204, 4137, 4152, 4170, 4153]:\n",
    "      # Clip extreme values for questions that we had issues fitting\n",
    "      (sample_min, sample_max) = np.quantile(q_samples, [0.02, 0.98])\n",
    "      q_samples = q_samples[(q_samples >= sample_min) & (q_samples <= sample_max)]\n",
    "\n",
    "    submission = q.get_submission_from_samples(q_samples)\n",
    "    submissions[q] = submission\n",
    "    print(q.show_prediction(samples=submission, show_community=True, percent_kept=0.9))"
   ]
  },
  {
   "cell_type": "code",
   "execution_count": null,
   "metadata": {
    "colab": {},
    "colab_type": "code",
    "id": "FEEqlyZ_SwPI"
   },
   "outputs": [],
   "source": [
    "# Should we submit this to Metaculus? If so, uncomment the following line:\n",
    "# for q, submission in submissions.items():  \n",
    "#     q.submit(submission)"
   ]
  }
 ],
 "metadata": {
  "colab": {
   "collapsed_sections": [
    "Q_-THNG8VDkh",
    "AuaIf5qUT9Qw"
   ],
   "name": "move the munge El Paso with Ergo - v2.1, shared",
   "provenance": []
  },
  "kernelspec": {
   "display_name": "Python 3",
   "name": "python3"
  },
  "widgets": {
   "application/vnd.jupyter.widget-state+json": {
    "144611236fc8498a91695e42b2a7e254": {
     "model_module": "@jupyter-widgets/base",
     "model_name": "LayoutModel",
     "state": {
      "_model_module": "@jupyter-widgets/base",
      "_model_module_version": "1.2.0",
      "_model_name": "LayoutModel",
      "_view_count": null,
      "_view_module": "@jupyter-widgets/base",
      "_view_module_version": "1.2.0",
      "_view_name": "LayoutView",
      "align_content": null,
      "align_items": null,
      "align_self": null,
      "border": null,
      "bottom": null,
      "display": null,
      "flex": null,
      "flex_flow": null,
      "grid_area": null,
      "grid_auto_columns": null,
      "grid_auto_flow": null,
      "grid_auto_rows": null,
      "grid_column": null,
      "grid_gap": null,
      "grid_row": null,
      "grid_template_areas": null,
      "grid_template_columns": null,
      "grid_template_rows": null,
      "height": null,
      "justify_content": null,
      "justify_items": null,
      "left": null,
      "margin": null,
      "max_height": null,
      "max_width": null,
      "min_height": null,
      "min_width": null,
      "object_fit": null,
      "object_position": null,
      "order": null,
      "overflow": null,
      "overflow_x": null,
      "overflow_y": null,
      "padding": null,
      "right": null,
      "top": null,
      "visibility": null,
      "width": null
     }
    },
    "3a95338b062d496f864d254914bd0450": {
     "model_module": "@jupyter-widgets/controls",
     "model_name": "HBoxModel",
     "state": {
      "_dom_classes": [],
      "_model_module": "@jupyter-widgets/controls",
      "_model_module_version": "1.5.0",
      "_model_name": "HBoxModel",
      "_view_count": null,
      "_view_module": "@jupyter-widgets/controls",
      "_view_module_version": "1.5.0",
      "_view_name": "HBoxView",
      "box_style": "",
      "children": [
       "IPY_MODEL_898a09fa35e7403c9a85b0d8c963e6a0",
       "IPY_MODEL_d8e3ef4d6b634f92ac0297d76003361a"
      ],
      "layout": "IPY_MODEL_144611236fc8498a91695e42b2a7e254"
     }
    },
    "41d0846220a74dadaf4abecea7d4c0a1": {
     "model_module": "@jupyter-widgets/base",
     "model_name": "LayoutModel",
     "state": {
      "_model_module": "@jupyter-widgets/base",
      "_model_module_version": "1.2.0",
      "_model_name": "LayoutModel",
      "_view_count": null,
      "_view_module": "@jupyter-widgets/base",
      "_view_module_version": "1.2.0",
      "_view_name": "LayoutView",
      "align_content": null,
      "align_items": null,
      "align_self": null,
      "border": null,
      "bottom": null,
      "display": null,
      "flex": null,
      "flex_flow": null,
      "grid_area": null,
      "grid_auto_columns": null,
      "grid_auto_flow": null,
      "grid_auto_rows": null,
      "grid_column": null,
      "grid_gap": null,
      "grid_row": null,
      "grid_template_areas": null,
      "grid_template_columns": null,
      "grid_template_rows": null,
      "height": null,
      "justify_content": null,
      "justify_items": null,
      "left": null,
      "margin": null,
      "max_height": null,
      "max_width": null,
      "min_height": null,
      "min_width": null,
      "object_fit": null,
      "object_position": null,
      "order": null,
      "overflow": null,
      "overflow_x": null,
      "overflow_y": null,
      "padding": null,
      "right": null,
      "top": null,
      "visibility": null,
      "width": null
     }
    },
    "65019f859e024c11ab505ee056abac9c": {
     "model_module": "@jupyter-widgets/base",
     "model_name": "LayoutModel",
     "state": {
      "_model_module": "@jupyter-widgets/base",
      "_model_module_version": "1.2.0",
      "_model_name": "LayoutModel",
      "_view_count": null,
      "_view_module": "@jupyter-widgets/base",
      "_view_module_version": "1.2.0",
      "_view_name": "LayoutView",
      "align_content": null,
      "align_items": null,
      "align_self": null,
      "border": null,
      "bottom": null,
      "display": null,
      "flex": null,
      "flex_flow": null,
      "grid_area": null,
      "grid_auto_columns": null,
      "grid_auto_flow": null,
      "grid_auto_rows": null,
      "grid_column": null,
      "grid_gap": null,
      "grid_row": null,
      "grid_template_areas": null,
      "grid_template_columns": null,
      "grid_template_rows": null,
      "height": null,
      "justify_content": null,
      "justify_items": null,
      "left": null,
      "margin": null,
      "max_height": null,
      "max_width": null,
      "min_height": null,
      "min_width": null,
      "object_fit": null,
      "object_position": null,
      "order": null,
      "overflow": null,
      "overflow_x": null,
      "overflow_y": null,
      "padding": null,
      "right": null,
      "top": null,
      "visibility": null,
      "width": null
     }
    },
    "6764f7eb09d64bff928e8383975a3c28": {
     "model_module": "@jupyter-widgets/base",
     "model_name": "LayoutModel",
     "state": {
      "_model_module": "@jupyter-widgets/base",
      "_model_module_version": "1.2.0",
      "_model_name": "LayoutModel",
      "_view_count": null,
      "_view_module": "@jupyter-widgets/base",
      "_view_module_version": "1.2.0",
      "_view_name": "LayoutView",
      "align_content": null,
      "align_items": null,
      "align_self": null,
      "border": null,
      "bottom": null,
      "display": null,
      "flex": null,
      "flex_flow": null,
      "grid_area": null,
      "grid_auto_columns": null,
      "grid_auto_flow": null,
      "grid_auto_rows": null,
      "grid_column": null,
      "grid_gap": null,
      "grid_row": null,
      "grid_template_areas": null,
      "grid_template_columns": null,
      "grid_template_rows": null,
      "height": null,
      "justify_content": null,
      "justify_items": null,
      "left": null,
      "margin": null,
      "max_height": null,
      "max_width": null,
      "min_height": null,
      "min_width": null,
      "object_fit": null,
      "object_position": null,
      "order": null,
      "overflow": null,
      "overflow_x": null,
      "overflow_y": null,
      "padding": null,
      "right": null,
      "top": null,
      "visibility": null,
      "width": null
     }
    },
    "75668c22867a42a0bf04b6c75700edf2": {
     "model_module": "@jupyter-widgets/controls",
     "model_name": "ProgressStyleModel",
     "state": {
      "_model_module": "@jupyter-widgets/controls",
      "_model_module_version": "1.5.0",
      "_model_name": "ProgressStyleModel",
      "_view_count": null,
      "_view_module": "@jupyter-widgets/base",
      "_view_module_version": "1.2.0",
      "_view_name": "StyleView",
      "bar_color": null,
      "description_width": "initial"
     }
    },
    "75f4689d2c464fd990623361a95f0f1b": {
     "model_module": "@jupyter-widgets/controls",
     "model_name": "ProgressStyleModel",
     "state": {
      "_model_module": "@jupyter-widgets/controls",
      "_model_module_version": "1.5.0",
      "_model_name": "ProgressStyleModel",
      "_view_count": null,
      "_view_module": "@jupyter-widgets/base",
      "_view_module_version": "1.2.0",
      "_view_name": "StyleView",
      "bar_color": null,
      "description_width": "initial"
     }
    },
    "8508c57a23d94594a22df5d6c98821d6": {
     "model_module": "@jupyter-widgets/controls",
     "model_name": "DescriptionStyleModel",
     "state": {
      "_model_module": "@jupyter-widgets/controls",
      "_model_module_version": "1.5.0",
      "_model_name": "DescriptionStyleModel",
      "_view_count": null,
      "_view_module": "@jupyter-widgets/base",
      "_view_module_version": "1.2.0",
      "_view_name": "StyleView",
      "description_width": ""
     }
    },
    "898a09fa35e7403c9a85b0d8c963e6a0": {
     "model_module": "@jupyter-widgets/controls",
     "model_name": "FloatProgressModel",
     "state": {
      "_dom_classes": [],
      "_model_module": "@jupyter-widgets/controls",
      "_model_module_version": "1.5.0",
      "_model_name": "FloatProgressModel",
      "_view_count": null,
      "_view_module": "@jupyter-widgets/controls",
      "_view_module_version": "1.5.0",
      "_view_name": "ProgressView",
      "bar_style": "success",
      "description": "100%",
      "description_tooltip": null,
      "layout": "IPY_MODEL_41d0846220a74dadaf4abecea7d4c0a1",
      "max": 200,
      "min": 0,
      "orientation": "horizontal",
      "style": "IPY_MODEL_75668c22867a42a0bf04b6c75700edf2",
      "value": 200
     }
    },
    "9f73a26041f54f6291faa9ae7b8bdff5": {
     "model_module": "@jupyter-widgets/controls",
     "model_name": "HBoxModel",
     "state": {
      "_dom_classes": [],
      "_model_module": "@jupyter-widgets/controls",
      "_model_module_version": "1.5.0",
      "_model_name": "HBoxModel",
      "_view_count": null,
      "_view_module": "@jupyter-widgets/controls",
      "_view_module_version": "1.5.0",
      "_view_name": "HBoxView",
      "box_style": "",
      "children": [
       "IPY_MODEL_b6d703c7a32140a580ef260dfd9274f7",
       "IPY_MODEL_f57278eac28d42cdaafa7653380d8f5d"
      ],
      "layout": "IPY_MODEL_b1cf47a8f6d74782a77d16bb30d411be"
     }
    },
    "b1cf47a8f6d74782a77d16bb30d411be": {
     "model_module": "@jupyter-widgets/base",
     "model_name": "LayoutModel",
     "state": {
      "_model_module": "@jupyter-widgets/base",
      "_model_module_version": "1.2.0",
      "_model_name": "LayoutModel",
      "_view_count": null,
      "_view_module": "@jupyter-widgets/base",
      "_view_module_version": "1.2.0",
      "_view_name": "LayoutView",
      "align_content": null,
      "align_items": null,
      "align_self": null,
      "border": null,
      "bottom": null,
      "display": null,
      "flex": null,
      "flex_flow": null,
      "grid_area": null,
      "grid_auto_columns": null,
      "grid_auto_flow": null,
      "grid_auto_rows": null,
      "grid_column": null,
      "grid_gap": null,
      "grid_row": null,
      "grid_template_areas": null,
      "grid_template_columns": null,
      "grid_template_rows": null,
      "height": null,
      "justify_content": null,
      "justify_items": null,
      "left": null,
      "margin": null,
      "max_height": null,
      "max_width": null,
      "min_height": null,
      "min_width": null,
      "object_fit": null,
      "object_position": null,
      "order": null,
      "overflow": null,
      "overflow_x": null,
      "overflow_y": null,
      "padding": null,
      "right": null,
      "top": null,
      "visibility": null,
      "width": null
     }
    },
    "b6d703c7a32140a580ef260dfd9274f7": {
     "model_module": "@jupyter-widgets/controls",
     "model_name": "FloatProgressModel",
     "state": {
      "_dom_classes": [],
      "_model_module": "@jupyter-widgets/controls",
      "_model_module_version": "1.5.0",
      "_model_name": "FloatProgressModel",
      "_view_count": null,
      "_view_module": "@jupyter-widgets/controls",
      "_view_module_version": "1.5.0",
      "_view_name": "ProgressView",
      "bar_style": "success",
      "description": "100%",
      "description_tooltip": null,
      "layout": "IPY_MODEL_f538b9e93d7a448eab6bc91d47c4abe0",
      "max": 200,
      "min": 0,
      "orientation": "horizontal",
      "style": "IPY_MODEL_75f4689d2c464fd990623361a95f0f1b",
      "value": 200
     }
    },
    "c2f4e3520f194c76b44fe112aec4d653": {
     "model_module": "@jupyter-widgets/controls",
     "model_name": "DescriptionStyleModel",
     "state": {
      "_model_module": "@jupyter-widgets/controls",
      "_model_module_version": "1.5.0",
      "_model_name": "DescriptionStyleModel",
      "_view_count": null,
      "_view_module": "@jupyter-widgets/base",
      "_view_module_version": "1.2.0",
      "_view_name": "StyleView",
      "description_width": ""
     }
    },
    "d8e3ef4d6b634f92ac0297d76003361a": {
     "model_module": "@jupyter-widgets/controls",
     "model_name": "HTMLModel",
     "state": {
      "_dom_classes": [],
      "_model_module": "@jupyter-widgets/controls",
      "_model_module_version": "1.5.0",
      "_model_name": "HTMLModel",
      "_view_count": null,
      "_view_module": "@jupyter-widgets/controls",
      "_view_module_version": "1.5.0",
      "_view_name": "HTMLView",
      "description": "",
      "description_tooltip": null,
      "layout": "IPY_MODEL_65019f859e024c11ab505ee056abac9c",
      "placeholder": "​",
      "style": "IPY_MODEL_c2f4e3520f194c76b44fe112aec4d653",
      "value": " 200/200 [00:00&lt;00:00, 364.95it/s]"
     }
    },
    "f538b9e93d7a448eab6bc91d47c4abe0": {
     "model_module": "@jupyter-widgets/base",
     "model_name": "LayoutModel",
     "state": {
      "_model_module": "@jupyter-widgets/base",
      "_model_module_version": "1.2.0",
      "_model_name": "LayoutModel",
      "_view_count": null,
      "_view_module": "@jupyter-widgets/base",
      "_view_module_version": "1.2.0",
      "_view_name": "LayoutView",
      "align_content": null,
      "align_items": null,
      "align_self": null,
      "border": null,
      "bottom": null,
      "display": null,
      "flex": null,
      "flex_flow": null,
      "grid_area": null,
      "grid_auto_columns": null,
      "grid_auto_flow": null,
      "grid_auto_rows": null,
      "grid_column": null,
      "grid_gap": null,
      "grid_row": null,
      "grid_template_areas": null,
      "grid_template_columns": null,
      "grid_template_rows": null,
      "height": null,
      "justify_content": null,
      "justify_items": null,
      "left": null,
      "margin": null,
      "max_height": null,
      "max_width": null,
      "min_height": null,
      "min_width": null,
      "object_fit": null,
      "object_position": null,
      "order": null,
      "overflow": null,
      "overflow_x": null,
      "overflow_y": null,
      "padding": null,
      "right": null,
      "top": null,
      "visibility": null,
      "width": null
     }
    },
    "f57278eac28d42cdaafa7653380d8f5d": {
     "model_module": "@jupyter-widgets/controls",
     "model_name": "HTMLModel",
     "state": {
      "_dom_classes": [],
      "_model_module": "@jupyter-widgets/controls",
      "_model_module_version": "1.5.0",
      "_model_name": "HTMLModel",
      "_view_count": null,
      "_view_module": "@jupyter-widgets/controls",
      "_view_module_version": "1.5.0",
      "_view_name": "HTMLView",
      "description": "",
      "description_tooltip": null,
      "layout": "IPY_MODEL_6764f7eb09d64bff928e8383975a3c28",
      "placeholder": "​",
      "style": "IPY_MODEL_8508c57a23d94594a22df5d6c98821d6",
      "value": " 200/200 [00:01&lt;00:00, 156.32it/s]"
     }
    }
   }
  }
 },
 "nbformat": 4,
 "nbformat_minor": 0
}
