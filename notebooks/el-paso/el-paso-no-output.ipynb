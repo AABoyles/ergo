{
  "nbformat": 4,
  "nbformat_minor": 0,
  "metadata": {
    "colab": {
      "name": "El Paso with Ergo - v2.1, shared",
      "provenance": [],
      "collapsed_sections": [
        "Q_-THNG8VDkh",
        "AuaIf5qUT9Qw",
        "8e1F7mXTUDPm",
        "yMiICBUrh5eQ",
        "zj9Ow70dXTpp"
      ]
    },
    "kernelspec": {
      "name": "python3",
      "display_name": "Python 3"
    }
  },
  "cells": [
    {
      "cell_type": "markdown",
      "metadata": {
        "id": "Q_-THNG8VDkh",
        "colab_type": "text"
      },
      "source": [
        "# Setup"
      ]
    },
    {
      "cell_type": "code",
      "metadata": {
        "id": "14bP3Mm6U4JT",
        "colab_type": "code",
        "colab": {}
      },
      "source": [
        "%%capture\n",
        "%pip install poetry\n",
        "%pip install git+https://github.com/oughtinc/ergo.git@9e7bff1258896368a48bfdc72a01c05f0974f68f\n",
        "%pip install xlrd"
      ],
      "execution_count": 0,
      "outputs": []
    },
    {
      "cell_type": "code",
      "metadata": {
        "id": "Mu7ON6p_VHo6",
        "colab_type": "code",
        "colab": {}
      },
      "source": [
        "%load_ext google.colab.data_table"
      ],
      "execution_count": 0,
      "outputs": []
    },
    {
      "cell_type": "code",
      "metadata": {
        "id": "GUs6gmy-VJg_",
        "colab_type": "code",
        "colab": {}
      },
      "source": [
        "%%capture\n",
        "import ergo\n",
        "import numpy as np\n",
        "import pandas as pd\n",
        "import ssl\n",
        "import math\n",
        "import datetime\n",
        "import warnings\n",
        "import functools\n",
        "import seaborn\n",
        "import sklearn\n",
        "\n",
        "from datetime import timedelta, date"
      ],
      "execution_count": 0,
      "outputs": []
    },
    {
      "cell_type": "code",
      "metadata": {
        "id": "6vH8dOGwVMh4",
        "colab_type": "code",
        "colab": {}
      },
      "source": [
        "warnings.filterwarnings(module=\"plotnine\", action=\"ignore\")\n",
        "warnings.filterwarnings(module=\"jax\", action=\"ignore\")\n",
        "ssl._create_default_https_context = ssl._create_unverified_context"
      ],
      "execution_count": 0,
      "outputs": []
    },
    {
      "cell_type": "markdown",
      "metadata": {
        "id": "PCcmeYcrVOYK",
        "colab_type": "text"
      },
      "source": [
        "# Load questions"
      ]
    },
    {
      "cell_type": "markdown",
      "metadata": {
        "id": "GWnPokJlVRY-",
        "colab_type": "text"
      },
      "source": [
        "We'll load all questions from the [El Paso](https://pandemic.metaculus.com/questions/4161/el-paso-series-supporting-covid-19-response-planning-in-a-mid-sized-city/) series."
      ]
    },
    {
      "cell_type": "code",
      "metadata": {
        "id": "sFOWHXjaVYep",
        "colab_type": "code",
        "colab": {}
      },
      "source": [
        "metaculus = ergo.Metaculus(\n",
        "    username=\"oughtpublic\", \n",
        "    password=\"123456\",\n",
        "    api_domain = \"pandemic\"\n",
        ")\n",
        "\n",
        "questions = metaculus.get_questions(cat=\"internal--el-paso\")\n",
        "\n",
        "# the most logical order for the questions\n",
        "order = [4128, 4137, 4152, 4170, 4155, 4154, 4153, 4204, 4201, 4185]\n",
        "\n",
        "questions.sort(key = lambda q: order.index(q.id))\n",
        "\n",
        "ergo.MetaculusQuestion.to_dataframe(questions)"
      ],
      "execution_count": 0,
      "outputs": []
    },
    {
      "cell_type": "markdown",
      "metadata": {
        "id": "KLgXU7LdVkjk",
        "colab_type": "text"
      },
      "source": [
        "# Ergo extensions"
      ]
    },
    {
      "cell_type": "markdown",
      "metadata": {
        "id": "so5gNjQAVmEr",
        "colab_type": "text"
      },
      "source": [
        "We'll define some helper functions that might get moved into Ergo in the future."
      ]
    },
    {
      "cell_type": "code",
      "metadata": {
        "id": "jXROZqtXV-Rt",
        "colab_type": "code",
        "colab": {}
      },
      "source": [
        "START_DATE = date(2020, 4, 1)\n",
        "\n",
        "\n",
        "def daterange(start_date, end_date):\n",
        "    for n in range(int((end_date - start_date).days)):\n",
        "        yield start_date + timedelta(n)\n",
        "\n",
        "\n",
        "# Memoization\n",
        "\n",
        "memoized_functions = []\n",
        "\n",
        "def mem(func):\n",
        "    func = functools.lru_cache(None)(func)\n",
        "    memoized_functions.append(func)\n",
        "    return func\n",
        "\n",
        "def clear_mem():\n",
        "    for func in memoized_functions:\n",
        "        func.cache_clear()\n",
        "\n",
        "\n",
        "# Associating functions with Metaculus questions\n",
        "\n",
        "question_samplers = {}\n",
        "question_function_names = {}\n",
        "id_to_question = dict((q.id, q) for q in questions)\n",
        "\n",
        "def question(question_id, community_weight=0):\n",
        "    q = id_to_question[question_id]\n",
        "    q.refresh_question()\n",
        "    def decorator(func):\n",
        "        @functools.wraps(func)\n",
        "        @mem\n",
        "        def sampler():\n",
        "            if ergo.flip(community_weight):\n",
        "                value = q.sample_community()\n",
        "            else:\n",
        "                value = func()\n",
        "            tagged_value = value\n",
        "            if isinstance(value, date):\n",
        "                # FIXME: Ergo needs to handle dates\n",
        "                tagged_value = int((value - START_DATE).days)\n",
        "            ergo.tag(tagged_value, str(question_id))\n",
        "            return value\n",
        "        question_samplers[question_id] = sampler\n",
        "        question_function_names[question_id] = func.__name__\n",
        "        sampler.question_id = question_id\n",
        "        return sampler\n",
        "    return decorator\n",
        "\n",
        "def summarize_question_samples(samples):\n",
        "    summary = samples.describe().transpose().round(2)\n",
        "    summary.index = question_names = [question_function_names[int(i)] for i in summary.index]\n",
        "    display(summary)\n",
        "\n",
        "# Plotting distributions on return values\n",
        "\n",
        "def quick_plot(model, num_samples=5000, transform=lambda x: x):\n",
        "    import seaborn\n",
        "    def wrapper():\n",
        "        value = transform(model())\n",
        "        ergo.tag(value, \"value\")\n",
        "    samples = ergo.run(wrapper, num_samples=num_samples)\n",
        "    return seaborn.distplot(samples[\"value\"])\n",
        "\n",
        "def plot_question(question_fn, num_samples=200):\n",
        "  def model():\n",
        "      clear_mem()\n",
        "      question_fn()\n",
        "\n",
        "  samples = ergo.run(model, num_samples=num_samples)\n",
        "\n",
        "  summarize_question_samples(samples)\n",
        "  question_id = question_fn.question_id\n",
        "\n",
        "  q = id_to_question[question_id]\n",
        "  key = str(q.id)\n",
        "  q_samples = samples[str(q.id)]\n",
        "\n",
        "  if key == \"4128\": # Date question: Need to convert back to date from days (https://github.com/oughtinc/ergo/issues/144)\n",
        "      q_samples = np.array([START_DATE + timedelta(s) for s in q_samples])\n",
        "\n",
        "  q.refresh_question() \n",
        "  print(q.show_prediction(samples=q_samples, show_community=True, percent_kept=0.9))"
      ],
      "execution_count": 0,
      "outputs": []
    },
    {
      "cell_type": "markdown",
      "metadata": {
        "id": "YHJ07K0oWBvb",
        "colab_type": "text"
      },
      "source": [
        "# External data (cases, estimates, models)"
      ]
    },
    {
      "cell_type": "markdown",
      "metadata": {
        "id": "AuaIf5qUT9Qw",
        "colab_type": "text"
      },
      "source": [
        "## Texas government cases data"
      ]
    },
    {
      "cell_type": "code",
      "metadata": {
        "id": "PMIpyw_lA9fv",
        "colab_type": "code",
        "colab": {}
      },
      "source": [
        "texas_cases = pd.read_excel(\"https://dshs.texas.gov/coronavirus/TexasCOVID19DailyCountyCaseCountData.xlsx\")\n",
        "texas_cases.columns = texas_cases.iloc[1]\n",
        "\n",
        "el_paso_cases = (texas_cases.loc[texas_cases[\"County Name\"] == \"El Paso\"]\n",
        "                 .drop(columns=[\"County Name\", \"Population\"])\n",
        "                 .transpose())\n",
        "\n",
        "el_paso_cases.columns = [\"Cases so far\"]\n",
        "\n",
        "def get_date(column_name):\n",
        "  date_str = column_name.split(\"\\n\")[1]\n",
        "  month_str, day_str = date_str.split(\"-\")\n",
        "  return date(2020, int(month_str), int(day_str))\n",
        "\n",
        "el_paso_cases.index = [get_date(id) for id in el_paso_cases.index]\n",
        "\n",
        "el_paso_cases[\"New cases\"] = el_paso_cases[\"Cases so far\"].diff()\n",
        "\n",
        "el_paso_cases.tail()"
      ],
      "execution_count": 0,
      "outputs": []
    },
    {
      "cell_type": "markdown",
      "metadata": {
        "id": "8e1F7mXTUDPm",
        "colab_type": "text"
      },
      "source": [
        "## @onlyasith's cases model\n",
        "\n"
      ]
    },
    {
      "cell_type": "markdown",
      "metadata": {
        "id": "b7gIpN_oUKoV",
        "colab_type": "text"
      },
      "source": [
        "From [this](https://pandemic.metaculus.com/questions/4128/when-will-el-paso-county-texas-experience-its-first-peak-number-of-covid-infections/#comment-28304) comment. We made a copy of the model [here](https://docs.google.com/spreadsheets/d/119xLDClNoSIR0xe_svjXz44yjPj9wXyc_WZPiHHn3ac/edit#gid=1213113172)."
      ]
    },
    {
      "cell_type": "code",
      "metadata": {
        "id": "KRCw-5w_UG9p",
        "colab_type": "code",
        "colab": {}
      },
      "source": [
        "projected_cases = pd.read_csv(\n",
        "    \"https://docs.google.com/spreadsheets/d/e/2PACX-1vSurcOWEsa7DBCRfONFA2Gxf802Rj1FebYSyVzvACysenRcD79Fs0ykXWJakIhGcW48_ymgw35TKga-/pub?gid=1213113172&single=true&output=csv\",\n",
        "    index_col=\"Date\",\n",
        "    parse_dates=True,\n",
        ")\n",
        "\n",
        "projected_cases = projected_cases.dropna()\n",
        "projected_cases[\"Cases so far\"] = projected_cases[\"Cases so far\"].apply(lambda str: int(str.replace(\",\", \"\")))\n",
        "projected_cases[\"New cases\"] = projected_cases[\"Cases so far\"].diff()\n",
        "\n",
        "projected_cases"
      ],
      "execution_count": 0,
      "outputs": []
    },
    {
      "cell_type": "markdown",
      "metadata": {
        "id": "yMiICBUrh5eQ",
        "colab_type": "text"
      },
      "source": [
        "## @KrisMoore's compiled data\n",
        "\n",
        "[This](https://docs.google.com/spreadsheets/d/1MgRZd0iYZCIgQ8KfRJJTnNrdvUfa2KvBHPA5QVjtFnk/edit#gid=0) sheet, copied [here](https://docs.google.com/spreadsheets/d/1D3Slkrj3sz2VkD2CZ61GOxTj5SaFyn5Nkuczaj_WXqE/edit#gid=0)."
      ]
    },
    {
      "cell_type": "code",
      "metadata": {
        "id": "3a4gqniKiRMv",
        "colab_type": "code",
        "colab": {}
      },
      "source": [
        "compiled_data = pd.read_csv(\n",
        "    \"https://docs.google.com/spreadsheets/d/e/2PACX-1vQEZk_8wZMF5MEm_f66wpev4nkWP7edQ8l6SwcbUd68zFZw6EVizh-jplw2_9gZBGyhNaJk5R_CG25k/pub?gid=0&single=true&output=csv\",\n",
        "    index_col=\"date\",\n",
        "    parse_dates=True,\n",
        ")\n",
        "compiled_data = compiled_data.rename(columns={\"in_hospital\": \"In hospital confirmed\"})\n",
        "\n",
        "compiled_data"
      ],
      "execution_count": 0,
      "outputs": []
    },
    {
      "cell_type": "markdown",
      "metadata": {
        "id": "zj9Ow70dXTpp",
        "colab_type": "text"
      },
      "source": [
        "## @brachbach regression model (cases -> hospitalized)"
      ]
    },
    {
      "cell_type": "code",
      "metadata": {
        "id": "HXvkT9LGXYYL",
        "colab_type": "code",
        "colab": {}
      },
      "source": [
        "@mem\n",
        "def hospital_stay_days():\n",
        "    hospital_stay_days_point_estimate = 7\n",
        "\n",
        "    hospital_stay_days_fuzzed = round(\n",
        "        float(ergo.normal_from_interval(\n",
        "            hospital_stay_days_point_estimate * 0.5,\n",
        "            hospital_stay_days_point_estimate * 1.5\n",
        "        ))\n",
        "    )\n",
        "\n",
        "    return max(1, hospital_stay_days_fuzzed)\n",
        "\n",
        "\n",
        "@mem\n",
        "def get_hospital_confirmed_from_daily_infected_model(daily_infections):    \n",
        "    # from https://penn-chime.phl.io/\n",
        "\n",
        "    has_hospital_confirmed = compiled_data[compiled_data[\"In hospital confirmed\"].notna()]\n",
        "\n",
        "    data_dates = has_hospital_confirmed.index\n",
        "\n",
        "    # for each date for which we have data for how many lab-confirmed COVID patients were in the hospital,\n",
        "    # how many new confirmed cases were there over the past hospital_stay_days days?\n",
        "    def get_recent_infected_data(date):\n",
        "      return sum([daily_infections(date - timedelta(n))\n",
        "        for n in range(0, hospital_stay_days())])\n",
        "\n",
        "    recent_infected_data = [[get_recent_infected_data(date)]\n",
        "      for date in data_dates]\n",
        "\n",
        "    reg = sklearn.linear_model.LinearRegression(fit_intercept=False).fit(\n",
        "        recent_infected_data,\n",
        "        has_hospital_confirmed[\"In hospital confirmed\"])\n",
        "\n",
        "    # TODO: consider adding uncertainty to the fit here\n",
        "\n",
        "    # now that we've related current hospitalized cases and recent confirmed cases,\n",
        "    # return a function that allows us to predict hospitalized cases given estimates\n",
        "    # of future confirmed cases\n",
        "    def hospital_confirmed_from_daily_infected_model(date: date):\n",
        "      recent_infected = sum([daily_infections(date - timedelta(n))\n",
        "        for n in range(0, hospital_stay_days())])\n",
        "      return round(reg.predict([[recent_infected]])[0])\n",
        "  \n",
        "    return hospital_confirmed_from_daily_infected_model"
      ],
      "execution_count": 0,
      "outputs": []
    },
    {
      "cell_type": "markdown",
      "metadata": {
        "id": "f5vxl9NyWuHv",
        "colab_type": "text"
      },
      "source": [
        "# Model components"
      ]
    },
    {
      "cell_type": "code",
      "metadata": {
        "id": "chX3ETQOW6Ro",
        "colab_type": "code",
        "colab": {}
      },
      "source": [
        "@mem\n",
        "def daily_infections(date: date) -> int:\n",
        "    \"\"\"\n",
        "    What is the number of reported (new) Covid-19 infections on [date]?\n",
        "    \"\"\"\n",
        "    try:\n",
        "        # Look up Texas Government data\n",
        "        new_cases = el_paso_cases.loc[date, \"New cases\"]\n",
        "        if np.isnan(new_cases):\n",
        "            raise KeyError\n",
        "        return new_cases\n",
        "    except KeyError:\n",
        "        try:\n",
        "            # Look up projections from @onlyasith's model\n",
        "            cases = projected_cases.loc[date, \"New cases\"]\n",
        "            if np.isnan(cases):\n",
        "                raise KeyError\n",
        "            \n",
        "            # Add some (fairly arbitrary) uncertainty around this point estimate\n",
        "            if cases == 0:\n",
        "              return cases\n",
        "            cases_estimate = ergo.lognormal_from_interval(cases * 0.8, cases * 1.2)\n",
        "            return np.clip(cases_estimate, cases * 0.5, cases * 2)\n",
        "        except KeyError:\n",
        "            # We're beyond the time range for data and model\n",
        "            return 0\n",
        "\n",
        "@mem\n",
        "def mean_infections(start_date: date, end_date: date):\n",
        "    \"\"\"\n",
        "    What is the average number of reported new infections for this range of \n",
        "    dates? (Including start date, excluding end date)\n",
        "    \"\"\"\n",
        "    days = daterange(start_date, end_date)\n",
        "    return np.mean([daily_infections(day) for day in days])\n",
        "\n",
        "# Build @brachbach regression model\n",
        "hospital_confirmed_from_daily_infected_model = get_hospital_confirmed_from_daily_infected_model(daily_infections)\n",
        "\n",
        "@mem\n",
        "def hospital_confirmed_for_date(date: date) -> int:\n",
        "    \"\"\"\n",
        "    The total number of lab-confirmed COVID-19 patients in El Paso County in\n",
        "    the hospital on this date\n",
        "    \"\"\"\n",
        "    try:\n",
        "        # Look up in-hospital confirmed cases from @KrisMoore's compiled data\n",
        "        new_hospital_confirmed = compiled_data.loc[date, \"In hospital confirmed\"]\n",
        "        if np.isnan(new_hospital_confirmed):\n",
        "            raise KeyError\n",
        "        return new_hospital_confirmed\n",
        "    except KeyError:\n",
        "        try:\n",
        "            # Get point estimate from @brachbach's regression model\n",
        "            cases = hospital_confirmed_from_daily_infected_model(date)\n",
        "            \n",
        "            # Add some (fairly arbitrary) uncertainty around this point estimate\n",
        "            if cases == 0:\n",
        "              return cases\n",
        "            cases_estimate = ergo.lognormal_from_interval(cases * 0.8, cases * 1.2)\n",
        "            return np.clip(cases_estimate, cases * 0.5, cases * 2)\n",
        "        except KeyError:\n",
        "            return 0\n",
        "\n",
        "@mem\n",
        "def frac_icu_ventilation():\n",
        "    \"\"\"\n",
        "    Proportion of ICU admissions requiring ventilation\n",
        "\n",
        "    Approach (PabloStafforini et al): \n",
        "    https://pandemic.metaculus.com/questions/4154/#comment-28155\n",
        "\n",
        "    TODO: \n",
        "    - Improve how we use case data\n",
        "    - Add qualitative adjustments\n",
        "    \"\"\"\n",
        "    ventilation_pseudocounts = 25 + 17 + 0.05 * 1150 + 0.1 * 132\n",
        "    icu_pseudocounts = 100 + 36 + 0.05 * 1300 + 0.1 * 196\n",
        "    return ergo.beta_from_hits(ventilation_pseudocounts, icu_pseudocounts)"
      ],
      "execution_count": 0,
      "outputs": []
    },
    {
      "cell_type": "markdown",
      "metadata": {
        "id": "yuyLbplkW611",
        "colab_type": "text"
      },
      "source": [
        "# El Paso questions"
      ]
    },
    {
      "cell_type": "code",
      "metadata": {
        "id": "NLJEZu9LeLlZ",
        "colab_type": "code",
        "colab": {}
      },
      "source": [
        "@question(4128, community_weight=0.5)\n",
        "def peak_infection_date() -> date:\n",
        "    \"\"\"\n",
        "    When will El Paso County, Texas, experience its first peak number of COVID\n",
        "    infections?\n",
        "    \"\"\"    \n",
        "    end_date = date(2020, 7, 1)\n",
        "    for today in daterange(START_DATE, end_date):\n",
        "        yesterday = today - timedelta(1)\n",
        "        tomorrow = today + timedelta(1)\n",
        "        two_day_mean = mean_infections(yesterday, tomorrow)\n",
        "        future_means = [mean_infections(today + timedelta(i), today + timedelta(i+2)) for i in range(10)]\n",
        "        if two_day_mean > max(future_means):\n",
        "            return today\n",
        "    return end_date\n",
        "plot_question(peak_infection_date)"
      ],
      "execution_count": 0,
      "outputs": []
    },
    {
      "cell_type": "code",
      "metadata": {
        "id": "1VeQHr38jPa7",
        "colab_type": "code",
        "colab": {}
      },
      "source": [
        "@question(4137, community_weight=0.5)\n",
        "def peak_infections():\n",
        "    \"\"\"\n",
        "    How many new infections will be reported in El Paso on the day on which\n",
        "    the number of new reported infections peaks?\n",
        "    \"\"\"\n",
        "    peak = peak_infection_date()\n",
        "    return daily_infections(peak)\n",
        "plot_question(peak_infections)"
      ],
      "execution_count": 0,
      "outputs": []
    },
    {
      "cell_type": "code",
      "metadata": {
        "id": "0vIpv31pjVcE",
        "colab_type": "code",
        "colab": {}
      },
      "source": [
        "@question(4152, community_weight=0.5)\n",
        "def mean_infections_peak345():\n",
        "    \"\"\"\n",
        "    What will the average number of reported daily infections be in El Paso,\n",
        "    over the 3rd, 4th and 5th days after the first \"peak\"?\n",
        "    \"\"\"\n",
        "    peak = peak_infection_date()\n",
        "    return mean_infections(peak + timedelta(3), peak + timedelta(6))\n",
        "plot_question(mean_infections_peak345)"
      ],
      "execution_count": 0,
      "outputs": []
    },
    {
      "cell_type": "code",
      "metadata": {
        "id": "L-1c5lKQW9S8",
        "colab_type": "code",
        "colab": {}
      },
      "source": [
        "\n",
        "@question(4170, community_weight=0.8)\n",
        "def mean_infections_peak678():\n",
        "    \"\"\"\n",
        "    What will the average number of reported daily infections be in El Paso,\n",
        "    over the 6th, 7th and 8th days after the first \"peak\"?  \n",
        "    \"\"\"\n",
        "    peak = peak_infection_date()\n",
        "    return mean_infections(peak + timedelta(6), peak + timedelta(9))\n",
        "plot_question(mean_infections_peak678)"
      ],
      "execution_count": 0,
      "outputs": []
    },
    {
      "cell_type": "code",
      "metadata": {
        "id": "2YZbvHDjjDca",
        "colab_type": "code",
        "colab": {}
      },
      "source": [
        "@question(4155, community_weight=0.7)\n",
        "def frac_patients_icu():\n",
        "    \"\"\"\n",
        "    What portion of in-hospital cases in El Paso County will require admission\n",
        "    to the ICU?\n",
        "\n",
        "    Following @katifish's approach:\n",
        "    https://pandemic.metaculus.com/questions/4155/#comment-28054\n",
        "\n",
        "    TODO: Add others from katifish comment\n",
        "    \"\"\"\n",
        "    alpha = 0.1 # Rescaling counts becase we're more uncertain than implied by counts\n",
        "    return ergo.random_choice([\n",
        "      ergo.beta_from_hits(alpha * 121, alpha * 508),\n",
        "      ergo.beta_from_hits(alpha * 181, alpha * 507),\n",
        "    ])\n",
        "plot_question(frac_patients_icu)"
      ],
      "execution_count": 0,
      "outputs": []
    },
    {
      "cell_type": "code",
      "metadata": {
        "id": "t93CW729i8fi",
        "colab_type": "code",
        "colab": {}
      },
      "source": [
        "@question(4154, community_weight=0.3)\n",
        "def frac_patients_invasive():\n",
        "    \"\"\"\n",
        "    What portion of in-hospital patients with Covid-19 in El Paso County will\n",
        "    require invasive ventilation?\n",
        "\n",
        "    Following @PabloStafforini's indirect estimation approach:\n",
        "    https://pandemic.metaculus.com/questions/4154/#comment-28155\n",
        "\n",
        "    TODO:\n",
        "    - Combine with direct estimate\n",
        "      direct_estimate = ergo.beta_from_hits(0.1 * 130, 0.1 * 393)\n",
        "    \"\"\"\n",
        "    return frac_patients_icu() * frac_icu_ventilation()\n",
        "plot_question(frac_patients_invasive)"
      ],
      "execution_count": 0,
      "outputs": []
    },
    {
      "cell_type": "code",
      "metadata": {
        "id": "8nfFqas-imKT",
        "colab_type": "code",
        "colab": {}
      },
      "source": [
        "@question(4153, community_weight=0.3)\n",
        "def max_30d_hospital_confirmed_for_peak():\n",
        "    \"\"\"\n",
        "    What will the maximum number of in-hospital lab-confirmed COVID-19 \n",
        "    patients in El Paso County, in the 30-day period during which the \"peak\"\n",
        "    occurs?\n",
        "    \"\"\"\n",
        "    peak = peak_infection_date()\n",
        "    days = daterange(peak - timedelta(15), peak + timedelta(15))\n",
        "    return max(hospital_confirmed_for_date(day) for day in days)\n",
        "\n",
        "plot_question(max_30d_hospital_confirmed_for_peak)"
      ],
      "execution_count": 0,
      "outputs": []
    },
    {
      "cell_type": "code",
      "metadata": {
        "id": "4chT7tG8i4At",
        "colab_type": "code",
        "colab": {}
      },
      "source": [
        "@question(4204)\n",
        "def peak_icu_admissions():\n",
        "    \"\"\"\n",
        "    How many patients with Covid-19 in El Paso County will be admitted to the\n",
        "    ICU on the day when the number of hospital admissions of cases peak?\n",
        "\n",
        "    Following @Tamay's approach:\n",
        "    https://pandemic.metaculus.com/questions/4204/\n",
        "\n",
        "    Alternative:    \n",
        "    - peak = peak_hospitalizations_date()\n",
        "    - return daily_icu_admissions(peak)\n",
        "\n",
        "    FIXME: Admissions vs in-hospital patients unclear\n",
        "\n",
        "    Not mixing in community since this is just the product of two other questions.    \n",
        "    \"\"\"\n",
        "    max_patients = max_30d_hospital_confirmed_for_peak()\n",
        "    return max_patients * frac_patients_icu()\n",
        "plot_question(max_30d_hospital_confirmed_for_peak)"
      ],
      "execution_count": 0,
      "outputs": []
    },
    {
      "cell_type": "code",
      "metadata": {
        "id": "M008tkxOjJfC",
        "colab_type": "code",
        "colab": {}
      },
      "source": [
        "@question(4201)\n",
        "def peak_invasive_ventilation():\n",
        "    \"\"\"\n",
        "    How many patients with Covid-19 in El Paso County will require invasive \n",
        "    ventilation on the day when the number of hospital admissions of cases \n",
        "    peak?\n",
        "\n",
        "    Following @Tamay's approach:\n",
        "    https://pandemic.metaculus.com/questions/4201/#comment-28004\n",
        "\n",
        "    Not mixing in community since this is just the product of two other questions.\n",
        "    \"\"\"\n",
        "    return frac_icu_ventilation() * peak_icu_admissions()\n",
        "\n",
        "plot_question(peak_invasive_ventilation)"
      ],
      "execution_count": 0,
      "outputs": []
    },
    {
      "cell_type": "markdown",
      "metadata": {
        "id": "BMVjqvYFYti_",
        "colab_type": "text"
      },
      "source": [
        "# Generate predictions for all questions"
      ]
    },
    {
      "cell_type": "code",
      "metadata": {
        "id": "C-ioJfwyY9qV",
        "colab_type": "code",
        "colab": {}
      },
      "source": [
        "def model():\n",
        "    clear_mem()\n",
        "    for question_sampler in question_samplers.values():\n",
        "        question_sampler()\n",
        "\n",
        "samples = ergo.run(model, num_samples=2000)\n",
        "\n",
        "summarize_question_samples(samples)"
      ],
      "execution_count": 0,
      "outputs": []
    },
    {
      "cell_type": "markdown",
      "metadata": {
        "id": "mQ6CLIGhZdWQ",
        "colab_type": "text"
      },
      "source": [
        "# Compare predictions to community"
      ]
    },
    {
      "cell_type": "markdown",
      "metadata": {
        "id": "50UP8lQoZpvU",
        "colab_type": "text"
      },
      "source": [
        "This takes a while since we're fitting a mixture of logistic distributions to our samples before visualizing (and submitting) them.\n",
        "These may look a little different from the plots below the questions above, because we've taken more samples from the distribution and we're fitting logistic distributions so we can submit them to metaculus"
      ]
    },
    {
      "cell_type": "code",
      "metadata": {
        "id": "z2DLZ79SZgFF",
        "colab_type": "code",
        "colab": {}
      },
      "source": [
        "submissions = {}\n",
        "for q in questions:\n",
        "    print(q.id)\n",
        "    if q.id == 4185: # We didn't predict the unemployment question\n",
        "        continue\n",
        "\n",
        "    key = str(q.id)\n",
        "    q_samples = samples[str(q.id)]\n",
        "\n",
        "    if key == \"4128\": # Date question: Need to convert back to date from days (https://github.com/oughtinc/ergo/issues/144)\n",
        "        q_samples = np.array([START_DATE + timedelta(s) for s in q_samples])\n",
        "    \n",
        "    q.refresh_question()\n",
        "\n",
        "    if q.id in [4201, 4204, 4137, 4152, 4170, 4153]:\n",
        "      # Clip extreme values for questions that we had issues fitting\n",
        "      (sample_min, sample_max) = np.quantile(q_samples, [0.02, 0.98])\n",
        "      q_samples = q_samples[(q_samples >= sample_min) & (q_samples <= sample_max)]\n",
        "\n",
        "    submission = q.get_submission_from_samples(q_samples)\n",
        "    submissions[q] = submission\n",
        "    print(q.show_prediction(samples=submission, show_community=True, percent_kept=0.9))"
      ],
      "execution_count": 0,
      "outputs": []
    },
    {
      "cell_type": "code",
      "metadata": {
        "id": "FEEqlyZ_SwPI",
        "colab_type": "code",
        "colab": {}
      },
      "source": [
        "# Should we submit this to Metaculus? If so, uncomment the following line:\n",
        "# for q, submission in submissions.items():  \n",
        "#     q.submit(submission)"
      ],
      "execution_count": 0,
      "outputs": []
    }
  ]
}