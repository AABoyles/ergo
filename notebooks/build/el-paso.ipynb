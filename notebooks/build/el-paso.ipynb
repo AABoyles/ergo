{
  "nbformat": 4,
  "nbformat_minor": 0,
  "metadata": {
    "colab": {
      "name": "Dan incorporating Columbia el-paso.ipynb",
      "provenance": []
    },
    "kernelspec": {
      "name": "python3",
      "display_name": "Python 3"
    },
    "widgets": {
      "application/vnd.jupyter.widget-state+json": {
        "eb247ba29a6347cea6f80bf7a5e3c4f1": {
          "model_module": "@jupyter-widgets/controls",
          "model_name": "HBoxModel",
          "state": {
            "_view_name": "HBoxView",
            "_dom_classes": [],
            "_model_name": "HBoxModel",
            "_view_module": "@jupyter-widgets/controls",
            "_model_module_version": "1.5.0",
            "_view_count": null,
            "_view_module_version": "1.5.0",
            "box_style": "",
            "layout": "IPY_MODEL_1dcd888003b84b00ac53a9b587cb1783",
            "_model_module": "@jupyter-widgets/controls",
            "children": [
              "IPY_MODEL_d99a8b9e76ed405ab119b6754fee06d6",
              "IPY_MODEL_d42b4466053e4ef0a69a8d7e922281dc"
            ]
          }
        },
        "1dcd888003b84b00ac53a9b587cb1783": {
          "model_module": "@jupyter-widgets/base",
          "model_name": "LayoutModel",
          "state": {
            "_view_name": "LayoutView",
            "grid_template_rows": null,
            "right": null,
            "justify_content": null,
            "_view_module": "@jupyter-widgets/base",
            "overflow": null,
            "_model_module_version": "1.2.0",
            "_view_count": null,
            "flex_flow": null,
            "width": null,
            "min_width": null,
            "border": null,
            "align_items": null,
            "bottom": null,
            "_model_module": "@jupyter-widgets/base",
            "top": null,
            "grid_column": null,
            "overflow_y": null,
            "overflow_x": null,
            "grid_auto_flow": null,
            "grid_area": null,
            "grid_template_columns": null,
            "flex": null,
            "_model_name": "LayoutModel",
            "justify_items": null,
            "grid_row": null,
            "max_height": null,
            "align_content": null,
            "visibility": null,
            "align_self": null,
            "height": null,
            "min_height": null,
            "padding": null,
            "grid_auto_rows": null,
            "grid_gap": null,
            "max_width": null,
            "order": null,
            "_view_module_version": "1.2.0",
            "grid_template_areas": null,
            "object_position": null,
            "object_fit": null,
            "grid_auto_columns": null,
            "margin": null,
            "display": null,
            "left": null
          }
        },
        "d99a8b9e76ed405ab119b6754fee06d6": {
          "model_module": "@jupyter-widgets/controls",
          "model_name": "FloatProgressModel",
          "state": {
            "_view_name": "ProgressView",
            "style": "IPY_MODEL_95615956f637412dbf5ca0390981c7c4",
            "_dom_classes": [],
            "description": "100%",
            "_model_name": "FloatProgressModel",
            "bar_style": "success",
            "max": 200,
            "_view_module": "@jupyter-widgets/controls",
            "_model_module_version": "1.5.0",
            "value": 200,
            "_view_count": null,
            "_view_module_version": "1.5.0",
            "orientation": "horizontal",
            "min": 0,
            "description_tooltip": null,
            "_model_module": "@jupyter-widgets/controls",
            "layout": "IPY_MODEL_32ee791d8db34e5db6d9bf3f7f366f65"
          }
        },
        "d42b4466053e4ef0a69a8d7e922281dc": {
          "model_module": "@jupyter-widgets/controls",
          "model_name": "HTMLModel",
          "state": {
            "_view_name": "HTMLView",
            "style": "IPY_MODEL_92d94eba3a2140c3a82910cd272229ee",
            "_dom_classes": [],
            "description": "",
            "_model_name": "HTMLModel",
            "placeholder": "​",
            "_view_module": "@jupyter-widgets/controls",
            "_model_module_version": "1.5.0",
            "value": " 200/200 [00:13&lt;00:00, 14.90it/s]",
            "_view_count": null,
            "_view_module_version": "1.5.0",
            "description_tooltip": null,
            "_model_module": "@jupyter-widgets/controls",
            "layout": "IPY_MODEL_9495eee8f91246dba31465c14f6a1bda"
          }
        },
        "95615956f637412dbf5ca0390981c7c4": {
          "model_module": "@jupyter-widgets/controls",
          "model_name": "ProgressStyleModel",
          "state": {
            "_view_name": "StyleView",
            "_model_name": "ProgressStyleModel",
            "description_width": "initial",
            "_view_module": "@jupyter-widgets/base",
            "_model_module_version": "1.5.0",
            "_view_count": null,
            "_view_module_version": "1.2.0",
            "bar_color": null,
            "_model_module": "@jupyter-widgets/controls"
          }
        },
        "32ee791d8db34e5db6d9bf3f7f366f65": {
          "model_module": "@jupyter-widgets/base",
          "model_name": "LayoutModel",
          "state": {
            "_view_name": "LayoutView",
            "grid_template_rows": null,
            "right": null,
            "justify_content": null,
            "_view_module": "@jupyter-widgets/base",
            "overflow": null,
            "_model_module_version": "1.2.0",
            "_view_count": null,
            "flex_flow": null,
            "width": null,
            "min_width": null,
            "border": null,
            "align_items": null,
            "bottom": null,
            "_model_module": "@jupyter-widgets/base",
            "top": null,
            "grid_column": null,
            "overflow_y": null,
            "overflow_x": null,
            "grid_auto_flow": null,
            "grid_area": null,
            "grid_template_columns": null,
            "flex": null,
            "_model_name": "LayoutModel",
            "justify_items": null,
            "grid_row": null,
            "max_height": null,
            "align_content": null,
            "visibility": null,
            "align_self": null,
            "height": null,
            "min_height": null,
            "padding": null,
            "grid_auto_rows": null,
            "grid_gap": null,
            "max_width": null,
            "order": null,
            "_view_module_version": "1.2.0",
            "grid_template_areas": null,
            "object_position": null,
            "object_fit": null,
            "grid_auto_columns": null,
            "margin": null,
            "display": null,
            "left": null
          }
        },
        "92d94eba3a2140c3a82910cd272229ee": {
          "model_module": "@jupyter-widgets/controls",
          "model_name": "DescriptionStyleModel",
          "state": {
            "_view_name": "StyleView",
            "_model_name": "DescriptionStyleModel",
            "description_width": "",
            "_view_module": "@jupyter-widgets/base",
            "_model_module_version": "1.5.0",
            "_view_count": null,
            "_view_module_version": "1.2.0",
            "_model_module": "@jupyter-widgets/controls"
          }
        },
        "9495eee8f91246dba31465c14f6a1bda": {
          "model_module": "@jupyter-widgets/base",
          "model_name": "LayoutModel",
          "state": {
            "_view_name": "LayoutView",
            "grid_template_rows": null,
            "right": null,
            "justify_content": null,
            "_view_module": "@jupyter-widgets/base",
            "overflow": null,
            "_model_module_version": "1.2.0",
            "_view_count": null,
            "flex_flow": null,
            "width": null,
            "min_width": null,
            "border": null,
            "align_items": null,
            "bottom": null,
            "_model_module": "@jupyter-widgets/base",
            "top": null,
            "grid_column": null,
            "overflow_y": null,
            "overflow_x": null,
            "grid_auto_flow": null,
            "grid_area": null,
            "grid_template_columns": null,
            "flex": null,
            "_model_name": "LayoutModel",
            "justify_items": null,
            "grid_row": null,
            "max_height": null,
            "align_content": null,
            "visibility": null,
            "align_self": null,
            "height": null,
            "min_height": null,
            "padding": null,
            "grid_auto_rows": null,
            "grid_gap": null,
            "max_width": null,
            "order": null,
            "_view_module_version": "1.2.0",
            "grid_template_areas": null,
            "object_position": null,
            "object_fit": null,
            "grid_auto_columns": null,
            "margin": null,
            "display": null,
            "left": null
          }
        },
        "c62d9d0cc1b84e0ab6f80a70763ed21b": {
          "model_module": "@jupyter-widgets/controls",
          "model_name": "HBoxModel",
          "state": {
            "_view_name": "HBoxView",
            "_dom_classes": [],
            "_model_name": "HBoxModel",
            "_view_module": "@jupyter-widgets/controls",
            "_model_module_version": "1.5.0",
            "_view_count": null,
            "_view_module_version": "1.5.0",
            "box_style": "",
            "layout": "IPY_MODEL_1f8df6c932d24484bedb7630784f5b1d",
            "_model_module": "@jupyter-widgets/controls",
            "children": [
              "IPY_MODEL_3a3af61c0bf742839d40ba02b62701be",
              "IPY_MODEL_854b61e007614e23bcce33f00ed171e9"
            ]
          }
        },
        "1f8df6c932d24484bedb7630784f5b1d": {
          "model_module": "@jupyter-widgets/base",
          "model_name": "LayoutModel",
          "state": {
            "_view_name": "LayoutView",
            "grid_template_rows": null,
            "right": null,
            "justify_content": null,
            "_view_module": "@jupyter-widgets/base",
            "overflow": null,
            "_model_module_version": "1.2.0",
            "_view_count": null,
            "flex_flow": null,
            "width": null,
            "min_width": null,
            "border": null,
            "align_items": null,
            "bottom": null,
            "_model_module": "@jupyter-widgets/base",
            "top": null,
            "grid_column": null,
            "overflow_y": null,
            "overflow_x": null,
            "grid_auto_flow": null,
            "grid_area": null,
            "grid_template_columns": null,
            "flex": null,
            "_model_name": "LayoutModel",
            "justify_items": null,
            "grid_row": null,
            "max_height": null,
            "align_content": null,
            "visibility": null,
            "align_self": null,
            "height": null,
            "min_height": null,
            "padding": null,
            "grid_auto_rows": null,
            "grid_gap": null,
            "max_width": null,
            "order": null,
            "_view_module_version": "1.2.0",
            "grid_template_areas": null,
            "object_position": null,
            "object_fit": null,
            "grid_auto_columns": null,
            "margin": null,
            "display": null,
            "left": null
          }
        },
        "3a3af61c0bf742839d40ba02b62701be": {
          "model_module": "@jupyter-widgets/controls",
          "model_name": "FloatProgressModel",
          "state": {
            "_view_name": "ProgressView",
            "style": "IPY_MODEL_5f281be40adc4253adf1413e435f2b54",
            "_dom_classes": [],
            "description": "100%",
            "_model_name": "FloatProgressModel",
            "bar_style": "success",
            "max": 200,
            "_view_module": "@jupyter-widgets/controls",
            "_model_module_version": "1.5.0",
            "value": 200,
            "_view_count": null,
            "_view_module_version": "1.5.0",
            "orientation": "horizontal",
            "min": 0,
            "description_tooltip": null,
            "_model_module": "@jupyter-widgets/controls",
            "layout": "IPY_MODEL_48088900b29a4602a6e77c8064566145"
          }
        },
        "854b61e007614e23bcce33f00ed171e9": {
          "model_module": "@jupyter-widgets/controls",
          "model_name": "HTMLModel",
          "state": {
            "_view_name": "HTMLView",
            "style": "IPY_MODEL_2b4395bbfb1d44aea06308a2039e0513",
            "_dom_classes": [],
            "description": "",
            "_model_name": "HTMLModel",
            "placeholder": "​",
            "_view_module": "@jupyter-widgets/controls",
            "_model_module_version": "1.5.0",
            "value": " 200/200 [00:04&lt;00:00, 44.23it/s]",
            "_view_count": null,
            "_view_module_version": "1.5.0",
            "description_tooltip": null,
            "_model_module": "@jupyter-widgets/controls",
            "layout": "IPY_MODEL_b81ce6e816ec416e9f2497fc8c484264"
          }
        },
        "5f281be40adc4253adf1413e435f2b54": {
          "model_module": "@jupyter-widgets/controls",
          "model_name": "ProgressStyleModel",
          "state": {
            "_view_name": "StyleView",
            "_model_name": "ProgressStyleModel",
            "description_width": "initial",
            "_view_module": "@jupyter-widgets/base",
            "_model_module_version": "1.5.0",
            "_view_count": null,
            "_view_module_version": "1.2.0",
            "bar_color": null,
            "_model_module": "@jupyter-widgets/controls"
          }
        },
        "48088900b29a4602a6e77c8064566145": {
          "model_module": "@jupyter-widgets/base",
          "model_name": "LayoutModel",
          "state": {
            "_view_name": "LayoutView",
            "grid_template_rows": null,
            "right": null,
            "justify_content": null,
            "_view_module": "@jupyter-widgets/base",
            "overflow": null,
            "_model_module_version": "1.2.0",
            "_view_count": null,
            "flex_flow": null,
            "width": null,
            "min_width": null,
            "border": null,
            "align_items": null,
            "bottom": null,
            "_model_module": "@jupyter-widgets/base",
            "top": null,
            "grid_column": null,
            "overflow_y": null,
            "overflow_x": null,
            "grid_auto_flow": null,
            "grid_area": null,
            "grid_template_columns": null,
            "flex": null,
            "_model_name": "LayoutModel",
            "justify_items": null,
            "grid_row": null,
            "max_height": null,
            "align_content": null,
            "visibility": null,
            "align_self": null,
            "height": null,
            "min_height": null,
            "padding": null,
            "grid_auto_rows": null,
            "grid_gap": null,
            "max_width": null,
            "order": null,
            "_view_module_version": "1.2.0",
            "grid_template_areas": null,
            "object_position": null,
            "object_fit": null,
            "grid_auto_columns": null,
            "margin": null,
            "display": null,
            "left": null
          }
        },
        "2b4395bbfb1d44aea06308a2039e0513": {
          "model_module": "@jupyter-widgets/controls",
          "model_name": "DescriptionStyleModel",
          "state": {
            "_view_name": "StyleView",
            "_model_name": "DescriptionStyleModel",
            "description_width": "",
            "_view_module": "@jupyter-widgets/base",
            "_model_module_version": "1.5.0",
            "_view_count": null,
            "_view_module_version": "1.2.0",
            "_model_module": "@jupyter-widgets/controls"
          }
        },
        "b81ce6e816ec416e9f2497fc8c484264": {
          "model_module": "@jupyter-widgets/base",
          "model_name": "LayoutModel",
          "state": {
            "_view_name": "LayoutView",
            "grid_template_rows": null,
            "right": null,
            "justify_content": null,
            "_view_module": "@jupyter-widgets/base",
            "overflow": null,
            "_model_module_version": "1.2.0",
            "_view_count": null,
            "flex_flow": null,
            "width": null,
            "min_width": null,
            "border": null,
            "align_items": null,
            "bottom": null,
            "_model_module": "@jupyter-widgets/base",
            "top": null,
            "grid_column": null,
            "overflow_y": null,
            "overflow_x": null,
            "grid_auto_flow": null,
            "grid_area": null,
            "grid_template_columns": null,
            "flex": null,
            "_model_name": "LayoutModel",
            "justify_items": null,
            "grid_row": null,
            "max_height": null,
            "align_content": null,
            "visibility": null,
            "align_self": null,
            "height": null,
            "min_height": null,
            "padding": null,
            "grid_auto_rows": null,
            "grid_gap": null,
            "max_width": null,
            "order": null,
            "_view_module_version": "1.2.0",
            "grid_template_areas": null,
            "object_position": null,
            "object_fit": null,
            "grid_auto_columns": null,
            "margin": null,
            "display": null,
            "left": null
          }
        },
        "d8808b4a2ea14a6aa8ab27e296f30ec1": {
          "model_module": "@jupyter-widgets/controls",
          "model_name": "HBoxModel",
          "state": {
            "_view_name": "HBoxView",
            "_dom_classes": [],
            "_model_name": "HBoxModel",
            "_view_module": "@jupyter-widgets/controls",
            "_model_module_version": "1.5.0",
            "_view_count": null,
            "_view_module_version": "1.5.0",
            "box_style": "",
            "layout": "IPY_MODEL_ee530072fa3d4c72a9875d0719c568f2",
            "_model_module": "@jupyter-widgets/controls",
            "children": [
              "IPY_MODEL_925073fee78b4d919cbb9ab20c02db37",
              "IPY_MODEL_944d624dc9424c6b8ec88e6cd2655edb"
            ]
          }
        },
        "ee530072fa3d4c72a9875d0719c568f2": {
          "model_module": "@jupyter-widgets/base",
          "model_name": "LayoutModel",
          "state": {
            "_view_name": "LayoutView",
            "grid_template_rows": null,
            "right": null,
            "justify_content": null,
            "_view_module": "@jupyter-widgets/base",
            "overflow": null,
            "_model_module_version": "1.2.0",
            "_view_count": null,
            "flex_flow": null,
            "width": null,
            "min_width": null,
            "border": null,
            "align_items": null,
            "bottom": null,
            "_model_module": "@jupyter-widgets/base",
            "top": null,
            "grid_column": null,
            "overflow_y": null,
            "overflow_x": null,
            "grid_auto_flow": null,
            "grid_area": null,
            "grid_template_columns": null,
            "flex": null,
            "_model_name": "LayoutModel",
            "justify_items": null,
            "grid_row": null,
            "max_height": null,
            "align_content": null,
            "visibility": null,
            "align_self": null,
            "height": null,
            "min_height": null,
            "padding": null,
            "grid_auto_rows": null,
            "grid_gap": null,
            "max_width": null,
            "order": null,
            "_view_module_version": "1.2.0",
            "grid_template_areas": null,
            "object_position": null,
            "object_fit": null,
            "grid_auto_columns": null,
            "margin": null,
            "display": null,
            "left": null
          }
        },
        "925073fee78b4d919cbb9ab20c02db37": {
          "model_module": "@jupyter-widgets/controls",
          "model_name": "FloatProgressModel",
          "state": {
            "_view_name": "ProgressView",
            "style": "IPY_MODEL_8a45add2a9fd4f358975bd54709ff7e8",
            "_dom_classes": [],
            "description": "100%",
            "_model_name": "FloatProgressModel",
            "bar_style": "success",
            "max": 200,
            "_view_module": "@jupyter-widgets/controls",
            "_model_module_version": "1.5.0",
            "value": 200,
            "_view_count": null,
            "_view_module_version": "1.5.0",
            "orientation": "horizontal",
            "min": 0,
            "description_tooltip": null,
            "_model_module": "@jupyter-widgets/controls",
            "layout": "IPY_MODEL_3afb39fa04104cd9bf41be217a45e585"
          }
        },
        "944d624dc9424c6b8ec88e6cd2655edb": {
          "model_module": "@jupyter-widgets/controls",
          "model_name": "HTMLModel",
          "state": {
            "_view_name": "HTMLView",
            "style": "IPY_MODEL_c9dcfea9756d4eb997bdcf7704ef2922",
            "_dom_classes": [],
            "description": "",
            "_model_name": "HTMLModel",
            "placeholder": "​",
            "_view_module": "@jupyter-widgets/controls",
            "_model_module_version": "1.5.0",
            "value": " 200/200 [00:04&lt;00:00, 43.61it/s]",
            "_view_count": null,
            "_view_module_version": "1.5.0",
            "description_tooltip": null,
            "_model_module": "@jupyter-widgets/controls",
            "layout": "IPY_MODEL_afd5c0fb1e874ace930ce3e60c0a52df"
          }
        },
        "8a45add2a9fd4f358975bd54709ff7e8": {
          "model_module": "@jupyter-widgets/controls",
          "model_name": "ProgressStyleModel",
          "state": {
            "_view_name": "StyleView",
            "_model_name": "ProgressStyleModel",
            "description_width": "initial",
            "_view_module": "@jupyter-widgets/base",
            "_model_module_version": "1.5.0",
            "_view_count": null,
            "_view_module_version": "1.2.0",
            "bar_color": null,
            "_model_module": "@jupyter-widgets/controls"
          }
        },
        "3afb39fa04104cd9bf41be217a45e585": {
          "model_module": "@jupyter-widgets/base",
          "model_name": "LayoutModel",
          "state": {
            "_view_name": "LayoutView",
            "grid_template_rows": null,
            "right": null,
            "justify_content": null,
            "_view_module": "@jupyter-widgets/base",
            "overflow": null,
            "_model_module_version": "1.2.0",
            "_view_count": null,
            "flex_flow": null,
            "width": null,
            "min_width": null,
            "border": null,
            "align_items": null,
            "bottom": null,
            "_model_module": "@jupyter-widgets/base",
            "top": null,
            "grid_column": null,
            "overflow_y": null,
            "overflow_x": null,
            "grid_auto_flow": null,
            "grid_area": null,
            "grid_template_columns": null,
            "flex": null,
            "_model_name": "LayoutModel",
            "justify_items": null,
            "grid_row": null,
            "max_height": null,
            "align_content": null,
            "visibility": null,
            "align_self": null,
            "height": null,
            "min_height": null,
            "padding": null,
            "grid_auto_rows": null,
            "grid_gap": null,
            "max_width": null,
            "order": null,
            "_view_module_version": "1.2.0",
            "grid_template_areas": null,
            "object_position": null,
            "object_fit": null,
            "grid_auto_columns": null,
            "margin": null,
            "display": null,
            "left": null
          }
        },
        "c9dcfea9756d4eb997bdcf7704ef2922": {
          "model_module": "@jupyter-widgets/controls",
          "model_name": "DescriptionStyleModel",
          "state": {
            "_view_name": "StyleView",
            "_model_name": "DescriptionStyleModel",
            "description_width": "",
            "_view_module": "@jupyter-widgets/base",
            "_model_module_version": "1.5.0",
            "_view_count": null,
            "_view_module_version": "1.2.0",
            "_model_module": "@jupyter-widgets/controls"
          }
        },
        "afd5c0fb1e874ace930ce3e60c0a52df": {
          "model_module": "@jupyter-widgets/base",
          "model_name": "LayoutModel",
          "state": {
            "_view_name": "LayoutView",
            "grid_template_rows": null,
            "right": null,
            "justify_content": null,
            "_view_module": "@jupyter-widgets/base",
            "overflow": null,
            "_model_module_version": "1.2.0",
            "_view_count": null,
            "flex_flow": null,
            "width": null,
            "min_width": null,
            "border": null,
            "align_items": null,
            "bottom": null,
            "_model_module": "@jupyter-widgets/base",
            "top": null,
            "grid_column": null,
            "overflow_y": null,
            "overflow_x": null,
            "grid_auto_flow": null,
            "grid_area": null,
            "grid_template_columns": null,
            "flex": null,
            "_model_name": "LayoutModel",
            "justify_items": null,
            "grid_row": null,
            "max_height": null,
            "align_content": null,
            "visibility": null,
            "align_self": null,
            "height": null,
            "min_height": null,
            "padding": null,
            "grid_auto_rows": null,
            "grid_gap": null,
            "max_width": null,
            "order": null,
            "_view_module_version": "1.2.0",
            "grid_template_areas": null,
            "object_position": null,
            "object_fit": null,
            "grid_auto_columns": null,
            "margin": null,
            "display": null,
            "left": null
          }
        }
      }
    }
  },
  "cells": [
    {
      "cell_type": "markdown",
      "metadata": {
        "id": "uh7uhu_goqbN",
        "colab_type": "text"
      },
      "source": [
        "# Setup\n",
        "\n"
      ]
    },
    {
      "cell_type": "code",
      "metadata": {
        "id": "BCIlkP1foqbP",
        "colab_type": "code",
        "colab": {}
      },
      "source": [
        "%%capture\n",
        "%pip install poetry\n",
        "%pip install git+https://github.com/oughtinc/ergo.git@17d65fbafa66efaba905d388ac9c941b32760ddd\n",
        "%pip install xlrd"
      ],
      "execution_count": 0,
      "outputs": []
    },
    {
      "cell_type": "code",
      "metadata": {
        "id": "-sz5d6HPoqbt",
        "colab_type": "code",
        "colab": {}
      },
      "source": [
        "%load_ext google.colab.data_table"
      ],
      "execution_count": 0,
      "outputs": []
    },
    {
      "cell_type": "code",
      "metadata": {
        "id": "TCbX6j37oqcJ",
        "colab_type": "code",
        "colab": {}
      },
      "source": [
        "%%capture\n",
        "import ergo\n",
        "import numpy as np\n",
        "import pandas as pd\n",
        "import ssl\n",
        "import warnings\n",
        "from datetime import timedelta, date\n",
        "from ergo.contrib.el_paso import texas_data, onlyasith, krismoore, brachbach\n",
        "from ergo.contrib.utils import plot_question, question, rejection_sample, sample_from_ensemble, samplers, summarize_question_samples, daterange"
      ],
      "execution_count": 0,
      "outputs": []
    },
    {
      "cell_type": "code",
      "metadata": {
        "id": "Yn_AK5axoqcT",
        "colab_type": "code",
        "colab": {}
      },
      "source": [
        "warnings.filterwarnings(action=\"ignore\", category=FutureWarning)\n",
        "warnings.filterwarnings(module=\"plotnine\", action=\"ignore\")\n",
        "warnings.filterwarnings(module=\"jax\", action=\"ignore\")\n",
        "ssl._create_default_https_context = ssl._create_unverified_context"
      ],
      "execution_count": 0,
      "outputs": []
    },
    {
      "cell_type": "code",
      "metadata": {
        "id": "HRVH50EVoqcg",
        "colab_type": "code",
        "colab": {}
      },
      "source": [
        "metaculus = ergo.Metaculus(\n",
        "    username=\"oughtpublic\", \n",
        "    password=\"123456\",\n",
        "    api_domain = \"pandemic\"\n",
        ")"
      ],
      "execution_count": 0,
      "outputs": []
    },
    {
      "cell_type": "markdown",
      "metadata": {
        "id": "4tsd66dsoqcq",
        "colab_type": "text"
      },
      "source": [
        "# Retrieve external data and models\n",
        "\n"
      ]
    },
    {
      "cell_type": "markdown",
      "metadata": {
        "id": "vkeN3IPDoqcr",
        "colab_type": "text"
      },
      "source": [
        "## Texas government cases data\n",
        "\n"
      ]
    },
    {
      "cell_type": "code",
      "metadata": {
        "id": "RTa2rawBoqcu",
        "colab_type": "code",
        "outputId": "3da5ae46-76b2-4164-f291-1b82f539c7e5",
        "colab": {
          "base_uri": "https://localhost:8080/",
          "height": 623
        }
      },
      "source": [
        "el_paso_cases = texas_data.get_el_paso_data()\n",
        "\n",
        "el_paso_cases"
      ],
      "execution_count": 6,
      "outputs": [
        {
          "output_type": "execute_result",
          "data": {
            "application/vnd.google.colaboratory.module+javascript": "\n      import \"https://ssl.gstatic.com/colaboratory/data_table/a6224c040fa35dcf/data_table.js\";\n\n      window.createDataTable({\n        data: [[\"2020-03-04\",\n{\n            'v': 0,\n            'f': \"0\",\n        },\n{\n            'v': NaN,\n            'f': \"NaN\",\n        }],\n [\"2020-03-05\",\n{\n            'v': 0,\n            'f': \"0\",\n        },\n{\n            'v': 0,\n            'f': \"0\",\n        }],\n [\"2020-03-06\",\n{\n            'v': 0,\n            'f': \"0\",\n        },\n{\n            'v': 0,\n            'f': \"0\",\n        }],\n [\"2020-03-09\",\n{\n            'v': 0,\n            'f': \"0\",\n        },\n{\n            'v': 0,\n            'f': \"0\",\n        }],\n [\"2020-03-10\",\n{\n            'v': 0,\n            'f': \"0\",\n        },\n{\n            'v': 0,\n            'f': \"0\",\n        }],\n [\"2020-03-11\",\n{\n            'v': 0,\n            'f': \"0\",\n        },\n{\n            'v': 0,\n            'f': \"0\",\n        }],\n [\"2020-03-12\",\n{\n            'v': 0,\n            'f': \"0\",\n        },\n{\n            'v': 0,\n            'f': \"0\",\n        }],\n [\"2020-03-13\",\n{\n            'v': 0,\n            'f': \"0\",\n        },\n{\n            'v': 0,\n            'f': \"0\",\n        }],\n [\"2020-03-15\",\n{\n            'v': 1,\n            'f': \"1\",\n        },\n{\n            'v': 1,\n            'f': \"1\",\n        }],\n [\"2020-03-16\",\n{\n            'v': 1,\n            'f': \"1\",\n        },\n{\n            'v': 0,\n            'f': \"0\",\n        }],\n [\"2020-03-17\",\n{\n            'v': 3,\n            'f': \"3\",\n        },\n{\n            'v': 2,\n            'f': \"2\",\n        }],\n [\"2020-03-18\",\n{\n            'v': 3,\n            'f': \"3\",\n        },\n{\n            'v': 0,\n            'f': \"0\",\n        }],\n [\"2020-03-19\",\n{\n            'v': 3,\n            'f': \"3\",\n        },\n{\n            'v': 0,\n            'f': \"0\",\n        }],\n [\"2020-03-20\",\n{\n            'v': 3,\n            'f': \"3\",\n        },\n{\n            'v': 0,\n            'f': \"0\",\n        }],\n [\"2020-03-21\",\n{\n            'v': 6,\n            'f': \"6\",\n        },\n{\n            'v': 3,\n            'f': \"3\",\n        }],\n [\"2020-03-22\",\n{\n            'v': 6,\n            'f': \"6\",\n        },\n{\n            'v': 0,\n            'f': \"0\",\n        }],\n [\"2020-03-23\",\n{\n            'v': 6,\n            'f': \"6\",\n        },\n{\n            'v': 0,\n            'f': \"0\",\n        }],\n [\"2020-03-24\",\n{\n            'v': 7,\n            'f': \"7\",\n        },\n{\n            'v': 1,\n            'f': \"1\",\n        }],\n [\"2020-03-25\",\n{\n            'v': 11,\n            'f': \"11\",\n        },\n{\n            'v': 4,\n            'f': \"4\",\n        }],\n [\"2020-03-26\",\n{\n            'v': 21,\n            'f': \"21\",\n        },\n{\n            'v': 10,\n            'f': \"10\",\n        }],\n [\"2020-03-27\",\n{\n            'v': 21,\n            'f': \"21\",\n        },\n{\n            'v': 0,\n            'f': \"0\",\n        }],\n [\"2020-03-28\",\n{\n            'v': 31,\n            'f': \"31\",\n        },\n{\n            'v': 10,\n            'f': \"10\",\n        }],\n [\"2020-03-29\",\n{\n            'v': 35,\n            'f': \"35\",\n        },\n{\n            'v': 4,\n            'f': \"4\",\n        }],\n [\"2020-03-30\",\n{\n            'v': 40,\n            'f': \"40\",\n        },\n{\n            'v': 5,\n            'f': \"5\",\n        }],\n [\"2020-03-31\",\n{\n            'v': 46,\n            'f': \"46\",\n        },\n{\n            'v': 6,\n            'f': \"6\",\n        }],\n [\"2020-04-01\",\n{\n            'v': 50,\n            'f': \"50\",\n        },\n{\n            'v': 4,\n            'f': \"4\",\n        }],\n [\"2020-04-02\",\n{\n            'v': 68,\n            'f': \"68\",\n        },\n{\n            'v': 18,\n            'f': \"18\",\n        }],\n [\"2020-04-03\",\n{\n            'v': 78,\n            'f': \"78\",\n        },\n{\n            'v': 10,\n            'f': \"10\",\n        }],\n [\"2020-04-04\",\n{\n            'v': 96,\n            'f': \"96\",\n        },\n{\n            'v': 18,\n            'f': \"18\",\n        }],\n [\"2020-04-05\",\n{\n            'v': 106,\n            'f': \"106\",\n        },\n{\n            'v': 10,\n            'f': \"10\",\n        }],\n [\"2020-04-06\",\n{\n            'v': 115,\n            'f': \"115\",\n        },\n{\n            'v': 9,\n            'f': \"9\",\n        }],\n [\"2020-04-07\",\n{\n            'v': 125,\n            'f': \"125\",\n        },\n{\n            'v': 10,\n            'f': \"10\",\n        }],\n [\"2020-04-08\",\n{\n            'v': 153,\n            'f': \"153\",\n        },\n{\n            'v': 28,\n            'f': \"28\",\n        }],\n [\"2020-04-09\",\n{\n            'v': 192,\n            'f': \"192\",\n        },\n{\n            'v': 39,\n            'f': \"39\",\n        }],\n [\"2020-04-10\",\n{\n            'v': 225,\n            'f': \"225\",\n        },\n{\n            'v': 33,\n            'f': \"33\",\n        }],\n [\"2020-04-11\",\n{\n            'v': 252,\n            'f': \"252\",\n        },\n{\n            'v': 27,\n            'f': \"27\",\n        }],\n [\"2020-04-12\",\n{\n            'v': 269,\n            'f': \"269\",\n        },\n{\n            'v': 17,\n            'f': \"17\",\n        }],\n [\"2020-04-13\",\n{\n            'v': 292,\n            'f': \"292\",\n        },\n{\n            'v': 23,\n            'f': \"23\",\n        }],\n [\"2020-04-14\",\n{\n            'v': 300,\n            'f': \"300\",\n        },\n{\n            'v': 8,\n            'f': \"8\",\n        }],\n [\"2020-04-15\",\n{\n            'v': 346,\n            'f': \"346\",\n        },\n{\n            'v': 46,\n            'f': \"46\",\n        }],\n [\"2020-04-16\",\n{\n            'v': 393,\n            'f': \"393\",\n        },\n{\n            'v': 47,\n            'f': \"47\",\n        }],\n [\"2020-04-17\",\n{\n            'v': 451,\n            'f': \"451\",\n        },\n{\n            'v': 58,\n            'f': \"58\",\n        }],\n [\"2020-04-18\",\n{\n            'v': 482,\n            'f': \"482\",\n        },\n{\n            'v': 31,\n            'f': \"31\",\n        }],\n [\"2020-04-19\",\n{\n            'v': 505,\n            'f': \"505\",\n        },\n{\n            'v': 23,\n            'f': \"23\",\n        }],\n [\"2020-04-20\",\n{\n            'v': 531,\n            'f': \"531\",\n        },\n{\n            'v': 26,\n            'f': \"26\",\n        }],\n [\"2020-04-21\",\n{\n            'v': 540,\n            'f': \"540\",\n        },\n{\n            'v': 9,\n            'f': \"9\",\n        }],\n [\"2020-04-22\",\n{\n            'v': 587,\n            'f': \"587\",\n        },\n{\n            'v': 47,\n            'f': \"47\",\n        }],\n [\"2020-04-23\",\n{\n            'v': 645,\n            'f': \"645\",\n        },\n{\n            'v': 58,\n            'f': \"58\",\n        }],\n [\"2020-04-24\",\n{\n            'v': 674,\n            'f': \"674\",\n        },\n{\n            'v': 29,\n            'f': \"29\",\n        }],\n [\"2020-04-25\",\n{\n            'v': 706,\n            'f': \"706\",\n        },\n{\n            'v': 32,\n            'f': \"32\",\n        }],\n [\"2020-04-26\",\n{\n            'v': 780,\n            'f': \"780\",\n        },\n{\n            'v': 74,\n            'f': \"74\",\n        }],\n [\"2020-04-27\",\n{\n            'v': 802,\n            'f': \"802\",\n        },\n{\n            'v': 22,\n            'f': \"22\",\n        }],\n [\"2020-04-28\",\n{\n            'v': 829,\n            'f': \"829\",\n        },\n{\n            'v': 27,\n            'f': \"27\",\n        }],\n [\"2020-04-29\",\n{\n            'v': 857,\n            'f': \"857\",\n        },\n{\n            'v': 28,\n            'f': \"28\",\n        }],\n [\"2020-04-30\",\n{\n            'v': 887,\n            'f': \"887\",\n        },\n{\n            'v': 30,\n            'f': \"30\",\n        }],\n [\"2020-05-01\",\n{\n            'v': 924,\n            'f': \"924\",\n        },\n{\n            'v': 37,\n            'f': \"37\",\n        }],\n [\"2020-05-02\",\n{\n            'v': 961,\n            'f': \"961\",\n        },\n{\n            'v': 37,\n            'f': \"37\",\n        }],\n [\"2020-05-03\",\n{\n            'v': 986,\n            'f': \"986\",\n        },\n{\n            'v': 25,\n            'f': \"25\",\n        }],\n [\"2020-05-04\",\n{\n            'v': 998,\n            'f': \"998\",\n        },\n{\n            'v': 12,\n            'f': \"12\",\n        }],\n [\"2020-05-05\",\n{\n            'v': 1029,\n            'f': \"1029\",\n        },\n{\n            'v': 31,\n            'f': \"31\",\n        }],\n [\"2020-05-06\",\n{\n            'v': 1080,\n            'f': \"1080\",\n        },\n{\n            'v': 51,\n            'f': \"51\",\n        }]],\n        columns: [[\"string\", \"index\"], [\"number\", \"Cases so far\"], [\"number\", \"New cases\"]],\n        columnOptions: [{\"width\": \"1px\", \"className\": \"index_column\"}],\n        rowsPerPage: 25,\n        helpUrl: \"https://colab.research.google.com/notebooks/data_table.ipynb\",\n        suppressOutputScrolling: true,\n        minimumWidth: undefined,\n      });\n    ",
            "text/html": [
              "<div>\n",
              "<style scoped>\n",
              "    .dataframe tbody tr th:only-of-type {\n",
              "        vertical-align: middle;\n",
              "    }\n",
              "\n",
              "    .dataframe tbody tr th {\n",
              "        vertical-align: top;\n",
              "    }\n",
              "\n",
              "    .dataframe thead th {\n",
              "        text-align: right;\n",
              "    }\n",
              "</style>\n",
              "<table border=\"1\" class=\"dataframe\">\n",
              "  <thead>\n",
              "    <tr style=\"text-align: right;\">\n",
              "      <th></th>\n",
              "      <th>Cases so far</th>\n",
              "      <th>New cases</th>\n",
              "    </tr>\n",
              "  </thead>\n",
              "  <tbody>\n",
              "    <tr>\n",
              "      <th>2020-03-04</th>\n",
              "      <td>0</td>\n",
              "      <td>NaN</td>\n",
              "    </tr>\n",
              "    <tr>\n",
              "      <th>2020-03-05</th>\n",
              "      <td>0</td>\n",
              "      <td>0</td>\n",
              "    </tr>\n",
              "    <tr>\n",
              "      <th>2020-03-06</th>\n",
              "      <td>0</td>\n",
              "      <td>0</td>\n",
              "    </tr>\n",
              "    <tr>\n",
              "      <th>2020-03-09</th>\n",
              "      <td>0</td>\n",
              "      <td>0</td>\n",
              "    </tr>\n",
              "    <tr>\n",
              "      <th>2020-03-10</th>\n",
              "      <td>0</td>\n",
              "      <td>0</td>\n",
              "    </tr>\n",
              "    <tr>\n",
              "      <th>...</th>\n",
              "      <td>...</td>\n",
              "      <td>...</td>\n",
              "    </tr>\n",
              "    <tr>\n",
              "      <th>2020-05-02</th>\n",
              "      <td>961</td>\n",
              "      <td>37</td>\n",
              "    </tr>\n",
              "    <tr>\n",
              "      <th>2020-05-03</th>\n",
              "      <td>986</td>\n",
              "      <td>25</td>\n",
              "    </tr>\n",
              "    <tr>\n",
              "      <th>2020-05-04</th>\n",
              "      <td>998</td>\n",
              "      <td>12</td>\n",
              "    </tr>\n",
              "    <tr>\n",
              "      <th>2020-05-05</th>\n",
              "      <td>1029</td>\n",
              "      <td>31</td>\n",
              "    </tr>\n",
              "    <tr>\n",
              "      <th>2020-05-06</th>\n",
              "      <td>1080</td>\n",
              "      <td>51</td>\n",
              "    </tr>\n",
              "  </tbody>\n",
              "</table>\n",
              "<p>61 rows × 2 columns</p>\n",
              "</div>"
            ],
            "text/plain": [
              "           Cases so far New cases\n",
              "2020-03-04            0       NaN\n",
              "2020-03-05            0         0\n",
              "2020-03-06            0         0\n",
              "2020-03-09            0         0\n",
              "2020-03-10            0         0\n",
              "...                 ...       ...\n",
              "2020-05-02          961        37\n",
              "2020-05-03          986        25\n",
              "2020-05-04          998        12\n",
              "2020-05-05         1029        31\n",
              "2020-05-06         1080        51\n",
              "\n",
              "[61 rows x 2 columns]"
            ]
          },
          "metadata": {
            "tags": []
          },
          "execution_count": 6
        }
      ]
    },
    {
      "cell_type": "markdown",
      "metadata": {
        "id": "Gy5j9rDwoqdG",
        "colab_type": "text"
      },
      "source": [
        "## @KrisMoore's compiled data\n",
        "\n"
      ]
    },
    {
      "cell_type": "markdown",
      "metadata": {
        "id": "7T_OAVkEoqdI",
        "colab_type": "text"
      },
      "source": [
        "Pulled from\n",
        "[here](https://docs.google.com/spreadsheets/d/1eGF9xYmDmvAkr-dCmd-N4efHzPyYEfVl0YmL9zBvH9Q/edit#gid=1694267458)\n",
        "\n"
      ]
    },
    {
      "cell_type": "code",
      "metadata": {
        "id": "h58KcMmeoqdK",
        "colab_type": "code",
        "outputId": "e3a6a2af-f16e-40b0-9928-0bb083d8b6e0",
        "colab": {
          "base_uri": "https://localhost:8080/",
          "height": 638
        }
      },
      "source": [
        "compiled_data = krismoore.get_krismoore_data()\n",
        "\n",
        "compiled_data"
      ],
      "execution_count": 7,
      "outputs": [
        {
          "output_type": "execute_result",
          "data": {
            "application/vnd.google.colaboratory.module+javascript": "\n      import \"https://ssl.gstatic.com/colaboratory/data_table/a6224c040fa35dcf/data_table.js\";\n\n      window.createDataTable({\n        data: [[\"2020-03-04 00:00:00\",\n{\n            'v': 0.0,\n            'f': \"0.0\",\n        },\n{\n            'v': NaN,\n            'f': \"NaN\",\n        },\n{\n            'v': NaN,\n            'f': \"NaN\",\n        },\n{\n            'v': 0.0,\n            'f': \"0.0\",\n        },\n{\n            'v': 0.0,\n            'f': \"0.0\",\n        },\n{\n            'v': NaN,\n            'f': \"NaN\",\n        },\n{\n            'v': NaN,\n            'f': \"NaN\",\n        },\n{\n            'v': NaN,\n            'f': \"NaN\",\n        },\n{\n            'v': NaN,\n            'f': \"NaN\",\n        },\n{\n            'v': NaN,\n            'f': \"NaN\",\n        },\n{\n            'v': NaN,\n            'f': \"NaN\",\n        },\nNaN,\n{\n            'v': NaN,\n            'f': \"NaN\",\n        },\n\"952,366\"],\n [\"2020-03-05 00:00:00\",\n{\n            'v': 0.0,\n            'f': \"0.0\",\n        },\n{\n            'v': 0.0,\n            'f': \"0.0\",\n        },\n{\n            'v': NaN,\n            'f': \"NaN\",\n        },\n{\n            'v': 0.0,\n            'f': \"0.0\",\n        },\n{\n            'v': 0.0,\n            'f': \"0.0\",\n        },\n{\n            'v': NaN,\n            'f': \"NaN\",\n        },\n{\n            'v': NaN,\n            'f': \"NaN\",\n        },\n{\n            'v': NaN,\n            'f': \"NaN\",\n        },\n{\n            'v': NaN,\n            'f': \"NaN\",\n        },\n{\n            'v': NaN,\n            'f': \"NaN\",\n        },\n{\n            'v': NaN,\n            'f': \"NaN\",\n        },\nNaN,\n{\n            'v': NaN,\n            'f': \"NaN\",\n        },\nNaN],\n [\"2020-03-06 00:00:00\",\n{\n            'v': 0.0,\n            'f': \"0.0\",\n        },\n{\n            'v': 0.0,\n            'f': \"0.0\",\n        },\n{\n            'v': 0.0,\n            'f': \"0.0\",\n        },\n{\n            'v': 0.0,\n            'f': \"0.0\",\n        },\n{\n            'v': 0.0,\n            'f': \"0.0\",\n        },\n{\n            'v': NaN,\n            'f': \"NaN\",\n        },\n{\n            'v': NaN,\n            'f': \"NaN\",\n        },\n{\n            'v': NaN,\n            'f': \"NaN\",\n        },\n{\n            'v': NaN,\n            'f': \"NaN\",\n        },\n{\n            'v': NaN,\n            'f': \"NaN\",\n        },\n{\n            'v': NaN,\n            'f': \"NaN\",\n        },\nNaN,\n{\n            'v': NaN,\n            'f': \"NaN\",\n        },\nNaN],\n [\"2020-03-07 00:00:00\",\n{\n            'v': 0.0,\n            'f': \"0.0\",\n        },\n{\n            'v': 0.0,\n            'f': \"0.0\",\n        },\n{\n            'v': 0.0,\n            'f': \"0.0\",\n        },\n{\n            'v': 0.0,\n            'f': \"0.0\",\n        },\n{\n            'v': 0.0,\n            'f': \"0.0\",\n        },\n{\n            'v': NaN,\n            'f': \"NaN\",\n        },\n{\n            'v': NaN,\n            'f': \"NaN\",\n        },\n{\n            'v': NaN,\n            'f': \"NaN\",\n        },\n{\n            'v': NaN,\n            'f': \"NaN\",\n        },\n{\n            'v': NaN,\n            'f': \"NaN\",\n        },\n{\n            'v': NaN,\n            'f': \"NaN\",\n        },\nNaN,\n{\n            'v': NaN,\n            'f': \"NaN\",\n        },\nNaN],\n [\"2020-03-08 00:00:00\",\n{\n            'v': 0.0,\n            'f': \"0.0\",\n        },\n{\n            'v': 0.0,\n            'f': \"0.0\",\n        },\n{\n            'v': 0.0,\n            'f': \"0.0\",\n        },\n{\n            'v': 0.0,\n            'f': \"0.0\",\n        },\n{\n            'v': 0.0,\n            'f': \"0.0\",\n        },\n{\n            'v': NaN,\n            'f': \"NaN\",\n        },\n{\n            'v': NaN,\n            'f': \"NaN\",\n        },\n{\n            'v': NaN,\n            'f': \"NaN\",\n        },\n{\n            'v': NaN,\n            'f': \"NaN\",\n        },\n{\n            'v': NaN,\n            'f': \"NaN\",\n        },\n{\n            'v': NaN,\n            'f': \"NaN\",\n        },\nNaN,\n{\n            'v': NaN,\n            'f': \"NaN\",\n        },\nNaN],\n [\"2020-03-09 00:00:00\",\n{\n            'v': 0.0,\n            'f': \"0.0\",\n        },\n{\n            'v': 0.0,\n            'f': \"0.0\",\n        },\n{\n            'v': 0.0,\n            'f': \"0.0\",\n        },\n{\n            'v': 0.0,\n            'f': \"0.0\",\n        },\n{\n            'v': 0.0,\n            'f': \"0.0\",\n        },\n{\n            'v': NaN,\n            'f': \"NaN\",\n        },\n{\n            'v': NaN,\n            'f': \"NaN\",\n        },\n{\n            'v': NaN,\n            'f': \"NaN\",\n        },\n{\n            'v': NaN,\n            'f': \"NaN\",\n        },\n{\n            'v': NaN,\n            'f': \"NaN\",\n        },\n{\n            'v': NaN,\n            'f': \"NaN\",\n        },\nNaN,\n{\n            'v': NaN,\n            'f': \"NaN\",\n        },\nNaN],\n [\"2020-03-10 00:00:00\",\n{\n            'v': 0.0,\n            'f': \"0.0\",\n        },\n{\n            'v': 0.0,\n            'f': \"0.0\",\n        },\n{\n            'v': 0.0,\n            'f': \"0.0\",\n        },\n{\n            'v': 0.0,\n            'f': \"0.0\",\n        },\n{\n            'v': 0.0,\n            'f': \"0.0\",\n        },\n{\n            'v': NaN,\n            'f': \"NaN\",\n        },\n{\n            'v': NaN,\n            'f': \"NaN\",\n        },\n{\n            'v': NaN,\n            'f': \"NaN\",\n        },\n{\n            'v': NaN,\n            'f': \"NaN\",\n        },\n{\n            'v': NaN,\n            'f': \"NaN\",\n        },\n{\n            'v': NaN,\n            'f': \"NaN\",\n        },\nNaN,\n{\n            'v': NaN,\n            'f': \"NaN\",\n        },\nNaN],\n [\"2020-03-11 00:00:00\",\n{\n            'v': 0.0,\n            'f': \"0.0\",\n        },\n{\n            'v': 0.0,\n            'f': \"0.0\",\n        },\n{\n            'v': 0.0,\n            'f': \"0.0\",\n        },\n{\n            'v': 0.0,\n            'f': \"0.0\",\n        },\n{\n            'v': 0.0,\n            'f': \"0.0\",\n        },\n{\n            'v': NaN,\n            'f': \"NaN\",\n        },\n{\n            'v': NaN,\n            'f': \"NaN\",\n        },\n{\n            'v': NaN,\n            'f': \"NaN\",\n        },\n{\n            'v': NaN,\n            'f': \"NaN\",\n        },\n{\n            'v': NaN,\n            'f': \"NaN\",\n        },\n{\n            'v': NaN,\n            'f': \"NaN\",\n        },\nNaN,\n{\n            'v': NaN,\n            'f': \"NaN\",\n        },\nNaN],\n [\"2020-03-12 00:00:00\",\n{\n            'v': 0.0,\n            'f': \"0.0\",\n        },\n{\n            'v': 0.0,\n            'f': \"0.0\",\n        },\n{\n            'v': 0.0,\n            'f': \"0.0\",\n        },\n{\n            'v': 0.0,\n            'f': \"0.0\",\n        },\n{\n            'v': 0.0,\n            'f': \"0.0\",\n        },\n{\n            'v': NaN,\n            'f': \"NaN\",\n        },\n{\n            'v': NaN,\n            'f': \"NaN\",\n        },\n{\n            'v': NaN,\n            'f': \"NaN\",\n        },\n{\n            'v': NaN,\n            'f': \"NaN\",\n        },\n{\n            'v': NaN,\n            'f': \"NaN\",\n        },\n{\n            'v': NaN,\n            'f': \"NaN\",\n        },\nNaN,\n{\n            'v': NaN,\n            'f': \"NaN\",\n        },\nNaN],\n [\"2020-03-13 00:00:00\",\n{\n            'v': 0.0,\n            'f': \"0.0\",\n        },\n{\n            'v': 0.0,\n            'f': \"0.0\",\n        },\n{\n            'v': 0.0,\n            'f': \"0.0\",\n        },\n{\n            'v': 0.0,\n            'f': \"0.0\",\n        },\n{\n            'v': 0.0,\n            'f': \"0.0\",\n        },\n{\n            'v': NaN,\n            'f': \"NaN\",\n        },\n{\n            'v': NaN,\n            'f': \"NaN\",\n        },\n{\n            'v': NaN,\n            'f': \"NaN\",\n        },\n{\n            'v': NaN,\n            'f': \"NaN\",\n        },\n{\n            'v': NaN,\n            'f': \"NaN\",\n        },\n{\n            'v': NaN,\n            'f': \"NaN\",\n        },\nNaN,\n{\n            'v': NaN,\n            'f': \"NaN\",\n        },\nNaN],\n [\"2020-03-14 00:00:00\",\n{\n            'v': 1.0,\n            'f': \"1.0\",\n        },\n{\n            'v': 1.0,\n            'f': \"1.0\",\n        },\n{\n            'v': 0.5,\n            'f': \"0.5\",\n        },\n{\n            'v': 1.0,\n            'f': \"1.0\",\n        },\n{\n            'v': 0.0,\n            'f': \"0.0\",\n        },\n{\n            'v': NaN,\n            'f': \"NaN\",\n        },\n{\n            'v': NaN,\n            'f': \"NaN\",\n        },\n{\n            'v': NaN,\n            'f': \"NaN\",\n        },\n{\n            'v': NaN,\n            'f': \"NaN\",\n        },\n{\n            'v': NaN,\n            'f': \"NaN\",\n        },\n{\n            'v': NaN,\n            'f': \"NaN\",\n        },\nNaN,\n{\n            'v': NaN,\n            'f': \"NaN\",\n        },\nNaN],\n [\"2020-03-15 00:00:00\",\n{\n            'v': 1.0,\n            'f': \"1.0\",\n        },\n{\n            'v': 0.0,\n            'f': \"0.0\",\n        },\n{\n            'v': 0.5,\n            'f': \"0.5\",\n        },\n{\n            'v': 1.0,\n            'f': \"1.0\",\n        },\n{\n            'v': 0.0,\n            'f': \"0.0\",\n        },\n{\n            'v': NaN,\n            'f': \"NaN\",\n        },\n{\n            'v': NaN,\n            'f': \"NaN\",\n        },\n{\n            'v': NaN,\n            'f': \"NaN\",\n        },\n{\n            'v': NaN,\n            'f': \"NaN\",\n        },\n{\n            'v': NaN,\n            'f': \"NaN\",\n        },\n{\n            'v': NaN,\n            'f': \"NaN\",\n        },\nNaN,\n{\n            'v': NaN,\n            'f': \"NaN\",\n        },\nNaN],\n [\"2020-03-16 00:00:00\",\n{\n            'v': 1.0,\n            'f': \"1.0\",\n        },\n{\n            'v': 0.0,\n            'f': \"0.0\",\n        },\n{\n            'v': 0.0,\n            'f': \"0.0\",\n        },\n{\n            'v': 1.0,\n            'f': \"1.0\",\n        },\n{\n            'v': 0.0,\n            'f': \"0.0\",\n        },\n{\n            'v': NaN,\n            'f': \"NaN\",\n        },\n{\n            'v': NaN,\n            'f': \"NaN\",\n        },\n{\n            'v': NaN,\n            'f': \"NaN\",\n        },\n{\n            'v': NaN,\n            'f': \"NaN\",\n        },\n{\n            'v': NaN,\n            'f': \"NaN\",\n        },\n{\n            'v': NaN,\n            'f': \"NaN\",\n        },\nNaN,\n{\n            'v': NaN,\n            'f': \"NaN\",\n        },\nNaN],\n [\"2020-03-17 00:00:00\",\n{\n            'v': 3.0,\n            'f': \"3.0\",\n        },\n{\n            'v': 2.0,\n            'f': \"2.0\",\n        },\n{\n            'v': 1.0,\n            'f': \"1.0\",\n        },\n{\n            'v': 3.0,\n            'f': \"3.0\",\n        },\n{\n            'v': 0.0,\n            'f': \"0.0\",\n        },\n{\n            'v': NaN,\n            'f': \"NaN\",\n        },\n{\n            'v': NaN,\n            'f': \"NaN\",\n        },\n{\n            'v': NaN,\n            'f': \"NaN\",\n        },\n{\n            'v': NaN,\n            'f': \"NaN\",\n        },\n{\n            'v': NaN,\n            'f': \"NaN\",\n        },\n{\n            'v': NaN,\n            'f': \"NaN\",\n        },\nNaN,\n{\n            'v': NaN,\n            'f': \"NaN\",\n        },\nNaN],\n [\"2020-03-18 00:00:00\",\n{\n            'v': 3.0,\n            'f': \"3.0\",\n        },\n{\n            'v': 0.0,\n            'f': \"0.0\",\n        },\n{\n            'v': 1.0,\n            'f': \"1.0\",\n        },\n{\n            'v': 3.0,\n            'f': \"3.0\",\n        },\n{\n            'v': 0.0,\n            'f': \"0.0\",\n        },\n{\n            'v': NaN,\n            'f': \"NaN\",\n        },\n{\n            'v': NaN,\n            'f': \"NaN\",\n        },\n{\n            'v': NaN,\n            'f': \"NaN\",\n        },\n{\n            'v': NaN,\n            'f': \"NaN\",\n        },\n{\n            'v': NaN,\n            'f': \"NaN\",\n        },\n{\n            'v': NaN,\n            'f': \"NaN\",\n        },\nNaN,\n{\n            'v': NaN,\n            'f': \"NaN\",\n        },\nNaN],\n [\"2020-03-19 00:00:00\",\n{\n            'v': 3.0,\n            'f': \"3.0\",\n        },\n{\n            'v': 0.0,\n            'f': \"0.0\",\n        },\n{\n            'v': 0.0,\n            'f': \"0.0\",\n        },\n{\n            'v': 3.0,\n            'f': \"3.0\",\n        },\n{\n            'v': 0.0,\n            'f': \"0.0\",\n        },\n{\n            'v': NaN,\n            'f': \"NaN\",\n        },\n{\n            'v': NaN,\n            'f': \"NaN\",\n        },\n{\n            'v': NaN,\n            'f': \"NaN\",\n        },\n{\n            'v': NaN,\n            'f': \"NaN\",\n        },\n{\n            'v': NaN,\n            'f': \"NaN\",\n        },\n{\n            'v': NaN,\n            'f': \"NaN\",\n        },\nNaN,\n{\n            'v': NaN,\n            'f': \"NaN\",\n        },\nNaN],\n [\"2020-03-20 00:00:00\",\n{\n            'v': 3.0,\n            'f': \"3.0\",\n        },\n{\n            'v': 0.0,\n            'f': \"0.0\",\n        },\n{\n            'v': 0.0,\n            'f': \"0.0\",\n        },\n{\n            'v': 3.0,\n            'f': \"3.0\",\n        },\n{\n            'v': 0.0,\n            'f': \"0.0\",\n        },\n{\n            'v': NaN,\n            'f': \"NaN\",\n        },\n{\n            'v': NaN,\n            'f': \"NaN\",\n        },\n{\n            'v': NaN,\n            'f': \"NaN\",\n        },\n{\n            'v': NaN,\n            'f': \"NaN\",\n        },\n{\n            'v': NaN,\n            'f': \"NaN\",\n        },\n{\n            'v': NaN,\n            'f': \"NaN\",\n        },\nNaN,\n{\n            'v': NaN,\n            'f': \"NaN\",\n        },\nNaN],\n [\"2020-03-21 00:00:00\",\n{\n            'v': 6.0,\n            'f': \"6.0\",\n        },\n{\n            'v': 3.0,\n            'f': \"3.0\",\n        },\n{\n            'v': 1.5,\n            'f': \"1.5\",\n        },\n{\n            'v': 6.0,\n            'f': \"6.0\",\n        },\n{\n            'v': 0.0,\n            'f': \"0.0\",\n        },\n{\n            'v': NaN,\n            'f': \"NaN\",\n        },\n{\n            'v': NaN,\n            'f': \"NaN\",\n        },\n{\n            'v': NaN,\n            'f': \"NaN\",\n        },\n{\n            'v': NaN,\n            'f': \"NaN\",\n        },\n{\n            'v': NaN,\n            'f': \"NaN\",\n        },\n{\n            'v': NaN,\n            'f': \"NaN\",\n        },\nNaN,\n{\n            'v': NaN,\n            'f': \"NaN\",\n        },\nNaN],\n [\"2020-03-22 00:00:00\",\n{\n            'v': 6.0,\n            'f': \"6.0\",\n        },\n{\n            'v': 0.0,\n            'f': \"0.0\",\n        },\n{\n            'v': 1.5,\n            'f': \"1.5\",\n        },\n{\n            'v': 6.0,\n            'f': \"6.0\",\n        },\n{\n            'v': 0.0,\n            'f': \"0.0\",\n        },\n{\n            'v': NaN,\n            'f': \"NaN\",\n        },\n{\n            'v': NaN,\n            'f': \"NaN\",\n        },\n{\n            'v': NaN,\n            'f': \"NaN\",\n        },\n{\n            'v': NaN,\n            'f': \"NaN\",\n        },\n{\n            'v': NaN,\n            'f': \"NaN\",\n        },\n{\n            'v': NaN,\n            'f': \"NaN\",\n        },\nNaN,\n{\n            'v': NaN,\n            'f': \"NaN\",\n        },\nNaN],\n [\"2020-03-23 00:00:00\",\n{\n            'v': 6.0,\n            'f': \"6.0\",\n        },\n{\n            'v': 0.0,\n            'f': \"0.0\",\n        },\n{\n            'v': 0.0,\n            'f': \"0.0\",\n        },\n{\n            'v': 6.0,\n            'f': \"6.0\",\n        },\n{\n            'v': 0.0,\n            'f': \"0.0\",\n        },\n{\n            'v': NaN,\n            'f': \"NaN\",\n        },\n{\n            'v': NaN,\n            'f': \"NaN\",\n        },\n{\n            'v': NaN,\n            'f': \"NaN\",\n        },\n{\n            'v': NaN,\n            'f': \"NaN\",\n        },\n{\n            'v': NaN,\n            'f': \"NaN\",\n        },\n{\n            'v': NaN,\n            'f': \"NaN\",\n        },\nNaN,\n{\n            'v': NaN,\n            'f': \"NaN\",\n        },\nNaN],\n [\"2020-03-24 00:00:00\",\n{\n            'v': 7.0,\n            'f': \"7.0\",\n        },\n{\n            'v': 1.0,\n            'f': \"1.0\",\n        },\n{\n            'v': 0.5,\n            'f': \"0.5\",\n        },\n{\n            'v': 7.0,\n            'f': \"7.0\",\n        },\n{\n            'v': 0.0,\n            'f': \"0.0\",\n        },\n{\n            'v': NaN,\n            'f': \"NaN\",\n        },\n{\n            'v': NaN,\n            'f': \"NaN\",\n        },\n{\n            'v': NaN,\n            'f': \"NaN\",\n        },\n{\n            'v': NaN,\n            'f': \"NaN\",\n        },\n{\n            'v': NaN,\n            'f': \"NaN\",\n        },\n{\n            'v': NaN,\n            'f': \"NaN\",\n        },\nNaN,\n{\n            'v': NaN,\n            'f': \"NaN\",\n        },\nNaN],\n [\"2020-03-25 00:00:00\",\n{\n            'v': 11.0,\n            'f': \"11.0\",\n        },\n{\n            'v': 4.0,\n            'f': \"4.0\",\n        },\n{\n            'v': 2.5,\n            'f': \"2.5\",\n        },\n{\n            'v': 11.0,\n            'f': \"11.0\",\n        },\n{\n            'v': 0.0,\n            'f': \"0.0\",\n        },\n{\n            'v': NaN,\n            'f': \"NaN\",\n        },\n{\n            'v': NaN,\n            'f': \"NaN\",\n        },\n{\n            'v': NaN,\n            'f': \"NaN\",\n        },\n{\n            'v': NaN,\n            'f': \"NaN\",\n        },\n{\n            'v': NaN,\n            'f': \"NaN\",\n        },\n{\n            'v': NaN,\n            'f': \"NaN\",\n        },\nNaN,\n{\n            'v': NaN,\n            'f': \"NaN\",\n        },\nNaN],\n [\"2020-03-26 00:00:00\",\n{\n            'v': 21.0,\n            'f': \"21.0\",\n        },\n{\n            'v': 10.0,\n            'f': \"10.0\",\n        },\n{\n            'v': 7.0,\n            'f': \"7.0\",\n        },\n{\n            'v': 21.0,\n            'f': \"21.0\",\n        },\n{\n            'v': 0.0,\n            'f': \"0.0\",\n        },\n{\n            'v': NaN,\n            'f': \"NaN\",\n        },\n{\n            'v': NaN,\n            'f': \"NaN\",\n        },\n{\n            'v': NaN,\n            'f': \"NaN\",\n        },\n{\n            'v': NaN,\n            'f': \"NaN\",\n        },\n{\n            'v': NaN,\n            'f': \"NaN\",\n        },\n{\n            'v': NaN,\n            'f': \"NaN\",\n        },\nNaN,\n{\n            'v': NaN,\n            'f': \"NaN\",\n        },\nNaN],\n [\"2020-03-27 00:00:00\",\n{\n            'v': 21.0,\n            'f': \"21.0\",\n        },\n{\n            'v': 0.0,\n            'f': \"0.0\",\n        },\n{\n            'v': 5.0,\n            'f': \"5.0\",\n        },\n{\n            'v': 21.0,\n            'f': \"21.0\",\n        },\n{\n            'v': 0.0,\n            'f': \"0.0\",\n        },\n{\n            'v': NaN,\n            'f': \"NaN\",\n        },\n{\n            'v': NaN,\n            'f': \"NaN\",\n        },\n{\n            'v': NaN,\n            'f': \"NaN\",\n        },\n{\n            'v': NaN,\n            'f': \"NaN\",\n        },\n{\n            'v': NaN,\n            'f': \"NaN\",\n        },\n{\n            'v': NaN,\n            'f': \"NaN\",\n        },\nNaN,\n{\n            'v': NaN,\n            'f': \"NaN\",\n        },\nNaN],\n [\"2020-03-28 00:00:00\",\n{\n            'v': 31.0,\n            'f': \"31.0\",\n        },\n{\n            'v': 10.0,\n            'f': \"10.0\",\n        },\n{\n            'v': 5.0,\n            'f': \"5.0\",\n        },\n{\n            'v': 31.0,\n            'f': \"31.0\",\n        },\n{\n            'v': 0.0,\n            'f': \"0.0\",\n        },\n{\n            'v': NaN,\n            'f': \"NaN\",\n        },\n{\n            'v': NaN,\n            'f': \"NaN\",\n        },\n{\n            'v': NaN,\n            'f': \"NaN\",\n        },\n{\n            'v': NaN,\n            'f': \"NaN\",\n        },\n{\n            'v': NaN,\n            'f': \"NaN\",\n        },\n{\n            'v': NaN,\n            'f': \"NaN\",\n        },\nNaN,\n{\n            'v': NaN,\n            'f': \"NaN\",\n        },\nNaN],\n [\"2020-03-29 00:00:00\",\n{\n            'v': 35.0,\n            'f': \"35.0\",\n        },\n{\n            'v': 4.0,\n            'f': \"4.0\",\n        },\n{\n            'v': 7.0,\n            'f': \"7.0\",\n        },\n{\n            'v': 35.0,\n            'f': \"35.0\",\n        },\n{\n            'v': 0.0,\n            'f': \"0.0\",\n        },\n{\n            'v': NaN,\n            'f': \"NaN\",\n        },\n{\n            'v': NaN,\n            'f': \"NaN\",\n        },\n{\n            'v': NaN,\n            'f': \"NaN\",\n        },\n{\n            'v': NaN,\n            'f': \"NaN\",\n        },\n{\n            'v': NaN,\n            'f': \"NaN\",\n        },\n{\n            'v': NaN,\n            'f': \"NaN\",\n        },\nNaN,\n{\n            'v': NaN,\n            'f': \"NaN\",\n        },\nNaN],\n [\"2020-03-30 00:00:00\",\n{\n            'v': 40.0,\n            'f': \"40.0\",\n        },\n{\n            'v': 5.0,\n            'f': \"5.0\",\n        },\n{\n            'v': 4.5,\n            'f': \"4.5\",\n        },\n{\n            'v': 40.0,\n            'f': \"40.0\",\n        },\n{\n            'v': 0.0,\n            'f': \"0.0\",\n        },\n{\n            'v': NaN,\n            'f': \"NaN\",\n        },\n{\n            'v': NaN,\n            'f': \"NaN\",\n        },\n{\n            'v': NaN,\n            'f': \"NaN\",\n        },\n{\n            'v': NaN,\n            'f': \"NaN\",\n        },\n{\n            'v': NaN,\n            'f': \"NaN\",\n        },\n{\n            'v': NaN,\n            'f': \"NaN\",\n        },\nNaN,\n{\n            'v': NaN,\n            'f': \"NaN\",\n        },\nNaN],\n [\"2020-03-31 00:00:00\",\n{\n            'v': 46.0,\n            'f': \"46.0\",\n        },\n{\n            'v': 6.0,\n            'f': \"6.0\",\n        },\n{\n            'v': 5.5,\n            'f': \"5.5\",\n        },\n{\n            'v': 46.0,\n            'f': \"46.0\",\n        },\n{\n            'v': 0.0,\n            'f': \"0.0\",\n        },\n{\n            'v': NaN,\n            'f': \"NaN\",\n        },\n{\n            'v': NaN,\n            'f': \"NaN\",\n        },\n{\n            'v': NaN,\n            'f': \"NaN\",\n        },\n{\n            'v': NaN,\n            'f': \"NaN\",\n        },\n{\n            'v': NaN,\n            'f': \"NaN\",\n        },\n{\n            'v': NaN,\n            'f': \"NaN\",\n        },\nNaN,\n{\n            'v': NaN,\n            'f': \"NaN\",\n        },\nNaN],\n [\"2020-04-01 00:00:00\",\n{\n            'v': 50.0,\n            'f': \"50.0\",\n        },\n{\n            'v': 4.0,\n            'f': \"4.0\",\n        },\n{\n            'v': 5.0,\n            'f': \"5.0\",\n        },\n{\n            'v': 45.0,\n            'f': \"45.0\",\n        },\n{\n            'v': 0.0,\n            'f': \"0.0\",\n        },\n{\n            'v': 5.0,\n            'f': \"5.0\",\n        },\n{\n            'v': NaN,\n            'f': \"NaN\",\n        },\n{\n            'v': NaN,\n            'f': \"NaN\",\n        },\n{\n            'v': NaN,\n            'f': \"NaN\",\n        },\n{\n            'v': 355.0,\n            'f': \"355.0\",\n        },\n{\n            'v': NaN,\n            'f': \"NaN\",\n        },\nNaN,\n{\n            'v': NaN,\n            'f': \"NaN\",\n        },\nNaN],\n [\"2020-04-02 00:00:00\",\n{\n            'v': 68.0,\n            'f': \"68.0\",\n        },\n{\n            'v': 18.0,\n            'f': \"18.0\",\n        },\n{\n            'v': 11.0,\n            'f': \"11.0\",\n        },\n{\n            'v': 59.0,\n            'f': \"59.0\",\n        },\n{\n            'v': 0.0,\n            'f': \"0.0\",\n        },\n{\n            'v': 9.0,\n            'f': \"9.0\",\n        },\n{\n            'v': NaN,\n            'f': \"NaN\",\n        },\n{\n            'v': NaN,\n            'f': \"NaN\",\n        },\n{\n            'v': NaN,\n            'f': \"NaN\",\n        },\n{\n            'v': 386.0,\n            'f': \"386.0\",\n        },\n{\n            'v': 31.0,\n            'f': \"31.0\",\n        },\nNaN,\n{\n            'v': NaN,\n            'f': \"NaN\",\n        },\nNaN],\n [\"2020-04-03 00:00:00\",\n{\n            'v': 78.0,\n            'f': \"78.0\",\n        },\n{\n            'v': 10.0,\n            'f': \"10.0\",\n        },\n{\n            'v': 14.0,\n            'f': \"14.0\",\n        },\n{\n            'v': 69.0,\n            'f': \"69.0\",\n        },\n{\n            'v': 0.0,\n            'f': \"0.0\",\n        },\n{\n            'v': 9.0,\n            'f': \"9.0\",\n        },\n{\n            'v': NaN,\n            'f': \"NaN\",\n        },\n{\n            'v': NaN,\n            'f': \"NaN\",\n        },\n{\n            'v': NaN,\n            'f': \"NaN\",\n        },\n{\n            'v': 415.0,\n            'f': \"415.0\",\n        },\n{\n            'v': 29.0,\n            'f': \"29.0\",\n        },\nNaN,\n{\n            'v': NaN,\n            'f': \"NaN\",\n        },\nNaN],\n [\"2020-04-04 00:00:00\",\n{\n            'v': 96.0,\n            'f': \"96.0\",\n        },\n{\n            'v': 18.0,\n            'f': \"18.0\",\n        },\n{\n            'v': 14.0,\n            'f': \"14.0\",\n        },\n{\n            'v': 86.0,\n            'f': \"86.0\",\n        },\n{\n            'v': 0.0,\n            'f': \"0.0\",\n        },\n{\n            'v': 10.0,\n            'f': \"10.0\",\n        },\n{\n            'v': 19.0,\n            'f': \"19.0\",\n        },\n{\n            'v': 8.0,\n            'f': \"8.0\",\n        },\n{\n            'v': NaN,\n            'f': \"NaN\",\n        },\n{\n            'v': 433.0,\n            'f': \"433.0\",\n        },\n{\n            'v': 18.0,\n            'f': \"18.0\",\n        },\nNaN,\n{\n            'v': NaN,\n            'f': \"NaN\",\n        },\nNaN],\n [\"2020-04-05 00:00:00\",\n{\n            'v': 106.0,\n            'f': \"106.0\",\n        },\n{\n            'v': 10.0,\n            'f': \"10.0\",\n        },\n{\n            'v': 14.0,\n            'f': \"14.0\",\n        },\n{\n            'v': 96.0,\n            'f': \"96.0\",\n        },\n{\n            'v': 0.0,\n            'f': \"0.0\",\n        },\n{\n            'v': 10.0,\n            'f': \"10.0\",\n        },\n{\n            'v': 26.0,\n            'f': \"26.0\",\n        },\n{\n            'v': 8.0,\n            'f': \"8.0\",\n        },\n{\n            'v': NaN,\n            'f': \"NaN\",\n        },\n{\n            'v': 463.0,\n            'f': \"463.0\",\n        },\n{\n            'v': 30.0,\n            'f': \"30.0\",\n        },\nNaN,\n{\n            'v': NaN,\n            'f': \"NaN\",\n        },\nNaN],\n [\"2020-04-06 00:00:00\",\n{\n            'v': 115.0,\n            'f': \"115.0\",\n        },\n{\n            'v': 9.0,\n            'f': \"9.0\",\n        },\n{\n            'v': 9.5,\n            'f': \"9.5\",\n        },\n{\n            'v': 99.0,\n            'f': \"99.0\",\n        },\n{\n            'v': 0.0,\n            'f': \"0.0\",\n        },\n{\n            'v': 16.0,\n            'f': \"16.0\",\n        },\n{\n            'v': 27.0,\n            'f': \"27.0\",\n        },\n{\n            'v': 10.0,\n            'f': \"10.0\",\n        },\n{\n            'v': NaN,\n            'f': \"NaN\",\n        },\n{\n            'v': 493.0,\n            'f': \"493.0\",\n        },\n{\n            'v': 30.0,\n            'f': \"30.0\",\n        },\nNaN,\n{\n            'v': NaN,\n            'f': \"NaN\",\n        },\nNaN],\n [\"2020-04-07 00:00:00\",\n{\n            'v': 125.0,\n            'f': \"125.0\",\n        },\n{\n            'v': 10.0,\n            'f': \"10.0\",\n        },\n{\n            'v': 9.5,\n            'f': \"9.5\",\n        },\n{\n            'v': 107.0,\n            'f': \"107.0\",\n        },\n{\n            'v': 0.0,\n            'f': \"0.0\",\n        },\n{\n            'v': 18.0,\n            'f': \"18.0\",\n        },\n{\n            'v': 27.0,\n            'f': \"27.0\",\n        },\n{\n            'v': 10.0,\n            'f': \"10.0\",\n        },\n{\n            'v': 3.0,\n            'f': \"3.0\",\n        },\n{\n            'v': 542.0,\n            'f': \"542.0\",\n        },\n{\n            'v': 49.0,\n            'f': \"49.0\",\n        },\nNaN,\n{\n            'v': NaN,\n            'f': \"NaN\",\n        },\nNaN],\n [\"2020-04-08 00:00:00\",\n{\n            'v': 153.0,\n            'f': \"153.0\",\n        },\n{\n            'v': 28.0,\n            'f': \"28.0\",\n        },\n{\n            'v': 19.0,\n            'f': \"19.0\",\n        },\n{\n            'v': 135.0,\n            'f': \"135.0\",\n        },\n{\n            'v': 0.0,\n            'f': \"0.0\",\n        },\n{\n            'v': 18.0,\n            'f': \"18.0\",\n        },\n{\n            'v': 27.0,\n            'f': \"27.0\",\n        },\n{\n            'v': 10.0,\n            'f': \"10.0\",\n        },\n{\n            'v': 3.0,\n            'f': \"3.0\",\n        },\n{\n            'v': 600.0,\n            'f': \"600.0\",\n        },\n{\n            'v': 58.0,\n            'f': \"58.0\",\n        },\nNaN,\n{\n            'v': NaN,\n            'f': \"NaN\",\n        },\nNaN],\n [\"2020-04-09 00:00:00\",\n{\n            'v': 192.0,\n            'f': \"192.0\",\n        },\n{\n            'v': 39.0,\n            'f': \"39.0\",\n        },\n{\n            'v': 33.5,\n            'f': \"33.5\",\n        },\n{\n            'v': 172.0,\n            'f': \"172.0\",\n        },\n{\n            'v': 0.0,\n            'f': \"0.0\",\n        },\n{\n            'v': 20.0,\n            'f': \"20.0\",\n        },\n{\n            'v': 40.0,\n            'f': \"40.0\",\n        },\n{\n            'v': 12.0,\n            'f': \"12.0\",\n        },\n{\n            'v': 3.0,\n            'f': \"3.0\",\n        },\n{\n            'v': 656.0,\n            'f': \"656.0\",\n        },\n{\n            'v': 56.0,\n            'f': \"56.0\",\n        },\n\"\\\"there have been about 3,500 COVID-19 tests conducted in El Paso\\\"\",\n{\n            'v': NaN,\n            'f': \"NaN\",\n        },\nNaN],\n [\"2020-04-10 00:00:00\",\n{\n            'v': 225.0,\n            'f': \"225.0\",\n        },\n{\n            'v': 33.0,\n            'f': \"33.0\",\n        },\n{\n            'v': 36.0,\n            'f': \"36.0\",\n        },\n{\n            'v': 195.0,\n            'f': \"195.0\",\n        },\n{\n            'v': 1.0,\n            'f': \"1.0\",\n        },\n{\n            'v': 29.0,\n            'f': \"29.0\",\n        },\n{\n            'v': 48.0,\n            'f': \"48.0\",\n        },\n{\n            'v': 19.0,\n            'f': \"19.0\",\n        },\n{\n            'v': 6.0,\n            'f': \"6.0\",\n        },\n{\n            'v': 713.0,\n            'f': \"713.0\",\n        },\n{\n            'v': 57.0,\n            'f': \"57.0\",\n        },\nNaN,\n{\n            'v': NaN,\n            'f': \"NaN\",\n        },\nNaN],\n [\"2020-04-11 00:00:00\",\n{\n            'v': 252.0,\n            'f': \"252.0\",\n        },\n{\n            'v': 27.0,\n            'f': \"27.0\",\n        },\n{\n            'v': 30.0,\n            'f': \"30.0\",\n        },\n{\n            'v': 217.0,\n            'f': \"217.0\",\n        },\n{\n            'v': 2.0,\n            'f': \"2.0\",\n        },\n{\n            'v': 33.0,\n            'f': \"33.0\",\n        },\n{\n            'v': 52.0,\n            'f': \"52.0\",\n        },\n{\n            'v': 21.0,\n            'f': \"21.0\",\n        },\n{\n            'v': 7.0,\n            'f': \"7.0\",\n        },\n{\n            'v': 766.0,\n            'f': \"766.0\",\n        },\n{\n            'v': 53.0,\n            'f': \"53.0\",\n        },\nNaN,\n{\n            'v': NaN,\n            'f': \"NaN\",\n        },\nNaN],\n [\"2020-04-12 00:00:00\",\n{\n            'v': 269.0,\n            'f': \"269.0\",\n        },\n{\n            'v': 17.0,\n            'f': \"17.0\",\n        },\n{\n            'v': 22.0,\n            'f': \"22.0\",\n        },\n{\n            'v': 234.0,\n            'f': \"234.0\",\n        },\n{\n            'v': 2.0,\n            'f': \"2.0\",\n        },\n{\n            'v': 33.0,\n            'f': \"33.0\",\n        },\n{\n            'v': 56.0,\n            'f': \"56.0\",\n        },\n{\n            'v': 22.0,\n            'f': \"22.0\",\n        },\n{\n            'v': 7.0,\n            'f': \"7.0\",\n        },\n{\n            'v': 818.0,\n            'f': \"818.0\",\n        },\n{\n            'v': 52.0,\n            'f': \"52.0\",\n        },\nNaN,\n{\n            'v': NaN,\n            'f': \"NaN\",\n        },\nNaN],\n [\"2020-04-13 00:00:00\",\n{\n            'v': 292.0,\n            'f': \"292.0\",\n        },\n{\n            'v': 23.0,\n            'f': \"23.0\",\n        },\n{\n            'v': 20.0,\n            'f': \"20.0\",\n        },\n{\n            'v': 255.0,\n            'f': \"255.0\",\n        },\n{\n            'v': 2.0,\n            'f': \"2.0\",\n        },\n{\n            'v': 35.0,\n            'f': \"35.0\",\n        },\n{\n            'v': 57.0,\n            'f': \"57.0\",\n        },\n{\n            'v': 23.0,\n            'f': \"23.0\",\n        },\n{\n            'v': 7.0,\n            'f': \"7.0\",\n        },\n{\n            'v': 869.0,\n            'f': \"869.0\",\n        },\n{\n            'v': 51.0,\n            'f': \"51.0\",\n        },\n\"2,523\",\n{\n            'v': 133226.0,\n            'f': \"133226.0\",\n        },\nNaN],\n [\"2020-04-14 00:00:00\",\n{\n            'v': 300.0,\n            'f': \"300.0\",\n        },\n{\n            'v': 8.0,\n            'f': \"8.0\",\n        },\n{\n            'v': 15.5,\n            'f': \"15.5\",\n        },\n{\n            'v': 257.0,\n            'f': \"257.0\",\n        },\n{\n            'v': 2.0,\n            'f': \"2.0\",\n        },\n{\n            'v': 41.0,\n            'f': \"41.0\",\n        },\n{\n            'v': 58.0,\n            'f': \"58.0\",\n        },\n{\n            'v': 23.0,\n            'f': \"23.0\",\n        },\n{\n            'v': 7.0,\n            'f': \"7.0\",\n        },\n{\n            'v': 900.0,\n            'f': \"900.0\",\n        },\n{\n            'v': 31.0,\n            'f': \"31.0\",\n        },\nNaN,\n{\n            'v': NaN,\n            'f': \"NaN\",\n        },\nNaN],\n [\"2020-04-15 00:00:00\",\n{\n            'v': 346.0,\n            'f': \"346.0\",\n        },\n{\n            'v': 46.0,\n            'f': \"46.0\",\n        },\n{\n            'v': 27.0,\n            'f': \"27.0\",\n        },\n{\n            'v': 298.0,\n            'f': \"298.0\",\n        },\n{\n            'v': 4.0,\n            'f': \"4.0\",\n        },\n{\n            'v': 44.0,\n            'f': \"44.0\",\n        },\n{\n            'v': 61.0,\n            'f': \"61.0\",\n        },\n{\n            'v': 26.0,\n            'f': \"26.0\",\n        },\n{\n            'v': 8.0,\n            'f': \"8.0\",\n        },\n{\n            'v': 935.0,\n            'f': \"935.0\",\n        },\n{\n            'v': 35.0,\n            'f': \"35.0\",\n        },\nNaN,\n{\n            'v': NaN,\n            'f': \"NaN\",\n        },\nNaN],\n [\"2020-04-16 00:00:00\",\n{\n            'v': 393.0,\n            'f': \"393.0\",\n        },\n{\n            'v': 47.0,\n            'f': \"47.0\",\n        },\n{\n            'v': 46.5,\n            'f': \"46.5\",\n        },\n{\n            'v': 339.0,\n            'f': \"339.0\",\n        },\n{\n            'v': 6.0,\n            'f': \"6.0\",\n        },\n{\n            'v': 48.0,\n            'f': \"48.0\",\n        },\n{\n            'v': 65.0,\n            'f': \"65.0\",\n        },\n{\n            'v': 27.0,\n            'f': \"27.0\",\n        },\n{\n            'v': 8.0,\n            'f': \"8.0\",\n        },\n{\n            'v': 969.0,\n            'f': \"969.0\",\n        },\n{\n            'v': 34.0,\n            'f': \"34.0\",\n        },\n\"\\\"estimated more than 5,000\\\"\",\n{\n            'v': NaN,\n            'f': \"NaN\",\n        },\nNaN],\n [\"2020-04-17 00:00:00\",\n{\n            'v': 451.0,\n            'f': \"451.0\",\n        },\n{\n            'v': 58.0,\n            'f': \"58.0\",\n        },\n{\n            'v': 52.5,\n            'f': \"52.5\",\n        },\n{\n            'v': 382.0,\n            'f': \"382.0\",\n        },\n{\n            'v': 7.0,\n            'f': \"7.0\",\n        },\n{\n            'v': 62.0,\n            'f': \"62.0\",\n        },\n{\n            'v': 48.0,\n            'f': \"48.0\",\n        },\n{\n            'v': 10.0,\n            'f': \"10.0\",\n        },\n{\n            'v': 5.0,\n            'f': \"5.0\",\n        },\n{\n            'v': 1028.0,\n            'f': \"1028.0\",\n        },\n{\n            'v': 59.0,\n            'f': \"59.0\",\n        },\nNaN,\n{\n            'v': 169536.0,\n            'f': \"169536.0\",\n        },\nNaN],\n [\"2020-04-18 00:00:00\",\n{\n            'v': 482.0,\n            'f': \"482.0\",\n        },\n{\n            'v': 31.0,\n            'f': \"31.0\",\n        },\n{\n            'v': 44.5,\n            'f': \"44.5\",\n        },\n{\n            'v': 412.0,\n            'f': \"412.0\",\n        },\n{\n            'v': 7.0,\n            'f': \"7.0\",\n        },\n{\n            'v': 63.0,\n            'f': \"63.0\",\n        },\n{\n            'v': 38.0,\n            'f': \"38.0\",\n        },\n{\n            'v': 11.0,\n            'f': \"11.0\",\n        },\n{\n            'v': 7.0,\n            'f': \"7.0\",\n        },\n{\n            'v': 1070.0,\n            'f': \"1070.0\",\n        },\n{\n            'v': 42.0,\n            'f': \"42.0\",\n        },\nNaN,\n{\n            'v': 173643.0,\n            'f': \"173643.0\",\n        },\nNaN],\n [\"2020-04-19 00:00:00\",\n{\n            'v': 505.0,\n            'f': \"505.0\",\n        },\n{\n            'v': 23.0,\n            'f': \"23.0\",\n        },\n{\n            'v': 27.0,\n            'f': \"27.0\",\n        },\n{\n            'v': 433.0,\n            'f': \"433.0\",\n        },\n{\n            'v': 8.0,\n            'f': \"8.0\",\n        },\n{\n            'v': 64.0,\n            'f': \"64.0\",\n        },\n{\n            'v': 25.0,\n            'f': \"25.0\",\n        },\n{\n            'v': 10.0,\n            'f': \"10.0\",\n        },\n{\n            'v': 7.0,\n            'f': \"7.0\",\n        },\n{\n            'v': 1130.0,\n            'f': \"1130.0\",\n        },\n{\n            'v': 60.0,\n            'f': \"60.0\",\n        },\nNaN,\n{\n            'v': 182710.0,\n            'f': \"182710.0\",\n        },\nNaN],\n [\"2020-04-20 00:00:00\",\n{\n            'v': 531.0,\n            'f': \"531.0\",\n        },\n{\n            'v': 26.0,\n            'f': \"26.0\",\n        },\n{\n            'v': 24.5,\n            'f': \"24.5\",\n        },\n{\n            'v': 456.0,\n            'f': \"456.0\",\n        },\n{\n            'v': 8.0,\n            'f': \"8.0\",\n        },\n{\n            'v': 67.0,\n            'f': \"67.0\",\n        },\n{\n            'v': 29.0,\n            'f': \"29.0\",\n        },\n{\n            'v': 8.0,\n            'f': \"8.0\",\n        },\n{\n            'v': 7.0,\n            'f': \"7.0\",\n        },\n{\n            'v': 1191.0,\n            'f': \"1191.0\",\n        },\n{\n            'v': 61.0,\n            'f': \"61.0\",\n        },\nNaN,\n{\n            'v': NaN,\n            'f': \"NaN\",\n        },\nNaN],\n [\"2020-04-21 00:00:00\",\n{\n            'v': 540.0,\n            'f': \"540.0\",\n        },\n{\n            'v': 9.0,\n            'f': \"9.0\",\n        },\n{\n            'v': 17.5,\n            'f': \"17.5\",\n        },\n{\n            'v': 461.0,\n            'f': \"461.0\",\n        },\n{\n            'v': 9.0,\n            'f': \"9.0\",\n        },\n{\n            'v': 70.0,\n            'f': \"70.0\",\n        },\n{\n            'v': 38.0,\n            'f': \"38.0\",\n        },\n{\n            'v': 13.0,\n            'f': \"13.0\",\n        },\n{\n            'v': 9.0,\n            'f': \"9.0\",\n        },\n{\n            'v': 1231.0,\n            'f': \"1231.0\",\n        },\n{\n            'v': 40.0,\n            'f': \"40.0\",\n        },\nNaN,\n{\n            'v': NaN,\n            'f': \"NaN\",\n        },\nNaN],\n [\"2020-04-22 00:00:00\",\n{\n            'v': 587.0,\n            'f': \"587.0\",\n        },\n{\n            'v': 47.0,\n            'f': \"47.0\",\n        },\n{\n            'v': 28.0,\n            'f': \"28.0\",\n        },\n{\n            'v': 498.0,\n            'f': \"498.0\",\n        },\n{\n            'v': 9.0,\n            'f': \"9.0\",\n        },\n{\n            'v': 80.0,\n            'f': \"80.0\",\n        },\n{\n            'v': 37.0,\n            'f': \"37.0\",\n        },\n{\n            'v': 13.0,\n            'f': \"13.0\",\n        },\n{\n            'v': 8.0,\n            'f': \"8.0\",\n        },\n{\n            'v': 1258.0,\n            'f': \"1258.0\",\n        },\n{\n            'v': 27.0,\n            'f': \"27.0\",\n        },\nNaN,\n{\n            'v': 216783.0,\n            'f': \"216783.0\",\n        },\nNaN],\n [\"2020-04-23 00:00:00\",\n{\n            'v': 645.0,\n            'f': \"645.0\",\n        },\n{\n            'v': 58.0,\n            'f': \"58.0\",\n        },\n{\n            'v': 52.5,\n            'f': \"52.5\",\n        },\n{\n            'v': 535.0,\n            'f': \"535.0\",\n        },\n{\n            'v': 10.0,\n            'f': \"10.0\",\n        },\n{\n            'v': 100.0,\n            'f': \"100.0\",\n        },\n{\n            'v': 35.0,\n            'f': \"35.0\",\n        },\n{\n            'v': 18.0,\n            'f': \"18.0\",\n        },\n{\n            'v': 8.0,\n            'f': \"8.0\",\n        },\n{\n            'v': 1300.0,\n            'f': \"1300.0\",\n        },\n{\n            'v': 42.0,\n            'f': \"42.0\",\n        },\nNaN,\n{\n            'v': NaN,\n            'f': \"NaN\",\n        },\nNaN],\n [\"2020-04-24 00:00:00\",\n{\n            'v': 674.0,\n            'f': \"674.0\",\n        },\n{\n            'v': 29.0,\n            'f': \"29.0\",\n        },\n{\n            'v': 43.5,\n            'f': \"43.5\",\n        },\n{\n            'v': 543.0,\n            'f': \"543.0\",\n        },\n{\n            'v': 10.0,\n            'f': \"10.0\",\n        },\n{\n            'v': 121.0,\n            'f': \"121.0\",\n        },\n{\n            'v': 33.0,\n            'f': \"33.0\",\n        },\n{\n            'v': 21.0,\n            'f': \"21.0\",\n        },\n{\n            'v': 9.0,\n            'f': \"9.0\",\n        },\n{\n            'v': 1372.0,\n            'f': \"1372.0\",\n        },\n{\n            'v': 72.0,\n            'f': \"72.0\",\n        },\nNaN,\n{\n            'v': NaN,\n            'f': \"NaN\",\n        },\nNaN],\n [\"2020-04-25 00:00:00\",\n{\n            'v': 706.0,\n            'f': \"706.0\",\n        },\n{\n            'v': 32.0,\n            'f': \"32.0\",\n        },\n{\n            'v': 30.5,\n            'f': \"30.5\",\n        },\n{\n            'v': 574.0,\n            'f': \"574.0\",\n        },\n{\n            'v': 10.0,\n            'f': \"10.0\",\n        },\n{\n            'v': 122.0,\n            'f': \"122.0\",\n        },\n{\n            'v': 38.0,\n            'f': \"38.0\",\n        },\n{\n            'v': 26.0,\n            'f': \"26.0\",\n        },\n{\n            'v': 12.0,\n            'f': \"12.0\",\n        },\n{\n            'v': 1418.0,\n            'f': \"1418.0\",\n        },\n{\n            'v': 46.0,\n            'f': \"46.0\",\n        },\nNaN,\n{\n            'v': NaN,\n            'f': \"NaN\",\n        },\nNaN],\n [\"2020-04-26 00:00:00\",\n{\n            'v': 780.0,\n            'f': \"780.0\",\n        },\n{\n            'v': 74.0,\n            'f': \"74.0\",\n        },\n{\n            'v': 53.0,\n            'f': \"53.0\",\n        },\n{\n            'v': 584.0,\n            'f': \"584.0\",\n        },\n{\n            'v': 12.0,\n            'f': \"12.0\",\n        },\n{\n            'v': 184.0,\n            'f': \"184.0\",\n        },\n{\n            'v': 36.0,\n            'f': \"36.0\",\n        },\n{\n            'v': 16.0,\n            'f': \"16.0\",\n        },\n{\n            'v': 13.0,\n            'f': \"13.0\",\n        },\n{\n            'v': 1490.0,\n            'f': \"1490.0\",\n        },\n{\n            'v': 72.0,\n            'f': \"72.0\",\n        },\nNaN,\n{\n            'v': NaN,\n            'f': \"NaN\",\n        },\nNaN],\n [\"2020-04-27 00:00:00\",\n{\n            'v': 802.0,\n            'f': \"802.0\",\n        },\n{\n            'v': 22.0,\n            'f': \"22.0\",\n        },\n{\n            'v': 48.0,\n            'f': \"48.0\",\n        },\n{\n            'v': 605.0,\n            'f': \"605.0\",\n        },\n{\n            'v': 12.0,\n            'f': \"12.0\",\n        },\n{\n            'v': 185.0,\n            'f': \"185.0\",\n        },\n{\n            'v': 38.0,\n            'f': \"38.0\",\n        },\n{\n            'v': 18.0,\n            'f': \"18.0\",\n        },\n{\n            'v': 11.0,\n            'f': \"11.0\",\n        },\n{\n            'v': 1578.0,\n            'f': \"1578.0\",\n        },\n{\n            'v': 88.0,\n            'f': \"88.0\",\n        },\nNaN,\n{\n            'v': NaN,\n            'f': \"NaN\",\n        },\nNaN],\n [\"2020-04-28 00:00:00\",\n{\n            'v': 829.0,\n            'f': \"829.0\",\n        },\n{\n            'v': 27.0,\n            'f': \"27.0\",\n        },\n{\n            'v': 24.5,\n            'f': \"24.5\",\n        },\n{\n            'v': 552.0,\n            'f': \"552.0\",\n        },\n{\n            'v': 12.0,\n            'f': \"12.0\",\n        },\n{\n            'v': 277.0,\n            'f': \"277.0\",\n        },\n{\n            'v': 35.0,\n            'f': \"35.0\",\n        },\n{\n            'v': 19.0,\n            'f': \"19.0\",\n        },\n{\n            'v': 12.0,\n            'f': \"12.0\",\n        },\n{\n            'v': 1609.0,\n            'f': \"1609.0\",\n        },\n{\n            'v': 31.0,\n            'f': \"31.0\",\n        },\nNaN,\n{\n            'v': NaN,\n            'f': \"NaN\",\n        },\nNaN],\n [\"2020-04-29 00:00:00\",\n{\n            'v': 857.0,\n            'f': \"857.0\",\n        },\n{\n            'v': 28.0,\n            'f': \"28.0\",\n        },\n{\n            'v': 27.5,\n            'f': \"27.5\",\n        },\n{\n            'v': 548.0,\n            'f': \"548.0\",\n        },\n{\n            'v': 14.0,\n            'f': \"14.0\",\n        },\n{\n            'v': 309.0,\n            'f': \"309.0\",\n        },\n{\n            'v': 35.0,\n            'f': \"35.0\",\n        },\n{\n            'v': 19.0,\n            'f': \"19.0\",\n        },\n{\n            'v': 11.0,\n            'f': \"11.0\",\n        },\n{\n            'v': 1642.0,\n            'f': \"1642.0\",\n        },\n{\n            'v': 33.0,\n            'f': \"33.0\",\n        },\nNaN,\n{\n            'v': NaN,\n            'f': \"NaN\",\n        },\nNaN],\n [\"2020-04-30 00:00:00\",\n{\n            'v': 887.0,\n            'f': \"887.0\",\n        },\n{\n            'v': 30.0,\n            'f': \"30.0\",\n        },\n{\n            'v': 29.0,\n            'f': \"29.0\",\n        },\n{\n            'v': 535.0,\n            'f': \"535.0\",\n        },\n{\n            'v': 18.0,\n            'f': \"18.0\",\n        },\n{\n            'v': 352.0,\n            'f': \"352.0\",\n        },\n{\n            'v': 52.0,\n            'f': \"52.0\",\n        },\n{\n            'v': 27.0,\n            'f': \"27.0\",\n        },\n{\n            'v': 17.0,\n            'f': \"17.0\",\n        },\n{\n            'v': 1694.0,\n            'f': \"1694.0\",\n        },\n{\n            'v': 52.0,\n            'f': \"52.0\",\n        },\nNaN,\n{\n            'v': NaN,\n            'f': \"NaN\",\n        },\nNaN],\n [\"2020-05-01 00:00:00\",\n{\n            'v': 924.0,\n            'f': \"924.0\",\n        },\n{\n            'v': 37.0,\n            'f': \"37.0\",\n        },\n{\n            'v': 33.5,\n            'f': \"33.5\",\n        },\n{\n            'v': 506.0,\n            'f': \"506.0\",\n        },\n{\n            'v': 21.0,\n            'f': \"21.0\",\n        },\n{\n            'v': 418.0,\n            'f': \"418.0\",\n        },\n{\n            'v': 53.0,\n            'f': \"53.0\",\n        },\n{\n            'v': 31.0,\n            'f': \"31.0\",\n        },\n{\n            'v': 13.0,\n            'f': \"13.0\",\n        },\n{\n            'v': 1725.0,\n            'f': \"1725.0\",\n        },\n{\n            'v': 31.0,\n            'f': \"31.0\",\n        },\nNaN,\n{\n            'v': NaN,\n            'f': \"NaN\",\n        },\nNaN],\n [\"2020-05-02 00:00:00\",\n{\n            'v': 961.0,\n            'f': \"961.0\",\n        },\n{\n            'v': 37.0,\n            'f': \"37.0\",\n        },\n{\n            'v': 37.0,\n            'f': \"37.0\",\n        },\n{\n            'v': 520.0,\n            'f': \"520.0\",\n        },\n{\n            'v': 22.0,\n            'f': \"22.0\",\n        },\n{\n            'v': 441.0,\n            'f': \"441.0\",\n        },\n{\n            'v': 53.0,\n            'f': \"53.0\",\n        },\n{\n            'v': 30.0,\n            'f': \"30.0\",\n        },\n{\n            'v': 16.0,\n            'f': \"16.0\",\n        },\n{\n            'v': 1773.0,\n            'f': \"1773.0\",\n        },\n{\n            'v': 48.0,\n            'f': \"48.0\",\n        },\nNaN,\n{\n            'v': NaN,\n            'f': \"NaN\",\n        },\nNaN],\n [\"2020-05-03 00:00:00\",\n{\n            'v': 986.0,\n            'f': \"986.0\",\n        },\n{\n            'v': 25.0,\n            'f': \"25.0\",\n        },\n{\n            'v': 31.0,\n            'f': \"31.0\",\n        },\n{\n            'v': 509.0,\n            'f': \"509.0\",\n        },\n{\n            'v': 22.0,\n            'f': \"22.0\",\n        },\n{\n            'v': 455.0,\n            'f': \"455.0\",\n        },\n{\n            'v': 61.0,\n            'f': \"61.0\",\n        },\n{\n            'v': 39.0,\n            'f': \"39.0\",\n        },\n{\n            'v': 20.0,\n            'f': \"20.0\",\n        },\n{\n            'v': 1818.0,\n            'f': \"1818.0\",\n        },\n{\n            'v': 45.0,\n            'f': \"45.0\",\n        },\nNaN,\n{\n            'v': NaN,\n            'f': \"NaN\",\n        },\nNaN],\n [\"2020-05-04 00:00:00\",\n{\n            'v': 998.0,\n            'f': \"998.0\",\n        },\n{\n            'v': 12.0,\n            'f': \"12.0\",\n        },\n{\n            'v': 18.5,\n            'f': \"18.5\",\n        },\n{\n            'v': 502.0,\n            'f': \"502.0\",\n        },\n{\n            'v': 22.0,\n            'f': \"22.0\",\n        },\n{\n            'v': 474.0,\n            'f': \"474.0\",\n        },\n{\n            'v': 59.0,\n            'f': \"59.0\",\n        },\n{\n            'v': 38.0,\n            'f': \"38.0\",\n        },\n{\n            'v': 18.0,\n            'f': \"18.0\",\n        },\n{\n            'v': 1847.0,\n            'f': \"1847.0\",\n        },\n{\n            'v': 29.0,\n            'f': \"29.0\",\n        },\nNaN,\n{\n            'v': NaN,\n            'f': \"NaN\",\n        },\nNaN],\n [\"2020-05-05 00:00:00\",\n{\n            'v': 1029.0,\n            'f': \"1029.0\",\n        },\n{\n            'v': 31.0,\n            'f': \"31.0\",\n        },\n{\n            'v': 21.5,\n            'f': \"21.5\",\n        },\n{\n            'v': 521.0,\n            'f': \"521.0\",\n        },\n{\n            'v': 22.0,\n            'f': \"22.0\",\n        },\n{\n            'v': 486.0,\n            'f': \"486.0\",\n        },\n{\n            'v': 65.0,\n            'f': \"65.0\",\n        },\n{\n            'v': 38.0,\n            'f': \"38.0\",\n        },\n{\n            'v': 17.0,\n            'f': \"17.0\",\n        },\n{\n            'v': 1879.0,\n            'f': \"1879.0\",\n        },\n{\n            'v': 32.0,\n            'f': \"32.0\",\n        },\nNaN,\n{\n            'v': NaN,\n            'f': \"NaN\",\n        },\nNaN],\n [\"2020-05-06 00:00:00\",\n{\n            'v': 1080.0,\n            'f': \"1080.0\",\n        },\n{\n            'v': 51.0,\n            'f': \"51.0\",\n        },\n{\n            'v': 41.0,\n            'f': \"41.0\",\n        },\n{\n            'v': 544.0,\n            'f': \"544.0\",\n        },\n{\n            'v': 22.0,\n            'f': \"22.0\",\n        },\n{\n            'v': 514.0,\n            'f': \"514.0\",\n        },\n{\n            'v': 71.0,\n            'f': \"71.0\",\n        },\n{\n            'v': 40.0,\n            'f': \"40.0\",\n        },\n{\n            'v': 16.0,\n            'f': \"16.0\",\n        },\n{\n            'v': 1983.0,\n            'f': \"1983.0\",\n        },\n{\n            'v': 104.0,\n            'f': \"104.0\",\n        },\nNaN,\n{\n            'v': NaN,\n            'f': \"NaN\",\n        },\nNaN],\n [\"2020-05-07 00:00:00\",\n{\n            'v': NaN,\n            'f': \"NaN\",\n        },\n{\n            'v': NaN,\n            'f': \"NaN\",\n        },\n{\n            'v': NaN,\n            'f': \"NaN\",\n        },\n{\n            'v': NaN,\n            'f': \"NaN\",\n        },\n{\n            'v': NaN,\n            'f': \"NaN\",\n        },\n{\n            'v': NaN,\n            'f': \"NaN\",\n        },\n{\n            'v': NaN,\n            'f': \"NaN\",\n        },\n{\n            'v': NaN,\n            'f': \"NaN\",\n        },\n{\n            'v': NaN,\n            'f': \"NaN\",\n        },\n{\n            'v': NaN,\n            'f': \"NaN\",\n        },\n{\n            'v': NaN,\n            'f': \"NaN\",\n        },\nNaN,\n{\n            'v': NaN,\n            'f': \"NaN\",\n        },\nNaN],\n [\"2020-05-08 00:00:00\",\n{\n            'v': NaN,\n            'f': \"NaN\",\n        },\n{\n            'v': NaN,\n            'f': \"NaN\",\n        },\n{\n            'v': NaN,\n            'f': \"NaN\",\n        },\n{\n            'v': NaN,\n            'f': \"NaN\",\n        },\n{\n            'v': NaN,\n            'f': \"NaN\",\n        },\n{\n            'v': NaN,\n            'f': \"NaN\",\n        },\n{\n            'v': NaN,\n            'f': \"NaN\",\n        },\n{\n            'v': NaN,\n            'f': \"NaN\",\n        },\n{\n            'v': NaN,\n            'f': \"NaN\",\n        },\n{\n            'v': NaN,\n            'f': \"NaN\",\n        },\n{\n            'v': NaN,\n            'f': \"NaN\",\n        },\nNaN,\n{\n            'v': NaN,\n            'f': \"NaN\",\n        },\nNaN],\n [\"2020-05-09 00:00:00\",\n{\n            'v': NaN,\n            'f': \"NaN\",\n        },\n{\n            'v': NaN,\n            'f': \"NaN\",\n        },\n{\n            'v': NaN,\n            'f': \"NaN\",\n        },\n{\n            'v': NaN,\n            'f': \"NaN\",\n        },\n{\n            'v': NaN,\n            'f': \"NaN\",\n        },\n{\n            'v': NaN,\n            'f': \"NaN\",\n        },\n{\n            'v': NaN,\n            'f': \"NaN\",\n        },\n{\n            'v': NaN,\n            'f': \"NaN\",\n        },\n{\n            'v': NaN,\n            'f': \"NaN\",\n        },\n{\n            'v': NaN,\n            'f': \"NaN\",\n        },\n{\n            'v': NaN,\n            'f': \"NaN\",\n        },\nNaN,\n{\n            'v': NaN,\n            'f': \"NaN\",\n        },\nNaN],\n [\"2020-05-10 00:00:00\",\n{\n            'v': NaN,\n            'f': \"NaN\",\n        },\n{\n            'v': NaN,\n            'f': \"NaN\",\n        },\n{\n            'v': NaN,\n            'f': \"NaN\",\n        },\n{\n            'v': NaN,\n            'f': \"NaN\",\n        },\n{\n            'v': NaN,\n            'f': \"NaN\",\n        },\n{\n            'v': NaN,\n            'f': \"NaN\",\n        },\n{\n            'v': NaN,\n            'f': \"NaN\",\n        },\n{\n            'v': NaN,\n            'f': \"NaN\",\n        },\n{\n            'v': NaN,\n            'f': \"NaN\",\n        },\n{\n            'v': NaN,\n            'f': \"NaN\",\n        },\n{\n            'v': NaN,\n            'f': \"NaN\",\n        },\nNaN,\n{\n            'v': NaN,\n            'f': \"NaN\",\n        },\nNaN],\n [\"2020-05-11 00:00:00\",\n{\n            'v': NaN,\n            'f': \"NaN\",\n        },\n{\n            'v': NaN,\n            'f': \"NaN\",\n        },\n{\n            'v': NaN,\n            'f': \"NaN\",\n        },\n{\n            'v': NaN,\n            'f': \"NaN\",\n        },\n{\n            'v': NaN,\n            'f': \"NaN\",\n        },\n{\n            'v': NaN,\n            'f': \"NaN\",\n        },\n{\n            'v': NaN,\n            'f': \"NaN\",\n        },\n{\n            'v': NaN,\n            'f': \"NaN\",\n        },\n{\n            'v': NaN,\n            'f': \"NaN\",\n        },\n{\n            'v': NaN,\n            'f': \"NaN\",\n        },\n{\n            'v': NaN,\n            'f': \"NaN\",\n        },\nNaN,\n{\n            'v': NaN,\n            'f': \"NaN\",\n        },\nNaN],\n [\"2020-05-12 00:00:00\",\n{\n            'v': NaN,\n            'f': \"NaN\",\n        },\n{\n            'v': NaN,\n            'f': \"NaN\",\n        },\n{\n            'v': NaN,\n            'f': \"NaN\",\n        },\n{\n            'v': NaN,\n            'f': \"NaN\",\n        },\n{\n            'v': NaN,\n            'f': \"NaN\",\n        },\n{\n            'v': NaN,\n            'f': \"NaN\",\n        },\n{\n            'v': NaN,\n            'f': \"NaN\",\n        },\n{\n            'v': NaN,\n            'f': \"NaN\",\n        },\n{\n            'v': NaN,\n            'f': \"NaN\",\n        },\n{\n            'v': NaN,\n            'f': \"NaN\",\n        },\n{\n            'v': NaN,\n            'f': \"NaN\",\n        },\nNaN,\n{\n            'v': NaN,\n            'f': \"NaN\",\n        },\nNaN],\n [\"2020-05-13 00:00:00\",\n{\n            'v': NaN,\n            'f': \"NaN\",\n        },\n{\n            'v': NaN,\n            'f': \"NaN\",\n        },\n{\n            'v': NaN,\n            'f': \"NaN\",\n        },\n{\n            'v': NaN,\n            'f': \"NaN\",\n        },\n{\n            'v': NaN,\n            'f': \"NaN\",\n        },\n{\n            'v': NaN,\n            'f': \"NaN\",\n        },\n{\n            'v': NaN,\n            'f': \"NaN\",\n        },\n{\n            'v': NaN,\n            'f': \"NaN\",\n        },\n{\n            'v': NaN,\n            'f': \"NaN\",\n        },\n{\n            'v': NaN,\n            'f': \"NaN\",\n        },\n{\n            'v': NaN,\n            'f': \"NaN\",\n        },\nNaN,\n{\n            'v': NaN,\n            'f': \"NaN\",\n        },\nNaN],\n [\"2020-05-14 00:00:00\",\n{\n            'v': NaN,\n            'f': \"NaN\",\n        },\n{\n            'v': NaN,\n            'f': \"NaN\",\n        },\n{\n            'v': NaN,\n            'f': \"NaN\",\n        },\n{\n            'v': NaN,\n            'f': \"NaN\",\n        },\n{\n            'v': NaN,\n            'f': \"NaN\",\n        },\n{\n            'v': NaN,\n            'f': \"NaN\",\n        },\n{\n            'v': NaN,\n            'f': \"NaN\",\n        },\n{\n            'v': NaN,\n            'f': \"NaN\",\n        },\n{\n            'v': NaN,\n            'f': \"NaN\",\n        },\n{\n            'v': NaN,\n            'f': \"NaN\",\n        },\n{\n            'v': NaN,\n            'f': \"NaN\",\n        },\nNaN,\n{\n            'v': NaN,\n            'f': \"NaN\",\n        },\nNaN],\n [\"2020-05-15 00:00:00\",\n{\n            'v': NaN,\n            'f': \"NaN\",\n        },\n{\n            'v': NaN,\n            'f': \"NaN\",\n        },\n{\n            'v': NaN,\n            'f': \"NaN\",\n        },\n{\n            'v': NaN,\n            'f': \"NaN\",\n        },\n{\n            'v': NaN,\n            'f': \"NaN\",\n        },\n{\n            'v': NaN,\n            'f': \"NaN\",\n        },\n{\n            'v': NaN,\n            'f': \"NaN\",\n        },\n{\n            'v': NaN,\n            'f': \"NaN\",\n        },\n{\n            'v': NaN,\n            'f': \"NaN\",\n        },\n{\n            'v': NaN,\n            'f': \"NaN\",\n        },\n{\n            'v': NaN,\n            'f': \"NaN\",\n        },\nNaN,\n{\n            'v': NaN,\n            'f': \"NaN\",\n        },\nNaN],\n [\"2020-05-16 00:00:00\",\n{\n            'v': NaN,\n            'f': \"NaN\",\n        },\n{\n            'v': NaN,\n            'f': \"NaN\",\n        },\n{\n            'v': NaN,\n            'f': \"NaN\",\n        },\n{\n            'v': NaN,\n            'f': \"NaN\",\n        },\n{\n            'v': NaN,\n            'f': \"NaN\",\n        },\n{\n            'v': NaN,\n            'f': \"NaN\",\n        },\n{\n            'v': NaN,\n            'f': \"NaN\",\n        },\n{\n            'v': NaN,\n            'f': \"NaN\",\n        },\n{\n            'v': NaN,\n            'f': \"NaN\",\n        },\n{\n            'v': NaN,\n            'f': \"NaN\",\n        },\n{\n            'v': NaN,\n            'f': \"NaN\",\n        },\nNaN,\n{\n            'v': NaN,\n            'f': \"NaN\",\n        },\nNaN],\n [\"2020-05-17 00:00:00\",\n{\n            'v': NaN,\n            'f': \"NaN\",\n        },\n{\n            'v': NaN,\n            'f': \"NaN\",\n        },\n{\n            'v': NaN,\n            'f': \"NaN\",\n        },\n{\n            'v': NaN,\n            'f': \"NaN\",\n        },\n{\n            'v': NaN,\n            'f': \"NaN\",\n        },\n{\n            'v': NaN,\n            'f': \"NaN\",\n        },\n{\n            'v': NaN,\n            'f': \"NaN\",\n        },\n{\n            'v': NaN,\n            'f': \"NaN\",\n        },\n{\n            'v': NaN,\n            'f': \"NaN\",\n        },\n{\n            'v': NaN,\n            'f': \"NaN\",\n        },\n{\n            'v': NaN,\n            'f': \"NaN\",\n        },\nNaN,\n{\n            'v': NaN,\n            'f': \"NaN\",\n        },\nNaN],\n [\"2020-05-18 00:00:00\",\n{\n            'v': NaN,\n            'f': \"NaN\",\n        },\n{\n            'v': NaN,\n            'f': \"NaN\",\n        },\n{\n            'v': NaN,\n            'f': \"NaN\",\n        },\n{\n            'v': NaN,\n            'f': \"NaN\",\n        },\n{\n            'v': NaN,\n            'f': \"NaN\",\n        },\n{\n            'v': NaN,\n            'f': \"NaN\",\n        },\n{\n            'v': NaN,\n            'f': \"NaN\",\n        },\n{\n            'v': NaN,\n            'f': \"NaN\",\n        },\n{\n            'v': NaN,\n            'f': \"NaN\",\n        },\n{\n            'v': NaN,\n            'f': \"NaN\",\n        },\n{\n            'v': NaN,\n            'f': \"NaN\",\n        },\nNaN,\n{\n            'v': NaN,\n            'f': \"NaN\",\n        },\nNaN]],\n        columns: [[\"string\", \"date\"], [\"number\", \"cases\"], [\"number\", \"new_cases\"], [\"number\", \"2_day_sma_new_cases\"], [\"number\", \"presumed_active_cases\"], [\"number\", \"fatalities\"], [\"number\", \"recovered\"], [\"number\", \"In hospital confirmed\"], [\"number\", \"in_icu\"], [\"number\", \"on_ventilator\"], [\"number\", \"tests_el_paso_dpt_public_health_only\"], [\"number\", \"new_tests_el_paso_dpt_public_health_only\"], [\"string\", \"tests_el_paso_inc_other_labs\"], [\"number\", \"tests_texas_all_sources\"], [\"string\", \"population\"]],\n        columnOptions: [{\"width\": \"1px\", \"className\": \"index_column\"}],\n        rowsPerPage: 25,\n        helpUrl: \"https://colab.research.google.com/notebooks/data_table.ipynb\",\n        suppressOutputScrolling: true,\n        minimumWidth: undefined,\n      });\n    ",
            "text/html": [
              "<div>\n",
              "<style scoped>\n",
              "    .dataframe tbody tr th:only-of-type {\n",
              "        vertical-align: middle;\n",
              "    }\n",
              "\n",
              "    .dataframe tbody tr th {\n",
              "        vertical-align: top;\n",
              "    }\n",
              "\n",
              "    .dataframe thead th {\n",
              "        text-align: right;\n",
              "    }\n",
              "</style>\n",
              "<table border=\"1\" class=\"dataframe\">\n",
              "  <thead>\n",
              "    <tr style=\"text-align: right;\">\n",
              "      <th></th>\n",
              "      <th>cases</th>\n",
              "      <th>new_cases</th>\n",
              "      <th>2_day_sma_new_cases</th>\n",
              "      <th>presumed_active_cases</th>\n",
              "      <th>fatalities</th>\n",
              "      <th>recovered</th>\n",
              "      <th>In hospital confirmed</th>\n",
              "      <th>in_icu</th>\n",
              "      <th>on_ventilator</th>\n",
              "      <th>tests_el_paso_dpt_public_health_only</th>\n",
              "      <th>new_tests_el_paso_dpt_public_health_only</th>\n",
              "      <th>tests_el_paso_inc_other_labs</th>\n",
              "      <th>tests_texas_all_sources</th>\n",
              "      <th>population</th>\n",
              "    </tr>\n",
              "    <tr>\n",
              "      <th>date</th>\n",
              "      <th></th>\n",
              "      <th></th>\n",
              "      <th></th>\n",
              "      <th></th>\n",
              "      <th></th>\n",
              "      <th></th>\n",
              "      <th></th>\n",
              "      <th></th>\n",
              "      <th></th>\n",
              "      <th></th>\n",
              "      <th></th>\n",
              "      <th></th>\n",
              "      <th></th>\n",
              "      <th></th>\n",
              "    </tr>\n",
              "  </thead>\n",
              "  <tbody>\n",
              "    <tr>\n",
              "      <th>2020-03-04</th>\n",
              "      <td>0.0</td>\n",
              "      <td>NaN</td>\n",
              "      <td>NaN</td>\n",
              "      <td>0.0</td>\n",
              "      <td>0.0</td>\n",
              "      <td>NaN</td>\n",
              "      <td>NaN</td>\n",
              "      <td>NaN</td>\n",
              "      <td>NaN</td>\n",
              "      <td>NaN</td>\n",
              "      <td>NaN</td>\n",
              "      <td>NaN</td>\n",
              "      <td>NaN</td>\n",
              "      <td>952,366</td>\n",
              "    </tr>\n",
              "    <tr>\n",
              "      <th>2020-03-05</th>\n",
              "      <td>0.0</td>\n",
              "      <td>0.0</td>\n",
              "      <td>NaN</td>\n",
              "      <td>0.0</td>\n",
              "      <td>0.0</td>\n",
              "      <td>NaN</td>\n",
              "      <td>NaN</td>\n",
              "      <td>NaN</td>\n",
              "      <td>NaN</td>\n",
              "      <td>NaN</td>\n",
              "      <td>NaN</td>\n",
              "      <td>NaN</td>\n",
              "      <td>NaN</td>\n",
              "      <td>NaN</td>\n",
              "    </tr>\n",
              "    <tr>\n",
              "      <th>2020-03-06</th>\n",
              "      <td>0.0</td>\n",
              "      <td>0.0</td>\n",
              "      <td>0.0</td>\n",
              "      <td>0.0</td>\n",
              "      <td>0.0</td>\n",
              "      <td>NaN</td>\n",
              "      <td>NaN</td>\n",
              "      <td>NaN</td>\n",
              "      <td>NaN</td>\n",
              "      <td>NaN</td>\n",
              "      <td>NaN</td>\n",
              "      <td>NaN</td>\n",
              "      <td>NaN</td>\n",
              "      <td>NaN</td>\n",
              "    </tr>\n",
              "    <tr>\n",
              "      <th>2020-03-07</th>\n",
              "      <td>0.0</td>\n",
              "      <td>0.0</td>\n",
              "      <td>0.0</td>\n",
              "      <td>0.0</td>\n",
              "      <td>0.0</td>\n",
              "      <td>NaN</td>\n",
              "      <td>NaN</td>\n",
              "      <td>NaN</td>\n",
              "      <td>NaN</td>\n",
              "      <td>NaN</td>\n",
              "      <td>NaN</td>\n",
              "      <td>NaN</td>\n",
              "      <td>NaN</td>\n",
              "      <td>NaN</td>\n",
              "    </tr>\n",
              "    <tr>\n",
              "      <th>2020-03-08</th>\n",
              "      <td>0.0</td>\n",
              "      <td>0.0</td>\n",
              "      <td>0.0</td>\n",
              "      <td>0.0</td>\n",
              "      <td>0.0</td>\n",
              "      <td>NaN</td>\n",
              "      <td>NaN</td>\n",
              "      <td>NaN</td>\n",
              "      <td>NaN</td>\n",
              "      <td>NaN</td>\n",
              "      <td>NaN</td>\n",
              "      <td>NaN</td>\n",
              "      <td>NaN</td>\n",
              "      <td>NaN</td>\n",
              "    </tr>\n",
              "    <tr>\n",
              "      <th>...</th>\n",
              "      <td>...</td>\n",
              "      <td>...</td>\n",
              "      <td>...</td>\n",
              "      <td>...</td>\n",
              "      <td>...</td>\n",
              "      <td>...</td>\n",
              "      <td>...</td>\n",
              "      <td>...</td>\n",
              "      <td>...</td>\n",
              "      <td>...</td>\n",
              "      <td>...</td>\n",
              "      <td>...</td>\n",
              "      <td>...</td>\n",
              "      <td>...</td>\n",
              "    </tr>\n",
              "    <tr>\n",
              "      <th>2020-05-14</th>\n",
              "      <td>NaN</td>\n",
              "      <td>NaN</td>\n",
              "      <td>NaN</td>\n",
              "      <td>NaN</td>\n",
              "      <td>NaN</td>\n",
              "      <td>NaN</td>\n",
              "      <td>NaN</td>\n",
              "      <td>NaN</td>\n",
              "      <td>NaN</td>\n",
              "      <td>NaN</td>\n",
              "      <td>NaN</td>\n",
              "      <td>NaN</td>\n",
              "      <td>NaN</td>\n",
              "      <td>NaN</td>\n",
              "    </tr>\n",
              "    <tr>\n",
              "      <th>2020-05-15</th>\n",
              "      <td>NaN</td>\n",
              "      <td>NaN</td>\n",
              "      <td>NaN</td>\n",
              "      <td>NaN</td>\n",
              "      <td>NaN</td>\n",
              "      <td>NaN</td>\n",
              "      <td>NaN</td>\n",
              "      <td>NaN</td>\n",
              "      <td>NaN</td>\n",
              "      <td>NaN</td>\n",
              "      <td>NaN</td>\n",
              "      <td>NaN</td>\n",
              "      <td>NaN</td>\n",
              "      <td>NaN</td>\n",
              "    </tr>\n",
              "    <tr>\n",
              "      <th>2020-05-16</th>\n",
              "      <td>NaN</td>\n",
              "      <td>NaN</td>\n",
              "      <td>NaN</td>\n",
              "      <td>NaN</td>\n",
              "      <td>NaN</td>\n",
              "      <td>NaN</td>\n",
              "      <td>NaN</td>\n",
              "      <td>NaN</td>\n",
              "      <td>NaN</td>\n",
              "      <td>NaN</td>\n",
              "      <td>NaN</td>\n",
              "      <td>NaN</td>\n",
              "      <td>NaN</td>\n",
              "      <td>NaN</td>\n",
              "    </tr>\n",
              "    <tr>\n",
              "      <th>2020-05-17</th>\n",
              "      <td>NaN</td>\n",
              "      <td>NaN</td>\n",
              "      <td>NaN</td>\n",
              "      <td>NaN</td>\n",
              "      <td>NaN</td>\n",
              "      <td>NaN</td>\n",
              "      <td>NaN</td>\n",
              "      <td>NaN</td>\n",
              "      <td>NaN</td>\n",
              "      <td>NaN</td>\n",
              "      <td>NaN</td>\n",
              "      <td>NaN</td>\n",
              "      <td>NaN</td>\n",
              "      <td>NaN</td>\n",
              "    </tr>\n",
              "    <tr>\n",
              "      <th>2020-05-18</th>\n",
              "      <td>NaN</td>\n",
              "      <td>NaN</td>\n",
              "      <td>NaN</td>\n",
              "      <td>NaN</td>\n",
              "      <td>NaN</td>\n",
              "      <td>NaN</td>\n",
              "      <td>NaN</td>\n",
              "      <td>NaN</td>\n",
              "      <td>NaN</td>\n",
              "      <td>NaN</td>\n",
              "      <td>NaN</td>\n",
              "      <td>NaN</td>\n",
              "      <td>NaN</td>\n",
              "      <td>NaN</td>\n",
              "    </tr>\n",
              "  </tbody>\n",
              "</table>\n",
              "<p>76 rows × 14 columns</p>\n",
              "</div>"
            ],
            "text/plain": [
              "            cases  new_cases  ...  tests_texas_all_sources  population\n",
              "date                          ...                                     \n",
              "2020-03-04    0.0        NaN  ...                      NaN     952,366\n",
              "2020-03-05    0.0        0.0  ...                      NaN         NaN\n",
              "2020-03-06    0.0        0.0  ...                      NaN         NaN\n",
              "2020-03-07    0.0        0.0  ...                      NaN         NaN\n",
              "2020-03-08    0.0        0.0  ...                      NaN         NaN\n",
              "...           ...        ...  ...                      ...         ...\n",
              "2020-05-14    NaN        NaN  ...                      NaN         NaN\n",
              "2020-05-15    NaN        NaN  ...                      NaN         NaN\n",
              "2020-05-16    NaN        NaN  ...                      NaN         NaN\n",
              "2020-05-17    NaN        NaN  ...                      NaN         NaN\n",
              "2020-05-18    NaN        NaN  ...                      NaN         NaN\n",
              "\n",
              "[76 rows x 14 columns]"
            ]
          },
          "metadata": {
            "tags": []
          },
          "execution_count": 7
        }
      ]
    },
    {
      "cell_type": "markdown",
      "metadata": {
        "id": "6zdk_IWroqdS",
        "colab_type": "text"
      },
      "source": [
        "## @onlyasith's cases model\n",
        "\n"
      ]
    },
    {
      "cell_type": "markdown",
      "metadata": {
        "id": "kyd28LHaoqdT",
        "colab_type": "text"
      },
      "source": [
        "Pulled from\n",
        "[here](https://docs.google.com/spreadsheets/d/1L6pzFAEJ6MfnUwt-ea6tetKyvdi0YubnK_70SGm436c/edit#gid=1807978187)\n",
        "\n"
      ]
    },
    {
      "cell_type": "code",
      "metadata": {
        "id": "SPqHapIKoqdY",
        "colab_type": "code",
        "outputId": "44f0fbe1-119b-4575-e951-97f45b8bc29f",
        "colab": {
          "base_uri": "https://localhost:8080/",
          "height": 623
        }
      },
      "source": [
        "projected_cases = onlyasith.get_onlyasith_results()\n",
        "\n",
        "projected_cases"
      ],
      "execution_count": 8,
      "outputs": [
        {
          "output_type": "execute_result",
          "data": {
            "application/vnd.google.colaboratory.module+javascript": "\n      import \"https://ssl.gstatic.com/colaboratory/data_table/a6224c040fa35dcf/data_table.js\";\n\n      window.createDataTable({\n        data: [[\"2020-04-04 00:00:00\",\n{\n            'v': 96,\n            'f': \"96\",\n        },\n{\n            'v': NaN,\n            'f': \"NaN\",\n        }],\n [\"2020-04-05 00:00:00\",\n{\n            'v': 106,\n            'f': \"106\",\n        },\n{\n            'v': 10.0,\n            'f': \"10.0\",\n        }],\n [\"2020-04-06 00:00:00\",\n{\n            'v': 115,\n            'f': \"115\",\n        },\n{\n            'v': 9.0,\n            'f': \"9.0\",\n        }],\n [\"2020-04-07 00:00:00\",\n{\n            'v': 125,\n            'f': \"125\",\n        },\n{\n            'v': 10.0,\n            'f': \"10.0\",\n        }],\n [\"2020-04-08 00:00:00\",\n{\n            'v': 153,\n            'f': \"153\",\n        },\n{\n            'v': 28.0,\n            'f': \"28.0\",\n        }],\n [\"2020-04-09 00:00:00\",\n{\n            'v': 192,\n            'f': \"192\",\n        },\n{\n            'v': 39.0,\n            'f': \"39.0\",\n        }],\n [\"2020-04-10 00:00:00\",\n{\n            'v': 225,\n            'f': \"225\",\n        },\n{\n            'v': 33.0,\n            'f': \"33.0\",\n        }],\n [\"2020-04-11 00:00:00\",\n{\n            'v': 252,\n            'f': \"252\",\n        },\n{\n            'v': 27.0,\n            'f': \"27.0\",\n        }],\n [\"2020-04-12 00:00:00\",\n{\n            'v': 269,\n            'f': \"269\",\n        },\n{\n            'v': 17.0,\n            'f': \"17.0\",\n        }],\n [\"2020-04-13 00:00:00\",\n{\n            'v': 292,\n            'f': \"292\",\n        },\n{\n            'v': 23.0,\n            'f': \"23.0\",\n        }],\n [\"2020-04-14 00:00:00\",\n{\n            'v': 300,\n            'f': \"300\",\n        },\n{\n            'v': 8.0,\n            'f': \"8.0\",\n        }],\n [\"2020-04-15 00:00:00\",\n{\n            'v': 346,\n            'f': \"346\",\n        },\n{\n            'v': 46.0,\n            'f': \"46.0\",\n        }],\n [\"2020-04-16 00:00:00\",\n{\n            'v': 393,\n            'f': \"393\",\n        },\n{\n            'v': 47.0,\n            'f': \"47.0\",\n        }],\n [\"2020-04-17 00:00:00\",\n{\n            'v': 451,\n            'f': \"451\",\n        },\n{\n            'v': 58.0,\n            'f': \"58.0\",\n        }],\n [\"2020-04-18 00:00:00\",\n{\n            'v': 482,\n            'f': \"482\",\n        },\n{\n            'v': 31.0,\n            'f': \"31.0\",\n        }],\n [\"2020-04-19 00:00:00\",\n{\n            'v': 505,\n            'f': \"505\",\n        },\n{\n            'v': 23.0,\n            'f': \"23.0\",\n        }],\n [\"2020-04-20 00:00:00\",\n{\n            'v': 531,\n            'f': \"531\",\n        },\n{\n            'v': 26.0,\n            'f': \"26.0\",\n        }],\n [\"2020-04-21 00:00:00\",\n{\n            'v': 540,\n            'f': \"540\",\n        },\n{\n            'v': 9.0,\n            'f': \"9.0\",\n        }],\n [\"2020-04-22 00:00:00\",\n{\n            'v': 587,\n            'f': \"587\",\n        },\n{\n            'v': 47.0,\n            'f': \"47.0\",\n        }],\n [\"2020-04-23 00:00:00\",\n{\n            'v': 645,\n            'f': \"645\",\n        },\n{\n            'v': 58.0,\n            'f': \"58.0\",\n        }],\n [\"2020-04-24 00:00:00\",\n{\n            'v': 674,\n            'f': \"674\",\n        },\n{\n            'v': 29.0,\n            'f': \"29.0\",\n        }],\n [\"2020-04-25 00:00:00\",\n{\n            'v': 702,\n            'f': \"702\",\n        },\n{\n            'v': 28.0,\n            'f': \"28.0\",\n        }],\n [\"2020-04-26 00:00:00\",\n{\n            'v': 729,\n            'f': \"729\",\n        },\n{\n            'v': 27.0,\n            'f': \"27.0\",\n        }],\n [\"2020-04-27 00:00:00\",\n{\n            'v': 756,\n            'f': \"756\",\n        },\n{\n            'v': 27.0,\n            'f': \"27.0\",\n        }],\n [\"2020-04-28 00:00:00\",\n{\n            'v': 781,\n            'f': \"781\",\n        },\n{\n            'v': 25.0,\n            'f': \"25.0\",\n        }],\n [\"2020-04-29 00:00:00\",\n{\n            'v': 805,\n            'f': \"805\",\n        },\n{\n            'v': 24.0,\n            'f': \"24.0\",\n        }],\n [\"2020-04-30 00:00:00\",\n{\n            'v': 828,\n            'f': \"828\",\n        },\n{\n            'v': 23.0,\n            'f': \"23.0\",\n        }],\n [\"2020-05-01 00:00:00\",\n{\n            'v': 849,\n            'f': \"849\",\n        },\n{\n            'v': 21.0,\n            'f': \"21.0\",\n        }],\n [\"2020-05-02 00:00:00\",\n{\n            'v': 867,\n            'f': \"867\",\n        },\n{\n            'v': 18.0,\n            'f': \"18.0\",\n        }],\n [\"2020-05-03 00:00:00\",\n{\n            'v': 884,\n            'f': \"884\",\n        },\n{\n            'v': 17.0,\n            'f': \"17.0\",\n        }],\n [\"2020-05-04 00:00:00\",\n{\n            'v': 898,\n            'f': \"898\",\n        },\n{\n            'v': 14.0,\n            'f': \"14.0\",\n        }],\n [\"2020-05-05 00:00:00\",\n{\n            'v': 911,\n            'f': \"911\",\n        },\n{\n            'v': 13.0,\n            'f': \"13.0\",\n        }],\n [\"2020-05-06 00:00:00\",\n{\n            'v': 924,\n            'f': \"924\",\n        },\n{\n            'v': 13.0,\n            'f': \"13.0\",\n        }],\n [\"2020-05-07 00:00:00\",\n{\n            'v': 938,\n            'f': \"938\",\n        },\n{\n            'v': 14.0,\n            'f': \"14.0\",\n        }],\n [\"2020-05-08 00:00:00\",\n{\n            'v': 951,\n            'f': \"951\",\n        },\n{\n            'v': 13.0,\n            'f': \"13.0\",\n        }],\n [\"2020-05-09 00:00:00\",\n{\n            'v': 964,\n            'f': \"964\",\n        },\n{\n            'v': 13.0,\n            'f': \"13.0\",\n        }],\n [\"2020-05-10 00:00:00\",\n{\n            'v': 975,\n            'f': \"975\",\n        },\n{\n            'v': 11.0,\n            'f': \"11.0\",\n        }],\n [\"2020-05-11 00:00:00\",\n{\n            'v': 985,\n            'f': \"985\",\n        },\n{\n            'v': 10.0,\n            'f': \"10.0\",\n        }],\n [\"2020-05-12 00:00:00\",\n{\n            'v': 993,\n            'f': \"993\",\n        },\n{\n            'v': 8.0,\n            'f': \"8.0\",\n        }],\n [\"2020-05-13 00:00:00\",\n{\n            'v': 1000,\n            'f': \"1000\",\n        },\n{\n            'v': 7.0,\n            'f': \"7.0\",\n        }],\n [\"2020-05-14 00:00:00\",\n{\n            'v': 1005,\n            'f': \"1005\",\n        },\n{\n            'v': 5.0,\n            'f': \"5.0\",\n        }],\n [\"2020-05-15 00:00:00\",\n{\n            'v': 1009,\n            'f': \"1009\",\n        },\n{\n            'v': 4.0,\n            'f': \"4.0\",\n        }],\n [\"2020-05-16 00:00:00\",\n{\n            'v': 1013,\n            'f': \"1013\",\n        },\n{\n            'v': 4.0,\n            'f': \"4.0\",\n        }],\n [\"2020-05-17 00:00:00\",\n{\n            'v': 1016,\n            'f': \"1016\",\n        },\n{\n            'v': 3.0,\n            'f': \"3.0\",\n        }],\n [\"2020-05-18 00:00:00\",\n{\n            'v': 1019,\n            'f': \"1019\",\n        },\n{\n            'v': 3.0,\n            'f': \"3.0\",\n        }],\n [\"2020-05-19 00:00:00\",\n{\n            'v': 1022,\n            'f': \"1022\",\n        },\n{\n            'v': 3.0,\n            'f': \"3.0\",\n        }],\n [\"2020-05-20 00:00:00\",\n{\n            'v': 1027,\n            'f': \"1027\",\n        },\n{\n            'v': 5.0,\n            'f': \"5.0\",\n        }],\n [\"2020-05-21 00:00:00\",\n{\n            'v': 1030,\n            'f': \"1030\",\n        },\n{\n            'v': 3.0,\n            'f': \"3.0\",\n        }],\n [\"2020-05-22 00:00:00\",\n{\n            'v': 1031,\n            'f': \"1031\",\n        },\n{\n            'v': 1.0,\n            'f': \"1.0\",\n        }],\n [\"2020-05-23 00:00:00\",\n{\n            'v': 1031,\n            'f': \"1031\",\n        },\n{\n            'v': 0.0,\n            'f': \"0.0\",\n        }],\n [\"2020-05-24 00:00:00\",\n{\n            'v': 1031,\n            'f': \"1031\",\n        },\n{\n            'v': 0.0,\n            'f': \"0.0\",\n        }],\n [\"2020-05-25 00:00:00\",\n{\n            'v': 1031,\n            'f': \"1031\",\n        },\n{\n            'v': 0.0,\n            'f': \"0.0\",\n        }],\n [\"2020-05-26 00:00:00\",\n{\n            'v': 1031,\n            'f': \"1031\",\n        },\n{\n            'v': 0.0,\n            'f': \"0.0\",\n        }],\n [\"2020-05-27 00:00:00\",\n{\n            'v': 1031,\n            'f': \"1031\",\n        },\n{\n            'v': 0.0,\n            'f': \"0.0\",\n        }],\n [\"2020-05-28 00:00:00\",\n{\n            'v': 1031,\n            'f': \"1031\",\n        },\n{\n            'v': 0.0,\n            'f': \"0.0\",\n        }],\n [\"2020-05-29 00:00:00\",\n{\n            'v': 1031,\n            'f': \"1031\",\n        },\n{\n            'v': 0.0,\n            'f': \"0.0\",\n        }],\n [\"2020-05-30 00:00:00\",\n{\n            'v': 1031,\n            'f': \"1031\",\n        },\n{\n            'v': 0.0,\n            'f': \"0.0\",\n        }],\n [\"2020-05-31 00:00:00\",\n{\n            'v': 1031,\n            'f': \"1031\",\n        },\n{\n            'v': 0.0,\n            'f': \"0.0\",\n        }],\n [\"2020-06-01 00:00:00\",\n{\n            'v': 1031,\n            'f': \"1031\",\n        },\n{\n            'v': 0.0,\n            'f': \"0.0\",\n        }],\n [\"2020-06-02 00:00:00\",\n{\n            'v': 1031,\n            'f': \"1031\",\n        },\n{\n            'v': 0.0,\n            'f': \"0.0\",\n        }],\n [\"2020-06-03 00:00:00\",\n{\n            'v': 1032,\n            'f': \"1032\",\n        },\n{\n            'v': 1.0,\n            'f': \"1.0\",\n        }],\n [\"2020-06-04 00:00:00\",\n{\n            'v': 1033,\n            'f': \"1033\",\n        },\n{\n            'v': 1.0,\n            'f': \"1.0\",\n        }],\n [\"2020-06-05 00:00:00\",\n{\n            'v': 1033,\n            'f': \"1033\",\n        },\n{\n            'v': 0.0,\n            'f': \"0.0\",\n        }],\n [\"2020-06-06 00:00:00\",\n{\n            'v': 1034,\n            'f': \"1034\",\n        },\n{\n            'v': 1.0,\n            'f': \"1.0\",\n        }],\n [\"2020-06-07 00:00:00\",\n{\n            'v': 1035,\n            'f': \"1035\",\n        },\n{\n            'v': 1.0,\n            'f': \"1.0\",\n        }],\n [\"2020-06-08 00:00:00\",\n{\n            'v': 1035,\n            'f': \"1035\",\n        },\n{\n            'v': 0.0,\n            'f': \"0.0\",\n        }],\n [\"2020-06-09 00:00:00\",\n{\n            'v': 1036,\n            'f': \"1036\",\n        },\n{\n            'v': 1.0,\n            'f': \"1.0\",\n        }],\n [\"2020-06-10 00:00:00\",\n{\n            'v': 1037,\n            'f': \"1037\",\n        },\n{\n            'v': 1.0,\n            'f': \"1.0\",\n        }],\n [\"2020-06-11 00:00:00\",\n{\n            'v': 1037,\n            'f': \"1037\",\n        },\n{\n            'v': 0.0,\n            'f': \"0.0\",\n        }],\n [\"2020-06-12 00:00:00\",\n{\n            'v': 1038,\n            'f': \"1038\",\n        },\n{\n            'v': 1.0,\n            'f': \"1.0\",\n        }],\n [\"2020-06-13 00:00:00\",\n{\n            'v': 1039,\n            'f': \"1039\",\n        },\n{\n            'v': 1.0,\n            'f': \"1.0\",\n        }],\n [\"2020-06-14 00:00:00\",\n{\n            'v': 1039,\n            'f': \"1039\",\n        },\n{\n            'v': 0.0,\n            'f': \"0.0\",\n        }],\n [\"2020-06-15 00:00:00\",\n{\n            'v': 1040,\n            'f': \"1040\",\n        },\n{\n            'v': 1.0,\n            'f': \"1.0\",\n        }],\n [\"2020-06-16 00:00:00\",\n{\n            'v': 1040,\n            'f': \"1040\",\n        },\n{\n            'v': 0.0,\n            'f': \"0.0\",\n        }],\n [\"2020-06-17 00:00:00\",\n{\n            'v': 1041,\n            'f': \"1041\",\n        },\n{\n            'v': 1.0,\n            'f': \"1.0\",\n        }],\n [\"2020-06-18 00:00:00\",\n{\n            'v': 1042,\n            'f': \"1042\",\n        },\n{\n            'v': 1.0,\n            'f': \"1.0\",\n        }],\n [\"2020-06-19 00:00:00\",\n{\n            'v': 1042,\n            'f': \"1042\",\n        },\n{\n            'v': 0.0,\n            'f': \"0.0\",\n        }],\n [\"2020-06-20 00:00:00\",\n{\n            'v': 1043,\n            'f': \"1043\",\n        },\n{\n            'v': 1.0,\n            'f': \"1.0\",\n        }],\n [\"2020-06-21 00:00:00\",\n{\n            'v': 1043,\n            'f': \"1043\",\n        },\n{\n            'v': 0.0,\n            'f': \"0.0\",\n        }],\n [\"2020-06-22 00:00:00\",\n{\n            'v': 1044,\n            'f': \"1044\",\n        },\n{\n            'v': 1.0,\n            'f': \"1.0\",\n        }],\n [\"2020-06-23 00:00:00\",\n{\n            'v': 1045,\n            'f': \"1045\",\n        },\n{\n            'v': 1.0,\n            'f': \"1.0\",\n        }],\n [\"2020-06-24 00:00:00\",\n{\n            'v': 1045,\n            'f': \"1045\",\n        },\n{\n            'v': 0.0,\n            'f': \"0.0\",\n        }],\n [\"2020-06-25 00:00:00\",\n{\n            'v': 1046,\n            'f': \"1046\",\n        },\n{\n            'v': 1.0,\n            'f': \"1.0\",\n        }],\n [\"2020-06-26 00:00:00\",\n{\n            'v': 1046,\n            'f': \"1046\",\n        },\n{\n            'v': 0.0,\n            'f': \"0.0\",\n        }],\n [\"2020-06-27 00:00:00\",\n{\n            'v': 1047,\n            'f': \"1047\",\n        },\n{\n            'v': 1.0,\n            'f': \"1.0\",\n        }],\n [\"2020-06-28 00:00:00\",\n{\n            'v': 1047,\n            'f': \"1047\",\n        },\n{\n            'v': 0.0,\n            'f': \"0.0\",\n        }],\n [\"2020-06-29 00:00:00\",\n{\n            'v': 1048,\n            'f': \"1048\",\n        },\n{\n            'v': 1.0,\n            'f': \"1.0\",\n        }],\n [\"2020-06-30 00:00:00\",\n{\n            'v': 1049,\n            'f': \"1049\",\n        },\n{\n            'v': 1.0,\n            'f': \"1.0\",\n        }],\n [\"2020-07-01 00:00:00\",\n{\n            'v': 1049,\n            'f': \"1049\",\n        },\n{\n            'v': 0.0,\n            'f': \"0.0\",\n        }],\n [\"2020-07-02 00:00:00\",\n{\n            'v': 1050,\n            'f': \"1050\",\n        },\n{\n            'v': 1.0,\n            'f': \"1.0\",\n        }],\n [\"2020-07-03 00:00:00\",\n{\n            'v': 1050,\n            'f': \"1050\",\n        },\n{\n            'v': 0.0,\n            'f': \"0.0\",\n        }],\n [\"2020-07-04 00:00:00\",\n{\n            'v': 1051,\n            'f': \"1051\",\n        },\n{\n            'v': 1.0,\n            'f': \"1.0\",\n        }],\n [\"2020-07-05 00:00:00\",\n{\n            'v': 1051,\n            'f': \"1051\",\n        },\n{\n            'v': 0.0,\n            'f': \"0.0\",\n        }],\n [\"2020-07-06 00:00:00\",\n{\n            'v': 1052,\n            'f': \"1052\",\n        },\n{\n            'v': 1.0,\n            'f': \"1.0\",\n        }],\n [\"2020-07-07 00:00:00\",\n{\n            'v': 1052,\n            'f': \"1052\",\n        },\n{\n            'v': 0.0,\n            'f': \"0.0\",\n        }],\n [\"2020-07-08 00:00:00\",\n{\n            'v': 1053,\n            'f': \"1053\",\n        },\n{\n            'v': 1.0,\n            'f': \"1.0\",\n        }],\n [\"2020-07-09 00:00:00\",\n{\n            'v': 1053,\n            'f': \"1053\",\n        },\n{\n            'v': 0.0,\n            'f': \"0.0\",\n        }],\n [\"2020-07-10 00:00:00\",\n{\n            'v': 1054,\n            'f': \"1054\",\n        },\n{\n            'v': 1.0,\n            'f': \"1.0\",\n        }],\n [\"2020-07-11 00:00:00\",\n{\n            'v': 1055,\n            'f': \"1055\",\n        },\n{\n            'v': 1.0,\n            'f': \"1.0\",\n        }],\n [\"2020-07-12 00:00:00\",\n{\n            'v': 1055,\n            'f': \"1055\",\n        },\n{\n            'v': 0.0,\n            'f': \"0.0\",\n        }],\n [\"2020-07-13 00:00:00\",\n{\n            'v': 1056,\n            'f': \"1056\",\n        },\n{\n            'v': 1.0,\n            'f': \"1.0\",\n        }],\n [\"2020-07-14 00:00:00\",\n{\n            'v': 1056,\n            'f': \"1056\",\n        },\n{\n            'v': 0.0,\n            'f': \"0.0\",\n        }],\n [\"2020-07-15 00:00:00\",\n{\n            'v': 1057,\n            'f': \"1057\",\n        },\n{\n            'v': 1.0,\n            'f': \"1.0\",\n        }],\n [\"2020-07-16 00:00:00\",\n{\n            'v': 1057,\n            'f': \"1057\",\n        },\n{\n            'v': 0.0,\n            'f': \"0.0\",\n        }],\n [\"2020-07-17 00:00:00\",\n{\n            'v': 1058,\n            'f': \"1058\",\n        },\n{\n            'v': 1.0,\n            'f': \"1.0\",\n        }],\n [\"2020-07-18 00:00:00\",\n{\n            'v': 1058,\n            'f': \"1058\",\n        },\n{\n            'v': 0.0,\n            'f': \"0.0\",\n        }],\n [\"2020-07-19 00:00:00\",\n{\n            'v': 1059,\n            'f': \"1059\",\n        },\n{\n            'v': 1.0,\n            'f': \"1.0\",\n        }],\n [\"2020-07-20 00:00:00\",\n{\n            'v': 1059,\n            'f': \"1059\",\n        },\n{\n            'v': 0.0,\n            'f': \"0.0\",\n        }],\n [\"2020-07-21 00:00:00\",\n{\n            'v': 1060,\n            'f': \"1060\",\n        },\n{\n            'v': 1.0,\n            'f': \"1.0\",\n        }],\n [\"2020-07-22 00:00:00\",\n{\n            'v': 1060,\n            'f': \"1060\",\n        },\n{\n            'v': 0.0,\n            'f': \"0.0\",\n        }],\n [\"2020-07-23 00:00:00\",\n{\n            'v': 1061,\n            'f': \"1061\",\n        },\n{\n            'v': 1.0,\n            'f': \"1.0\",\n        }],\n [\"2020-07-24 00:00:00\",\n{\n            'v': 1061,\n            'f': \"1061\",\n        },\n{\n            'v': 0.0,\n            'f': \"0.0\",\n        }],\n [\"2020-07-25 00:00:00\",\n{\n            'v': 1062,\n            'f': \"1062\",\n        },\n{\n            'v': 1.0,\n            'f': \"1.0\",\n        }],\n [\"2020-07-26 00:00:00\",\n{\n            'v': 1062,\n            'f': \"1062\",\n        },\n{\n            'v': 0.0,\n            'f': \"0.0\",\n        }],\n [\"2020-07-27 00:00:00\",\n{\n            'v': 1063,\n            'f': \"1063\",\n        },\n{\n            'v': 1.0,\n            'f': \"1.0\",\n        }],\n [\"2020-07-28 00:00:00\",\n{\n            'v': 1063,\n            'f': \"1063\",\n        },\n{\n            'v': 0.0,\n            'f': \"0.0\",\n        }],\n [\"2020-07-29 00:00:00\",\n{\n            'v': 1064,\n            'f': \"1064\",\n        },\n{\n            'v': 1.0,\n            'f': \"1.0\",\n        }],\n [\"2020-07-30 00:00:00\",\n{\n            'v': 1064,\n            'f': \"1064\",\n        },\n{\n            'v': 0.0,\n            'f': \"0.0\",\n        }],\n [\"2020-07-31 00:00:00\",\n{\n            'v': 1065,\n            'f': \"1065\",\n        },\n{\n            'v': 1.0,\n            'f': \"1.0\",\n        }],\n [\"2020-08-01 00:00:00\",\n{\n            'v': 1065,\n            'f': \"1065\",\n        },\n{\n            'v': 0.0,\n            'f': \"0.0\",\n        }],\n [\"2020-08-02 00:00:00\",\n{\n            'v': 1066,\n            'f': \"1066\",\n        },\n{\n            'v': 1.0,\n            'f': \"1.0\",\n        }],\n [\"2020-08-03 00:00:00\",\n{\n            'v': 1066,\n            'f': \"1066\",\n        },\n{\n            'v': 0.0,\n            'f': \"0.0\",\n        }],\n [\"2020-08-04 00:00:00\",\n{\n            'v': 1067,\n            'f': \"1067\",\n        },\n{\n            'v': 1.0,\n            'f': \"1.0\",\n        }],\n [\"2020-08-05 00:00:00\",\n{\n            'v': 1067,\n            'f': \"1067\",\n        },\n{\n            'v': 0.0,\n            'f': \"0.0\",\n        }],\n [\"2020-08-06 00:00:00\",\n{\n            'v': 1067,\n            'f': \"1067\",\n        },\n{\n            'v': 0.0,\n            'f': \"0.0\",\n        }],\n [\"2020-08-07 00:00:00\",\n{\n            'v': 1068,\n            'f': \"1068\",\n        },\n{\n            'v': 1.0,\n            'f': \"1.0\",\n        }],\n [\"2020-08-08 00:00:00\",\n{\n            'v': 1068,\n            'f': \"1068\",\n        },\n{\n            'v': 0.0,\n            'f': \"0.0\",\n        }],\n [\"2020-08-09 00:00:00\",\n{\n            'v': 1069,\n            'f': \"1069\",\n        },\n{\n            'v': 1.0,\n            'f': \"1.0\",\n        }],\n [\"2020-08-10 00:00:00\",\n{\n            'v': 1069,\n            'f': \"1069\",\n        },\n{\n            'v': 0.0,\n            'f': \"0.0\",\n        }],\n [\"2020-08-11 00:00:00\",\n{\n            'v': 1070,\n            'f': \"1070\",\n        },\n{\n            'v': 1.0,\n            'f': \"1.0\",\n        }],\n [\"2020-08-12 00:00:00\",\n{\n            'v': 1070,\n            'f': \"1070\",\n        },\n{\n            'v': 0.0,\n            'f': \"0.0\",\n        }],\n [\"2020-08-13 00:00:00\",\n{\n            'v': 1071,\n            'f': \"1071\",\n        },\n{\n            'v': 1.0,\n            'f': \"1.0\",\n        }],\n [\"2020-08-14 00:00:00\",\n{\n            'v': 1071,\n            'f': \"1071\",\n        },\n{\n            'v': 0.0,\n            'f': \"0.0\",\n        }],\n [\"2020-08-15 00:00:00\",\n{\n            'v': 1072,\n            'f': \"1072\",\n        },\n{\n            'v': 1.0,\n            'f': \"1.0\",\n        }],\n [\"2020-08-16 00:00:00\",\n{\n            'v': 1072,\n            'f': \"1072\",\n        },\n{\n            'v': 0.0,\n            'f': \"0.0\",\n        }],\n [\"2020-08-17 00:00:00\",\n{\n            'v': 1072,\n            'f': \"1072\",\n        },\n{\n            'v': 0.0,\n            'f': \"0.0\",\n        }],\n [\"2020-08-18 00:00:00\",\n{\n            'v': 1073,\n            'f': \"1073\",\n        },\n{\n            'v': 1.0,\n            'f': \"1.0\",\n        }],\n [\"2020-08-19 00:00:00\",\n{\n            'v': 1073,\n            'f': \"1073\",\n        },\n{\n            'v': 0.0,\n            'f': \"0.0\",\n        }],\n [\"2020-08-20 00:00:00\",\n{\n            'v': 1074,\n            'f': \"1074\",\n        },\n{\n            'v': 1.0,\n            'f': \"1.0\",\n        }],\n [\"2020-08-21 00:00:00\",\n{\n            'v': 1074,\n            'f': \"1074\",\n        },\n{\n            'v': 0.0,\n            'f': \"0.0\",\n        }],\n [\"2020-08-22 00:00:00\",\n{\n            'v': 1075,\n            'f': \"1075\",\n        },\n{\n            'v': 1.0,\n            'f': \"1.0\",\n        }],\n [\"2020-08-23 00:00:00\",\n{\n            'v': 1075,\n            'f': \"1075\",\n        },\n{\n            'v': 0.0,\n            'f': \"0.0\",\n        }],\n [\"2020-08-24 00:00:00\",\n{\n            'v': 1076,\n            'f': \"1076\",\n        },\n{\n            'v': 1.0,\n            'f': \"1.0\",\n        }],\n [\"2020-08-25 00:00:00\",\n{\n            'v': 1076,\n            'f': \"1076\",\n        },\n{\n            'v': 0.0,\n            'f': \"0.0\",\n        }],\n [\"2020-08-26 00:00:00\",\n{\n            'v': 1076,\n            'f': \"1076\",\n        },\n{\n            'v': 0.0,\n            'f': \"0.0\",\n        }],\n [\"2020-08-27 00:00:00\",\n{\n            'v': 1077,\n            'f': \"1077\",\n        },\n{\n            'v': 1.0,\n            'f': \"1.0\",\n        }],\n [\"2020-08-28 00:00:00\",\n{\n            'v': 1077,\n            'f': \"1077\",\n        },\n{\n            'v': 0.0,\n            'f': \"0.0\",\n        }],\n [\"2020-08-29 00:00:00\",\n{\n            'v': 1078,\n            'f': \"1078\",\n        },\n{\n            'v': 1.0,\n            'f': \"1.0\",\n        }],\n [\"2020-08-30 00:00:00\",\n{\n            'v': 1078,\n            'f': \"1078\",\n        },\n{\n            'v': 0.0,\n            'f': \"0.0\",\n        }],\n [\"2020-08-31 00:00:00\",\n{\n            'v': 1078,\n            'f': \"1078\",\n        },\n{\n            'v': 0.0,\n            'f': \"0.0\",\n        }],\n [\"2020-09-01 00:00:00\",\n{\n            'v': 1079,\n            'f': \"1079\",\n        },\n{\n            'v': 1.0,\n            'f': \"1.0\",\n        }],\n [\"2020-09-02 00:00:00\",\n{\n            'v': 1079,\n            'f': \"1079\",\n        },\n{\n            'v': 0.0,\n            'f': \"0.0\",\n        }],\n [\"2020-09-03 00:00:00\",\n{\n            'v': 1080,\n            'f': \"1080\",\n        },\n{\n            'v': 1.0,\n            'f': \"1.0\",\n        }],\n [\"2020-09-04 00:00:00\",\n{\n            'v': 1080,\n            'f': \"1080\",\n        },\n{\n            'v': 0.0,\n            'f': \"0.0\",\n        }],\n [\"2020-09-05 00:00:00\",\n{\n            'v': 1080,\n            'f': \"1080\",\n        },\n{\n            'v': 0.0,\n            'f': \"0.0\",\n        }],\n [\"2020-09-06 00:00:00\",\n{\n            'v': 1081,\n            'f': \"1081\",\n        },\n{\n            'v': 1.0,\n            'f': \"1.0\",\n        }],\n [\"2020-09-07 00:00:00\",\n{\n            'v': 1081,\n            'f': \"1081\",\n        },\n{\n            'v': 0.0,\n            'f': \"0.0\",\n        }],\n [\"2020-09-08 00:00:00\",\n{\n            'v': 1082,\n            'f': \"1082\",\n        },\n{\n            'v': 1.0,\n            'f': \"1.0\",\n        }],\n [\"2020-09-09 00:00:00\",\n{\n            'v': 1082,\n            'f': \"1082\",\n        },\n{\n            'v': 0.0,\n            'f': \"0.0\",\n        }],\n [\"2020-09-10 00:00:00\",\n{\n            'v': 1082,\n            'f': \"1082\",\n        },\n{\n            'v': 0.0,\n            'f': \"0.0\",\n        }],\n [\"2020-09-11 00:00:00\",\n{\n            'v': 1083,\n            'f': \"1083\",\n        },\n{\n            'v': 1.0,\n            'f': \"1.0\",\n        }],\n [\"2020-09-12 00:00:00\",\n{\n            'v': 1083,\n            'f': \"1083\",\n        },\n{\n            'v': 0.0,\n            'f': \"0.0\",\n        }],\n [\"2020-09-13 00:00:00\",\n{\n            'v': 1084,\n            'f': \"1084\",\n        },\n{\n            'v': 1.0,\n            'f': \"1.0\",\n        }],\n [\"2020-09-14 00:00:00\",\n{\n            'v': 1084,\n            'f': \"1084\",\n        },\n{\n            'v': 0.0,\n            'f': \"0.0\",\n        }],\n [\"2020-09-15 00:00:00\",\n{\n            'v': 1084,\n            'f': \"1084\",\n        },\n{\n            'v': 0.0,\n            'f': \"0.0\",\n        }],\n [\"2020-09-16 00:00:00\",\n{\n            'v': 1085,\n            'f': \"1085\",\n        },\n{\n            'v': 1.0,\n            'f': \"1.0\",\n        }],\n [\"2020-09-17 00:00:00\",\n{\n            'v': 1085,\n            'f': \"1085\",\n        },\n{\n            'v': 0.0,\n            'f': \"0.0\",\n        }],\n [\"2020-09-18 00:00:00\",\n{\n            'v': 1085,\n            'f': \"1085\",\n        },\n{\n            'v': 0.0,\n            'f': \"0.0\",\n        }],\n [\"2020-09-19 00:00:00\",\n{\n            'v': 1086,\n            'f': \"1086\",\n        },\n{\n            'v': 1.0,\n            'f': \"1.0\",\n        }],\n [\"2020-09-20 00:00:00\",\n{\n            'v': 1086,\n            'f': \"1086\",\n        },\n{\n            'v': 0.0,\n            'f': \"0.0\",\n        }],\n [\"2020-09-21 00:00:00\",\n{\n            'v': 1087,\n            'f': \"1087\",\n        },\n{\n            'v': 1.0,\n            'f': \"1.0\",\n        }],\n [\"2020-09-22 00:00:00\",\n{\n            'v': 1087,\n            'f': \"1087\",\n        },\n{\n            'v': 0.0,\n            'f': \"0.0\",\n        }],\n [\"2020-09-23 00:00:00\",\n{\n            'v': 1087,\n            'f': \"1087\",\n        },\n{\n            'v': 0.0,\n            'f': \"0.0\",\n        }],\n [\"2020-09-24 00:00:00\",\n{\n            'v': 1088,\n            'f': \"1088\",\n        },\n{\n            'v': 1.0,\n            'f': \"1.0\",\n        }],\n [\"2020-09-25 00:00:00\",\n{\n            'v': 1088,\n            'f': \"1088\",\n        },\n{\n            'v': 0.0,\n            'f': \"0.0\",\n        }],\n [\"2020-09-26 00:00:00\",\n{\n            'v': 1088,\n            'f': \"1088\",\n        },\n{\n            'v': 0.0,\n            'f': \"0.0\",\n        }],\n [\"2020-09-27 00:00:00\",\n{\n            'v': 1089,\n            'f': \"1089\",\n        },\n{\n            'v': 1.0,\n            'f': \"1.0\",\n        }],\n [\"2020-09-28 00:00:00\",\n{\n            'v': 1089,\n            'f': \"1089\",\n        },\n{\n            'v': 0.0,\n            'f': \"0.0\",\n        }],\n [\"2020-09-29 00:00:00\",\n{\n            'v': 1090,\n            'f': \"1090\",\n        },\n{\n            'v': 1.0,\n            'f': \"1.0\",\n        }],\n [\"2020-09-30 00:00:00\",\n{\n            'v': 1090,\n            'f': \"1090\",\n        },\n{\n            'v': 0.0,\n            'f': \"0.0\",\n        }],\n [\"2020-10-01 00:00:00\",\n{\n            'v': 1090,\n            'f': \"1090\",\n        },\n{\n            'v': 0.0,\n            'f': \"0.0\",\n        }],\n [\"2020-10-02 00:00:00\",\n{\n            'v': 1091,\n            'f': \"1091\",\n        },\n{\n            'v': 1.0,\n            'f': \"1.0\",\n        }],\n [\"2020-10-03 00:00:00\",\n{\n            'v': 1091,\n            'f': \"1091\",\n        },\n{\n            'v': 0.0,\n            'f': \"0.0\",\n        }],\n [\"2020-10-04 00:00:00\",\n{\n            'v': 1091,\n            'f': \"1091\",\n        },\n{\n            'v': 0.0,\n            'f': \"0.0\",\n        }]],\n        columns: [[\"string\", \"Date\"], [\"number\", \"Cases so far\"], [\"number\", \"New cases\"]],\n        columnOptions: [{\"width\": \"1px\", \"className\": \"index_column\"}],\n        rowsPerPage: 25,\n        helpUrl: \"https://colab.research.google.com/notebooks/data_table.ipynb\",\n        suppressOutputScrolling: true,\n        minimumWidth: undefined,\n      });\n    ",
            "text/html": [
              "<div>\n",
              "<style scoped>\n",
              "    .dataframe tbody tr th:only-of-type {\n",
              "        vertical-align: middle;\n",
              "    }\n",
              "\n",
              "    .dataframe tbody tr th {\n",
              "        vertical-align: top;\n",
              "    }\n",
              "\n",
              "    .dataframe thead th {\n",
              "        text-align: right;\n",
              "    }\n",
              "</style>\n",
              "<table border=\"1\" class=\"dataframe\">\n",
              "  <thead>\n",
              "    <tr style=\"text-align: right;\">\n",
              "      <th></th>\n",
              "      <th>Cases so far</th>\n",
              "      <th>New cases</th>\n",
              "    </tr>\n",
              "    <tr>\n",
              "      <th>Date</th>\n",
              "      <th></th>\n",
              "      <th></th>\n",
              "    </tr>\n",
              "  </thead>\n",
              "  <tbody>\n",
              "    <tr>\n",
              "      <th>2020-04-04</th>\n",
              "      <td>96</td>\n",
              "      <td>NaN</td>\n",
              "    </tr>\n",
              "    <tr>\n",
              "      <th>2020-04-05</th>\n",
              "      <td>106</td>\n",
              "      <td>10.0</td>\n",
              "    </tr>\n",
              "    <tr>\n",
              "      <th>2020-04-06</th>\n",
              "      <td>115</td>\n",
              "      <td>9.0</td>\n",
              "    </tr>\n",
              "    <tr>\n",
              "      <th>2020-04-07</th>\n",
              "      <td>125</td>\n",
              "      <td>10.0</td>\n",
              "    </tr>\n",
              "    <tr>\n",
              "      <th>2020-04-08</th>\n",
              "      <td>153</td>\n",
              "      <td>28.0</td>\n",
              "    </tr>\n",
              "    <tr>\n",
              "      <th>...</th>\n",
              "      <td>...</td>\n",
              "      <td>...</td>\n",
              "    </tr>\n",
              "    <tr>\n",
              "      <th>2020-09-30</th>\n",
              "      <td>1090</td>\n",
              "      <td>0.0</td>\n",
              "    </tr>\n",
              "    <tr>\n",
              "      <th>2020-10-01</th>\n",
              "      <td>1090</td>\n",
              "      <td>0.0</td>\n",
              "    </tr>\n",
              "    <tr>\n",
              "      <th>2020-10-02</th>\n",
              "      <td>1091</td>\n",
              "      <td>1.0</td>\n",
              "    </tr>\n",
              "    <tr>\n",
              "      <th>2020-10-03</th>\n",
              "      <td>1091</td>\n",
              "      <td>0.0</td>\n",
              "    </tr>\n",
              "    <tr>\n",
              "      <th>2020-10-04</th>\n",
              "      <td>1091</td>\n",
              "      <td>0.0</td>\n",
              "    </tr>\n",
              "  </tbody>\n",
              "</table>\n",
              "<p>184 rows × 2 columns</p>\n",
              "</div>"
            ],
            "text/plain": [
              "            Cases so far  New cases\n",
              "Date                               \n",
              "2020-04-04            96        NaN\n",
              "2020-04-05           106       10.0\n",
              "2020-04-06           115        9.0\n",
              "2020-04-07           125       10.0\n",
              "2020-04-08           153       28.0\n",
              "...                  ...        ...\n",
              "2020-09-30          1090        0.0\n",
              "2020-10-01          1090        0.0\n",
              "2020-10-02          1091        1.0\n",
              "2020-10-03          1091        0.0\n",
              "2020-10-04          1091        0.0\n",
              "\n",
              "[184 rows x 2 columns]"
            ]
          },
          "metadata": {
            "tags": []
          },
          "execution_count": 8
        }
      ]
    },
    {
      "cell_type": "markdown",
      "metadata": {
        "id": "RgwZPNWBoqdu",
        "colab_type": "text"
      },
      "source": [
        "## Shaman et al. cases model\n",
        "\n"
      ]
    },
    {
      "cell_type": "markdown",
      "metadata": {
        "id": "emAbGsnloqd0",
        "colab_type": "text"
      },
      "source": [
        "Pulled from [here](https://github.com/shaman-lab/COVID-19Projection)\n",
        "([paper](https://www.medrxiv.org/content/10.1101/2020.03.21.20040303v2))\n",
        "\n"
      ]
    },
    {
      "cell_type": "code",
      "metadata": {
        "id": "jY1SxRcaoqd1",
        "colab_type": "code",
        "colab": {}
      },
      "source": [
        "pd.options.mode.chained_assignment = None  # default='warn'\n",
        "scenarios = [\"nointerv\", \"60contact\", \"70contact\", \"80contact\"]\n",
        "cu_model_data = {}\n",
        "for scenario in scenarios:\n",
        "    df = pd.read_csv(f\"https://raw.githubusercontent.com/shaman-lab/COVID-19Projection/master/Projection_April26/Projection_{scenario}.csv\", parse_dates=[\"Date\"])\n",
        "    df = df[df.county == \"El Paso County TX\"]\n",
        "    scenarios = [\"nointerv\", \"60contact\", \"70contact\", \"80contact\"]\n",
        "    scenario = scenarios[0]\n",
        "\n",
        "    cases = pd.read_csv(f\"https://raw.githubusercontent.com/shaman-lab/COVID-19Projection/master/Projection_April26/Projection_{scenario}.csv\", parse_dates=[\"Date\"])\n",
        "    cases = cases[cases.county == \"El Paso County TX\"]\n",
        "    cases_left = cases[['county', 'fips', 'Date']]\n",
        "    cases_left.loc[:,\"var\"] = 'cases'\n",
        "    cases =  cases[['report_2.5', 'report_25', 'report_50', 'report_75', 'report_97.5']]\n",
        "    cases.columns = cases.columns.map(lambda x: x.split('_')[1])\n",
        "    cases = pd.concat([cases_left, cases], axis=1)\n",
        "\n",
        "\n",
        "    multiple = pd.read_csv(f\"https://raw.githubusercontent.com/shaman-lab/COVID-19Projection/master/Projection_April26/bed_{scenario}.csv\", parse_dates=[\"Date\"])\n",
        "    multiple = multiple[multiple.county == \"El Paso County TX\"]\n",
        "    base = multiple[['county', 'fips', 'Date']]\n",
        "\n",
        "    beds_left  = base.copy()\n",
        "    beds_left.loc[:,\"var\"] = 'hosp'\n",
        "    beds =  multiple[['hosp_need_2.5', 'hosp_need_25', 'hosp_need_50', 'hosp_need_75', 'hosp_need_97.5']]\n",
        "    beds.columns = beds.columns.map(lambda x: x.split('_')[2])\n",
        "    beds = pd.concat([beds_left, beds], axis=1)\n",
        "\n",
        "    icu_left  = base.copy()\n",
        "    icu_left.loc[:,\"var\"] = 'ICU'\n",
        "    icu =  multiple[['ICU_need_2.5', 'ICU_need_25', 'ICU_need_50', 'ICU_need_75', 'ICU_need_97.5']]\n",
        "    icu.columns = icu.columns.map(lambda x: x.split('_')[2])\n",
        "    icu = pd.concat([icu_left, icu], axis=1)\n",
        "\n",
        "    vent_left  = base.copy()\n",
        "    vent_left.loc[:,\"var\"] = 'vent'\n",
        "    vent =  multiple[['vent_need_2.5', 'vent_need_25', 'vent_need_50', 'vent_need_75', 'vent_need_97.5']]\n",
        "    vent.columns = vent.columns.map(lambda x: x.split('_')[2])\n",
        "    vent = pd.concat([vent_left, vent], axis=1)\n",
        "\n",
        "    death_left  = base.copy()\n",
        "    death_left.loc[:,\"var\"] = 'death'\n",
        "    death =  multiple[['death_2.5', 'death_25', 'death_50', 'death_75', 'death_97.5']]\n",
        "    death.columns = death.columns.map(lambda x: x.split('_')[1])\n",
        "    death = pd.concat([death_left, death], axis=1)\n",
        "\n",
        "    df = pd.concat([cases, beds, icu, vent, death])\n",
        "    df[\"Date\"] = df[\"Date\"].apply(lambda x: x.date())\n",
        "    #df.set_index(\"Date\", inplace = True)\n",
        "    cu_model_data[scenario] = df\n",
        "\n",
        "@ergo.mem\n",
        "def cu_model_scenario():\n",
        "    \"\"\"Which of the model scenarios are we in?\"\"\"\n",
        "    return ergo.random_choice([s for s in cu_model_data.keys()])\n",
        "\n",
        "@ergo.mem\n",
        "def cu_model_quantile():\n",
        "    \"\"\"Where in the distribution of model outputs are we for this model run?\n",
        "    Want to be consistent across time, so we sample it once per model run\"\"\"\n",
        "    return ergo.uniform()"
      ],
      "execution_count": 0,
      "outputs": []
    },
    {
      "cell_type": "code",
      "metadata": {
        "id": "wmzTS86GAHk-",
        "colab_type": "code",
        "colab": {
          "base_uri": "https://localhost:8080/",
          "height": 255
        },
        "outputId": "509e3e7e-c923-40af-8a88-70ed9c69e176"
      },
      "source": [
        "cu_model_data"
      ],
      "execution_count": 24,
      "outputs": [
        {
          "output_type": "execute_result",
          "data": {
            "text/plain": [
              "{'nointerv':                    county   fips        Date    var  2.5  25  50  75  97.5\n",
              " 2593    El Paso County TX  48141  2020-04-26  cases   13  27  36  49    75\n",
              " 5735    El Paso County TX  48141  2020-04-27  cases   12  27  35  48    81\n",
              " 8877    El Paso County TX  48141  2020-04-28  cases   13  24  32  49    83\n",
              " 12019   El Paso County TX  48141  2020-04-29  cases   13  23  36  47    87\n",
              " 15161   El Paso County TX  48141  2020-04-30  cases   11  23  31  49    93\n",
              " ...                   ...    ...         ...    ...  ...  ..  ..  ..   ...\n",
              " 118847  El Paso County TX  48141  2020-06-02  death    0  14  48  74   128\n",
              " 121989  El Paso County TX  48141  2020-06-03  death    1  16  49  79   125\n",
              " 125131  El Paso County TX  48141  2020-06-04  death    0  12  55  83   141\n",
              " 128273  El Paso County TX  48141  2020-06-05  death    1  23  58  89   150\n",
              " 131415  El Paso County TX  48141  2020-06-06  death    1  22  66  94   145\n",
              " \n",
              " [210 rows x 9 columns]}"
            ]
          },
          "metadata": {
            "tags": []
          },
          "execution_count": 24
        }
      ]
    },
    {
      "cell_type": "code",
      "metadata": {
        "id": "8vXkTdqRoqeO",
        "colab_type": "code",
        "colab": {}
      },
      "source": [
        "scenarios = [\"nointerv\", \"60contact\", \"70contact\", \"80contact\"]\n",
        "scenario = scenarios[0]\n",
        "\n",
        "cases = pd.read_csv(f\"https://raw.githubusercontent.com/shaman-lab/COVID-19Projection/master/Projection_April26/Projection_{scenario}.csv\", parse_dates=[\"Date\"])\n",
        "cases = cases[cases.county == \"El Paso County TX\"]\n",
        "cases_left = cases[['county', 'fips', 'Date']]\n",
        "cases_left.loc[:,\"id\"] = 'cases'\n",
        "cases =  cases[['report_2.5', 'report_25', 'report_50', 'report_75', 'report_97.5']]\n",
        "cases.columns = cases.columns.map(lambda x: x.split('_')[1])\n",
        "cases = pd.concat([cases_left, cases], axis=1)\n",
        "\n",
        "\n",
        "multiple = pd.read_csv(f\"https://raw.githubusercontent.com/shaman-lab/COVID-19Projection/master/Projection_April26/bed_{scenario}.csv\", parse_dates=[\"Date\"])\n",
        "multiple = multiple[multiple.county == \"El Paso County TX\"]\n",
        "base = multiple[['county', 'fips', 'Date']]\n",
        "\n",
        "beds_left  = base.copy()\n",
        "beds_left.loc[:,\"id\"] = 'hosp'\n",
        "beds =  multiple[['hosp_need_2.5', 'hosp_need_25', 'hosp_need_50', 'hosp_need_75', 'hosp_need_97.5']]\n",
        "beds.columns = beds.columns.map(lambda x: x.split('_')[2])\n",
        "beds = pd.concat([beds_left, beds], axis=1)\n",
        "\n",
        "icu_left  = base.copy()\n",
        "icu_left.loc[:,\"id\"] = 'ICU'\n",
        "icu =  multiple[['ICU_need_2.5', 'ICU_need_25', 'ICU_need_50', 'ICU_need_75', 'ICU_need_97.5']]\n",
        "icu.columns = icu.columns.map(lambda x: x.split('_')[2])\n",
        "icu = pd.concat([icu_left, icu], axis=1)\n",
        "\n",
        "vent_left  = base.copy()\n",
        "vent_left.loc[:,\"id\"] = 'vent'\n",
        "vent =  multiple[['vent_need_2.5', 'vent_need_25', 'vent_need_50', 'vent_need_75', 'vent_need_97.5']]\n",
        "vent.columns = vent.columns.map(lambda x: x.split('_')[2])\n",
        "vent = pd.concat([vent_left, vent], axis=1)\n",
        "\n",
        "death_left  = base.copy()\n",
        "death_left.loc[:,\"id\"] = 'death'\n",
        "death =  multiple[['death_2.5', 'death_25', 'death_50', 'death_75', 'death_97.5']]\n",
        "death.columns = death.columns.map(lambda x: x.split('_')[1])\n",
        "death = pd.concat([death_left, death], axis=1)\n",
        "\n",
        "df = pd.concat([cases, beds, icu, vent, death])\n",
        "df[\"Date\"] = df[\"Date\"].apply(lambda x: x.date())\n",
        "df.set_index(\"Date\", inplace = True)\n",
        "#cu_model_data[scenario] = df\n",
        "\n",
        "\n",
        "#df[\"Date\"] = df[\"Date\"].apply(lambda x: x.date())\n",
        "#df.set_index(\"Date\", inplace = True)\n",
        "#cu_model_data[scenario] = df"
      ],
      "execution_count": 0,
      "outputs": []
    },
    {
      "cell_type": "markdown",
      "metadata": {
        "id": "D-kCCewtoqeV",
        "colab_type": "text"
      },
      "source": [
        "## @brachbach model: cases -> hospitalized\n",
        "\n"
      ]
    },
    {
      "cell_type": "code",
      "metadata": {
        "id": "2vZqvFNUoqed",
        "colab_type": "code",
        "colab": {}
      },
      "source": [
        "get_daily_hospital_confirmed = brachbach.get_daily_hospital_confirmed"
      ],
      "execution_count": 0,
      "outputs": []
    },
    {
      "cell_type": "markdown",
      "metadata": {
        "id": "_la3x7_joqep",
        "colab_type": "text"
      },
      "source": [
        "## Access historical data\n",
        "\n"
      ]
    },
    {
      "cell_type": "code",
      "metadata": {
        "id": "u1GWyuxvoqet",
        "colab_type": "code",
        "colab": {}
      },
      "source": [
        "def get_historical_data(date: date, column_name):\n",
        "    \"\"\"\n",
        "    Look up the value of a parameter on a given date\n",
        "    in the historical data we've loaded.\n",
        "\n",
        "    Return the value or raise a KeyError if we don't have it.\n",
        "    \"\"\"\n",
        "\n",
        "    # prefer Texas government data over @KrisMoore compiled data\n",
        "    try: \n",
        "        value = el_paso_cases.loc[date, column_name]\n",
        "        if np.isnan(value):\n",
        "            raise KeyError(f\"value for {column_name} in el_paso_cases is NaN\")\n",
        "    except KeyError:\n",
        "        value = compiled_data.loc[date, column_name]\n",
        "        if np.isnan(value):\n",
        "            raise KeyError(f\"value for {column_name} in compiled_data is NaN\")\n",
        "    return value"
      ],
      "execution_count": 0,
      "outputs": []
    },
    {
      "cell_type": "markdown",
      "metadata": {
        "id": "adtzSiTzoqey",
        "colab_type": "text"
      },
      "source": [
        "# Model components\n",
        "\n"
      ]
    },
    {
      "cell_type": "markdown",
      "metadata": {
        "id": "uLluFZigoqe0",
        "colab_type": "text"
      },
      "source": [
        "In this notebook, we model some aspects of how the COVID-19 pandemic\n",
        "will play out in El Paso. Our goal is to answer the questions in the\n",
        "[El\n",
        "Paso Metaculus series](https://pandemic.metaculus.com/questions/?search=cat:internal--el-paso).\n",
        "\n",
        "In this section, we model some key variables that we'll use to answer\n",
        "the Metaculus questions in the next section. We sometimes ensemble\n",
        "multiple models to try to get a better estimate of a variable.\n",
        "\n"
      ]
    },
    {
      "cell_type": "code",
      "metadata": {
        "id": "PH7nNZzToqe2",
        "colab_type": "code",
        "colab": {}
      },
      "source": [
        "START_DATE = date(2020, 4, 1)"
      ],
      "execution_count": 0,
      "outputs": []
    },
    {
      "cell_type": "markdown",
      "metadata": {
        "id": "ay0LneRGoqe6",
        "colab_type": "text"
      },
      "source": [
        "## Daily COVID Infections\n",
        "\n"
      ]
    },
    {
      "cell_type": "markdown",
      "metadata": {
        "id": "xVqayevNoqe7",
        "colab_type": "text"
      },
      "source": [
        "### Shaman Model\n",
        "\n"
      ]
    },
    {
      "cell_type": "code",
      "metadata": {
        "id": "zuLDT7wpoqe8",
        "colab_type": "code",
        "colab": {}
      },
      "source": [
        "def daily_infections_cu_model(date: date) -> int:\n",
        "    \"\"\"\n",
        "    Predict the number of reported (new) Covid-19 infections on [date]\n",
        "    using the Columbia model\n",
        "    \"\"\"\n",
        "    scenario = cu_model_scenario()\n",
        "    quantile = cu_model_quantile()\n",
        "\n",
        "    # Extract quantiles of the model distribution\n",
        "    xs = np.array([0.025, 0.25, 0.5, 0.75, 0.975])\n",
        "    ys = cu_model_data[scenario].loc[(cu_model_data[scenario][\"Date\"] == date) & (cu_model_data[scenario][\"var\"] == \"cases\") , [\"2.5\", \"25\",  \"50\",  \"75\",  \"97.5\"]].values[0]\n",
        "\n",
        "    # Linearly interpolate\n",
        "    return int(round(np.interp(quantile, xs, ys)))\n",
        "\n",
        "scenario = cu_model_scenario()\n",
        "quantile = cu_model_quantile()"
      ],
      "execution_count": 0,
      "outputs": []
    },
    {
      "cell_type": "markdown",
      "metadata": {
        "id": "ZCf3Y7-KoqfA",
        "colab_type": "text"
      },
      "source": [
        "### @onlyasith model+\n",
        "\n"
      ]
    },
    {
      "cell_type": "code",
      "metadata": {
        "id": "FKsmzWdnoqfB",
        "colab_type": "code",
        "colab": {}
      },
      "source": [
        "@ergo.mem\n",
        "def daily_infections_base_model(date: date) -> int:\n",
        "    \"\"\"\n",
        "    What is the number of reported (new) Covid-19 infections on [date]?\n",
        "    \"\"\"\n",
        "    try:\n",
        "        # Look up projections from @onlyasith's model\n",
        "        cases = projected_cases.loc[date, \"New cases\"]\n",
        "        if np.isnan(cases):\n",
        "            raise KeyError\n",
        "\n",
        "        # Add some (fairly arbitrary) uncertainty around this point estimate\n",
        "        if cases == 0:\n",
        "          return cases\n",
        "        cases_estimate = ergo.lognormal_from_interval(cases * 0.8, cases * 1.2)\n",
        "        return int(np.clip(cases_estimate, cases * 0.5, cases * 2).round())\n",
        "    except KeyError:\n",
        "        # We're beyond the time range for data and model\n",
        "        return 0"
      ],
      "execution_count": 0,
      "outputs": []
    },
    {
      "cell_type": "markdown",
      "metadata": {
        "id": "KYMrFqlyoqfI",
        "colab_type": "text"
      },
      "source": [
        "### Sample from ensemble\n",
        "\n"
      ]
    },
    {
      "cell_type": "code",
      "metadata": {
        "id": "f2Af2ICaoqfI",
        "colab_type": "code",
        "colab": {}
      },
      "source": [
        "@ergo.mem\n",
        "def daily_infections(date: date) -> int:\n",
        "    \"\"\"\n",
        "    What is the number of reported (new) Covid-19 infections on [date]?\n",
        "    \"\"\"\n",
        "    try:\n",
        "        return get_historical_data(date, \"New cases\")\n",
        "    except KeyError:  # if we don't have historical data, use our ensemble of models\n",
        "        return sample_from_ensemble([daily_infections_cu_model, daily_infections_base_model], {\"date\": date}, [.8, .2], fallback=True, default=0)"
      ],
      "execution_count": 0,
      "outputs": []
    },
    {
      "cell_type": "markdown",
      "metadata": {
        "id": "itlaj3SCoqfL",
        "colab_type": "text"
      },
      "source": [
        "## Daily COVID infections: mean, sma, peak\n",
        "\n"
      ]
    },
    {
      "cell_type": "code",
      "metadata": {
        "id": "w1tS5tLjoqfN",
        "colab_type": "code",
        "colab": {}
      },
      "source": [
        "@ergo.mem\n",
        "def mean_infections(start_date: date, end_date: date):\n",
        "    \"\"\"\n",
        "    What is the average number of reported new infections for this range of \n",
        "    dates? (Including start date, excluding end date)\n",
        "    \"\"\"\n",
        "    days = daterange(start_date, end_date)\n",
        "    return np.mean([daily_infections(day) for day in days])"
      ],
      "execution_count": 0,
      "outputs": []
    },
    {
      "cell_type": "code",
      "metadata": {
        "id": "ljJy4gedoqfQ",
        "colab_type": "code",
        "colab": {}
      },
      "source": [
        "@ergo.mem\n",
        "def sma_infections(date: date):\n",
        "    \"\"\"\n",
        "    The simple moving average of infections for a date.\n",
        "\n",
        "    Defined in https://pandemic.metaculus.com/questions/4128:\n",
        "\n",
        "    'The 2-day SMA is defined as the unweighted average (arithmetic mean)\n",
        "    over the current day and the previous day.'\n",
        "    \"\"\"\n",
        "    return mean_infections(date - timedelta(1), date + timedelta(1))\n",
        "\n",
        "@ergo.mem\n",
        "def peak_compatible_with_historical_data(peak_date):\n",
        "    \"\"\"\n",
        "    Check whether it's possible that some date in the past\n",
        "    was the peak date of new COVID infections in El Paso,\n",
        "    given the historical data we have about COVID infections\n",
        "    \"\"\"\n",
        "    if not peak_date in el_paso_cases.index:\n",
        "        return True\n",
        "    for comparison_date in daterange(START_DATE, peak_date + timedelta(11)):\n",
        "        if comparison_date not in el_paso_cases.index:\n",
        "            continue\n",
        "        if sma_infections(comparison_date) > sma_infections(peak_date):\n",
        "            return False\n",
        "        if sma_infections(comparison_date) == sma_infections(peak_date) and comparison_date > peak_date:\n",
        "            return False\n",
        "    return True\n",
        "\n",
        "\n",
        "@ergo.mem\n",
        "def peak_infection_date_community():\n",
        "    \"\"\"\n",
        "    The community assigns probability to some dates in the past\n",
        "    that we already know were not the peak.\n",
        "    So instead of sampling from the full community distribution,\n",
        "    sample from the portion of the community distribution\n",
        "    that is plausibly correct.\n",
        "    \"\"\"    \n",
        "    peak_date = rejection_sample(\n",
        "        peak_infection_date.question.sample_community, \n",
        "        peak_compatible_with_historical_data)\n",
        "    return peak_date"
      ],
      "execution_count": 0,
      "outputs": []
    },
    {
      "cell_type": "markdown",
      "metadata": {
        "id": "oL9avVm4oqfT",
        "colab_type": "text"
      },
      "source": [
        "## Patients with COVID in the hospital\n",
        "\n"
      ]
    },
    {
      "cell_type": "code",
      "metadata": {
        "id": "MbTx1ZRwoqfU",
        "colab_type": "code",
        "colab": {}
      },
      "source": [
        "# Build @brachbach model\n",
        "hospital_confirmed_from_daily_infected_model = get_daily_hospital_confirmed(compiled_data, daily_infections)\n",
        "\n",
        "@ergo.mem\n",
        "def hospital_confirmed_for_date(date: date) -> int:\n",
        "    \"\"\"\n",
        "    The total number of lab-confirmed COVID-19 patients in El Paso County in\n",
        "    the hospital on this date\n",
        "    \"\"\"\n",
        "    try:\n",
        "        return get_historical_data(date, \"In hospital confirmed\")\n",
        "    except KeyError:\n",
        "        try:\n",
        "            # Get point estimate from @brachbach's regression model\n",
        "            cases = hospital_confirmed_from_daily_infected_model(date)\n",
        "\n",
        "            # Add some (fairly arbitrary) uncertainty around this point estimate\n",
        "            if cases == 0:\n",
        "              return cases\n",
        "            cases_estimate = ergo.lognormal_from_interval(cases * 0.8, cases * 1.2)\n",
        "            return np.clip(cases_estimate, cases * 0.5, cases * 2)\n",
        "        except KeyError:\n",
        "            return 0"
      ],
      "execution_count": 0,
      "outputs": []
    },
    {
      "cell_type": "markdown",
      "metadata": {
        "id": "RCTGq3SWoqfY",
        "colab_type": "text"
      },
      "source": [
        "## Proportion ICU admissions requiring ventilation\n",
        "\n"
      ]
    },
    {
      "cell_type": "code",
      "metadata": {
        "id": "2mPlfji2oqfY",
        "colab_type": "code",
        "colab": {}
      },
      "source": [
        "@ergo.mem\n",
        "def frac_icu_ventilation():\n",
        "    \"\"\"\n",
        "    Proportion of ICU admissions requiring ventilation\n",
        "\n",
        "    Approach (PabloStafforini et al): \n",
        "    https://pandemic.metaculus.com/questions/4154/#comment-28155\n",
        "\n",
        "    TODO: \n",
        "    - Improve how we use case data\n",
        "    - Add qualitative adjustments\n",
        "    \"\"\"\n",
        "    ventilation_pseudocounts = 25 + 17 + 0.05 * 1150 + 0.1 * 132\n",
        "    icu_pseudocounts = 100 + 36 + 0.05 * 1300 + 0.1 * 196\n",
        "    return ergo.beta_from_hits(ventilation_pseudocounts, icu_pseudocounts)"
      ],
      "execution_count": 0,
      "outputs": []
    },
    {
      "cell_type": "markdown",
      "metadata": {
        "id": "vS6opPzxoqfb",
        "colab_type": "text"
      },
      "source": [
        "# El Paso questions\n",
        "\n"
      ]
    },
    {
      "cell_type": "code",
      "metadata": {
        "id": "KTc1ptwIoqfe",
        "colab_type": "code",
        "outputId": "bd7bc609-225f-460e-a3d8-d2c5f05c96a5",
        "colab": {
          "base_uri": "https://localhost:8080/",
          "height": 730,
          "referenced_widgets": [
            "eb247ba29a6347cea6f80bf7a5e3c4f1",
            "1dcd888003b84b00ac53a9b587cb1783",
            "d99a8b9e76ed405ab119b6754fee06d6",
            "d42b4466053e4ef0a69a8d7e922281dc",
            "95615956f637412dbf5ca0390981c7c4",
            "32ee791d8db34e5db6d9bf3f7f366f65",
            "92d94eba3a2140c3a82910cd272229ee",
            "9495eee8f91246dba31465c14f6a1bda"
          ]
        }
      },
      "source": [
        "@question(metaculus, 4128, community_weight=0.95, community_fn=peak_infection_date_community, start_date=START_DATE)\n",
        "def peak_infection_date() -> date:\n",
        "    \"\"\"\n",
        "    When will El Paso County, Texas, experience its first peak number of COVID\n",
        "    infections?\n",
        "\n",
        "    From https://pandemic.metaculus.com/questions/4128:\n",
        "    'This question resolves as the date for which\n",
        "    the 2-day simple moving average(SMA) of the number of reported new infections\n",
        "    is strictly greater than the 2-day SMA over the subsequent 10 days.'\n",
        "    \"\"\"\n",
        "    end_date = date(2020, 7, 1)\n",
        "    for today in daterange(START_DATE, end_date):\n",
        "        sma_today = sma_infections(today)\n",
        "        future_smas = [sma_infections(today + timedelta(i)) for i in range(1,11)]\n",
        "        if sma_today > max(future_smas):\n",
        "            return today\n",
        "            return end_date\n",
        "\n",
        "plot_question(peak_infection_date, start_date=START_DATE)"
      ],
      "execution_count": 21,
      "outputs": [
        {
          "output_type": "display_data",
          "data": {
            "application/vnd.jupyter.widget-view+json": {
              "model_id": "eb247ba29a6347cea6f80bf7a5e3c4f1",
              "version_minor": 0,
              "version_major": 2
            },
            "text/plain": [
              "HBox(children=(FloatProgress(value=0.0, max=200.0), HTML(value='')))"
            ]
          },
          "metadata": {
            "tags": []
          }
        },
        {
          "output_type": "stream",
          "text": [
            "\n"
          ],
          "name": "stdout"
        },
        {
          "output_type": "display_data",
          "data": {
            "application/vnd.google.colaboratory.module+javascript": "\n      import \"https://ssl.gstatic.com/colaboratory/data_table/a6224c040fa35dcf/data_table.js\";\n\n      window.createDataTable({\n        data: [[\"peak_infection_date\",\n{\n            'v': 200.0,\n            'f': \"200.0\",\n        },\n{\n            'v': 39.65,\n            'f': \"39.65\",\n        },\n{\n            'v': 32.66,\n            'f': \"32.66\",\n        },\n{\n            'v': 25.0,\n            'f': \"25.0\",\n        },\n{\n            'v': 25.0,\n            'f': \"25.0\",\n        },\n{\n            'v': 25.0,\n            'f': \"25.0\",\n        },\n{\n            'v': 38.0,\n            'f': \"38.0\",\n        },\n{\n            'v': 167.0,\n            'f': \"167.0\",\n        }]],\n        columns: [[\"string\", \"index\"], [\"number\", \"count\"], [\"number\", \"mean\"], [\"number\", \"std\"], [\"number\", \"min\"], [\"number\", \"25%\"], [\"number\", \"50%\"], [\"number\", \"75%\"], [\"number\", \"max\"]],\n        columnOptions: [{\"width\": \"1px\", \"className\": \"index_column\"}],\n        rowsPerPage: 25,\n        helpUrl: \"https://colab.research.google.com/notebooks/data_table.ipynb\",\n        suppressOutputScrolling: true,\n        minimumWidth: undefined,\n      });\n    ",
            "text/html": [
              "<div>\n",
              "<style scoped>\n",
              "    .dataframe tbody tr th:only-of-type {\n",
              "        vertical-align: middle;\n",
              "    }\n",
              "\n",
              "    .dataframe tbody tr th {\n",
              "        vertical-align: top;\n",
              "    }\n",
              "\n",
              "    .dataframe thead th {\n",
              "        text-align: right;\n",
              "    }\n",
              "</style>\n",
              "<table border=\"1\" class=\"dataframe\">\n",
              "  <thead>\n",
              "    <tr style=\"text-align: right;\">\n",
              "      <th></th>\n",
              "      <th>count</th>\n",
              "      <th>mean</th>\n",
              "      <th>std</th>\n",
              "      <th>min</th>\n",
              "      <th>25%</th>\n",
              "      <th>50%</th>\n",
              "      <th>75%</th>\n",
              "      <th>max</th>\n",
              "    </tr>\n",
              "  </thead>\n",
              "  <tbody>\n",
              "    <tr>\n",
              "      <th>peak_infection_date</th>\n",
              "      <td>200.0</td>\n",
              "      <td>39.65</td>\n",
              "      <td>32.66</td>\n",
              "      <td>25.0</td>\n",
              "      <td>25.0</td>\n",
              "      <td>25.0</td>\n",
              "      <td>38.0</td>\n",
              "      <td>167.0</td>\n",
              "    </tr>\n",
              "  </tbody>\n",
              "</table>\n",
              "</div>"
            ],
            "text/plain": [
              "                     count   mean    std   min   25%   50%   75%    max\n",
              "peak_infection_date  200.0  39.65  32.66  25.0  25.0  25.0  38.0  167.0"
            ]
          },
          "metadata": {
            "tags": []
          }
        },
        {
          "output_type": "display_data",
          "data": {
            "image/png": "[encoded data removed]",
            "text/plain": [
              "<Figure size 640x480 with 2 Axes>"
            ]
          },
          "metadata": {
            "tags": []
          }
        }
      ]
    },
    {
      "cell_type": "code",
      "metadata": {
        "id": "GS5__r6doqfi",
        "colab_type": "code",
        "outputId": "d7c612b0-617e-4d5d-9e81-c4e519f1efde",
        "colab": {
          "base_uri": "https://localhost:8080/",
          "height": 685,
          "referenced_widgets": [
            "c62d9d0cc1b84e0ab6f80a70763ed21b",
            "1f8df6c932d24484bedb7630784f5b1d",
            "3a3af61c0bf742839d40ba02b62701be",
            "854b61e007614e23bcce33f00ed171e9",
            "5f281be40adc4253adf1413e435f2b54",
            "48088900b29a4602a6e77c8064566145",
            "2b4395bbfb1d44aea06308a2039e0513",
            "b81ce6e816ec416e9f2497fc8c484264"
          ]
        }
      },
      "source": [
        "@question(metaculus, 4137, community_weight=0.5)\n",
        "def peak_infections():\n",
        "    \"\"\"\n",
        "    How many new infections will be reported in El Paso on the day on which\n",
        "    the number of new reported infections peaks?\n",
        "    \"\"\"\n",
        "    peak = peak_infection_date()\n",
        "    return daily_infections(peak)\n",
        "plot_question(peak_infections)"
      ],
      "execution_count": 22,
      "outputs": [
        {
          "output_type": "display_data",
          "data": {
            "application/vnd.jupyter.widget-view+json": {
              "model_id": "c62d9d0cc1b84e0ab6f80a70763ed21b",
              "version_minor": 0,
              "version_major": 2
            },
            "text/plain": [
              "HBox(children=(FloatProgress(value=0.0, max=200.0), HTML(value='')))"
            ]
          },
          "metadata": {
            "tags": []
          }
        },
        {
          "output_type": "stream",
          "text": [
            "\n"
          ],
          "name": "stdout"
        },
        {
          "output_type": "display_data",
          "data": {
            "application/vnd.google.colaboratory.module+javascript": "\n      import \"https://ssl.gstatic.com/colaboratory/data_table/a6224c040fa35dcf/data_table.js\";\n\n      window.createDataTable({\n        data: [[\"peak_infection_date\",\n{\n            'v': 97.0,\n            'f': \"97.0\",\n        },\n{\n            'v': 42.44,\n            'f': \"42.44\",\n        },\n{\n            'v': 37.2,\n            'f': \"37.2\",\n        },\n{\n            'v': 25.0,\n            'f': \"25.0\",\n        },\n{\n            'v': 25.0,\n            'f': \"25.0\",\n        },\n{\n            'v': 25.0,\n            'f': \"25.0\",\n        },\n{\n            'v': 38.0,\n            'f': \"38.0\",\n        },\n{\n            'v': 161.0,\n            'f': \"161.0\",\n        }],\n [\"peak_infections\",\n{\n            'v': 200.0,\n            'f': \"200.0\",\n        },\n{\n            'v': 248.69,\n            'f': \"248.69\",\n        },\n{\n            'v': 1350.34,\n            'f': \"1350.34\",\n        },\n{\n            'v': 0.0,\n            'f': \"0.0\",\n        },\n{\n            'v': 67.48,\n            'f': \"67.48\",\n        },\n{\n            'v': 74.0,\n            'f': \"74.0\",\n        },\n{\n            'v': 74.61,\n            'f': \"74.61\",\n        },\n{\n            'v': 13688.87,\n            'f': \"13688.87\",\n        }]],\n        columns: [[\"string\", \"index\"], [\"number\", \"count\"], [\"number\", \"mean\"], [\"number\", \"std\"], [\"number\", \"min\"], [\"number\", \"25%\"], [\"number\", \"50%\"], [\"number\", \"75%\"], [\"number\", \"max\"]],\n        columnOptions: [{\"width\": \"1px\", \"className\": \"index_column\"}],\n        rowsPerPage: 25,\n        helpUrl: \"https://colab.research.google.com/notebooks/data_table.ipynb\",\n        suppressOutputScrolling: true,\n        minimumWidth: undefined,\n      });\n    ",
            "text/html": [
              "<div>\n",
              "<style scoped>\n",
              "    .dataframe tbody tr th:only-of-type {\n",
              "        vertical-align: middle;\n",
              "    }\n",
              "\n",
              "    .dataframe tbody tr th {\n",
              "        vertical-align: top;\n",
              "    }\n",
              "\n",
              "    .dataframe thead th {\n",
              "        text-align: right;\n",
              "    }\n",
              "</style>\n",
              "<table border=\"1\" class=\"dataframe\">\n",
              "  <thead>\n",
              "    <tr style=\"text-align: right;\">\n",
              "      <th></th>\n",
              "      <th>count</th>\n",
              "      <th>mean</th>\n",
              "      <th>std</th>\n",
              "      <th>min</th>\n",
              "      <th>25%</th>\n",
              "      <th>50%</th>\n",
              "      <th>75%</th>\n",
              "      <th>max</th>\n",
              "    </tr>\n",
              "  </thead>\n",
              "  <tbody>\n",
              "    <tr>\n",
              "      <th>peak_infection_date</th>\n",
              "      <td>97.0</td>\n",
              "      <td>42.44</td>\n",
              "      <td>37.20</td>\n",
              "      <td>25.0</td>\n",
              "      <td>25.00</td>\n",
              "      <td>25.0</td>\n",
              "      <td>38.00</td>\n",
              "      <td>161.00</td>\n",
              "    </tr>\n",
              "    <tr>\n",
              "      <th>peak_infections</th>\n",
              "      <td>200.0</td>\n",
              "      <td>248.69</td>\n",
              "      <td>1350.34</td>\n",
              "      <td>0.0</td>\n",
              "      <td>67.48</td>\n",
              "      <td>74.0</td>\n",
              "      <td>74.61</td>\n",
              "      <td>13688.87</td>\n",
              "    </tr>\n",
              "  </tbody>\n",
              "</table>\n",
              "</div>"
            ],
            "text/plain": [
              "                     count    mean      std   min    25%   50%    75%       max\n",
              "peak_infection_date   97.0   42.44    37.20  25.0  25.00  25.0  38.00    161.00\n",
              "peak_infections      200.0  248.69  1350.34   0.0  67.48  74.0  74.61  13688.87"
            ]
          },
          "metadata": {
            "tags": []
          }
        },
        {
          "output_type": "display_data",
          "data": {
            "image/png": "[encoded data removed]",
            "text/plain": [
              "<Figure size 640x480 with 1 Axes>"
            ]
          },
          "metadata": {
            "tags": []
          }
        }
      ]
    },
    {
      "cell_type": "code",
      "metadata": {
        "id": "N7KATcj2oqfy",
        "colab_type": "code",
        "outputId": "bfe59b91-fd2b-4677-ae03-861d44db992c",
        "colab": {
          "base_uri": "https://localhost:8080/",
          "height": 503,
          "referenced_widgets": [
            "d8808b4a2ea14a6aa8ab27e296f30ec1",
            "ee530072fa3d4c72a9875d0719c568f2",
            "925073fee78b4d919cbb9ab20c02db37",
            "944d624dc9424c6b8ec88e6cd2655edb",
            "8a45add2a9fd4f358975bd54709ff7e8",
            "3afb39fa04104cd9bf41be217a45e585",
            "c9dcfea9756d4eb997bdcf7704ef2922",
            "afd5c0fb1e874ace930ce3e60c0a52df"
          ]
        }
      },
      "source": [
        "@question(metaculus, 4152, community_weight=0.5)\n",
        "def mean_infections_peak345():\n",
        "    \"\"\"\n",
        "    What will the average number of reported daily infections be in El Paso,\n",
        "    over the 3rd, 4th and 5th days after the first \"peak\"?\n",
        "    \"\"\"\n",
        "    peak = peak_infection_date()\n",
        "    return mean_infections(peak + timedelta(3), peak + timedelta(6))\n",
        "plot_question(mean_infections_peak345)"
      ],
      "execution_count": 23,
      "outputs": [
        {
          "output_type": "display_data",
          "data": {
            "application/vnd.jupyter.widget-view+json": {
              "model_id": "d8808b4a2ea14a6aa8ab27e296f30ec1",
              "version_minor": 0,
              "version_major": 2
            },
            "text/plain": [
              "HBox(children=(FloatProgress(value=0.0, max=200.0), HTML(value='')))"
            ]
          },
          "metadata": {
            "tags": []
          }
        },
        {
          "output_type": "stream",
          "text": [
            "\n"
          ],
          "name": "stdout"
        },
        {
          "output_type": "display_data",
          "data": {
            "application/vnd.google.colaboratory.module+javascript": "\n      import \"https://ssl.gstatic.com/colaboratory/data_table/a6224c040fa35dcf/data_table.js\";\n\n      window.createDataTable({\n        data: [[\"peak_infection_date\",\n{\n            'v': 94.0,\n            'f': \"94.0\",\n        },\n{\n            'v': 42.7,\n            'f': \"42.7\",\n        },\n{\n            'v': 37.07,\n            'f': \"37.07\",\n        },\n{\n            'v': 25.0,\n            'f': \"25.0\",\n        },\n{\n            'v': 25.0,\n            'f': \"25.0\",\n        },\n{\n            'v': 25.0,\n            'f': \"25.0\",\n        },\n{\n            'v': 38.0,\n            'f': \"38.0\",\n        },\n{\n            'v': 159.0,\n            'f': \"159.0\",\n        }],\n [\"mean_infections_peak345\",\n{\n            'v': 200.0,\n            'f': \"200.0\",\n        },\n{\n            'v': 52.33,\n            'f': \"52.33\",\n        },\n{\n            'v': 234.16,\n            'f': \"234.16\",\n        },\n{\n            'v': 0.33,\n            'f': \"0.33\",\n        },\n{\n            'v': 28.4,\n            'f': \"28.4\",\n        },\n{\n            'v': 31.67,\n            'f': \"31.67\",\n        },\n{\n            'v': 31.7,\n            'f': \"31.7\",\n        },\n{\n            'v': 3125.13,\n            'f': \"3125.13\",\n        }]],\n        columns: [[\"string\", \"index\"], [\"number\", \"count\"], [\"number\", \"mean\"], [\"number\", \"std\"], [\"number\", \"min\"], [\"number\", \"25%\"], [\"number\", \"50%\"], [\"number\", \"75%\"], [\"number\", \"max\"]],\n        columnOptions: [{\"width\": \"1px\", \"className\": \"index_column\"}],\n        rowsPerPage: 25,\n        helpUrl: \"https://colab.research.google.com/notebooks/data_table.ipynb\",\n        suppressOutputScrolling: true,\n        minimumWidth: undefined,\n      });\n    ",
            "text/html": [
              "<div>\n",
              "<style scoped>\n",
              "    .dataframe tbody tr th:only-of-type {\n",
              "        vertical-align: middle;\n",
              "    }\n",
              "\n",
              "    .dataframe tbody tr th {\n",
              "        vertical-align: top;\n",
              "    }\n",
              "\n",
              "    .dataframe thead th {\n",
              "        text-align: right;\n",
              "    }\n",
              "</style>\n",
              "<table border=\"1\" class=\"dataframe\">\n",
              "  <thead>\n",
              "    <tr style=\"text-align: right;\">\n",
              "      <th></th>\n",
              "      <th>count</th>\n",
              "      <th>mean</th>\n",
              "      <th>std</th>\n",
              "      <th>min</th>\n",
              "      <th>25%</th>\n",
              "      <th>50%</th>\n",
              "      <th>75%</th>\n",
              "      <th>max</th>\n",
              "    </tr>\n",
              "  </thead>\n",
              "  <tbody>\n",
              "    <tr>\n",
              "      <th>peak_infection_date</th>\n",
              "      <td>94.0</td>\n",
              "      <td>42.70</td>\n",
              "      <td>37.07</td>\n",
              "      <td>25.00</td>\n",
              "      <td>25.0</td>\n",
              "      <td>25.00</td>\n",
              "      <td>38.0</td>\n",
              "      <td>159.00</td>\n",
              "    </tr>\n",
              "    <tr>\n",
              "      <th>mean_infections_peak345</th>\n",
              "      <td>200.0</td>\n",
              "      <td>52.33</td>\n",
              "      <td>234.16</td>\n",
              "      <td>0.33</td>\n",
              "      <td>28.4</td>\n",
              "      <td>31.67</td>\n",
              "      <td>31.7</td>\n",
              "      <td>3125.13</td>\n",
              "    </tr>\n",
              "  </tbody>\n",
              "</table>\n",
              "</div>"
            ],
            "text/plain": [
              "                         count   mean     std  ...    50%   75%      max\n",
              "peak_infection_date       94.0  42.70   37.07  ...  25.00  38.0   159.00\n",
              "mean_infections_peak345  200.0  52.33  234.16  ...  31.67  31.7  3125.13\n",
              "\n",
              "[2 rows x 8 columns]"
            ]
          },
          "metadata": {
            "tags": []
          }
        },
        {
          "output_type": "error",
          "ename": "KeyboardInterrupt",
          "evalue": "ignored",
          "traceback": [
            "\u001b[0;31m---------------------------------------------------------------------------\u001b[0m",
            "\u001b[0;31mKeyboardInterrupt\u001b[0m                         Traceback (most recent call last)",
            "\u001b[0;32m<ipython-input-23-2be1f25a6f56>\u001b[0m in \u001b[0;36m<module>\u001b[0;34m()\u001b[0m\n\u001b[1;32m      7\u001b[0m     \u001b[0mpeak\u001b[0m \u001b[0;34m=\u001b[0m \u001b[0mpeak_infection_date\u001b[0m\u001b[0;34m(\u001b[0m\u001b[0;34m)\u001b[0m\u001b[0;34m\u001b[0m\u001b[0;34m\u001b[0m\u001b[0m\n\u001b[1;32m      8\u001b[0m     \u001b[0;32mreturn\u001b[0m \u001b[0mmean_infections\u001b[0m\u001b[0;34m(\u001b[0m\u001b[0mpeak\u001b[0m \u001b[0;34m+\u001b[0m \u001b[0mtimedelta\u001b[0m\u001b[0;34m(\u001b[0m\u001b[0;36m3\u001b[0m\u001b[0;34m)\u001b[0m\u001b[0;34m,\u001b[0m \u001b[0mpeak\u001b[0m \u001b[0;34m+\u001b[0m \u001b[0mtimedelta\u001b[0m\u001b[0;34m(\u001b[0m\u001b[0;36m6\u001b[0m\u001b[0;34m)\u001b[0m\u001b[0;34m)\u001b[0m\u001b[0;34m\u001b[0m\u001b[0;34m\u001b[0m\u001b[0m\n\u001b[0;32m----> 9\u001b[0;31m \u001b[0mplot_question\u001b[0m\u001b[0;34m(\u001b[0m\u001b[0mmean_infections_peak345\u001b[0m\u001b[0;34m)\u001b[0m\u001b[0;34m\u001b[0m\u001b[0;34m\u001b[0m\u001b[0m\n\u001b[0m",
            "\u001b[0;32m/usr/local/lib/python3.6/dist-packages/ergo/contrib/utils/core.py\u001b[0m in \u001b[0;36mplot_question\u001b[0;34m(sampler, num_samples, bw, start_date)\u001b[0m\n\u001b[1;32m     95\u001b[0m         )\n\u001b[1;32m     96\u001b[0m     \u001b[0;32melse\u001b[0m\u001b[0;34m:\u001b[0m\u001b[0;34m\u001b[0m\u001b[0;34m\u001b[0m\u001b[0m\n\u001b[0;32m---> 97\u001b[0;31m         \u001b[0mq\u001b[0m\u001b[0;34m.\u001b[0m\u001b[0mshow_prediction\u001b[0m\u001b[0;34m(\u001b[0m\u001b[0msamples\u001b[0m\u001b[0;34m=\u001b[0m\u001b[0mq_samples\u001b[0m\u001b[0;34m,\u001b[0m \u001b[0mshow_community\u001b[0m\u001b[0;34m=\u001b[0m\u001b[0;32mTrue\u001b[0m\u001b[0;34m,\u001b[0m \u001b[0mpercent_kept\u001b[0m\u001b[0;34m=\u001b[0m\u001b[0;36m0.9\u001b[0m\u001b[0;34m)\u001b[0m\u001b[0;34m\u001b[0m\u001b[0;34m\u001b[0m\u001b[0m\n\u001b[0m\u001b[1;32m     98\u001b[0m \u001b[0;34m\u001b[0m\u001b[0m\n\u001b[1;32m     99\u001b[0m \u001b[0;34m\u001b[0m\u001b[0m\n",
            "\u001b[0;32m/usr/local/lib/python3.6/dist-packages/ergo/metaculus.py\u001b[0m in \u001b[0;36mshow_prediction\u001b[0;34m(self, samples, plot_samples, plot_fitted, percent_kept, side_cut_from, show_community, num_samples, **kwargs)\u001b[0m\n\u001b[1;32m    742\u001b[0m         \u001b[0;32mif\u001b[0m \u001b[0mshow_community\u001b[0m\u001b[0;34m:\u001b[0m\u001b[0;34m\u001b[0m\u001b[0;34m\u001b[0m\u001b[0m\n\u001b[1;32m    743\u001b[0m             df[\"community\"] = [  # type: ignore\n\u001b[0;32m--> 744\u001b[0;31m                 \u001b[0mself\u001b[0m\u001b[0;34m.\u001b[0m\u001b[0msample_normalized_community\u001b[0m\u001b[0;34m(\u001b[0m\u001b[0;34m)\u001b[0m \u001b[0;32mfor\u001b[0m \u001b[0m_\u001b[0m \u001b[0;32min\u001b[0m \u001b[0mrange\u001b[0m\u001b[0;34m(\u001b[0m\u001b[0;36m0\u001b[0m\u001b[0;34m,\u001b[0m \u001b[0mnum_samples\u001b[0m\u001b[0;34m)\u001b[0m\u001b[0;34m\u001b[0m\u001b[0;34m\u001b[0m\u001b[0m\n\u001b[0m\u001b[1;32m    745\u001b[0m             ]\n\u001b[1;32m    746\u001b[0m \u001b[0;34m\u001b[0m\u001b[0m\n",
            "\u001b[0;32m/usr/local/lib/python3.6/dist-packages/ergo/metaculus.py\u001b[0m in \u001b[0;36m<listcomp>\u001b[0;34m(.0)\u001b[0m\n\u001b[1;32m    742\u001b[0m         \u001b[0;32mif\u001b[0m \u001b[0mshow_community\u001b[0m\u001b[0;34m:\u001b[0m\u001b[0;34m\u001b[0m\u001b[0;34m\u001b[0m\u001b[0m\n\u001b[1;32m    743\u001b[0m             df[\"community\"] = [  # type: ignore\n\u001b[0;32m--> 744\u001b[0;31m                 \u001b[0mself\u001b[0m\u001b[0;34m.\u001b[0m\u001b[0msample_normalized_community\u001b[0m\u001b[0;34m(\u001b[0m\u001b[0;34m)\u001b[0m \u001b[0;32mfor\u001b[0m \u001b[0m_\u001b[0m \u001b[0;32min\u001b[0m \u001b[0mrange\u001b[0m\u001b[0;34m(\u001b[0m\u001b[0;36m0\u001b[0m\u001b[0;34m,\u001b[0m \u001b[0mnum_samples\u001b[0m\u001b[0;34m)\u001b[0m\u001b[0;34m\u001b[0m\u001b[0;34m\u001b[0m\u001b[0m\n\u001b[0m\u001b[1;32m    745\u001b[0m             ]\n\u001b[1;32m    746\u001b[0m \u001b[0;34m\u001b[0m\u001b[0m\n",
            "\u001b[0;32m/usr/local/lib/python3.6/dist-packages/ergo/metaculus.py\u001b[0m in \u001b[0;36msample_normalized_community\u001b[0;34m(self)\u001b[0m\n\u001b[1;32m    549\u001b[0m             random_choice(\n\u001b[1;32m    550\u001b[0m                 \u001b[0;34m[\u001b[0m\u001b[0msample_below_range\u001b[0m\u001b[0;34m,\u001b[0m \u001b[0msample_in_range\u001b[0m\u001b[0;34m,\u001b[0m \u001b[0msample_above_range\u001b[0m\u001b[0;34m]\u001b[0m\u001b[0;34m,\u001b[0m\u001b[0;34m\u001b[0m\u001b[0;34m\u001b[0m\u001b[0m\n\u001b[0;32m--> 551\u001b[0;31m                 \u001b[0mps\u001b[0m\u001b[0;34m=\u001b[0m\u001b[0;34m[\u001b[0m\u001b[0mp_below\u001b[0m\u001b[0;34m,\u001b[0m \u001b[0mp_in_range\u001b[0m\u001b[0;34m,\u001b[0m \u001b[0mp_above\u001b[0m\u001b[0;34m]\u001b[0m\u001b[0;34m,\u001b[0m\u001b[0;34m\u001b[0m\u001b[0;34m\u001b[0m\u001b[0m\n\u001b[0m\u001b[1;32m    552\u001b[0m             )\n\u001b[1;32m    553\u001b[0m         )\n",
            "\u001b[0;32m/usr/local/lib/python3.6/dist-packages/ergo/distributions.py\u001b[0m in \u001b[0;36mrandom_choice\u001b[0;34m(options, ps)\u001b[0m\n\u001b[1;32m     99\u001b[0m         \u001b[0mps\u001b[0m \u001b[0;34m=\u001b[0m \u001b[0mnp\u001b[0m\u001b[0;34m.\u001b[0m\u001b[0mfull\u001b[0m\u001b[0;34m(\u001b[0m\u001b[0mlen\u001b[0m\u001b[0;34m(\u001b[0m\u001b[0moptions\u001b[0m\u001b[0;34m)\u001b[0m\u001b[0;34m,\u001b[0m \u001b[0;36m1\u001b[0m \u001b[0;34m/\u001b[0m \u001b[0mlen\u001b[0m\u001b[0;34m(\u001b[0m\u001b[0moptions\u001b[0m\u001b[0;34m)\u001b[0m\u001b[0;34m)\u001b[0m\u001b[0;34m\u001b[0m\u001b[0;34m\u001b[0m\u001b[0m\n\u001b[1;32m    100\u001b[0m     \u001b[0;32melse\u001b[0m\u001b[0;34m:\u001b[0m\u001b[0;34m\u001b[0m\u001b[0;34m\u001b[0m\u001b[0m\n\u001b[0;32m--> 101\u001b[0;31m         \u001b[0mps\u001b[0m \u001b[0;34m=\u001b[0m \u001b[0mnp\u001b[0m\u001b[0;34m.\u001b[0m\u001b[0marray\u001b[0m\u001b[0;34m(\u001b[0m\u001b[0mps\u001b[0m\u001b[0;34m)\u001b[0m\u001b[0;34m\u001b[0m\u001b[0;34m\u001b[0m\u001b[0m\n\u001b[0m\u001b[1;32m    102\u001b[0m \u001b[0;34m\u001b[0m\u001b[0m\n\u001b[1;32m    103\u001b[0m     \u001b[0midx\u001b[0m \u001b[0;34m=\u001b[0m \u001b[0msample\u001b[0m\u001b[0;34m(\u001b[0m\u001b[0mdist\u001b[0m\u001b[0;34m.\u001b[0m\u001b[0mCategorical\u001b[0m\u001b[0;34m(\u001b[0m\u001b[0mps\u001b[0m\u001b[0;34m)\u001b[0m\u001b[0;34m)\u001b[0m\u001b[0;34m\u001b[0m\u001b[0;34m\u001b[0m\u001b[0m\n",
            "\u001b[0;32m/usr/local/lib/python3.6/dist-packages/jax/numpy/lax_numpy.py\u001b[0m in \u001b[0;36marray\u001b[0;34m(object, dtype, copy, order, ndmin)\u001b[0m\n\u001b[1;32m   1949\u001b[0m   \u001b[0;32melif\u001b[0m \u001b[0misinstance\u001b[0m\u001b[0;34m(\u001b[0m\u001b[0mobject\u001b[0m\u001b[0;34m,\u001b[0m \u001b[0;34m(\u001b[0m\u001b[0mlist\u001b[0m\u001b[0;34m,\u001b[0m \u001b[0mtuple\u001b[0m\u001b[0;34m)\u001b[0m\u001b[0;34m)\u001b[0m\u001b[0;34m:\u001b[0m\u001b[0;34m\u001b[0m\u001b[0;34m\u001b[0m\u001b[0m\n\u001b[1;32m   1950\u001b[0m     \u001b[0;32mif\u001b[0m \u001b[0mobject\u001b[0m\u001b[0;34m:\u001b[0m\u001b[0;34m\u001b[0m\u001b[0;34m\u001b[0m\u001b[0m\n\u001b[0;32m-> 1951\u001b[0;31m       \u001b[0mout\u001b[0m \u001b[0;34m=\u001b[0m \u001b[0mstack\u001b[0m\u001b[0;34m(\u001b[0m\u001b[0;34m[\u001b[0m\u001b[0marray\u001b[0m\u001b[0;34m(\u001b[0m\u001b[0melt\u001b[0m\u001b[0;34m,\u001b[0m \u001b[0mdtype\u001b[0m\u001b[0;34m=\u001b[0m\u001b[0mdtype\u001b[0m\u001b[0;34m)\u001b[0m \u001b[0;32mfor\u001b[0m \u001b[0melt\u001b[0m \u001b[0;32min\u001b[0m \u001b[0mobject\u001b[0m\u001b[0;34m]\u001b[0m\u001b[0;34m)\u001b[0m\u001b[0;34m\u001b[0m\u001b[0;34m\u001b[0m\u001b[0m\n\u001b[0m\u001b[1;32m   1952\u001b[0m     \u001b[0;32melse\u001b[0m\u001b[0;34m:\u001b[0m\u001b[0;34m\u001b[0m\u001b[0;34m\u001b[0m\u001b[0m\n\u001b[1;32m   1953\u001b[0m       \u001b[0mout\u001b[0m \u001b[0;34m=\u001b[0m \u001b[0monp\u001b[0m\u001b[0;34m.\u001b[0m\u001b[0marray\u001b[0m\u001b[0;34m(\u001b[0m\u001b[0;34m[\u001b[0m\u001b[0;34m]\u001b[0m\u001b[0;34m,\u001b[0m \u001b[0mdtype\u001b[0m \u001b[0;32mor\u001b[0m \u001b[0mfloat_\u001b[0m\u001b[0;34m)\u001b[0m\u001b[0;34m\u001b[0m\u001b[0;34m\u001b[0m\u001b[0m\n",
            "\u001b[0;32m/usr/local/lib/python3.6/dist-packages/jax/numpy/lax_numpy.py\u001b[0m in \u001b[0;36m<listcomp>\u001b[0;34m(.0)\u001b[0m\n\u001b[1;32m   1949\u001b[0m   \u001b[0;32melif\u001b[0m \u001b[0misinstance\u001b[0m\u001b[0;34m(\u001b[0m\u001b[0mobject\u001b[0m\u001b[0;34m,\u001b[0m \u001b[0;34m(\u001b[0m\u001b[0mlist\u001b[0m\u001b[0;34m,\u001b[0m \u001b[0mtuple\u001b[0m\u001b[0;34m)\u001b[0m\u001b[0;34m)\u001b[0m\u001b[0;34m:\u001b[0m\u001b[0;34m\u001b[0m\u001b[0;34m\u001b[0m\u001b[0m\n\u001b[1;32m   1950\u001b[0m     \u001b[0;32mif\u001b[0m \u001b[0mobject\u001b[0m\u001b[0;34m:\u001b[0m\u001b[0;34m\u001b[0m\u001b[0;34m\u001b[0m\u001b[0m\n\u001b[0;32m-> 1951\u001b[0;31m       \u001b[0mout\u001b[0m \u001b[0;34m=\u001b[0m \u001b[0mstack\u001b[0m\u001b[0;34m(\u001b[0m\u001b[0;34m[\u001b[0m\u001b[0marray\u001b[0m\u001b[0;34m(\u001b[0m\u001b[0melt\u001b[0m\u001b[0;34m,\u001b[0m \u001b[0mdtype\u001b[0m\u001b[0;34m=\u001b[0m\u001b[0mdtype\u001b[0m\u001b[0;34m)\u001b[0m \u001b[0;32mfor\u001b[0m \u001b[0melt\u001b[0m \u001b[0;32min\u001b[0m \u001b[0mobject\u001b[0m\u001b[0;34m]\u001b[0m\u001b[0;34m)\u001b[0m\u001b[0;34m\u001b[0m\u001b[0;34m\u001b[0m\u001b[0m\n\u001b[0m\u001b[1;32m   1952\u001b[0m     \u001b[0;32melse\u001b[0m\u001b[0;34m:\u001b[0m\u001b[0;34m\u001b[0m\u001b[0;34m\u001b[0m\u001b[0m\n\u001b[1;32m   1953\u001b[0m       \u001b[0mout\u001b[0m \u001b[0;34m=\u001b[0m \u001b[0monp\u001b[0m\u001b[0;34m.\u001b[0m\u001b[0marray\u001b[0m\u001b[0;34m(\u001b[0m\u001b[0;34m[\u001b[0m\u001b[0;34m]\u001b[0m\u001b[0;34m,\u001b[0m \u001b[0mdtype\u001b[0m \u001b[0;32mor\u001b[0m \u001b[0mfloat_\u001b[0m\u001b[0;34m)\u001b[0m\u001b[0;34m\u001b[0m\u001b[0;34m\u001b[0m\u001b[0m\n",
            "\u001b[0;32m/usr/local/lib/python3.6/dist-packages/jax/numpy/lax_numpy.py\u001b[0m in \u001b[0;36marray\u001b[0;34m(object, dtype, copy, order, ndmin)\u001b[0m\n\u001b[1;32m   1941\u001b[0m       \u001b[0mout\u001b[0m \u001b[0;34m=\u001b[0m \u001b[0mdevice_put\u001b[0m\u001b[0;34m(\u001b[0m\u001b[0mobject\u001b[0m\u001b[0;34m)\u001b[0m\u001b[0;34m\u001b[0m\u001b[0;34m\u001b[0m\u001b[0m\n\u001b[1;32m   1942\u001b[0m   \u001b[0;32melif\u001b[0m \u001b[0misscalar\u001b[0m\u001b[0;34m(\u001b[0m\u001b[0mobject\u001b[0m\u001b[0;34m)\u001b[0m\u001b[0;34m:\u001b[0m\u001b[0;34m\u001b[0m\u001b[0;34m\u001b[0m\u001b[0m\n\u001b[0;32m-> 1943\u001b[0;31m     \u001b[0mout\u001b[0m \u001b[0;34m=\u001b[0m \u001b[0mlax\u001b[0m\u001b[0;34m.\u001b[0m\u001b[0mreshape\u001b[0m\u001b[0;34m(\u001b[0m\u001b[0mobject\u001b[0m\u001b[0;34m,\u001b[0m \u001b[0;34m(\u001b[0m\u001b[0;34m)\u001b[0m\u001b[0;34m)\u001b[0m\u001b[0;34m\u001b[0m\u001b[0;34m\u001b[0m\u001b[0m\n\u001b[0m\u001b[1;32m   1944\u001b[0m     \u001b[0;32mif\u001b[0m \u001b[0mdtype\u001b[0m \u001b[0;32mand\u001b[0m \u001b[0m_dtype\u001b[0m\u001b[0;34m(\u001b[0m\u001b[0mout\u001b[0m\u001b[0;34m)\u001b[0m \u001b[0;34m!=\u001b[0m \u001b[0mdtypes\u001b[0m\u001b[0;34m.\u001b[0m\u001b[0mcanonicalize_dtype\u001b[0m\u001b[0;34m(\u001b[0m\u001b[0mdtype\u001b[0m\u001b[0;34m)\u001b[0m\u001b[0;34m:\u001b[0m\u001b[0;34m\u001b[0m\u001b[0;34m\u001b[0m\u001b[0m\n\u001b[1;32m   1945\u001b[0m       \u001b[0mout\u001b[0m \u001b[0;34m=\u001b[0m \u001b[0mlax\u001b[0m\u001b[0;34m.\u001b[0m\u001b[0mconvert_element_type\u001b[0m\u001b[0;34m(\u001b[0m\u001b[0mout\u001b[0m\u001b[0;34m,\u001b[0m \u001b[0mdtype\u001b[0m\u001b[0;34m)\u001b[0m\u001b[0;34m\u001b[0m\u001b[0;34m\u001b[0m\u001b[0m\n",
            "\u001b[0;32m/usr/local/lib/python3.6/dist-packages/jax/lax/lax.py\u001b[0m in \u001b[0;36mreshape\u001b[0;34m(operand, new_sizes, dimensions)\u001b[0m\n\u001b[1;32m    673\u001b[0m     return reshape_p.bind(\n\u001b[1;32m    674\u001b[0m       \u001b[0moperand\u001b[0m\u001b[0;34m,\u001b[0m \u001b[0mnew_sizes\u001b[0m\u001b[0;34m=\u001b[0m\u001b[0mnew_sizes\u001b[0m\u001b[0;34m,\u001b[0m\u001b[0;34m\u001b[0m\u001b[0;34m\u001b[0m\u001b[0m\n\u001b[0;32m--> 675\u001b[0;31m       dimensions=None if dimensions is None or same_dims else tuple(dimensions))\n\u001b[0m\u001b[1;32m    676\u001b[0m \u001b[0;34m\u001b[0m\u001b[0m\n\u001b[1;32m    677\u001b[0m def pad(operand: Array, padding_value: Array,\n",
            "\u001b[0;32m/usr/local/lib/python3.6/dist-packages/jax/core.py\u001b[0m in \u001b[0;36mbind\u001b[0;34m(self, *args, **kwargs)\u001b[0m\n\u001b[1;32m    197\u001b[0m     \u001b[0mtop_trace\u001b[0m \u001b[0;34m=\u001b[0m \u001b[0mfind_top_trace\u001b[0m\u001b[0;34m(\u001b[0m\u001b[0margs\u001b[0m\u001b[0;34m)\u001b[0m\u001b[0;34m\u001b[0m\u001b[0;34m\u001b[0m\u001b[0m\n\u001b[1;32m    198\u001b[0m     \u001b[0;32mif\u001b[0m \u001b[0mtop_trace\u001b[0m \u001b[0;32mis\u001b[0m \u001b[0;32mNone\u001b[0m\u001b[0;34m:\u001b[0m\u001b[0;34m\u001b[0m\u001b[0;34m\u001b[0m\u001b[0m\n\u001b[0;32m--> 199\u001b[0;31m       \u001b[0;32mreturn\u001b[0m \u001b[0mself\u001b[0m\u001b[0;34m.\u001b[0m\u001b[0mimpl\u001b[0m\u001b[0;34m(\u001b[0m\u001b[0;34m*\u001b[0m\u001b[0margs\u001b[0m\u001b[0;34m,\u001b[0m \u001b[0;34m**\u001b[0m\u001b[0mkwargs\u001b[0m\u001b[0;34m)\u001b[0m\u001b[0;34m\u001b[0m\u001b[0;34m\u001b[0m\u001b[0m\n\u001b[0m\u001b[1;32m    200\u001b[0m \u001b[0;34m\u001b[0m\u001b[0m\n\u001b[1;32m    201\u001b[0m     \u001b[0mtracers\u001b[0m \u001b[0;34m=\u001b[0m \u001b[0mmap\u001b[0m\u001b[0;34m(\u001b[0m\u001b[0mtop_trace\u001b[0m\u001b[0;34m.\u001b[0m\u001b[0mfull_raise\u001b[0m\u001b[0;34m,\u001b[0m \u001b[0margs\u001b[0m\u001b[0;34m)\u001b[0m\u001b[0;34m\u001b[0m\u001b[0;34m\u001b[0m\u001b[0m\n",
            "\u001b[0;32m/usr/local/lib/python3.6/dist-packages/jax/lax/lax.py\u001b[0m in \u001b[0;36m_reshape_impl\u001b[0;34m(operand, new_sizes, dimensions)\u001b[0m\n\u001b[1;32m   2820\u001b[0m   \u001b[0;32melse\u001b[0m\u001b[0;34m:\u001b[0m\u001b[0;34m\u001b[0m\u001b[0;34m\u001b[0m\u001b[0m\n\u001b[1;32m   2821\u001b[0m     return xla.apply_primitive(reshape_p, operand, new_sizes=new_sizes,\n\u001b[0;32m-> 2822\u001b[0;31m                                dimensions=dimensions)\n\u001b[0m\u001b[1;32m   2823\u001b[0m \u001b[0;34m\u001b[0m\u001b[0m\n\u001b[1;32m   2824\u001b[0m \u001b[0;32mdef\u001b[0m \u001b[0m_is_singleton_reshape\u001b[0m\u001b[0;34m(\u001b[0m\u001b[0mold\u001b[0m\u001b[0;34m,\u001b[0m \u001b[0mnew\u001b[0m\u001b[0;34m)\u001b[0m\u001b[0;34m:\u001b[0m\u001b[0;34m\u001b[0m\u001b[0;34m\u001b[0m\u001b[0m\n",
            "\u001b[0;32m/usr/local/lib/python3.6/dist-packages/jax/interpreters/xla.py\u001b[0m in \u001b[0;36mapply_primitive\u001b[0;34m(prim, *args, **params)\u001b[0m\n\u001b[1;32m    168\u001b[0m   \u001b[0;34m\"\"\"Impl rule that compiles and runs a single primitive 'prim' using XLA.\"\"\"\u001b[0m\u001b[0;34m\u001b[0m\u001b[0;34m\u001b[0m\u001b[0m\n\u001b[1;32m    169\u001b[0m   \u001b[0mcompiled_fun\u001b[0m \u001b[0;34m=\u001b[0m \u001b[0mxla_primitive_callable\u001b[0m\u001b[0;34m(\u001b[0m\u001b[0mprim\u001b[0m\u001b[0;34m,\u001b[0m \u001b[0;34m*\u001b[0m\u001b[0mmap\u001b[0m\u001b[0;34m(\u001b[0m\u001b[0marg_spec\u001b[0m\u001b[0;34m,\u001b[0m \u001b[0margs\u001b[0m\u001b[0;34m)\u001b[0m\u001b[0;34m,\u001b[0m \u001b[0;34m**\u001b[0m\u001b[0mparams\u001b[0m\u001b[0;34m)\u001b[0m\u001b[0;34m\u001b[0m\u001b[0;34m\u001b[0m\u001b[0m\n\u001b[0;32m--> 170\u001b[0;31m   \u001b[0;32mreturn\u001b[0m \u001b[0mcompiled_fun\u001b[0m\u001b[0;34m(\u001b[0m\u001b[0;34m*\u001b[0m\u001b[0margs\u001b[0m\u001b[0;34m)\u001b[0m\u001b[0;34m\u001b[0m\u001b[0;34m\u001b[0m\u001b[0m\n\u001b[0m\u001b[1;32m    171\u001b[0m \u001b[0;34m\u001b[0m\u001b[0m\n\u001b[1;32m    172\u001b[0m \u001b[0;34m@\u001b[0m\u001b[0mcache\u001b[0m\u001b[0;34m(\u001b[0m\u001b[0;34m)\u001b[0m\u001b[0;34m\u001b[0m\u001b[0;34m\u001b[0m\u001b[0m\n",
            "\u001b[0;32m/usr/local/lib/python3.6/dist-packages/jax/interpreters/xla.py\u001b[0m in \u001b[0;36m_execute_compiled_primitive\u001b[0;34m(prim, compiled, backend, result_handler, *args)\u001b[0m\n\u001b[1;32m    259\u001b[0m   \u001b[0mdevice\u001b[0m\u001b[0;34m,\u001b[0m \u001b[0;34m=\u001b[0m \u001b[0mcompiled\u001b[0m\u001b[0;34m.\u001b[0m\u001b[0mlocal_devices\u001b[0m\u001b[0;34m(\u001b[0m\u001b[0;34m)\u001b[0m\u001b[0;34m\u001b[0m\u001b[0;34m\u001b[0m\u001b[0m\n\u001b[1;32m    260\u001b[0m   \u001b[0minput_bufs\u001b[0m \u001b[0;34m=\u001b[0m \u001b[0;34m[\u001b[0m\u001b[0mdevice_put\u001b[0m\u001b[0;34m(\u001b[0m\u001b[0mx\u001b[0m\u001b[0;34m,\u001b[0m \u001b[0mdevice\u001b[0m\u001b[0;34m)\u001b[0m \u001b[0;32mfor\u001b[0m \u001b[0mx\u001b[0m \u001b[0;32min\u001b[0m \u001b[0margs\u001b[0m \u001b[0;32mif\u001b[0m \u001b[0mx\u001b[0m \u001b[0;32mis\u001b[0m \u001b[0;32mnot\u001b[0m \u001b[0mtoken\u001b[0m\u001b[0;34m]\u001b[0m\u001b[0;34m\u001b[0m\u001b[0;34m\u001b[0m\u001b[0m\n\u001b[0;32m--> 261\u001b[0;31m   \u001b[0mout_bufs\u001b[0m \u001b[0;34m=\u001b[0m \u001b[0mcompiled\u001b[0m\u001b[0;34m.\u001b[0m\u001b[0mExecute\u001b[0m\u001b[0;34m(\u001b[0m\u001b[0minput_bufs\u001b[0m\u001b[0;34m)\u001b[0m\u001b[0;34m\u001b[0m\u001b[0;34m\u001b[0m\u001b[0m\n\u001b[0m\u001b[1;32m    262\u001b[0m   \u001b[0;32mif\u001b[0m \u001b[0mFLAGS\u001b[0m\u001b[0;34m.\u001b[0m\u001b[0mjax_debug_nans\u001b[0m\u001b[0;34m:\u001b[0m\u001b[0;34m\u001b[0m\u001b[0;34m\u001b[0m\u001b[0m\n\u001b[1;32m    263\u001b[0m     \u001b[0mcheck_nans\u001b[0m\u001b[0;34m(\u001b[0m\u001b[0mprim\u001b[0m\u001b[0;34m,\u001b[0m \u001b[0mout_bufs\u001b[0m\u001b[0;34m)\u001b[0m\u001b[0;34m\u001b[0m\u001b[0;34m\u001b[0m\u001b[0m\n",
            "\u001b[0;31mKeyboardInterrupt\u001b[0m: "
          ]
        }
      ]
    },
    {
      "cell_type": "code",
      "metadata": {
        "id": "DKuiDAU0oqf0",
        "colab_type": "code",
        "colab": {}
      },
      "source": [
        "@question(metaculus, 4170, community_weight=0.8)\n",
        "def mean_infections_peak678():\n",
        "    \"\"\"\n",
        "    What will the average number of reported daily infections be in El Paso,\n",
        "    over the 6th, 7th and 8th days after the first \"peak\"?  \n",
        "    \"\"\"\n",
        "    peak = peak_infection_date()\n",
        "    return mean_infections(peak + timedelta(6), peak + timedelta(9))\n",
        "plot_question(mean_infections_peak678)"
      ],
      "execution_count": 0,
      "outputs": []
    },
    {
      "cell_type": "code",
      "metadata": {
        "id": "WX9mNanjoqf7",
        "colab_type": "code",
        "colab": {}
      },
      "source": [
        "@question(metaculus, 4155, community_weight=0.7)\n",
        "def frac_patients_icu():\n",
        "    \"\"\"\n",
        "    What portion of in-hospital cases in El Paso County will require admission\n",
        "    to the ICU?\n",
        "\n",
        "    Following @katifish's approach:\n",
        "    https://pandemic.metaculus.com/questions/4155/#comment-28054\n",
        "\n",
        "    TODO: Add others from katifish comment\n",
        "    \"\"\"\n",
        "    alpha = 0.1 # Rescaling counts becase we're more uncertain than implied by counts\n",
        "    return ergo.random_choice([\n",
        "      ergo.beta_from_hits(alpha * 121, alpha * 508),\n",
        "      ergo.beta_from_hits(alpha * 181, alpha * 507),\n",
        "    ])\n",
        "plot_question(frac_patients_icu)"
      ],
      "execution_count": 0,
      "outputs": []
    },
    {
      "cell_type": "code",
      "metadata": {
        "id": "p8T9lH4ooqf-",
        "colab_type": "code",
        "colab": {}
      },
      "source": [
        "@question(metaculus, 4154, community_weight=0.3)\n",
        "def frac_patients_invasive():\n",
        "    \"\"\"\n",
        "    What portion of in-hospital patients with Covid-19 in El Paso County will\n",
        "    require invasive ventilation?\n",
        "\n",
        "    Following @PabloStafforini's indirect estimation approach:\n",
        "    https://pandemic.metaculus.com/questions/4154/#comment-28155\n",
        "\n",
        "    TODO:\n",
        "    - Combine with direct estimate\n",
        "      direct_estimate = ergo.beta_from_hits(0.1 * 130, 0.1 * 393)\n",
        "    \"\"\"\n",
        "    return frac_patients_icu() * frac_icu_ventilation()\n",
        "plot_question(frac_patients_invasive)"
      ],
      "execution_count": 0,
      "outputs": []
    },
    {
      "cell_type": "code",
      "metadata": {
        "id": "Y1p2vMv2oqgB",
        "colab_type": "code",
        "colab": {}
      },
      "source": [
        "@ergo.mem\n",
        "def peak_hospitalized_date():\n",
        "    \"\"\"\n",
        "    What will be the date when there are the max number of COVID patients in the hospital\n",
        "    within 15 days before or after the date of the first peak in confirmed cases?\n",
        "    \"\"\"\n",
        "    infection_peak_date = peak_infection_date()\n",
        "    days = list(daterange(infection_peak_date - timedelta(15), infection_peak_date + timedelta(16)))\n",
        "\n",
        "    hospitalization_peak_date = days[0]\n",
        "    hospitalized_peak = 0\n",
        "\n",
        "    for day in days:\n",
        "        hospitalized_for_day = hospital_confirmed_for_date(day)\n",
        "\n",
        "        # if there are 2 different dates\n",
        "        # with the same peak number of hospitalized patients,\n",
        "        # return the first date:\n",
        "        # https://pandemic.metaculus.com/questions/4204#comment-30023\n",
        "        if hospitalized_for_day > hospitalized_peak:\n",
        "            hospitalization_peak_date = day\n",
        "            hospitalized_peak = hospitalized_for_day\n",
        "\n",
        "    return hospitalization_peak_date\n",
        "\n",
        "@question(metaculus, 4153, community_weight=0.3)\n",
        "def max_30d_hospital_confirmed_for_peak():\n",
        "    \"\"\"\n",
        "    What will the maximum number of in-hospital lab-confirmed COVID-19 \n",
        "    patients in El Paso County, in the 30-day period during which the \"peak\"\n",
        "    occurs?\n",
        "    \"\"\"\n",
        "    return hospital_confirmed_for_date(peak_hospitalized_date())\n",
        "\n",
        "plot_question(max_30d_hospital_confirmed_for_peak, bw=0.01)"
      ],
      "execution_count": 0,
      "outputs": []
    },
    {
      "cell_type": "code",
      "metadata": {
        "id": "fWRwMe6_oqgW",
        "colab_type": "code",
        "colab": {}
      },
      "source": [
        "@question(metaculus, 4204)\n",
        "def peak_icu_patients():\n",
        "    \"\"\"\n",
        "    How many patients with Covid-19 in El Paso County will be in the\n",
        "    ICU on the day when the number of hospital admissions of cases peak? \n",
        "    \"\"\"\n",
        "    try:\n",
        "        return get_historical_data(peak_hospitalized_date(), \"in_icu\")\n",
        "    except KeyError:\n",
        "        # If we don't have historical data,\n",
        "        # use the community prediction...\n",
        "        if ergo.flip(0.8):\n",
        "            return peak_icu_patients.question.sample_community()\n",
        "        else:\n",
        "            # ...or use @Tamay's approach:\n",
        "            # https://pandemic.metaculus.com/questions/4204/\n",
        "            peak_hospitalized_patients = max_30d_hospital_confirmed_for_peak()\n",
        "            return peak_hospitalized_patients * frac_patients_icu()\n",
        "plot_question(peak_icu_patients, bw=0.1)"
      ],
      "execution_count": 0,
      "outputs": []
    },
    {
      "cell_type": "code",
      "metadata": {
        "id": "fEhU4GTJoqgY",
        "colab_type": "code",
        "colab": {}
      },
      "source": [
        "@question(metaculus, 4201)\n",
        "def peak_invasive_ventilation():\n",
        "    \"\"\"\n",
        "    How many patients with Covid-19 in El Paso County will be on invasive \n",
        "    ventilation on the day when the number of hospital admissions of cases \n",
        "    peak?\n",
        "    \"\"\"\n",
        "    try:\n",
        "        return get_historical_data(peak_hospitalized_date(), \"on_ventilator\")\n",
        "    except KeyError:\n",
        "        # If we don't have historical data,\n",
        "        # use the community prediction...\n",
        "        if ergo.flip(0.8):\n",
        "            return peak_invasive_ventilation.question.sample_community()\n",
        "        else:\n",
        "            # ...or use @Tamay's approach:\n",
        "            # https://pandemic.metaculus.com/questions/4201/#comment-28004\n",
        "            return frac_icu_ventilation() * peak_icu_patients()\n",
        "\n",
        "\n",
        "plot_question(peak_invasive_ventilation, bw=0.1)"
      ],
      "execution_count": 0,
      "outputs": []
    },
    {
      "cell_type": "markdown",
      "metadata": {
        "id": "9rURB6hCoqgc",
        "colab_type": "text"
      },
      "source": [
        "# Generate predictions for all questions\n",
        "\n"
      ]
    },
    {
      "cell_type": "code",
      "metadata": {
        "id": "x7DVW-MSoqgd",
        "colab_type": "code",
        "colab": {}
      },
      "source": [
        "def model():\n",
        "    for sampler in samplers.values():\n",
        "        sampler()\n",
        "\n",
        "samples = ergo.run(model, num_samples=2000)\n",
        "\n",
        "summarize_question_samples(samples)"
      ],
      "execution_count": 0,
      "outputs": []
    },
    {
      "cell_type": "markdown",
      "metadata": {
        "id": "xuZnZtkLoqgi",
        "colab_type": "text"
      },
      "source": [
        "# Compare predictions to community\n",
        "\n"
      ]
    },
    {
      "cell_type": "markdown",
      "metadata": {
        "id": "j1_cUucRoqgk",
        "colab_type": "text"
      },
      "source": [
        "This takes a while since we're fitting a mixture of logistic\n",
        "distributions to our samples before visualizing (and submitting) them.\n",
        "These may look a little different from the plots for the questions shown\n",
        "above, because we've taken more samples from the distribution and we're\n",
        "fitting logistic distributions so we can submit them to metaculus\n",
        "\n"
      ]
    },
    {
      "cell_type": "code",
      "metadata": {
        "id": "BvAze7lxoqgk",
        "colab_type": "code",
        "colab": {}
      },
      "source": [
        "submissions = {}\n",
        "for sampler in samplers.values():\n",
        "    q = sampler.question\n",
        "\n",
        "    q_samples = samples[sampler.__name__]\n",
        "\n",
        "    if q.id == 4128: # Date question: Need to convert back to date from days (https://github.com/oughtinc/ergo/issues/144)\n",
        "        q_samples = np.array([START_DATE + timedelta(s) for s in q_samples])\n",
        "\n",
        "    if q.id in [4201, 4204, 4137, 4152, 4170, 4153]:\n",
        "      # Clip extreme values for questions that we had issues fitting\n",
        "      (sample_min, sample_max) = np.quantile(q_samples, [0.08, 0.94])\n",
        "      q_samples = q_samples[(q_samples >= sample_min) & (q_samples <= sample_max)]\n",
        "\n",
        "    submission = q.get_submission_from_samples(q_samples)\n",
        "    submissions[q] = submission\n",
        "\n",
        "    # the graph for this question will be too zoomed out unless we cut off more of the graph\n",
        "    if q.id == 4153:\n",
        "      q.show_prediction(q_samples, plot_samples=False, plot_fitted=True, show_community=True, percent_kept=0.7)\n",
        "    else:\n",
        "      q.show_prediction(q_samples, plot_samples=False, plot_fitted=True, show_community=True, percent_kept=0.9)"
      ],
      "execution_count": 0,
      "outputs": []
    },
    {
      "cell_type": "code",
      "metadata": {
        "id": "-X7y6ZKVoqgn",
        "colab_type": "code",
        "colab": {}
      },
      "source": [
        "# Should we submit this to Metaculus? If so, uncomment the following lines:\n",
        "# for q, submission in submissions.items():  \n",
        "#     print(q.submit(submission))"
      ],
      "execution_count": 0,
      "outputs": []
    }
  ]
}