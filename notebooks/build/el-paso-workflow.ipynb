{
  "nbformat": 4,
  "nbformat_minor": 0,
  "metadata": {
    "kernelspec": {
      "display_name": "Python 3",
      "language": "python",
      "name": "python3"
    },
    "language_info": {
      "codemirror_mode": {
        "name": "ipython",
        "version": 3
      },
      "file_extension": ".py",
      "mimetype": "text/x-python",
      "name": "python",
      "nbconvert_exporter": "python",
      "pygments_lexer": "ipython3",
      "version": "3.6.9"
    },
    "colab": {
      "name": "El Paso User Journey",
      "provenance": [],
      "collapsed_sections": [
        "Z5ZIHBukPSyu",
        "8F3n2Gu2PKnS"
      ],
      "include_colab_link": true
    },
    "widgets": {
      "application/vnd.jupyter.widget-state+json": {
        "16093134d23b48839d75ebfa08b7935b": {
          "model_module": "@jupyter-widgets/controls",
          "model_name": "HBoxModel",
          "state": {
            "_view_name": "HBoxView",
            "_dom_classes": [],
            "_model_name": "HBoxModel",
            "_view_module": "@jupyter-widgets/controls",
            "_model_module_version": "1.5.0",
            "_view_count": null,
            "_view_module_version": "1.5.0",
            "box_style": "",
            "layout": "IPY_MODEL_5b5c46a5548b42f6b20ff33b72fb0482",
            "_model_module": "@jupyter-widgets/controls",
            "children": [
              "IPY_MODEL_70096490f93d4dd3aee739aaba1674b7",
              "IPY_MODEL_9b8491ba554d4d838790a95946aad03e"
            ]
          }
        },
        "5b5c46a5548b42f6b20ff33b72fb0482": {
          "model_module": "@jupyter-widgets/base",
          "model_name": "LayoutModel",
          "state": {
            "_view_name": "LayoutView",
            "grid_template_rows": null,
            "right": null,
            "justify_content": null,
            "_view_module": "@jupyter-widgets/base",
            "overflow": null,
            "_model_module_version": "1.2.0",
            "_view_count": null,
            "flex_flow": null,
            "width": null,
            "min_width": null,
            "border": null,
            "align_items": null,
            "bottom": null,
            "_model_module": "@jupyter-widgets/base",
            "top": null,
            "grid_column": null,
            "overflow_y": null,
            "overflow_x": null,
            "grid_auto_flow": null,
            "grid_area": null,
            "grid_template_columns": null,
            "flex": null,
            "_model_name": "LayoutModel",
            "justify_items": null,
            "grid_row": null,
            "max_height": null,
            "align_content": null,
            "visibility": null,
            "align_self": null,
            "height": null,
            "min_height": null,
            "padding": null,
            "grid_auto_rows": null,
            "grid_gap": null,
            "max_width": null,
            "order": null,
            "_view_module_version": "1.2.0",
            "grid_template_areas": null,
            "object_position": null,
            "object_fit": null,
            "grid_auto_columns": null,
            "margin": null,
            "display": null,
            "left": null
          }
        },
        "70096490f93d4dd3aee739aaba1674b7": {
          "model_module": "@jupyter-widgets/controls",
          "model_name": "FloatProgressModel",
          "state": {
            "_view_name": "ProgressView",
            "style": "IPY_MODEL_4b78085480c34b888a8b2b440eb02eac",
            "_dom_classes": [],
            "description": "100%",
            "_model_name": "FloatProgressModel",
            "bar_style": "success",
            "max": 1000,
            "_view_module": "@jupyter-widgets/controls",
            "_model_module_version": "1.5.0",
            "value": 1000,
            "_view_count": null,
            "_view_module_version": "1.5.0",
            "orientation": "horizontal",
            "min": 0,
            "description_tooltip": null,
            "_model_module": "@jupyter-widgets/controls",
            "layout": "IPY_MODEL_8868db786c6c4e8cb72983ba8304992e"
          }
        },
        "9b8491ba554d4d838790a95946aad03e": {
          "model_module": "@jupyter-widgets/controls",
          "model_name": "HTMLModel",
          "state": {
            "_view_name": "HTMLView",
            "style": "IPY_MODEL_445546b4f9774826a21b1e0c7f817245",
            "_dom_classes": [],
            "description": "",
            "_model_name": "HTMLModel",
            "placeholder": "​",
            "_view_module": "@jupyter-widgets/controls",
            "_model_module_version": "1.5.0",
            "value": " 1000/1000 [00:01&lt;00:00, 563.29it/s]",
            "_view_count": null,
            "_view_module_version": "1.5.0",
            "description_tooltip": null,
            "_model_module": "@jupyter-widgets/controls",
            "layout": "IPY_MODEL_4787b827c70b4953926f70f80d3b6e36"
          }
        },
        "4b78085480c34b888a8b2b440eb02eac": {
          "model_module": "@jupyter-widgets/controls",
          "model_name": "ProgressStyleModel",
          "state": {
            "_view_name": "StyleView",
            "_model_name": "ProgressStyleModel",
            "description_width": "initial",
            "_view_module": "@jupyter-widgets/base",
            "_model_module_version": "1.5.0",
            "_view_count": null,
            "_view_module_version": "1.2.0",
            "bar_color": null,
            "_model_module": "@jupyter-widgets/controls"
          }
        },
        "8868db786c6c4e8cb72983ba8304992e": {
          "model_module": "@jupyter-widgets/base",
          "model_name": "LayoutModel",
          "state": {
            "_view_name": "LayoutView",
            "grid_template_rows": null,
            "right": null,
            "justify_content": null,
            "_view_module": "@jupyter-widgets/base",
            "overflow": null,
            "_model_module_version": "1.2.0",
            "_view_count": null,
            "flex_flow": null,
            "width": null,
            "min_width": null,
            "border": null,
            "align_items": null,
            "bottom": null,
            "_model_module": "@jupyter-widgets/base",
            "top": null,
            "grid_column": null,
            "overflow_y": null,
            "overflow_x": null,
            "grid_auto_flow": null,
            "grid_area": null,
            "grid_template_columns": null,
            "flex": null,
            "_model_name": "LayoutModel",
            "justify_items": null,
            "grid_row": null,
            "max_height": null,
            "align_content": null,
            "visibility": null,
            "align_self": null,
            "height": null,
            "min_height": null,
            "padding": null,
            "grid_auto_rows": null,
            "grid_gap": null,
            "max_width": null,
            "order": null,
            "_view_module_version": "1.2.0",
            "grid_template_areas": null,
            "object_position": null,
            "object_fit": null,
            "grid_auto_columns": null,
            "margin": null,
            "display": null,
            "left": null
          }
        },
        "445546b4f9774826a21b1e0c7f817245": {
          "model_module": "@jupyter-widgets/controls",
          "model_name": "DescriptionStyleModel",
          "state": {
            "_view_name": "StyleView",
            "_model_name": "DescriptionStyleModel",
            "description_width": "",
            "_view_module": "@jupyter-widgets/base",
            "_model_module_version": "1.5.0",
            "_view_count": null,
            "_view_module_version": "1.2.0",
            "_model_module": "@jupyter-widgets/controls"
          }
        },
        "4787b827c70b4953926f70f80d3b6e36": {
          "model_module": "@jupyter-widgets/base",
          "model_name": "LayoutModel",
          "state": {
            "_view_name": "LayoutView",
            "grid_template_rows": null,
            "right": null,
            "justify_content": null,
            "_view_module": "@jupyter-widgets/base",
            "overflow": null,
            "_model_module_version": "1.2.0",
            "_view_count": null,
            "flex_flow": null,
            "width": null,
            "min_width": null,
            "border": null,
            "align_items": null,
            "bottom": null,
            "_model_module": "@jupyter-widgets/base",
            "top": null,
            "grid_column": null,
            "overflow_y": null,
            "overflow_x": null,
            "grid_auto_flow": null,
            "grid_area": null,
            "grid_template_columns": null,
            "flex": null,
            "_model_name": "LayoutModel",
            "justify_items": null,
            "grid_row": null,
            "max_height": null,
            "align_content": null,
            "visibility": null,
            "align_self": null,
            "height": null,
            "min_height": null,
            "padding": null,
            "grid_auto_rows": null,
            "grid_gap": null,
            "max_width": null,
            "order": null,
            "_view_module_version": "1.2.0",
            "grid_template_areas": null,
            "object_position": null,
            "object_fit": null,
            "grid_auto_columns": null,
            "margin": null,
            "display": null,
            "left": null
          }
        },
        "2a71f8270782448b9c555faa0fed9465": {
          "model_module": "@jupyter-widgets/controls",
          "model_name": "HBoxModel",
          "state": {
            "_view_name": "HBoxView",
            "_dom_classes": [],
            "_model_name": "HBoxModel",
            "_view_module": "@jupyter-widgets/controls",
            "_model_module_version": "1.5.0",
            "_view_count": null,
            "_view_module_version": "1.5.0",
            "box_style": "",
            "layout": "IPY_MODEL_5ea5008d2ec543e1a03b757020c9ca0a",
            "_model_module": "@jupyter-widgets/controls",
            "children": [
              "IPY_MODEL_9052f34734f846ce95a9f425a2d6726e",
              "IPY_MODEL_87d80ae4a9314577bb6a809be28c648c"
            ]
          }
        },
        "5ea5008d2ec543e1a03b757020c9ca0a": {
          "model_module": "@jupyter-widgets/base",
          "model_name": "LayoutModel",
          "state": {
            "_view_name": "LayoutView",
            "grid_template_rows": null,
            "right": null,
            "justify_content": null,
            "_view_module": "@jupyter-widgets/base",
            "overflow": null,
            "_model_module_version": "1.2.0",
            "_view_count": null,
            "flex_flow": null,
            "width": null,
            "min_width": null,
            "border": null,
            "align_items": null,
            "bottom": null,
            "_model_module": "@jupyter-widgets/base",
            "top": null,
            "grid_column": null,
            "overflow_y": null,
            "overflow_x": null,
            "grid_auto_flow": null,
            "grid_area": null,
            "grid_template_columns": null,
            "flex": null,
            "_model_name": "LayoutModel",
            "justify_items": null,
            "grid_row": null,
            "max_height": null,
            "align_content": null,
            "visibility": null,
            "align_self": null,
            "height": null,
            "min_height": null,
            "padding": null,
            "grid_auto_rows": null,
            "grid_gap": null,
            "max_width": null,
            "order": null,
            "_view_module_version": "1.2.0",
            "grid_template_areas": null,
            "object_position": null,
            "object_fit": null,
            "grid_auto_columns": null,
            "margin": null,
            "display": null,
            "left": null
          }
        },
        "9052f34734f846ce95a9f425a2d6726e": {
          "model_module": "@jupyter-widgets/controls",
          "model_name": "FloatProgressModel",
          "state": {
            "_view_name": "ProgressView",
            "style": "IPY_MODEL_654ad73d04ba447399e6d34b6b985612",
            "_dom_classes": [],
            "description": "100%",
            "_model_name": "FloatProgressModel",
            "bar_style": "success",
            "max": 1000,
            "_view_module": "@jupyter-widgets/controls",
            "_model_module_version": "1.5.0",
            "value": 1000,
            "_view_count": null,
            "_view_module_version": "1.5.0",
            "orientation": "horizontal",
            "min": 0,
            "description_tooltip": null,
            "_model_module": "@jupyter-widgets/controls",
            "layout": "IPY_MODEL_1940bdbc4ab649e5a38ffa6f1e5f9aba"
          }
        },
        "87d80ae4a9314577bb6a809be28c648c": {
          "model_module": "@jupyter-widgets/controls",
          "model_name": "HTMLModel",
          "state": {
            "_view_name": "HTMLView",
            "style": "IPY_MODEL_3357b08d16f545159fca8fa101a64fec",
            "_dom_classes": [],
            "description": "",
            "_model_name": "HTMLModel",
            "placeholder": "​",
            "_view_module": "@jupyter-widgets/controls",
            "_model_module_version": "1.5.0",
            "value": " 1000/1000 [00:01&lt;00:00, 511.84it/s]",
            "_view_count": null,
            "_view_module_version": "1.5.0",
            "description_tooltip": null,
            "_model_module": "@jupyter-widgets/controls",
            "layout": "IPY_MODEL_ddc41f0c3aac49cfb91cddae0936678e"
          }
        },
        "654ad73d04ba447399e6d34b6b985612": {
          "model_module": "@jupyter-widgets/controls",
          "model_name": "ProgressStyleModel",
          "state": {
            "_view_name": "StyleView",
            "_model_name": "ProgressStyleModel",
            "description_width": "initial",
            "_view_module": "@jupyter-widgets/base",
            "_model_module_version": "1.5.0",
            "_view_count": null,
            "_view_module_version": "1.2.0",
            "bar_color": null,
            "_model_module": "@jupyter-widgets/controls"
          }
        },
        "1940bdbc4ab649e5a38ffa6f1e5f9aba": {
          "model_module": "@jupyter-widgets/base",
          "model_name": "LayoutModel",
          "state": {
            "_view_name": "LayoutView",
            "grid_template_rows": null,
            "right": null,
            "justify_content": null,
            "_view_module": "@jupyter-widgets/base",
            "overflow": null,
            "_model_module_version": "1.2.0",
            "_view_count": null,
            "flex_flow": null,
            "width": null,
            "min_width": null,
            "border": null,
            "align_items": null,
            "bottom": null,
            "_model_module": "@jupyter-widgets/base",
            "top": null,
            "grid_column": null,
            "overflow_y": null,
            "overflow_x": null,
            "grid_auto_flow": null,
            "grid_area": null,
            "grid_template_columns": null,
            "flex": null,
            "_model_name": "LayoutModel",
            "justify_items": null,
            "grid_row": null,
            "max_height": null,
            "align_content": null,
            "visibility": null,
            "align_self": null,
            "height": null,
            "min_height": null,
            "padding": null,
            "grid_auto_rows": null,
            "grid_gap": null,
            "max_width": null,
            "order": null,
            "_view_module_version": "1.2.0",
            "grid_template_areas": null,
            "object_position": null,
            "object_fit": null,
            "grid_auto_columns": null,
            "margin": null,
            "display": null,
            "left": null
          }
        },
        "3357b08d16f545159fca8fa101a64fec": {
          "model_module": "@jupyter-widgets/controls",
          "model_name": "DescriptionStyleModel",
          "state": {
            "_view_name": "StyleView",
            "_model_name": "DescriptionStyleModel",
            "description_width": "",
            "_view_module": "@jupyter-widgets/base",
            "_model_module_version": "1.5.0",
            "_view_count": null,
            "_view_module_version": "1.2.0",
            "_model_module": "@jupyter-widgets/controls"
          }
        },
        "ddc41f0c3aac49cfb91cddae0936678e": {
          "model_module": "@jupyter-widgets/base",
          "model_name": "LayoutModel",
          "state": {
            "_view_name": "LayoutView",
            "grid_template_rows": null,
            "right": null,
            "justify_content": null,
            "_view_module": "@jupyter-widgets/base",
            "overflow": null,
            "_model_module_version": "1.2.0",
            "_view_count": null,
            "flex_flow": null,
            "width": null,
            "min_width": null,
            "border": null,
            "align_items": null,
            "bottom": null,
            "_model_module": "@jupyter-widgets/base",
            "top": null,
            "grid_column": null,
            "overflow_y": null,
            "overflow_x": null,
            "grid_auto_flow": null,
            "grid_area": null,
            "grid_template_columns": null,
            "flex": null,
            "_model_name": "LayoutModel",
            "justify_items": null,
            "grid_row": null,
            "max_height": null,
            "align_content": null,
            "visibility": null,
            "align_self": null,
            "height": null,
            "min_height": null,
            "padding": null,
            "grid_auto_rows": null,
            "grid_gap": null,
            "max_width": null,
            "order": null,
            "_view_module_version": "1.2.0",
            "grid_template_areas": null,
            "object_position": null,
            "object_fit": null,
            "grid_auto_columns": null,
            "margin": null,
            "display": null,
            "left": null
          }
        },
        "07f0979f04124b1bb0860f344584d4fa": {
          "model_module": "@jupyter-widgets/controls",
          "model_name": "HBoxModel",
          "state": {
            "_view_name": "HBoxView",
            "_dom_classes": [],
            "_model_name": "HBoxModel",
            "_view_module": "@jupyter-widgets/controls",
            "_model_module_version": "1.5.0",
            "_view_count": null,
            "_view_module_version": "1.5.0",
            "box_style": "",
            "layout": "IPY_MODEL_43fc3c0354f343f693b8a1de6c474721",
            "_model_module": "@jupyter-widgets/controls",
            "children": [
              "IPY_MODEL_de515fe7b0ea4d6081af747fc0b1eb10",
              "IPY_MODEL_29417ad4a2e642d885f8911dfaf62232"
            ]
          }
        },
        "43fc3c0354f343f693b8a1de6c474721": {
          "model_module": "@jupyter-widgets/base",
          "model_name": "LayoutModel",
          "state": {
            "_view_name": "LayoutView",
            "grid_template_rows": null,
            "right": null,
            "justify_content": null,
            "_view_module": "@jupyter-widgets/base",
            "overflow": null,
            "_model_module_version": "1.2.0",
            "_view_count": null,
            "flex_flow": null,
            "width": null,
            "min_width": null,
            "border": null,
            "align_items": null,
            "bottom": null,
            "_model_module": "@jupyter-widgets/base",
            "top": null,
            "grid_column": null,
            "overflow_y": null,
            "overflow_x": null,
            "grid_auto_flow": null,
            "grid_area": null,
            "grid_template_columns": null,
            "flex": null,
            "_model_name": "LayoutModel",
            "justify_items": null,
            "grid_row": null,
            "max_height": null,
            "align_content": null,
            "visibility": null,
            "align_self": null,
            "height": null,
            "min_height": null,
            "padding": null,
            "grid_auto_rows": null,
            "grid_gap": null,
            "max_width": null,
            "order": null,
            "_view_module_version": "1.2.0",
            "grid_template_areas": null,
            "object_position": null,
            "object_fit": null,
            "grid_auto_columns": null,
            "margin": null,
            "display": null,
            "left": null
          }
        },
        "de515fe7b0ea4d6081af747fc0b1eb10": {
          "model_module": "@jupyter-widgets/controls",
          "model_name": "FloatProgressModel",
          "state": {
            "_view_name": "ProgressView",
            "style": "IPY_MODEL_417d0bacbca14f64b895300d6b0c09c5",
            "_dom_classes": [],
            "description": "100%",
            "_model_name": "FloatProgressModel",
            "bar_style": "success",
            "max": 1000,
            "_view_module": "@jupyter-widgets/controls",
            "_model_module_version": "1.5.0",
            "value": 1000,
            "_view_count": null,
            "_view_module_version": "1.5.0",
            "orientation": "horizontal",
            "min": 0,
            "description_tooltip": null,
            "_model_module": "@jupyter-widgets/controls",
            "layout": "IPY_MODEL_aeef6ad00b8744fc82185d36308ea1df"
          }
        },
        "29417ad4a2e642d885f8911dfaf62232": {
          "model_module": "@jupyter-widgets/controls",
          "model_name": "HTMLModel",
          "state": {
            "_view_name": "HTMLView",
            "style": "IPY_MODEL_dea1bdb6ab8a4365bcdac9605add053d",
            "_dom_classes": [],
            "description": "",
            "_model_name": "HTMLModel",
            "placeholder": "​",
            "_view_module": "@jupyter-widgets/controls",
            "_model_module_version": "1.5.0",
            "value": " 1000/1000 [00:27&lt;00:00, 36.59it/s]",
            "_view_count": null,
            "_view_module_version": "1.5.0",
            "description_tooltip": null,
            "_model_module": "@jupyter-widgets/controls",
            "layout": "IPY_MODEL_5aa02b78f7474b93b8ae888c07c02b9f"
          }
        },
        "417d0bacbca14f64b895300d6b0c09c5": {
          "model_module": "@jupyter-widgets/controls",
          "model_name": "ProgressStyleModel",
          "state": {
            "_view_name": "StyleView",
            "_model_name": "ProgressStyleModel",
            "description_width": "initial",
            "_view_module": "@jupyter-widgets/base",
            "_model_module_version": "1.5.0",
            "_view_count": null,
            "_view_module_version": "1.2.0",
            "bar_color": null,
            "_model_module": "@jupyter-widgets/controls"
          }
        },
        "aeef6ad00b8744fc82185d36308ea1df": {
          "model_module": "@jupyter-widgets/base",
          "model_name": "LayoutModel",
          "state": {
            "_view_name": "LayoutView",
            "grid_template_rows": null,
            "right": null,
            "justify_content": null,
            "_view_module": "@jupyter-widgets/base",
            "overflow": null,
            "_model_module_version": "1.2.0",
            "_view_count": null,
            "flex_flow": null,
            "width": null,
            "min_width": null,
            "border": null,
            "align_items": null,
            "bottom": null,
            "_model_module": "@jupyter-widgets/base",
            "top": null,
            "grid_column": null,
            "overflow_y": null,
            "overflow_x": null,
            "grid_auto_flow": null,
            "grid_area": null,
            "grid_template_columns": null,
            "flex": null,
            "_model_name": "LayoutModel",
            "justify_items": null,
            "grid_row": null,
            "max_height": null,
            "align_content": null,
            "visibility": null,
            "align_self": null,
            "height": null,
            "min_height": null,
            "padding": null,
            "grid_auto_rows": null,
            "grid_gap": null,
            "max_width": null,
            "order": null,
            "_view_module_version": "1.2.0",
            "grid_template_areas": null,
            "object_position": null,
            "object_fit": null,
            "grid_auto_columns": null,
            "margin": null,
            "display": null,
            "left": null
          }
        },
        "dea1bdb6ab8a4365bcdac9605add053d": {
          "model_module": "@jupyter-widgets/controls",
          "model_name": "DescriptionStyleModel",
          "state": {
            "_view_name": "StyleView",
            "_model_name": "DescriptionStyleModel",
            "description_width": "",
            "_view_module": "@jupyter-widgets/base",
            "_model_module_version": "1.5.0",
            "_view_count": null,
            "_view_module_version": "1.2.0",
            "_model_module": "@jupyter-widgets/controls"
          }
        },
        "5aa02b78f7474b93b8ae888c07c02b9f": {
          "model_module": "@jupyter-widgets/base",
          "model_name": "LayoutModel",
          "state": {
            "_view_name": "LayoutView",
            "grid_template_rows": null,
            "right": null,
            "justify_content": null,
            "_view_module": "@jupyter-widgets/base",
            "overflow": null,
            "_model_module_version": "1.2.0",
            "_view_count": null,
            "flex_flow": null,
            "width": null,
            "min_width": null,
            "border": null,
            "align_items": null,
            "bottom": null,
            "_model_module": "@jupyter-widgets/base",
            "top": null,
            "grid_column": null,
            "overflow_y": null,
            "overflow_x": null,
            "grid_auto_flow": null,
            "grid_area": null,
            "grid_template_columns": null,
            "flex": null,
            "_model_name": "LayoutModel",
            "justify_items": null,
            "grid_row": null,
            "max_height": null,
            "align_content": null,
            "visibility": null,
            "align_self": null,
            "height": null,
            "min_height": null,
            "padding": null,
            "grid_auto_rows": null,
            "grid_gap": null,
            "max_width": null,
            "order": null,
            "_view_module_version": "1.2.0",
            "grid_template_areas": null,
            "object_position": null,
            "object_fit": null,
            "grid_auto_columns": null,
            "margin": null,
            "display": null,
            "left": null
          }
        },
        "e18c4dd458974d91bf6006cd43d32d7f": {
          "model_module": "@jupyter-widgets/controls",
          "model_name": "HBoxModel",
          "state": {
            "_view_name": "HBoxView",
            "_dom_classes": [],
            "_model_name": "HBoxModel",
            "_view_module": "@jupyter-widgets/controls",
            "_model_module_version": "1.5.0",
            "_view_count": null,
            "_view_module_version": "1.5.0",
            "box_style": "",
            "layout": "IPY_MODEL_51a12cfe3332443180c76e9efcadc6b2",
            "_model_module": "@jupyter-widgets/controls",
            "children": [
              "IPY_MODEL_1125dfd75bdd42d68ff18ebd225ab796",
              "IPY_MODEL_ff4985a3ea83407693bc1c14c2671fa5"
            ]
          }
        },
        "51a12cfe3332443180c76e9efcadc6b2": {
          "model_module": "@jupyter-widgets/base",
          "model_name": "LayoutModel",
          "state": {
            "_view_name": "LayoutView",
            "grid_template_rows": null,
            "right": null,
            "justify_content": null,
            "_view_module": "@jupyter-widgets/base",
            "overflow": null,
            "_model_module_version": "1.2.0",
            "_view_count": null,
            "flex_flow": null,
            "width": null,
            "min_width": null,
            "border": null,
            "align_items": null,
            "bottom": null,
            "_model_module": "@jupyter-widgets/base",
            "top": null,
            "grid_column": null,
            "overflow_y": null,
            "overflow_x": null,
            "grid_auto_flow": null,
            "grid_area": null,
            "grid_template_columns": null,
            "flex": null,
            "_model_name": "LayoutModel",
            "justify_items": null,
            "grid_row": null,
            "max_height": null,
            "align_content": null,
            "visibility": null,
            "align_self": null,
            "height": null,
            "min_height": null,
            "padding": null,
            "grid_auto_rows": null,
            "grid_gap": null,
            "max_width": null,
            "order": null,
            "_view_module_version": "1.2.0",
            "grid_template_areas": null,
            "object_position": null,
            "object_fit": null,
            "grid_auto_columns": null,
            "margin": null,
            "display": null,
            "left": null
          }
        },
        "1125dfd75bdd42d68ff18ebd225ab796": {
          "model_module": "@jupyter-widgets/controls",
          "model_name": "FloatProgressModel",
          "state": {
            "_view_name": "ProgressView",
            "style": "IPY_MODEL_2bb685559def40fbaa9a79f69f6b86af",
            "_dom_classes": [],
            "description": "100%",
            "_model_name": "FloatProgressModel",
            "bar_style": "success",
            "max": 1000,
            "_view_module": "@jupyter-widgets/controls",
            "_model_module_version": "1.5.0",
            "value": 1000,
            "_view_count": null,
            "_view_module_version": "1.5.0",
            "orientation": "horizontal",
            "min": 0,
            "description_tooltip": null,
            "_model_module": "@jupyter-widgets/controls",
            "layout": "IPY_MODEL_8935b4f70a9b4211b1161ab9308bd56b"
          }
        },
        "ff4985a3ea83407693bc1c14c2671fa5": {
          "model_module": "@jupyter-widgets/controls",
          "model_name": "HTMLModel",
          "state": {
            "_view_name": "HTMLView",
            "style": "IPY_MODEL_7d8918584d5a43848d85d4a0c33bb752",
            "_dom_classes": [],
            "description": "",
            "_model_name": "HTMLModel",
            "placeholder": "​",
            "_view_module": "@jupyter-widgets/controls",
            "_model_module_version": "1.5.0",
            "value": " 1000/1000 [00:07&lt;00:00, 132.13it/s]",
            "_view_count": null,
            "_view_module_version": "1.5.0",
            "description_tooltip": null,
            "_model_module": "@jupyter-widgets/controls",
            "layout": "IPY_MODEL_791bfeac4cd142b38293f46083bb9a0d"
          }
        },
        "2bb685559def40fbaa9a79f69f6b86af": {
          "model_module": "@jupyter-widgets/controls",
          "model_name": "ProgressStyleModel",
          "state": {
            "_view_name": "StyleView",
            "_model_name": "ProgressStyleModel",
            "description_width": "initial",
            "_view_module": "@jupyter-widgets/base",
            "_model_module_version": "1.5.0",
            "_view_count": null,
            "_view_module_version": "1.2.0",
            "bar_color": null,
            "_model_module": "@jupyter-widgets/controls"
          }
        },
        "8935b4f70a9b4211b1161ab9308bd56b": {
          "model_module": "@jupyter-widgets/base",
          "model_name": "LayoutModel",
          "state": {
            "_view_name": "LayoutView",
            "grid_template_rows": null,
            "right": null,
            "justify_content": null,
            "_view_module": "@jupyter-widgets/base",
            "overflow": null,
            "_model_module_version": "1.2.0",
            "_view_count": null,
            "flex_flow": null,
            "width": null,
            "min_width": null,
            "border": null,
            "align_items": null,
            "bottom": null,
            "_model_module": "@jupyter-widgets/base",
            "top": null,
            "grid_column": null,
            "overflow_y": null,
            "overflow_x": null,
            "grid_auto_flow": null,
            "grid_area": null,
            "grid_template_columns": null,
            "flex": null,
            "_model_name": "LayoutModel",
            "justify_items": null,
            "grid_row": null,
            "max_height": null,
            "align_content": null,
            "visibility": null,
            "align_self": null,
            "height": null,
            "min_height": null,
            "padding": null,
            "grid_auto_rows": null,
            "grid_gap": null,
            "max_width": null,
            "order": null,
            "_view_module_version": "1.2.0",
            "grid_template_areas": null,
            "object_position": null,
            "object_fit": null,
            "grid_auto_columns": null,
            "margin": null,
            "display": null,
            "left": null
          }
        },
        "7d8918584d5a43848d85d4a0c33bb752": {
          "model_module": "@jupyter-widgets/controls",
          "model_name": "DescriptionStyleModel",
          "state": {
            "_view_name": "StyleView",
            "_model_name": "DescriptionStyleModel",
            "description_width": "",
            "_view_module": "@jupyter-widgets/base",
            "_model_module_version": "1.5.0",
            "_view_count": null,
            "_view_module_version": "1.2.0",
            "_model_module": "@jupyter-widgets/controls"
          }
        },
        "791bfeac4cd142b38293f46083bb9a0d": {
          "model_module": "@jupyter-widgets/base",
          "model_name": "LayoutModel",
          "state": {
            "_view_name": "LayoutView",
            "grid_template_rows": null,
            "right": null,
            "justify_content": null,
            "_view_module": "@jupyter-widgets/base",
            "overflow": null,
            "_model_module_version": "1.2.0",
            "_view_count": null,
            "flex_flow": null,
            "width": null,
            "min_width": null,
            "border": null,
            "align_items": null,
            "bottom": null,
            "_model_module": "@jupyter-widgets/base",
            "top": null,
            "grid_column": null,
            "overflow_y": null,
            "overflow_x": null,
            "grid_auto_flow": null,
            "grid_area": null,
            "grid_template_columns": null,
            "flex": null,
            "_model_name": "LayoutModel",
            "justify_items": null,
            "grid_row": null,
            "max_height": null,
            "align_content": null,
            "visibility": null,
            "align_self": null,
            "height": null,
            "min_height": null,
            "padding": null,
            "grid_auto_rows": null,
            "grid_gap": null,
            "max_width": null,
            "order": null,
            "_view_module_version": "1.2.0",
            "grid_template_areas": null,
            "object_position": null,
            "object_fit": null,
            "grid_auto_columns": null,
            "margin": null,
            "display": null,
            "left": null
          }
        },
        "c55655ca153c4ca290734d17b5db195f": {
          "model_module": "@jupyter-widgets/controls",
          "model_name": "HBoxModel",
          "state": {
            "_view_name": "HBoxView",
            "_dom_classes": [],
            "_model_name": "HBoxModel",
            "_view_module": "@jupyter-widgets/controls",
            "_model_module_version": "1.5.0",
            "_view_count": null,
            "_view_module_version": "1.5.0",
            "box_style": "",
            "layout": "IPY_MODEL_c238a4ab07134d2d8e9ce819fe41020f",
            "_model_module": "@jupyter-widgets/controls",
            "children": [
              "IPY_MODEL_07ce274d59164fb7865901d97070eb04",
              "IPY_MODEL_454c86a53bd746659b23eca07a5f6588"
            ]
          }
        },
        "c238a4ab07134d2d8e9ce819fe41020f": {
          "model_module": "@jupyter-widgets/base",
          "model_name": "LayoutModel",
          "state": {
            "_view_name": "LayoutView",
            "grid_template_rows": null,
            "right": null,
            "justify_content": null,
            "_view_module": "@jupyter-widgets/base",
            "overflow": null,
            "_model_module_version": "1.2.0",
            "_view_count": null,
            "flex_flow": null,
            "width": null,
            "min_width": null,
            "border": null,
            "align_items": null,
            "bottom": null,
            "_model_module": "@jupyter-widgets/base",
            "top": null,
            "grid_column": null,
            "overflow_y": null,
            "overflow_x": null,
            "grid_auto_flow": null,
            "grid_area": null,
            "grid_template_columns": null,
            "flex": null,
            "_model_name": "LayoutModel",
            "justify_items": null,
            "grid_row": null,
            "max_height": null,
            "align_content": null,
            "visibility": null,
            "align_self": null,
            "height": null,
            "min_height": null,
            "padding": null,
            "grid_auto_rows": null,
            "grid_gap": null,
            "max_width": null,
            "order": null,
            "_view_module_version": "1.2.0",
            "grid_template_areas": null,
            "object_position": null,
            "object_fit": null,
            "grid_auto_columns": null,
            "margin": null,
            "display": null,
            "left": null
          }
        },
        "07ce274d59164fb7865901d97070eb04": {
          "model_module": "@jupyter-widgets/controls",
          "model_name": "FloatProgressModel",
          "state": {
            "_view_name": "ProgressView",
            "style": "IPY_MODEL_51f84900b74d44c581d20c595984df81",
            "_dom_classes": [],
            "description": "100%",
            "_model_name": "FloatProgressModel",
            "bar_style": "success",
            "max": 1000,
            "_view_module": "@jupyter-widgets/controls",
            "_model_module_version": "1.5.0",
            "value": 1000,
            "_view_count": null,
            "_view_module_version": "1.5.0",
            "orientation": "horizontal",
            "min": 0,
            "description_tooltip": null,
            "_model_module": "@jupyter-widgets/controls",
            "layout": "IPY_MODEL_cce6e60e93474dcc9b15174bdccc4d26"
          }
        },
        "454c86a53bd746659b23eca07a5f6588": {
          "model_module": "@jupyter-widgets/controls",
          "model_name": "HTMLModel",
          "state": {
            "_view_name": "HTMLView",
            "style": "IPY_MODEL_3fd3fc778b68445ea090802db3f0d3d3",
            "_dom_classes": [],
            "description": "",
            "_model_name": "HTMLModel",
            "placeholder": "​",
            "_view_module": "@jupyter-widgets/controls",
            "_model_module_version": "1.5.0",
            "value": " 1000/1000 [00:05&lt;00:00, 187.73it/s]",
            "_view_count": null,
            "_view_module_version": "1.5.0",
            "description_tooltip": null,
            "_model_module": "@jupyter-widgets/controls",
            "layout": "IPY_MODEL_1b8177c672284a62ac5ecd22aedbd403"
          }
        },
        "51f84900b74d44c581d20c595984df81": {
          "model_module": "@jupyter-widgets/controls",
          "model_name": "ProgressStyleModel",
          "state": {
            "_view_name": "StyleView",
            "_model_name": "ProgressStyleModel",
            "description_width": "initial",
            "_view_module": "@jupyter-widgets/base",
            "_model_module_version": "1.5.0",
            "_view_count": null,
            "_view_module_version": "1.2.0",
            "bar_color": null,
            "_model_module": "@jupyter-widgets/controls"
          }
        },
        "cce6e60e93474dcc9b15174bdccc4d26": {
          "model_module": "@jupyter-widgets/base",
          "model_name": "LayoutModel",
          "state": {
            "_view_name": "LayoutView",
            "grid_template_rows": null,
            "right": null,
            "justify_content": null,
            "_view_module": "@jupyter-widgets/base",
            "overflow": null,
            "_model_module_version": "1.2.0",
            "_view_count": null,
            "flex_flow": null,
            "width": null,
            "min_width": null,
            "border": null,
            "align_items": null,
            "bottom": null,
            "_model_module": "@jupyter-widgets/base",
            "top": null,
            "grid_column": null,
            "overflow_y": null,
            "overflow_x": null,
            "grid_auto_flow": null,
            "grid_area": null,
            "grid_template_columns": null,
            "flex": null,
            "_model_name": "LayoutModel",
            "justify_items": null,
            "grid_row": null,
            "max_height": null,
            "align_content": null,
            "visibility": null,
            "align_self": null,
            "height": null,
            "min_height": null,
            "padding": null,
            "grid_auto_rows": null,
            "grid_gap": null,
            "max_width": null,
            "order": null,
            "_view_module_version": "1.2.0",
            "grid_template_areas": null,
            "object_position": null,
            "object_fit": null,
            "grid_auto_columns": null,
            "margin": null,
            "display": null,
            "left": null
          }
        },
        "3fd3fc778b68445ea090802db3f0d3d3": {
          "model_module": "@jupyter-widgets/controls",
          "model_name": "DescriptionStyleModel",
          "state": {
            "_view_name": "StyleView",
            "_model_name": "DescriptionStyleModel",
            "description_width": "",
            "_view_module": "@jupyter-widgets/base",
            "_model_module_version": "1.5.0",
            "_view_count": null,
            "_view_module_version": "1.2.0",
            "_model_module": "@jupyter-widgets/controls"
          }
        },
        "1b8177c672284a62ac5ecd22aedbd403": {
          "model_module": "@jupyter-widgets/base",
          "model_name": "LayoutModel",
          "state": {
            "_view_name": "LayoutView",
            "grid_template_rows": null,
            "right": null,
            "justify_content": null,
            "_view_module": "@jupyter-widgets/base",
            "overflow": null,
            "_model_module_version": "1.2.0",
            "_view_count": null,
            "flex_flow": null,
            "width": null,
            "min_width": null,
            "border": null,
            "align_items": null,
            "bottom": null,
            "_model_module": "@jupyter-widgets/base",
            "top": null,
            "grid_column": null,
            "overflow_y": null,
            "overflow_x": null,
            "grid_auto_flow": null,
            "grid_area": null,
            "grid_template_columns": null,
            "flex": null,
            "_model_name": "LayoutModel",
            "justify_items": null,
            "grid_row": null,
            "max_height": null,
            "align_content": null,
            "visibility": null,
            "align_self": null,
            "height": null,
            "min_height": null,
            "padding": null,
            "grid_auto_rows": null,
            "grid_gap": null,
            "max_width": null,
            "order": null,
            "_view_module_version": "1.2.0",
            "grid_template_areas": null,
            "object_position": null,
            "object_fit": null,
            "grid_auto_columns": null,
            "margin": null,
            "display": null,
            "left": null
          }
        },
        "b759652c378e4def9fc5934c8f046d09": {
          "model_module": "@jupyter-widgets/controls",
          "model_name": "HBoxModel",
          "state": {
            "_view_name": "HBoxView",
            "_dom_classes": [],
            "_model_name": "HBoxModel",
            "_view_module": "@jupyter-widgets/controls",
            "_model_module_version": "1.5.0",
            "_view_count": null,
            "_view_module_version": "1.5.0",
            "box_style": "",
            "layout": "IPY_MODEL_d74b31f237a242be9b9c0a6f9c235f9c",
            "_model_module": "@jupyter-widgets/controls",
            "children": [
              "IPY_MODEL_a28e66117fff493d8d5d8499379d03cb",
              "IPY_MODEL_8983a111e9d148b384b64da20c874ccf"
            ]
          }
        },
        "d74b31f237a242be9b9c0a6f9c235f9c": {
          "model_module": "@jupyter-widgets/base",
          "model_name": "LayoutModel",
          "state": {
            "_view_name": "LayoutView",
            "grid_template_rows": null,
            "right": null,
            "justify_content": null,
            "_view_module": "@jupyter-widgets/base",
            "overflow": null,
            "_model_module_version": "1.2.0",
            "_view_count": null,
            "flex_flow": null,
            "width": null,
            "min_width": null,
            "border": null,
            "align_items": null,
            "bottom": null,
            "_model_module": "@jupyter-widgets/base",
            "top": null,
            "grid_column": null,
            "overflow_y": null,
            "overflow_x": null,
            "grid_auto_flow": null,
            "grid_area": null,
            "grid_template_columns": null,
            "flex": null,
            "_model_name": "LayoutModel",
            "justify_items": null,
            "grid_row": null,
            "max_height": null,
            "align_content": null,
            "visibility": null,
            "align_self": null,
            "height": null,
            "min_height": null,
            "padding": null,
            "grid_auto_rows": null,
            "grid_gap": null,
            "max_width": null,
            "order": null,
            "_view_module_version": "1.2.0",
            "grid_template_areas": null,
            "object_position": null,
            "object_fit": null,
            "grid_auto_columns": null,
            "margin": null,
            "display": null,
            "left": null
          }
        },
        "a28e66117fff493d8d5d8499379d03cb": {
          "model_module": "@jupyter-widgets/controls",
          "model_name": "FloatProgressModel",
          "state": {
            "_view_name": "ProgressView",
            "style": "IPY_MODEL_4bdd4fb5c33d489eb7dedf44e090f952",
            "_dom_classes": [],
            "description": "100%",
            "_model_name": "FloatProgressModel",
            "bar_style": "success",
            "max": 1000,
            "_view_module": "@jupyter-widgets/controls",
            "_model_module_version": "1.5.0",
            "value": 1000,
            "_view_count": null,
            "_view_module_version": "1.5.0",
            "orientation": "horizontal",
            "min": 0,
            "description_tooltip": null,
            "_model_module": "@jupyter-widgets/controls",
            "layout": "IPY_MODEL_b8d989ed9e2448b0b780982f80c053c5"
          }
        },
        "8983a111e9d148b384b64da20c874ccf": {
          "model_module": "@jupyter-widgets/controls",
          "model_name": "HTMLModel",
          "state": {
            "_view_name": "HTMLView",
            "style": "IPY_MODEL_dd562f9134224ca68cd63938d345bff0",
            "_dom_classes": [],
            "description": "",
            "_model_name": "HTMLModel",
            "placeholder": "​",
            "_view_module": "@jupyter-widgets/controls",
            "_model_module_version": "1.5.0",
            "value": " 1000/1000 [00:08&lt;00:00, 124.97it/s]",
            "_view_count": null,
            "_view_module_version": "1.5.0",
            "description_tooltip": null,
            "_model_module": "@jupyter-widgets/controls",
            "layout": "IPY_MODEL_0c8dee56e78c4bf3bc954ebfef6553d0"
          }
        },
        "4bdd4fb5c33d489eb7dedf44e090f952": {
          "model_module": "@jupyter-widgets/controls",
          "model_name": "ProgressStyleModel",
          "state": {
            "_view_name": "StyleView",
            "_model_name": "ProgressStyleModel",
            "description_width": "initial",
            "_view_module": "@jupyter-widgets/base",
            "_model_module_version": "1.5.0",
            "_view_count": null,
            "_view_module_version": "1.2.0",
            "bar_color": null,
            "_model_module": "@jupyter-widgets/controls"
          }
        },
        "b8d989ed9e2448b0b780982f80c053c5": {
          "model_module": "@jupyter-widgets/base",
          "model_name": "LayoutModel",
          "state": {
            "_view_name": "LayoutView",
            "grid_template_rows": null,
            "right": null,
            "justify_content": null,
            "_view_module": "@jupyter-widgets/base",
            "overflow": null,
            "_model_module_version": "1.2.0",
            "_view_count": null,
            "flex_flow": null,
            "width": null,
            "min_width": null,
            "border": null,
            "align_items": null,
            "bottom": null,
            "_model_module": "@jupyter-widgets/base",
            "top": null,
            "grid_column": null,
            "overflow_y": null,
            "overflow_x": null,
            "grid_auto_flow": null,
            "grid_area": null,
            "grid_template_columns": null,
            "flex": null,
            "_model_name": "LayoutModel",
            "justify_items": null,
            "grid_row": null,
            "max_height": null,
            "align_content": null,
            "visibility": null,
            "align_self": null,
            "height": null,
            "min_height": null,
            "padding": null,
            "grid_auto_rows": null,
            "grid_gap": null,
            "max_width": null,
            "order": null,
            "_view_module_version": "1.2.0",
            "grid_template_areas": null,
            "object_position": null,
            "object_fit": null,
            "grid_auto_columns": null,
            "margin": null,
            "display": null,
            "left": null
          }
        },
        "dd562f9134224ca68cd63938d345bff0": {
          "model_module": "@jupyter-widgets/controls",
          "model_name": "DescriptionStyleModel",
          "state": {
            "_view_name": "StyleView",
            "_model_name": "DescriptionStyleModel",
            "description_width": "",
            "_view_module": "@jupyter-widgets/base",
            "_model_module_version": "1.5.0",
            "_view_count": null,
            "_view_module_version": "1.2.0",
            "_model_module": "@jupyter-widgets/controls"
          }
        },
        "0c8dee56e78c4bf3bc954ebfef6553d0": {
          "model_module": "@jupyter-widgets/base",
          "model_name": "LayoutModel",
          "state": {
            "_view_name": "LayoutView",
            "grid_template_rows": null,
            "right": null,
            "justify_content": null,
            "_view_module": "@jupyter-widgets/base",
            "overflow": null,
            "_model_module_version": "1.2.0",
            "_view_count": null,
            "flex_flow": null,
            "width": null,
            "min_width": null,
            "border": null,
            "align_items": null,
            "bottom": null,
            "_model_module": "@jupyter-widgets/base",
            "top": null,
            "grid_column": null,
            "overflow_y": null,
            "overflow_x": null,
            "grid_auto_flow": null,
            "grid_area": null,
            "grid_template_columns": null,
            "flex": null,
            "_model_name": "LayoutModel",
            "justify_items": null,
            "grid_row": null,
            "max_height": null,
            "align_content": null,
            "visibility": null,
            "align_self": null,
            "height": null,
            "min_height": null,
            "padding": null,
            "grid_auto_rows": null,
            "grid_gap": null,
            "max_width": null,
            "order": null,
            "_view_module_version": "1.2.0",
            "grid_template_areas": null,
            "object_position": null,
            "object_fit": null,
            "grid_auto_columns": null,
            "margin": null,
            "display": null,
            "left": null
          }
        },
        "383d0afaec47403ab0bbee535bf97deb": {
          "model_module": "@jupyter-widgets/controls",
          "model_name": "HBoxModel",
          "state": {
            "_view_name": "HBoxView",
            "_dom_classes": [],
            "_model_name": "HBoxModel",
            "_view_module": "@jupyter-widgets/controls",
            "_model_module_version": "1.5.0",
            "_view_count": null,
            "_view_module_version": "1.5.0",
            "box_style": "",
            "layout": "IPY_MODEL_d8a9d5ba330441d2bd1dae91857cfb87",
            "_model_module": "@jupyter-widgets/controls",
            "children": [
              "IPY_MODEL_fcc3a81be85042fdb4fe45215b38772e",
              "IPY_MODEL_dc2376d4950c4c49aec4091f51ff0464"
            ]
          }
        },
        "d8a9d5ba330441d2bd1dae91857cfb87": {
          "model_module": "@jupyter-widgets/base",
          "model_name": "LayoutModel",
          "state": {
            "_view_name": "LayoutView",
            "grid_template_rows": null,
            "right": null,
            "justify_content": null,
            "_view_module": "@jupyter-widgets/base",
            "overflow": null,
            "_model_module_version": "1.2.0",
            "_view_count": null,
            "flex_flow": null,
            "width": null,
            "min_width": null,
            "border": null,
            "align_items": null,
            "bottom": null,
            "_model_module": "@jupyter-widgets/base",
            "top": null,
            "grid_column": null,
            "overflow_y": null,
            "overflow_x": null,
            "grid_auto_flow": null,
            "grid_area": null,
            "grid_template_columns": null,
            "flex": null,
            "_model_name": "LayoutModel",
            "justify_items": null,
            "grid_row": null,
            "max_height": null,
            "align_content": null,
            "visibility": null,
            "align_self": null,
            "height": null,
            "min_height": null,
            "padding": null,
            "grid_auto_rows": null,
            "grid_gap": null,
            "max_width": null,
            "order": null,
            "_view_module_version": "1.2.0",
            "grid_template_areas": null,
            "object_position": null,
            "object_fit": null,
            "grid_auto_columns": null,
            "margin": null,
            "display": null,
            "left": null
          }
        },
        "fcc3a81be85042fdb4fe45215b38772e": {
          "model_module": "@jupyter-widgets/controls",
          "model_name": "FloatProgressModel",
          "state": {
            "_view_name": "ProgressView",
            "style": "IPY_MODEL_cbcc0ac9e5764681a607e7baa8241817",
            "_dom_classes": [],
            "description": "100%",
            "_model_name": "FloatProgressModel",
            "bar_style": "success",
            "max": 1000,
            "_view_module": "@jupyter-widgets/controls",
            "_model_module_version": "1.5.0",
            "value": 1000,
            "_view_count": null,
            "_view_module_version": "1.5.0",
            "orientation": "horizontal",
            "min": 0,
            "description_tooltip": null,
            "_model_module": "@jupyter-widgets/controls",
            "layout": "IPY_MODEL_0a7a8c184137465ba9e7a79f463d581c"
          }
        },
        "dc2376d4950c4c49aec4091f51ff0464": {
          "model_module": "@jupyter-widgets/controls",
          "model_name": "HTMLModel",
          "state": {
            "_view_name": "HTMLView",
            "style": "IPY_MODEL_75274eeb2fac451e804d773b6b7a415b",
            "_dom_classes": [],
            "description": "",
            "_model_name": "HTMLModel",
            "placeholder": "​",
            "_view_module": "@jupyter-widgets/controls",
            "_model_module_version": "1.5.0",
            "value": " 1000/1000 [00:12&lt;00:00, 80.23it/s]",
            "_view_count": null,
            "_view_module_version": "1.5.0",
            "description_tooltip": null,
            "_model_module": "@jupyter-widgets/controls",
            "layout": "IPY_MODEL_33ef5ea4202f48f8a466e1fdf511d3f2"
          }
        },
        "cbcc0ac9e5764681a607e7baa8241817": {
          "model_module": "@jupyter-widgets/controls",
          "model_name": "ProgressStyleModel",
          "state": {
            "_view_name": "StyleView",
            "_model_name": "ProgressStyleModel",
            "description_width": "initial",
            "_view_module": "@jupyter-widgets/base",
            "_model_module_version": "1.5.0",
            "_view_count": null,
            "_view_module_version": "1.2.0",
            "bar_color": null,
            "_model_module": "@jupyter-widgets/controls"
          }
        },
        "0a7a8c184137465ba9e7a79f463d581c": {
          "model_module": "@jupyter-widgets/base",
          "model_name": "LayoutModel",
          "state": {
            "_view_name": "LayoutView",
            "grid_template_rows": null,
            "right": null,
            "justify_content": null,
            "_view_module": "@jupyter-widgets/base",
            "overflow": null,
            "_model_module_version": "1.2.0",
            "_view_count": null,
            "flex_flow": null,
            "width": null,
            "min_width": null,
            "border": null,
            "align_items": null,
            "bottom": null,
            "_model_module": "@jupyter-widgets/base",
            "top": null,
            "grid_column": null,
            "overflow_y": null,
            "overflow_x": null,
            "grid_auto_flow": null,
            "grid_area": null,
            "grid_template_columns": null,
            "flex": null,
            "_model_name": "LayoutModel",
            "justify_items": null,
            "grid_row": null,
            "max_height": null,
            "align_content": null,
            "visibility": null,
            "align_self": null,
            "height": null,
            "min_height": null,
            "padding": null,
            "grid_auto_rows": null,
            "grid_gap": null,
            "max_width": null,
            "order": null,
            "_view_module_version": "1.2.0",
            "grid_template_areas": null,
            "object_position": null,
            "object_fit": null,
            "grid_auto_columns": null,
            "margin": null,
            "display": null,
            "left": null
          }
        },
        "75274eeb2fac451e804d773b6b7a415b": {
          "model_module": "@jupyter-widgets/controls",
          "model_name": "DescriptionStyleModel",
          "state": {
            "_view_name": "StyleView",
            "_model_name": "DescriptionStyleModel",
            "description_width": "",
            "_view_module": "@jupyter-widgets/base",
            "_model_module_version": "1.5.0",
            "_view_count": null,
            "_view_module_version": "1.2.0",
            "_model_module": "@jupyter-widgets/controls"
          }
        },
        "33ef5ea4202f48f8a466e1fdf511d3f2": {
          "model_module": "@jupyter-widgets/base",
          "model_name": "LayoutModel",
          "state": {
            "_view_name": "LayoutView",
            "grid_template_rows": null,
            "right": null,
            "justify_content": null,
            "_view_module": "@jupyter-widgets/base",
            "overflow": null,
            "_model_module_version": "1.2.0",
            "_view_count": null,
            "flex_flow": null,
            "width": null,
            "min_width": null,
            "border": null,
            "align_items": null,
            "bottom": null,
            "_model_module": "@jupyter-widgets/base",
            "top": null,
            "grid_column": null,
            "overflow_y": null,
            "overflow_x": null,
            "grid_auto_flow": null,
            "grid_area": null,
            "grid_template_columns": null,
            "flex": null,
            "_model_name": "LayoutModel",
            "justify_items": null,
            "grid_row": null,
            "max_height": null,
            "align_content": null,
            "visibility": null,
            "align_self": null,
            "height": null,
            "min_height": null,
            "padding": null,
            "grid_auto_rows": null,
            "grid_gap": null,
            "max_width": null,
            "order": null,
            "_view_module_version": "1.2.0",
            "grid_template_areas": null,
            "object_position": null,
            "object_fit": null,
            "grid_auto_columns": null,
            "margin": null,
            "display": null,
            "left": null
          }
        },
        "a37580b2a7e141c6981ca45255ebf5d1": {
          "model_module": "@jupyter-widgets/controls",
          "model_name": "HBoxModel",
          "state": {
            "_view_name": "HBoxView",
            "_dom_classes": [],
            "_model_name": "HBoxModel",
            "_view_module": "@jupyter-widgets/controls",
            "_model_module_version": "1.5.0",
            "_view_count": null,
            "_view_module_version": "1.5.0",
            "box_style": "",
            "layout": "IPY_MODEL_e0b7208ce6314c038ebff8947f852a2e",
            "_model_module": "@jupyter-widgets/controls",
            "children": [
              "IPY_MODEL_845987b15537479896a427c999a5f86c",
              "IPY_MODEL_039cb3fcbcca4dc7a4a6ddf7349a2489"
            ]
          }
        },
        "e0b7208ce6314c038ebff8947f852a2e": {
          "model_module": "@jupyter-widgets/base",
          "model_name": "LayoutModel",
          "state": {
            "_view_name": "LayoutView",
            "grid_template_rows": null,
            "right": null,
            "justify_content": null,
            "_view_module": "@jupyter-widgets/base",
            "overflow": null,
            "_model_module_version": "1.2.0",
            "_view_count": null,
            "flex_flow": null,
            "width": null,
            "min_width": null,
            "border": null,
            "align_items": null,
            "bottom": null,
            "_model_module": "@jupyter-widgets/base",
            "top": null,
            "grid_column": null,
            "overflow_y": null,
            "overflow_x": null,
            "grid_auto_flow": null,
            "grid_area": null,
            "grid_template_columns": null,
            "flex": null,
            "_model_name": "LayoutModel",
            "justify_items": null,
            "grid_row": null,
            "max_height": null,
            "align_content": null,
            "visibility": null,
            "align_self": null,
            "height": null,
            "min_height": null,
            "padding": null,
            "grid_auto_rows": null,
            "grid_gap": null,
            "max_width": null,
            "order": null,
            "_view_module_version": "1.2.0",
            "grid_template_areas": null,
            "object_position": null,
            "object_fit": null,
            "grid_auto_columns": null,
            "margin": null,
            "display": null,
            "left": null
          }
        },
        "845987b15537479896a427c999a5f86c": {
          "model_module": "@jupyter-widgets/controls",
          "model_name": "FloatProgressModel",
          "state": {
            "_view_name": "ProgressView",
            "style": "IPY_MODEL_f5944090a21b4fc6adead2ce8d82400d",
            "_dom_classes": [],
            "description": "100%",
            "_model_name": "FloatProgressModel",
            "bar_style": "success",
            "max": 1000,
            "_view_module": "@jupyter-widgets/controls",
            "_model_module_version": "1.5.0",
            "value": 1000,
            "_view_count": null,
            "_view_module_version": "1.5.0",
            "orientation": "horizontal",
            "min": 0,
            "description_tooltip": null,
            "_model_module": "@jupyter-widgets/controls",
            "layout": "IPY_MODEL_cee457e30ae948ec802a8399f690c319"
          }
        },
        "039cb3fcbcca4dc7a4a6ddf7349a2489": {
          "model_module": "@jupyter-widgets/controls",
          "model_name": "HTMLModel",
          "state": {
            "_view_name": "HTMLView",
            "style": "IPY_MODEL_059609be459c44cf8aedbcb27f201609",
            "_dom_classes": [],
            "description": "",
            "_model_name": "HTMLModel",
            "placeholder": "​",
            "_view_module": "@jupyter-widgets/controls",
            "_model_module_version": "1.5.0",
            "value": " 1000/1000 [00:19&lt;00:00, 51.76it/s]",
            "_view_count": null,
            "_view_module_version": "1.5.0",
            "description_tooltip": null,
            "_model_module": "@jupyter-widgets/controls",
            "layout": "IPY_MODEL_0111a7d02bb44e65a915eb2dd1553e18"
          }
        },
        "f5944090a21b4fc6adead2ce8d82400d": {
          "model_module": "@jupyter-widgets/controls",
          "model_name": "ProgressStyleModel",
          "state": {
            "_view_name": "StyleView",
            "_model_name": "ProgressStyleModel",
            "description_width": "initial",
            "_view_module": "@jupyter-widgets/base",
            "_model_module_version": "1.5.0",
            "_view_count": null,
            "_view_module_version": "1.2.0",
            "bar_color": null,
            "_model_module": "@jupyter-widgets/controls"
          }
        },
        "cee457e30ae948ec802a8399f690c319": {
          "model_module": "@jupyter-widgets/base",
          "model_name": "LayoutModel",
          "state": {
            "_view_name": "LayoutView",
            "grid_template_rows": null,
            "right": null,
            "justify_content": null,
            "_view_module": "@jupyter-widgets/base",
            "overflow": null,
            "_model_module_version": "1.2.0",
            "_view_count": null,
            "flex_flow": null,
            "width": null,
            "min_width": null,
            "border": null,
            "align_items": null,
            "bottom": null,
            "_model_module": "@jupyter-widgets/base",
            "top": null,
            "grid_column": null,
            "overflow_y": null,
            "overflow_x": null,
            "grid_auto_flow": null,
            "grid_area": null,
            "grid_template_columns": null,
            "flex": null,
            "_model_name": "LayoutModel",
            "justify_items": null,
            "grid_row": null,
            "max_height": null,
            "align_content": null,
            "visibility": null,
            "align_self": null,
            "height": null,
            "min_height": null,
            "padding": null,
            "grid_auto_rows": null,
            "grid_gap": null,
            "max_width": null,
            "order": null,
            "_view_module_version": "1.2.0",
            "grid_template_areas": null,
            "object_position": null,
            "object_fit": null,
            "grid_auto_columns": null,
            "margin": null,
            "display": null,
            "left": null
          }
        },
        "059609be459c44cf8aedbcb27f201609": {
          "model_module": "@jupyter-widgets/controls",
          "model_name": "DescriptionStyleModel",
          "state": {
            "_view_name": "StyleView",
            "_model_name": "DescriptionStyleModel",
            "description_width": "",
            "_view_module": "@jupyter-widgets/base",
            "_model_module_version": "1.5.0",
            "_view_count": null,
            "_view_module_version": "1.2.0",
            "_model_module": "@jupyter-widgets/controls"
          }
        },
        "0111a7d02bb44e65a915eb2dd1553e18": {
          "model_module": "@jupyter-widgets/base",
          "model_name": "LayoutModel",
          "state": {
            "_view_name": "LayoutView",
            "grid_template_rows": null,
            "right": null,
            "justify_content": null,
            "_view_module": "@jupyter-widgets/base",
            "overflow": null,
            "_model_module_version": "1.2.0",
            "_view_count": null,
            "flex_flow": null,
            "width": null,
            "min_width": null,
            "border": null,
            "align_items": null,
            "bottom": null,
            "_model_module": "@jupyter-widgets/base",
            "top": null,
            "grid_column": null,
            "overflow_y": null,
            "overflow_x": null,
            "grid_auto_flow": null,
            "grid_area": null,
            "grid_template_columns": null,
            "flex": null,
            "_model_name": "LayoutModel",
            "justify_items": null,
            "grid_row": null,
            "max_height": null,
            "align_content": null,
            "visibility": null,
            "align_self": null,
            "height": null,
            "min_height": null,
            "padding": null,
            "grid_auto_rows": null,
            "grid_gap": null,
            "max_width": null,
            "order": null,
            "_view_module_version": "1.2.0",
            "grid_template_areas": null,
            "object_position": null,
            "object_fit": null,
            "grid_auto_columns": null,
            "margin": null,
            "display": null,
            "left": null
          }
        },
        "7877d8cf854b473e9fa88b6bd0c8d2cf": {
          "model_module": "@jupyter-widgets/controls",
          "model_name": "HBoxModel",
          "state": {
            "_view_name": "HBoxView",
            "_dom_classes": [],
            "_model_name": "HBoxModel",
            "_view_module": "@jupyter-widgets/controls",
            "_model_module_version": "1.5.0",
            "_view_count": null,
            "_view_module_version": "1.5.0",
            "box_style": "",
            "layout": "IPY_MODEL_f8b7dd04194a4d72ac3d048245844bf8",
            "_model_module": "@jupyter-widgets/controls",
            "children": [
              "IPY_MODEL_0a499640bf594c4a9ba07a4f8a4e9a7b",
              "IPY_MODEL_08b07a79ff4548eda76cf387c4342312"
            ]
          }
        },
        "f8b7dd04194a4d72ac3d048245844bf8": {
          "model_module": "@jupyter-widgets/base",
          "model_name": "LayoutModel",
          "state": {
            "_view_name": "LayoutView",
            "grid_template_rows": null,
            "right": null,
            "justify_content": null,
            "_view_module": "@jupyter-widgets/base",
            "overflow": null,
            "_model_module_version": "1.2.0",
            "_view_count": null,
            "flex_flow": null,
            "width": null,
            "min_width": null,
            "border": null,
            "align_items": null,
            "bottom": null,
            "_model_module": "@jupyter-widgets/base",
            "top": null,
            "grid_column": null,
            "overflow_y": null,
            "overflow_x": null,
            "grid_auto_flow": null,
            "grid_area": null,
            "grid_template_columns": null,
            "flex": null,
            "_model_name": "LayoutModel",
            "justify_items": null,
            "grid_row": null,
            "max_height": null,
            "align_content": null,
            "visibility": null,
            "align_self": null,
            "height": null,
            "min_height": null,
            "padding": null,
            "grid_auto_rows": null,
            "grid_gap": null,
            "max_width": null,
            "order": null,
            "_view_module_version": "1.2.0",
            "grid_template_areas": null,
            "object_position": null,
            "object_fit": null,
            "grid_auto_columns": null,
            "margin": null,
            "display": null,
            "left": null
          }
        },
        "0a499640bf594c4a9ba07a4f8a4e9a7b": {
          "model_module": "@jupyter-widgets/controls",
          "model_name": "FloatProgressModel",
          "state": {
            "_view_name": "ProgressView",
            "style": "IPY_MODEL_f11eee8f2c1142868e00468fee9a7dfa",
            "_dom_classes": [],
            "description": "100%",
            "_model_name": "FloatProgressModel",
            "bar_style": "success",
            "max": 1000,
            "_view_module": "@jupyter-widgets/controls",
            "_model_module_version": "1.5.0",
            "value": 1000,
            "_view_count": null,
            "_view_module_version": "1.5.0",
            "orientation": "horizontal",
            "min": 0,
            "description_tooltip": null,
            "_model_module": "@jupyter-widgets/controls",
            "layout": "IPY_MODEL_f0ff39dcfebc429f86a62f25dad8f2fd"
          }
        },
        "08b07a79ff4548eda76cf387c4342312": {
          "model_module": "@jupyter-widgets/controls",
          "model_name": "HTMLModel",
          "state": {
            "_view_name": "HTMLView",
            "style": "IPY_MODEL_68e3e4a3a201467cb25f05d461a99375",
            "_dom_classes": [],
            "description": "",
            "_model_name": "HTMLModel",
            "placeholder": "​",
            "_view_module": "@jupyter-widgets/controls",
            "_model_module_version": "1.5.0",
            "value": " 1000/1000 [01:10&lt;00:00, 14.24it/s]",
            "_view_count": null,
            "_view_module_version": "1.5.0",
            "description_tooltip": null,
            "_model_module": "@jupyter-widgets/controls",
            "layout": "IPY_MODEL_1779c62e589c451081ffe1038ac3e0ed"
          }
        },
        "f11eee8f2c1142868e00468fee9a7dfa": {
          "model_module": "@jupyter-widgets/controls",
          "model_name": "ProgressStyleModel",
          "state": {
            "_view_name": "StyleView",
            "_model_name": "ProgressStyleModel",
            "description_width": "initial",
            "_view_module": "@jupyter-widgets/base",
            "_model_module_version": "1.5.0",
            "_view_count": null,
            "_view_module_version": "1.2.0",
            "bar_color": null,
            "_model_module": "@jupyter-widgets/controls"
          }
        },
        "f0ff39dcfebc429f86a62f25dad8f2fd": {
          "model_module": "@jupyter-widgets/base",
          "model_name": "LayoutModel",
          "state": {
            "_view_name": "LayoutView",
            "grid_template_rows": null,
            "right": null,
            "justify_content": null,
            "_view_module": "@jupyter-widgets/base",
            "overflow": null,
            "_model_module_version": "1.2.0",
            "_view_count": null,
            "flex_flow": null,
            "width": null,
            "min_width": null,
            "border": null,
            "align_items": null,
            "bottom": null,
            "_model_module": "@jupyter-widgets/base",
            "top": null,
            "grid_column": null,
            "overflow_y": null,
            "overflow_x": null,
            "grid_auto_flow": null,
            "grid_area": null,
            "grid_template_columns": null,
            "flex": null,
            "_model_name": "LayoutModel",
            "justify_items": null,
            "grid_row": null,
            "max_height": null,
            "align_content": null,
            "visibility": null,
            "align_self": null,
            "height": null,
            "min_height": null,
            "padding": null,
            "grid_auto_rows": null,
            "grid_gap": null,
            "max_width": null,
            "order": null,
            "_view_module_version": "1.2.0",
            "grid_template_areas": null,
            "object_position": null,
            "object_fit": null,
            "grid_auto_columns": null,
            "margin": null,
            "display": null,
            "left": null
          }
        },
        "68e3e4a3a201467cb25f05d461a99375": {
          "model_module": "@jupyter-widgets/controls",
          "model_name": "DescriptionStyleModel",
          "state": {
            "_view_name": "StyleView",
            "_model_name": "DescriptionStyleModel",
            "description_width": "",
            "_view_module": "@jupyter-widgets/base",
            "_model_module_version": "1.5.0",
            "_view_count": null,
            "_view_module_version": "1.2.0",
            "_model_module": "@jupyter-widgets/controls"
          }
        },
        "1779c62e589c451081ffe1038ac3e0ed": {
          "model_module": "@jupyter-widgets/base",
          "model_name": "LayoutModel",
          "state": {
            "_view_name": "LayoutView",
            "grid_template_rows": null,
            "right": null,
            "justify_content": null,
            "_view_module": "@jupyter-widgets/base",
            "overflow": null,
            "_model_module_version": "1.2.0",
            "_view_count": null,
            "flex_flow": null,
            "width": null,
            "min_width": null,
            "border": null,
            "align_items": null,
            "bottom": null,
            "_model_module": "@jupyter-widgets/base",
            "top": null,
            "grid_column": null,
            "overflow_y": null,
            "overflow_x": null,
            "grid_auto_flow": null,
            "grid_area": null,
            "grid_template_columns": null,
            "flex": null,
            "_model_name": "LayoutModel",
            "justify_items": null,
            "grid_row": null,
            "max_height": null,
            "align_content": null,
            "visibility": null,
            "align_self": null,
            "height": null,
            "min_height": null,
            "padding": null,
            "grid_auto_rows": null,
            "grid_gap": null,
            "max_width": null,
            "order": null,
            "_view_module_version": "1.2.0",
            "grid_template_areas": null,
            "object_position": null,
            "object_fit": null,
            "grid_auto_columns": null,
            "margin": null,
            "display": null,
            "left": null
          }
        },
        "2f095925ae204975a9e6dffdf56d58ab": {
          "model_module": "@jupyter-widgets/controls",
          "model_name": "HBoxModel",
          "state": {
            "_view_name": "HBoxView",
            "_dom_classes": [],
            "_model_name": "HBoxModel",
            "_view_module": "@jupyter-widgets/controls",
            "_model_module_version": "1.5.0",
            "_view_count": null,
            "_view_module_version": "1.5.0",
            "box_style": "",
            "layout": "IPY_MODEL_b98a1036302146d38faca72721b9fbf2",
            "_model_module": "@jupyter-widgets/controls",
            "children": [
              "IPY_MODEL_55b7328cc8634643ac24d7fc81de09ad",
              "IPY_MODEL_71581f5e534246f4845b82b7b2148a3e"
            ]
          }
        },
        "b98a1036302146d38faca72721b9fbf2": {
          "model_module": "@jupyter-widgets/base",
          "model_name": "LayoutModel",
          "state": {
            "_view_name": "LayoutView",
            "grid_template_rows": null,
            "right": null,
            "justify_content": null,
            "_view_module": "@jupyter-widgets/base",
            "overflow": null,
            "_model_module_version": "1.2.0",
            "_view_count": null,
            "flex_flow": null,
            "width": null,
            "min_width": null,
            "border": null,
            "align_items": null,
            "bottom": null,
            "_model_module": "@jupyter-widgets/base",
            "top": null,
            "grid_column": null,
            "overflow_y": null,
            "overflow_x": null,
            "grid_auto_flow": null,
            "grid_area": null,
            "grid_template_columns": null,
            "flex": null,
            "_model_name": "LayoutModel",
            "justify_items": null,
            "grid_row": null,
            "max_height": null,
            "align_content": null,
            "visibility": null,
            "align_self": null,
            "height": null,
            "min_height": null,
            "padding": null,
            "grid_auto_rows": null,
            "grid_gap": null,
            "max_width": null,
            "order": null,
            "_view_module_version": "1.2.0",
            "grid_template_areas": null,
            "object_position": null,
            "object_fit": null,
            "grid_auto_columns": null,
            "margin": null,
            "display": null,
            "left": null
          }
        },
        "55b7328cc8634643ac24d7fc81de09ad": {
          "model_module": "@jupyter-widgets/controls",
          "model_name": "FloatProgressModel",
          "state": {
            "_view_name": "ProgressView",
            "style": "IPY_MODEL_38910d380fa44747b7dde4b600bf5136",
            "_dom_classes": [],
            "description": "100%",
            "_model_name": "FloatProgressModel",
            "bar_style": "success",
            "max": 1000,
            "_view_module": "@jupyter-widgets/controls",
            "_model_module_version": "1.5.0",
            "value": 1000,
            "_view_count": null,
            "_view_module_version": "1.5.0",
            "orientation": "horizontal",
            "min": 0,
            "description_tooltip": null,
            "_model_module": "@jupyter-widgets/controls",
            "layout": "IPY_MODEL_89a85d3f303e47f283ad7071288fadc0"
          }
        },
        "71581f5e534246f4845b82b7b2148a3e": {
          "model_module": "@jupyter-widgets/controls",
          "model_name": "HTMLModel",
          "state": {
            "_view_name": "HTMLView",
            "style": "IPY_MODEL_156e921f05e7455c9526f7247fe7ed85",
            "_dom_classes": [],
            "description": "",
            "_model_name": "HTMLModel",
            "placeholder": "​",
            "_view_module": "@jupyter-widgets/controls",
            "_model_module_version": "1.5.0",
            "value": " 1000/1000 [01:13&lt;00:00, 13.64it/s]",
            "_view_count": null,
            "_view_module_version": "1.5.0",
            "description_tooltip": null,
            "_model_module": "@jupyter-widgets/controls",
            "layout": "IPY_MODEL_8633290d8bbc4f0aa2470fa4c98c3f03"
          }
        },
        "38910d380fa44747b7dde4b600bf5136": {
          "model_module": "@jupyter-widgets/controls",
          "model_name": "ProgressStyleModel",
          "state": {
            "_view_name": "StyleView",
            "_model_name": "ProgressStyleModel",
            "description_width": "initial",
            "_view_module": "@jupyter-widgets/base",
            "_model_module_version": "1.5.0",
            "_view_count": null,
            "_view_module_version": "1.2.0",
            "bar_color": null,
            "_model_module": "@jupyter-widgets/controls"
          }
        },
        "89a85d3f303e47f283ad7071288fadc0": {
          "model_module": "@jupyter-widgets/base",
          "model_name": "LayoutModel",
          "state": {
            "_view_name": "LayoutView",
            "grid_template_rows": null,
            "right": null,
            "justify_content": null,
            "_view_module": "@jupyter-widgets/base",
            "overflow": null,
            "_model_module_version": "1.2.0",
            "_view_count": null,
            "flex_flow": null,
            "width": null,
            "min_width": null,
            "border": null,
            "align_items": null,
            "bottom": null,
            "_model_module": "@jupyter-widgets/base",
            "top": null,
            "grid_column": null,
            "overflow_y": null,
            "overflow_x": null,
            "grid_auto_flow": null,
            "grid_area": null,
            "grid_template_columns": null,
            "flex": null,
            "_model_name": "LayoutModel",
            "justify_items": null,
            "grid_row": null,
            "max_height": null,
            "align_content": null,
            "visibility": null,
            "align_self": null,
            "height": null,
            "min_height": null,
            "padding": null,
            "grid_auto_rows": null,
            "grid_gap": null,
            "max_width": null,
            "order": null,
            "_view_module_version": "1.2.0",
            "grid_template_areas": null,
            "object_position": null,
            "object_fit": null,
            "grid_auto_columns": null,
            "margin": null,
            "display": null,
            "left": null
          }
        },
        "156e921f05e7455c9526f7247fe7ed85": {
          "model_module": "@jupyter-widgets/controls",
          "model_name": "DescriptionStyleModel",
          "state": {
            "_view_name": "StyleView",
            "_model_name": "DescriptionStyleModel",
            "description_width": "",
            "_view_module": "@jupyter-widgets/base",
            "_model_module_version": "1.5.0",
            "_view_count": null,
            "_view_module_version": "1.2.0",
            "_model_module": "@jupyter-widgets/controls"
          }
        },
        "8633290d8bbc4f0aa2470fa4c98c3f03": {
          "model_module": "@jupyter-widgets/base",
          "model_name": "LayoutModel",
          "state": {
            "_view_name": "LayoutView",
            "grid_template_rows": null,
            "right": null,
            "justify_content": null,
            "_view_module": "@jupyter-widgets/base",
            "overflow": null,
            "_model_module_version": "1.2.0",
            "_view_count": null,
            "flex_flow": null,
            "width": null,
            "min_width": null,
            "border": null,
            "align_items": null,
            "bottom": null,
            "_model_module": "@jupyter-widgets/base",
            "top": null,
            "grid_column": null,
            "overflow_y": null,
            "overflow_x": null,
            "grid_auto_flow": null,
            "grid_area": null,
            "grid_template_columns": null,
            "flex": null,
            "_model_name": "LayoutModel",
            "justify_items": null,
            "grid_row": null,
            "max_height": null,
            "align_content": null,
            "visibility": null,
            "align_self": null,
            "height": null,
            "min_height": null,
            "padding": null,
            "grid_auto_rows": null,
            "grid_gap": null,
            "max_width": null,
            "order": null,
            "_view_module_version": "1.2.0",
            "grid_template_areas": null,
            "object_position": null,
            "object_fit": null,
            "grid_auto_columns": null,
            "margin": null,
            "display": null,
            "left": null
          }
        },
        "4f67000d0ae144b897923b044226ae87": {
          "model_module": "@jupyter-widgets/controls",
          "model_name": "HBoxModel",
          "state": {
            "_view_name": "HBoxView",
            "_dom_classes": [],
            "_model_name": "HBoxModel",
            "_view_module": "@jupyter-widgets/controls",
            "_model_module_version": "1.5.0",
            "_view_count": null,
            "_view_module_version": "1.5.0",
            "box_style": "",
            "layout": "IPY_MODEL_57b1ffdfbfe645b68dfe3904a72ba5ea",
            "_model_module": "@jupyter-widgets/controls",
            "children": [
              "IPY_MODEL_5a369e2d43434abc9316d8b915861b4d",
              "IPY_MODEL_c36699136da24151b99f2bc4a5ba553f"
            ]
          }
        },
        "57b1ffdfbfe645b68dfe3904a72ba5ea": {
          "model_module": "@jupyter-widgets/base",
          "model_name": "LayoutModel",
          "state": {
            "_view_name": "LayoutView",
            "grid_template_rows": null,
            "right": null,
            "justify_content": null,
            "_view_module": "@jupyter-widgets/base",
            "overflow": null,
            "_model_module_version": "1.2.0",
            "_view_count": null,
            "flex_flow": null,
            "width": null,
            "min_width": null,
            "border": null,
            "align_items": null,
            "bottom": null,
            "_model_module": "@jupyter-widgets/base",
            "top": null,
            "grid_column": null,
            "overflow_y": null,
            "overflow_x": null,
            "grid_auto_flow": null,
            "grid_area": null,
            "grid_template_columns": null,
            "flex": null,
            "_model_name": "LayoutModel",
            "justify_items": null,
            "grid_row": null,
            "max_height": null,
            "align_content": null,
            "visibility": null,
            "align_self": null,
            "height": null,
            "min_height": null,
            "padding": null,
            "grid_auto_rows": null,
            "grid_gap": null,
            "max_width": null,
            "order": null,
            "_view_module_version": "1.2.0",
            "grid_template_areas": null,
            "object_position": null,
            "object_fit": null,
            "grid_auto_columns": null,
            "margin": null,
            "display": null,
            "left": null
          }
        },
        "5a369e2d43434abc9316d8b915861b4d": {
          "model_module": "@jupyter-widgets/controls",
          "model_name": "FloatProgressModel",
          "state": {
            "_view_name": "ProgressView",
            "style": "IPY_MODEL_329f97d49d354b7f9765f093ff6b2397",
            "_dom_classes": [],
            "description": "100%",
            "_model_name": "FloatProgressModel",
            "bar_style": "success",
            "max": 1000,
            "_view_module": "@jupyter-widgets/controls",
            "_model_module_version": "1.5.0",
            "value": 1000,
            "_view_count": null,
            "_view_module_version": "1.5.0",
            "orientation": "horizontal",
            "min": 0,
            "description_tooltip": null,
            "_model_module": "@jupyter-widgets/controls",
            "layout": "IPY_MODEL_ecd6f29e427f400ea4810787df4f8342"
          }
        },
        "c36699136da24151b99f2bc4a5ba553f": {
          "model_module": "@jupyter-widgets/controls",
          "model_name": "HTMLModel",
          "state": {
            "_view_name": "HTMLView",
            "style": "IPY_MODEL_bb185551f187476389d63b1912952cfd",
            "_dom_classes": [],
            "description": "",
            "_model_name": "HTMLModel",
            "placeholder": "​",
            "_view_module": "@jupyter-widgets/controls",
            "_model_module_version": "1.5.0",
            "value": " 1000/1000 [01:22&lt;00:00, 12.15it/s]",
            "_view_count": null,
            "_view_module_version": "1.5.0",
            "description_tooltip": null,
            "_model_module": "@jupyter-widgets/controls",
            "layout": "IPY_MODEL_aa7c85c5c30a4e3a8bf28f001b2f02a0"
          }
        },
        "329f97d49d354b7f9765f093ff6b2397": {
          "model_module": "@jupyter-widgets/controls",
          "model_name": "ProgressStyleModel",
          "state": {
            "_view_name": "StyleView",
            "_model_name": "ProgressStyleModel",
            "description_width": "initial",
            "_view_module": "@jupyter-widgets/base",
            "_model_module_version": "1.5.0",
            "_view_count": null,
            "_view_module_version": "1.2.0",
            "bar_color": null,
            "_model_module": "@jupyter-widgets/controls"
          }
        },
        "ecd6f29e427f400ea4810787df4f8342": {
          "model_module": "@jupyter-widgets/base",
          "model_name": "LayoutModel",
          "state": {
            "_view_name": "LayoutView",
            "grid_template_rows": null,
            "right": null,
            "justify_content": null,
            "_view_module": "@jupyter-widgets/base",
            "overflow": null,
            "_model_module_version": "1.2.0",
            "_view_count": null,
            "flex_flow": null,
            "width": null,
            "min_width": null,
            "border": null,
            "align_items": null,
            "bottom": null,
            "_model_module": "@jupyter-widgets/base",
            "top": null,
            "grid_column": null,
            "overflow_y": null,
            "overflow_x": null,
            "grid_auto_flow": null,
            "grid_area": null,
            "grid_template_columns": null,
            "flex": null,
            "_model_name": "LayoutModel",
            "justify_items": null,
            "grid_row": null,
            "max_height": null,
            "align_content": null,
            "visibility": null,
            "align_self": null,
            "height": null,
            "min_height": null,
            "padding": null,
            "grid_auto_rows": null,
            "grid_gap": null,
            "max_width": null,
            "order": null,
            "_view_module_version": "1.2.0",
            "grid_template_areas": null,
            "object_position": null,
            "object_fit": null,
            "grid_auto_columns": null,
            "margin": null,
            "display": null,
            "left": null
          }
        },
        "bb185551f187476389d63b1912952cfd": {
          "model_module": "@jupyter-widgets/controls",
          "model_name": "DescriptionStyleModel",
          "state": {
            "_view_name": "StyleView",
            "_model_name": "DescriptionStyleModel",
            "description_width": "",
            "_view_module": "@jupyter-widgets/base",
            "_model_module_version": "1.5.0",
            "_view_count": null,
            "_view_module_version": "1.2.0",
            "_model_module": "@jupyter-widgets/controls"
          }
        },
        "aa7c85c5c30a4e3a8bf28f001b2f02a0": {
          "model_module": "@jupyter-widgets/base",
          "model_name": "LayoutModel",
          "state": {
            "_view_name": "LayoutView",
            "grid_template_rows": null,
            "right": null,
            "justify_content": null,
            "_view_module": "@jupyter-widgets/base",
            "overflow": null,
            "_model_module_version": "1.2.0",
            "_view_count": null,
            "flex_flow": null,
            "width": null,
            "min_width": null,
            "border": null,
            "align_items": null,
            "bottom": null,
            "_model_module": "@jupyter-widgets/base",
            "top": null,
            "grid_column": null,
            "overflow_y": null,
            "overflow_x": null,
            "grid_auto_flow": null,
            "grid_area": null,
            "grid_template_columns": null,
            "flex": null,
            "_model_name": "LayoutModel",
            "justify_items": null,
            "grid_row": null,
            "max_height": null,
            "align_content": null,
            "visibility": null,
            "align_self": null,
            "height": null,
            "min_height": null,
            "padding": null,
            "grid_auto_rows": null,
            "grid_gap": null,
            "max_width": null,
            "order": null,
            "_view_module_version": "1.2.0",
            "grid_template_areas": null,
            "object_position": null,
            "object_fit": null,
            "grid_auto_columns": null,
            "margin": null,
            "display": null,
            "left": null
          }
        }
      }
    }
  },
  "cells": [
    {
      "cell_type": "markdown",
      "metadata": {
        "id": "view-in-github",
        "colab_type": "text"
      },
      "source": [
        "<a href=\"https://colab.research.google.com/github/oughtinc/ergo/blob/master/notebooks/build/el-paso-workflow.ipynb\" target=\"_parent\"><img src=\"https://colab.research.google.com/assets/colab-badge.svg\" alt=\"Open In Colab\"/></a>"
      ]
    },
    {
      "cell_type": "markdown",
      "metadata": {
        "id": "Z5ZIHBukPSyu",
        "colab_type": "text"
      },
      "source": [
        "# Setup"
      ]
    },
    {
      "cell_type": "code",
      "metadata": {
        "id": "clDDniBoPKlN",
        "colab_type": "code",
        "colab": {
          "base_uri": "https://localhost:8080/",
          "height": 538
        },
        "outputId": "fa18e07b-44e4-438f-b3aa-6e89df0dcab3"
      },
      "source": [
        "!pip install --progress-bar off --quiet poetry\n",
        "!pip install --progress-bar off --quiet git+https://github.com/oughtinc/ergo.git@64c4b78139e5c53ebe34acd617fd222662980539"
      ],
      "execution_count": 1,
      "outputs": [
        {
          "output_type": "stream",
          "text": [
            "\u001b[?25l\n",
            "\u001b[?25h\u001b[?25l\n",
            "\u001b[?25h\u001b[?25l\n",
            "\u001b[?25h\u001b[?25l\n",
            "\u001b[?25h\u001b[?25l\n",
            "\u001b[?25h\u001b[?25l\n",
            "\u001b[?25h  Building wheel for pyrsistent (setup.py) ... \u001b[?25l\u001b[?25hdone\n",
            "  Installing build dependencies ... \u001b[?25l\u001b[?25hdone\n",
            "  Getting requirements to build wheel ... \u001b[?25l\u001b[?25hdone\n",
            "    Preparing wheel metadata ... \u001b[?25l\u001b[?25hdone\n",
            "\u001b[?25l\n",
            "\u001b[?25h\u001b[?25l\n",
            "\u001b[?25h\u001b[?25l\n",
            "\u001b[?25h\u001b[?25l\n",
            "\u001b[?25h\u001b[?25l\n",
            "\u001b[?25h\u001b[?25l\n",
            "\u001b[?25h\u001b[?25l\n",
            "\u001b[?25h\u001b[?25l\n",
            "\u001b[?25h\u001b[?25l\n",
            "\u001b[?25h\u001b[?25l\n",
            "\u001b[?25h\u001b[?25l\n",
            "\u001b[?25h\u001b[?25l\n",
            "\u001b[?25h\u001b[?25l\n",
            "\u001b[?25h  Building wheel for ergo (PEP 517) ... \u001b[?25l\u001b[?25hdone\n",
            "  Building wheel for country-converter (setup.py) ... \u001b[?25l\u001b[?25hdone\n",
            "  Building wheel for numpyro (setup.py) ... \u001b[?25l\u001b[?25hdone\n",
            "  Building wheel for jax (setup.py) ... \u001b[?25l\u001b[?25hdone\n",
            "\u001b[31mERROR: google-colab 1.0.0 has requirement requests~=2.23.0, but you'll have requests 2.21.0 which is incompatible.\u001b[0m\n",
            "\u001b[31mERROR: datascience 0.10.6 has requirement folium==0.2.1, but you'll have folium 0.8.3 which is incompatible.\u001b[0m\n",
            "\u001b[31mERROR: chainer 6.5.0 has requirement typing-extensions<=3.6.6, but you'll have typing-extensions 3.7.4.2 which is incompatible.\u001b[0m\n"
          ],
          "name": "stdout"
        }
      ]
    },
    {
      "cell_type": "code",
      "metadata": {
        "id": "4a6tt7rnPKlX",
        "colab_type": "code",
        "colab": {}
      },
      "source": [
        "import ergo\n",
        "import seaborn\n",
        "\n",
        "import numpy as np\n",
        "import warnings\n",
        "import ssl\n",
        "import pandas as pd\n",
        "from datetime import timedelta, date\n",
        "\n",
        "warnings.filterwarnings(action=\"ignore\", category=FutureWarning)\n",
        "warnings.filterwarnings(action=\"ignore\", module=\"plotnine\")\n",
        "ssl._create_default_https_context = ssl._create_unverified_context\n",
        "pd.set_option('precision', 2)"
      ],
      "execution_count": 0,
      "outputs": []
    },
    {
      "cell_type": "markdown",
      "metadata": {
        "id": "9iaQNqm1PKlf",
        "colab_type": "text"
      },
      "source": [
        "# Forecasting with Ergo"
      ]
    },
    {
      "cell_type": "markdown",
      "metadata": {
        "id": "ZTucB4BzPKlg",
        "colab_type": "text"
      },
      "source": [
        "## Choose a decision-relevant question"
      ]
    },
    {
      "cell_type": "markdown",
      "metadata": {
        "id": "2BKSeAaNPKlg",
        "colab_type": "text"
      },
      "source": [
        "### How many ventilators will be needed in El Paso?\n",
        "\n",
        "I want to predict this question:\n",
        "\n",
        "> How many patients with Covid-19 in El Paso County will require invasive ventilation on the day when the number of hospital admissions of cases peak?\n",
        "\n",
        "Background:\n",
        "\n",
        "- El Paso is a county in Texas (population 850,000)\n",
        "- They're preparing for the impact of COVID-19\n",
        "- This questions is part of a series of a dozen questions that have been formulated in partnership between [Metaculus](https://www.metaculus.com) and administrators at Texas Tech University Health Sciences Center, El Paso\n",
        "- The answers will guide on-the-ground decision\n",
        "- This questions is particularly decision-relevant: it's important to have enough ventilators on the day when most are needed, but if you don't need them, they might be put to better use elsewhere\n",
        "\n",
        "### Loading question data from the Metaculus crowd prediction platform\n",
        "\n",
        "Ergo can read and write from Metaculus, Foretold, and other crowd prediction sites.\n",
        "\n",
        "The ventilation questions is [a question](https://pandemic.metaculus.com/questions/4137/) on the crowd prediction site Metaculus, so I'll load it from there:"
      ]
    },
    {
      "cell_type": "code",
      "metadata": {
        "id": "tTP8TvhBPKli",
        "colab_type": "code",
        "colab": {
          "base_uri": "https://localhost:8080/",
          "height": 34
        },
        "outputId": "0ba14a00-a4b0-42e8-91bc-380150745935"
      },
      "source": [
        "metaculus = ergo.Metaculus(username=\"oughtpublic\", password=\"123456\", api_domain=\"pandemic\")\n",
        "peak_ventilators_question = metaculus.get_question(4201)\n",
        "peak_ventilators_question"
      ],
      "execution_count": 3,
      "outputs": [
        {
          "output_type": "execute_result",
          "data": {
            "text/plain": [
              "<ergo.metaculus.LogQuestion at 0x7f00d83ae400>"
            ]
          },
          "metadata": {
            "tags": []
          },
          "execution_count": 3
        }
      ]
    },
    {
      "cell_type": "markdown",
      "metadata": {
        "id": "fJ41wY-pPKlp",
        "colab_type": "text"
      },
      "source": [
        "This will allow us to compare our prediction to the Metaculus community, and to submit our prediction to the platform."
      ]
    },
    {
      "cell_type": "markdown",
      "metadata": {
        "id": "2c9qWZ4zPKlq",
        "colab_type": "text"
      },
      "source": [
        "### Custom questions\n",
        "\n",
        "We don't have to use questions on prediction platforms. We could also define our own questions:\n",
        "\n",
        "```\n",
        "question = ergo.Question(title=\"How long will I live?\")\n",
        "```"
      ]
    },
    {
      "cell_type": "markdown",
      "metadata": {
        "id": "VXPtvLemPKlr",
        "colab_type": "text"
      },
      "source": [
        "But in this tutorial I'll stick with the ventilation question on Metaculus."
      ]
    },
    {
      "cell_type": "markdown",
      "metadata": {
        "id": "6gTMVU5PPKls",
        "colab_type": "text"
      },
      "source": [
        "## A wild guess"
      ]
    },
    {
      "cell_type": "markdown",
      "metadata": {
        "id": "avDkXjqpPKlu",
        "colab_type": "text"
      },
      "source": [
        "I'll start by making an uninformed baseline prediction. I want to do this before I look at any data or crowd guesses because having this data point will tell me what I'm learning as I go through the forecasting process."
      ]
    },
    {
      "cell_type": "markdown",
      "metadata": {
        "id": "gip8mfLjPKlv",
        "colab_type": "text"
      },
      "source": [
        "What is my 90% confidence interval for the number of ventilators needed? I think there is a \n",
        "\n",
        "- less than 5% chance that <3 people require ventilation\n",
        "- less than 5% chance that >100 people require ventilation\n",
        "\n",
        "So I'll go with a 90% confidence interval of [3, 100].\n",
        "\n",
        "I don't know much about El Paso, ICUs, or ventilators. I feel pretty uncertain and assign non-negligible probability to higher values. I'll go with a lognormal distribution that assigns more probability to the tails than a normal distribution."
      ]
    },
    {
      "cell_type": "markdown",
      "metadata": {
        "id": "IyQq8BfPPKlw",
        "colab_type": "text"
      },
      "source": [
        "### Distributions in Ergo"
      ]
    },
    {
      "cell_type": "markdown",
      "metadata": {
        "id": "hLkIaWVXPKlw",
        "colab_type": "text"
      },
      "source": [
        "In Ergo, I can generate a single sample from this distribution like this:"
      ]
    },
    {
      "cell_type": "code",
      "metadata": {
        "id": "ztI6wo-gPKlx",
        "colab_type": "code",
        "colab": {
          "base_uri": "https://localhost:8080/",
          "height": 34
        },
        "outputId": "5a4cdd56-f5b4-42c5-82c1-0d878fbe078b"
      },
      "source": [
        "ergo.lognormal_from_interval(3, 100)"
      ],
      "execution_count": 4,
      "outputs": [
        {
          "output_type": "execute_result",
          "data": {
            "text/plain": [
              "DeviceArray(20.191326, dtype=float32)"
            ]
          },
          "metadata": {
            "tags": []
          },
          "execution_count": 4
        }
      ]
    },
    {
      "cell_type": "markdown",
      "metadata": {
        "id": "5lK5W64ePKl3",
        "colab_type": "text"
      },
      "source": [
        "To get many samples, I use `ergo.run`:"
      ]
    },
    {
      "cell_type": "code",
      "metadata": {
        "id": "G2zDUA_DPKl3",
        "colab_type": "code",
        "colab": {
          "base_uri": "https://localhost:8080/",
          "height": 473,
          "referenced_widgets": [
            "16093134d23b48839d75ebfa08b7935b",
            "5b5c46a5548b42f6b20ff33b72fb0482",
            "70096490f93d4dd3aee739aaba1674b7",
            "9b8491ba554d4d838790a95946aad03e",
            "4b78085480c34b888a8b2b440eb02eac",
            "8868db786c6c4e8cb72983ba8304992e",
            "445546b4f9774826a21b1e0c7f817245",
            "4787b827c70b4953926f70f80d3b6e36"
          ]
        },
        "outputId": "63da6c02-d389-4e9f-de9f-8b54315a8f0c"
      },
      "source": [
        "def peak_ventilators():\n",
        "    \"\"\"\n",
        "    How many patients with Covid-19 in El Paso County will require invasive \n",
        "    ventilation on the day when the number of hospital admissions of cases \n",
        "    peak?\n",
        "    \"\"\"          \n",
        "    return ergo.lognormal_from_interval(3, 100)\n",
        "\n",
        "samples = ergo.run(peak_ventilators, num_samples=1000)\n",
        "\n",
        "samples"
      ],
      "execution_count": 5,
      "outputs": [
        {
          "output_type": "display_data",
          "data": {
            "application/vnd.jupyter.widget-view+json": {
              "model_id": "16093134d23b48839d75ebfa08b7935b",
              "version_minor": 0,
              "version_major": 2
            },
            "text/plain": [
              "HBox(children=(FloatProgress(value=0.0, max=1000.0), HTML(value='')))"
            ]
          },
          "metadata": {
            "tags": []
          }
        },
        {
          "output_type": "stream",
          "text": [
            "\n"
          ],
          "name": "stdout"
        },
        {
          "output_type": "execute_result",
          "data": {
            "text/html": [
              "<div>\n",
              "<style scoped>\n",
              "    .dataframe tbody tr th:only-of-type {\n",
              "        vertical-align: middle;\n",
              "    }\n",
              "\n",
              "    .dataframe tbody tr th {\n",
              "        vertical-align: top;\n",
              "    }\n",
              "\n",
              "    .dataframe thead th {\n",
              "        text-align: right;\n",
              "    }\n",
              "</style>\n",
              "<table border=\"1\" class=\"dataframe\">\n",
              "  <thead>\n",
              "    <tr style=\"text-align: right;\">\n",
              "      <th></th>\n",
              "      <th>output</th>\n",
              "    </tr>\n",
              "  </thead>\n",
              "  <tbody>\n",
              "    <tr>\n",
              "      <th>0</th>\n",
              "      <td>91.75</td>\n",
              "    </tr>\n",
              "    <tr>\n",
              "      <th>1</th>\n",
              "      <td>4.04</td>\n",
              "    </tr>\n",
              "    <tr>\n",
              "      <th>2</th>\n",
              "      <td>21.08</td>\n",
              "    </tr>\n",
              "    <tr>\n",
              "      <th>3</th>\n",
              "      <td>82.26</td>\n",
              "    </tr>\n",
              "    <tr>\n",
              "      <th>4</th>\n",
              "      <td>49.40</td>\n",
              "    </tr>\n",
              "    <tr>\n",
              "      <th>...</th>\n",
              "      <td>...</td>\n",
              "    </tr>\n",
              "    <tr>\n",
              "      <th>995</th>\n",
              "      <td>14.95</td>\n",
              "    </tr>\n",
              "    <tr>\n",
              "      <th>996</th>\n",
              "      <td>10.95</td>\n",
              "    </tr>\n",
              "    <tr>\n",
              "      <th>997</th>\n",
              "      <td>6.60</td>\n",
              "    </tr>\n",
              "    <tr>\n",
              "      <th>998</th>\n",
              "      <td>7.30</td>\n",
              "    </tr>\n",
              "    <tr>\n",
              "      <th>999</th>\n",
              "      <td>24.71</td>\n",
              "    </tr>\n",
              "  </tbody>\n",
              "</table>\n",
              "<p>1000 rows × 1 columns</p>\n",
              "</div>"
            ],
            "text/plain": [
              "     output\n",
              "0     91.75\n",
              "1      4.04\n",
              "2     21.08\n",
              "3     82.26\n",
              "4     49.40\n",
              "..      ...\n",
              "995   14.95\n",
              "996   10.95\n",
              "997    6.60\n",
              "998    7.30\n",
              "999   24.71\n",
              "\n",
              "[1000 rows x 1 columns]"
            ]
          },
          "metadata": {
            "tags": []
          },
          "execution_count": 5
        }
      ]
    },
    {
      "cell_type": "markdown",
      "metadata": {
        "id": "ihfIzUeSPKl7",
        "colab_type": "text"
      },
      "source": [
        "### Visualizing distributions"
      ]
    },
    {
      "cell_type": "markdown",
      "metadata": {
        "id": "mNNyishHPKl8",
        "colab_type": "text"
      },
      "source": [
        "I can visualize these samples using the `show_prediction` method associated with my question:"
      ]
    },
    {
      "cell_type": "code",
      "metadata": {
        "id": "gW7P-oBiPKl8",
        "colab_type": "code",
        "colab": {
          "base_uri": "https://localhost:8080/",
          "height": 507
        },
        "outputId": "6973f50f-0672-4ed1-bf27-0f448e249a73"
      },
      "source": [
        "peak_ventilators_question.show_prediction(samples)"
      ],
      "execution_count": 6,
      "outputs": [
        {
          "output_type": "display_data",
          "data": {
            "image/png": "[encoded data removed]",
            "text/plain": [
              "<Figure size 640x480 with 1 Axes>"
            ]
          },
          "metadata": {
            "tags": []
          }
        }
      ]
    },
    {
      "cell_type": "markdown",
      "metadata": {
        "id": "mCXOyA2OPKmC",
        "colab_type": "text"
      },
      "source": [
        "## Model V1: My wild guess"
      ]
    },
    {
      "cell_type": "markdown",
      "metadata": {
        "id": "0eSku1nsPKmE",
        "colab_type": "text"
      },
      "source": [
        "I'll wrap my guess in a `Model` class so that I can more easily build on it step by step by inheriting from the class, adding more methods, and replacing methods with better implementations:"
      ]
    },
    {
      "cell_type": "code",
      "metadata": {
        "id": "pb9edvnSPKmE",
        "colab_type": "code",
        "colab": {}
      },
      "source": [
        "class ModelV1:\n",
        "    \n",
        "    def peak_ventilators(self):\n",
        "        \"\"\"\n",
        "        How many patients with Covid-19 in El Paso County will require invasive \n",
        "        ventilation on the day when the number of hospital admissions of cases \n",
        "        peak?\n",
        "        \"\"\"       \n",
        "        return ergo.lognormal_from_interval(3, 100)\n",
        "\n",
        "    def run(self):\n",
        "        samples = ergo.run(self.peak_ventilators, num_samples=1000)\n",
        "        peak_ventilators_question.show_prediction(samples)"
      ],
      "execution_count": 0,
      "outputs": []
    },
    {
      "cell_type": "markdown",
      "metadata": {
        "id": "PRSSwTHaPKmJ",
        "colab_type": "text"
      },
      "source": [
        "This doesn't change the result:"
      ]
    },
    {
      "cell_type": "code",
      "metadata": {
        "id": "ciP3inlHPKmK",
        "colab_type": "code",
        "colab": {
          "base_uri": "https://localhost:8080/",
          "height": 556,
          "referenced_widgets": [
            "2a71f8270782448b9c555faa0fed9465",
            "5ea5008d2ec543e1a03b757020c9ca0a",
            "9052f34734f846ce95a9f425a2d6726e",
            "87d80ae4a9314577bb6a809be28c648c",
            "654ad73d04ba447399e6d34b6b985612",
            "1940bdbc4ab649e5a38ffa6f1e5f9aba",
            "3357b08d16f545159fca8fa101a64fec",
            "ddc41f0c3aac49cfb91cddae0936678e"
          ]
        },
        "outputId": "347f243b-2024-40c7-8f35-e0f630049660"
      },
      "source": [
        "ModelV1().run()"
      ],
      "execution_count": 8,
      "outputs": [
        {
          "output_type": "display_data",
          "data": {
            "application/vnd.jupyter.widget-view+json": {
              "model_id": "2a71f8270782448b9c555faa0fed9465",
              "version_minor": 0,
              "version_major": 2
            },
            "text/plain": [
              "HBox(children=(FloatProgress(value=0.0, max=1000.0), HTML(value='')))"
            ]
          },
          "metadata": {
            "tags": []
          }
        },
        {
          "output_type": "stream",
          "text": [
            "\n"
          ],
          "name": "stdout"
        },
        {
          "output_type": "display_data",
          "data": {
            "image/png": "[encoded data removed]",
            "text/plain": [
              "<Figure size 640x480 with 1 Axes>"
            ]
          },
          "metadata": {
            "tags": []
          }
        }
      ]
    },
    {
      "cell_type": "markdown",
      "metadata": {
        "id": "juv3kHUtPKmN",
        "colab_type": "text"
      },
      "source": [
        "It's still an uninformed guess."
      ]
    },
    {
      "cell_type": "markdown",
      "metadata": {
        "id": "YiVBT_6mPKmO",
        "colab_type": "text"
      },
      "source": [
        "## Model V2: Decomposing the ventilation question"
      ]
    },
    {
      "cell_type": "markdown",
      "metadata": {
        "id": "C5-MITJXPKmP",
        "colab_type": "text"
      },
      "source": [
        "My strategy for this question will be to break it into pieces and then improve my estimate for each piece. I'll start by estimating the peak ventilators needed as the product of two things:\n",
        "\n",
        "1. How many patients will be in the ICU on peak day?\n",
        "2. What fraction of those will need ventilators?\n",
        "\n",
        "For both of these I'll make pretty uninformed guesses for now:\n",
        "\n",
        "1. I guess that about 5 to 200 people will be in the ICU on peak day (but I have no idea)\n",
        "2. I'd guess that 1 out of 3 will need ventilators (but I have no idea)\n",
        "\n",
        "For ICU cases, I use the same `lognormal_from_interval` function I used above.\n",
        "\n",
        "For ventilation need, I'll use a beta-binomial distribution:"
      ]
    },
    {
      "cell_type": "code",
      "metadata": {
        "id": "1-J7jNPDPKmQ",
        "colab_type": "code",
        "colab": {}
      },
      "source": [
        "def frac_icu_ventilation():\n",
        "    \"\"\"\n",
        "    Proportion of ICU admissions requiring ventilation\n",
        "    \"\"\"\n",
        "    return ergo.beta_from_hits(1, 3)"
      ],
      "execution_count": 0,
      "outputs": []
    },
    {
      "cell_type": "markdown",
      "metadata": {
        "id": "bT8_SiISPKmU",
        "colab_type": "text"
      },
      "source": [
        "This distribution looks like this:"
      ]
    },
    {
      "cell_type": "code",
      "metadata": {
        "id": "cwBI-n9WPKmX",
        "colab_type": "code",
        "colab": {
          "base_uri": "https://localhost:8080/",
          "height": 332,
          "referenced_widgets": [
            "07f0979f04124b1bb0860f344584d4fa",
            "43fc3c0354f343f693b8a1de6c474721",
            "de515fe7b0ea4d6081af747fc0b1eb10",
            "29417ad4a2e642d885f8911dfaf62232",
            "417d0bacbca14f64b895300d6b0c09c5",
            "aeef6ad00b8744fc82185d36308ea1df",
            "dea1bdb6ab8a4365bcdac9605add053d",
            "5aa02b78f7474b93b8ae888c07c02b9f"
          ]
        },
        "outputId": "45ab1eac-3f02-4159-c449-ad59abe99af7"
      },
      "source": [
        "samples = ergo.run(frac_icu_ventilation, num_samples=1000)\n",
        "seaborn.distplot(samples)"
      ],
      "execution_count": 10,
      "outputs": [
        {
          "output_type": "display_data",
          "data": {
            "application/vnd.jupyter.widget-view+json": {
              "model_id": "07f0979f04124b1bb0860f344584d4fa",
              "version_minor": 0,
              "version_major": 2
            },
            "text/plain": [
              "HBox(children=(FloatProgress(value=0.0, max=1000.0), HTML(value='')))"
            ]
          },
          "metadata": {
            "tags": []
          }
        },
        {
          "output_type": "stream",
          "text": [
            "\n"
          ],
          "name": "stdout"
        },
        {
          "output_type": "execute_result",
          "data": {
            "text/plain": [
              "<matplotlib.axes._subplots.AxesSubplot at 0x7f00d586a0f0>"
            ]
          },
          "metadata": {
            "tags": []
          },
          "execution_count": 10
        },
        {
          "output_type": "display_data",
          "data": {
            "image/png": "[encoded data removed]",
            "text/plain": [
              "<Figure size 432x288 with 1 Axes>"
            ]
          },
          "metadata": {
            "tags": [],
            "needs_background": "light"
          }
        }
      ]
    },
    {
      "cell_type": "markdown",
      "metadata": {
        "id": "-Mjv4n-CPKma",
        "colab_type": "text"
      },
      "source": [
        "My model now looks like this:"
      ]
    },
    {
      "cell_type": "code",
      "metadata": {
        "id": "Ku5Fm5AGPKmb",
        "colab_type": "code",
        "colab": {}
      },
      "source": [
        "class ModelV2(ModelV1):\n",
        "    \n",
        "    def peak_ventilators(self):\n",
        "        \"\"\"\n",
        "        How many patients with Covid-19 in El Paso County will require invasive \n",
        "        ventilation on the day when the number of hospital admissions of cases \n",
        "        peak?\n",
        "        \"\"\"\n",
        "        return self.frac_icu_ventilation() * self.peak_icu_admissions()   \n",
        "    \n",
        "    def peak_icu_admissions(self):\n",
        "        \"\"\"\n",
        "        How many patients with Covid-19 in El Paso County will be admitted to the\n",
        "        ICU on the day when the number of hospital admissions of cases peak?\n",
        "        \"\"\"\n",
        "        return ergo.lognormal_from_interval(5, 200)\n",
        "\n",
        "    def frac_icu_ventilation(self):\n",
        "        \"\"\"\n",
        "        Proportion of ICU admissions requiring ventilation\n",
        "        \"\"\"\n",
        "        return ergo.beta_from_hits(1, 3)"
      ],
      "execution_count": 0,
      "outputs": []
    },
    {
      "cell_type": "markdown",
      "metadata": {
        "id": "vTfshvlxPKmf",
        "colab_type": "text"
      },
      "source": [
        "This doesn't change the overall estimate much:"
      ]
    },
    {
      "cell_type": "code",
      "metadata": {
        "id": "H_ltO97hPKmg",
        "colab_type": "code",
        "colab": {
          "base_uri": "https://localhost:8080/",
          "height": 556,
          "referenced_widgets": [
            "e18c4dd458974d91bf6006cd43d32d7f",
            "51a12cfe3332443180c76e9efcadc6b2",
            "1125dfd75bdd42d68ff18ebd225ab796",
            "ff4985a3ea83407693bc1c14c2671fa5",
            "2bb685559def40fbaa9a79f69f6b86af",
            "8935b4f70a9b4211b1161ab9308bd56b",
            "7d8918584d5a43848d85d4a0c33bb752",
            "791bfeac4cd142b38293f46083bb9a0d"
          ]
        },
        "outputId": "d1f4c4b0-60ba-4ba7-e0a3-b8725ea32252"
      },
      "source": [
        "ModelV2().run()"
      ],
      "execution_count": 12,
      "outputs": [
        {
          "output_type": "display_data",
          "data": {
            "application/vnd.jupyter.widget-view+json": {
              "model_id": "e18c4dd458974d91bf6006cd43d32d7f",
              "version_minor": 0,
              "version_major": 2
            },
            "text/plain": [
              "HBox(children=(FloatProgress(value=0.0, max=1000.0), HTML(value='')))"
            ]
          },
          "metadata": {
            "tags": []
          }
        },
        {
          "output_type": "stream",
          "text": [
            "\n"
          ],
          "name": "stdout"
        },
        {
          "output_type": "display_data",
          "data": {
            "image/png": "[encoded data removed]",
            "text/plain": [
              "<Figure size 640x480 with 1 Axes>"
            ]
          },
          "metadata": {
            "tags": []
          }
        }
      ]
    },
    {
      "cell_type": "markdown",
      "metadata": {
        "id": "yas9saCpPKmn",
        "colab_type": "text"
      },
      "source": [
        "I can also visualize parts of my model in the same way I visualized the standalone `frac_icu_ventilation` function:"
      ]
    },
    {
      "cell_type": "code",
      "metadata": {
        "id": "eclF7mbNPKmo",
        "colab_type": "code",
        "colab": {
          "base_uri": "https://localhost:8080/",
          "height": 332,
          "referenced_widgets": [
            "c55655ca153c4ca290734d17b5db195f",
            "c238a4ab07134d2d8e9ce819fe41020f",
            "07ce274d59164fb7865901d97070eb04",
            "454c86a53bd746659b23eca07a5f6588",
            "51f84900b74d44c581d20c595984df81",
            "cce6e60e93474dcc9b15174bdccc4d26",
            "3fd3fc778b68445ea090802db3f0d3d3",
            "1b8177c672284a62ac5ecd22aedbd403"
          ]
        },
        "outputId": "d7eea694-3402-45a1-d7ef-93eb7dcda8fd"
      },
      "source": [
        "samples = ergo.run(ModelV2().frac_icu_ventilation, num_samples=1000)\n",
        "seaborn.distplot(samples)"
      ],
      "execution_count": 13,
      "outputs": [
        {
          "output_type": "display_data",
          "data": {
            "application/vnd.jupyter.widget-view+json": {
              "model_id": "c55655ca153c4ca290734d17b5db195f",
              "version_minor": 0,
              "version_major": 2
            },
            "text/plain": [
              "HBox(children=(FloatProgress(value=0.0, max=1000.0), HTML(value='')))"
            ]
          },
          "metadata": {
            "tags": []
          }
        },
        {
          "output_type": "stream",
          "text": [
            "\n"
          ],
          "name": "stdout"
        },
        {
          "output_type": "execute_result",
          "data": {
            "text/plain": [
              "<matplotlib.axes._subplots.AxesSubplot at 0x7f00d57db588>"
            ]
          },
          "metadata": {
            "tags": []
          },
          "execution_count": 13
        },
        {
          "output_type": "display_data",
          "data": {
            "image/png": "[encoded data removed]",
            "text/plain": [
              "<Figure size 432x288 with 1 Axes>"
            ]
          },
          "metadata": {
            "tags": [],
            "needs_background": "light"
          }
        }
      ]
    },
    {
      "cell_type": "markdown",
      "metadata": {
        "id": "zszNmUrVPKmr",
        "colab_type": "text"
      },
      "source": [
        "## Model V3: A better estimate for the fraction of ICU admits needing ventilation"
      ]
    },
    {
      "cell_type": "markdown",
      "metadata": {
        "id": "TusNcKeLPKms",
        "colab_type": "text"
      },
      "source": [
        "I'll estimate the fraction of ICU admits that need ventilation by looking at [data from publications](https://pandemic.metaculus.com/questions/4154/#comment-28155). This is the approach followed by PabloStafforini et al on Metaculus."
      ]
    },
    {
      "cell_type": "code",
      "metadata": {
        "id": "iPFeBEQ2PKmt",
        "colab_type": "code",
        "colab": {
          "base_uri": "https://localhost:8080/",
          "height": 556,
          "referenced_widgets": [
            "b759652c378e4def9fc5934c8f046d09",
            "d74b31f237a242be9b9c0a6f9c235f9c",
            "a28e66117fff493d8d5d8499379d03cb",
            "8983a111e9d148b384b64da20c874ccf",
            "4bdd4fb5c33d489eb7dedf44e090f952",
            "b8d989ed9e2448b0b780982f80c053c5",
            "dd562f9134224ca68cd63938d345bff0",
            "0c8dee56e78c4bf3bc954ebfef6553d0"
          ]
        },
        "outputId": "36c3140e-0294-4560-b3dc-6d3ed80e2d7f"
      },
      "source": [
        "class ModelV3(ModelV2):\n",
        "\n",
        "    def frac_icu_ventilation(self):\n",
        "        \"\"\"\n",
        "        Proportion of ICU admissions requiring ventilation\n",
        "        \"\"\"\n",
        "        ventilation_pseudocounts = 25 + 17 + 0.05 * 1150 + 0.1 * 132\n",
        "        icu_pseudocounts = 100 + 36 + 0.05 * 1300 + 0.1 * 196\n",
        "        return ergo.beta_from_hits(ventilation_pseudocounts, icu_pseudocounts)\n",
        "\n",
        "ModelV3().run()"
      ],
      "execution_count": 14,
      "outputs": [
        {
          "output_type": "display_data",
          "data": {
            "application/vnd.jupyter.widget-view+json": {
              "model_id": "b759652c378e4def9fc5934c8f046d09",
              "version_minor": 0,
              "version_major": 2
            },
            "text/plain": [
              "HBox(children=(FloatProgress(value=0.0, max=1000.0), HTML(value='')))"
            ]
          },
          "metadata": {
            "tags": []
          }
        },
        {
          "output_type": "stream",
          "text": [
            "\n"
          ],
          "name": "stdout"
        },
        {
          "output_type": "display_data",
          "data": {
            "image/png": "[encoded data removed]",
            "text/plain": [
              "<Figure size 640x480 with 1 Axes>"
            ]
          },
          "metadata": {
            "tags": []
          }
        }
      ]
    },
    {
      "cell_type": "markdown",
      "metadata": {
        "id": "r-q-MJ9rPKmw",
        "colab_type": "text"
      },
      "source": [
        "This increased the overall estimate since I'd assumed that about 1/3 people need ventilation, but the empirical data says that about 1/2 do."
      ]
    },
    {
      "cell_type": "markdown",
      "metadata": {
        "id": "myIoI9dmPKmw",
        "colab_type": "text"
      },
      "source": [
        "## Model V4: Decomposing the peak ICU admits question"
      ]
    },
    {
      "cell_type": "markdown",
      "metadata": {
        "id": "CAXogc-hPKmw",
        "colab_type": "text"
      },
      "source": [
        "How can I better estimate the number of ICU admits at peak? I'll break it down into:\n",
        "\n",
        "1. What's the maximum number of hospital admissions at peak?\n",
        "2. What fraction of those need to go to the ICU?\n",
        "\n",
        "I'll again start by making pretty uninformed guesses for both of these questions. I assume that:\n",
        "\n",
        "1. There's about 10 to 100 COVID-19 hospital admissions per day at peak\n",
        "2. About half of those need to go to the ICU"
      ]
    },
    {
      "cell_type": "code",
      "metadata": {
        "id": "4MiilQhgPKmx",
        "colab_type": "code",
        "colab": {}
      },
      "source": [
        "class ModelV4(ModelV3):\n",
        "\n",
        "    def peak_icu_admissions(self):\n",
        "        \"\"\"\n",
        "        How many patients with Covid-19 in El Paso County will be admitted to the\n",
        "        ICU on the day when the number of hospital admissions of cases peak?\n",
        "\n",
        "        Following @Tamay's approach:\n",
        "        https://pandemic.metaculus.com/questions/4204/\n",
        "        \"\"\"\n",
        "        max_patients = self.max_30d_hospital_confirmed_for_peak()\n",
        "        return max_patients * self.frac_patients_icu()\n",
        "    \n",
        "    def max_30d_hospital_confirmed_for_peak(self):\n",
        "        \"\"\"\n",
        "        What will the maximum number of in-hospital lab-confirmed COVID-19 \n",
        "        patients in El Paso County, in the 30-day period during which the \"peak\"\n",
        "        occurs?\n",
        "        \"\"\"        \n",
        "        return ergo.lognormal_from_interval(10, 100)\n",
        "    \n",
        "    def frac_patients_icu(self):\n",
        "        \"\"\"\n",
        "        What portion of in-hospital cases in El Paso County will require admission\n",
        "        to the ICU?\n",
        "        \"\"\"\n",
        "        return ergo.beta_from_hits(1, 2)"
      ],
      "execution_count": 0,
      "outputs": []
    },
    {
      "cell_type": "code",
      "metadata": {
        "id": "B7o21lsrPKm1",
        "colab_type": "code",
        "colab": {
          "base_uri": "https://localhost:8080/",
          "height": 556,
          "referenced_widgets": [
            "383d0afaec47403ab0bbee535bf97deb",
            "d8a9d5ba330441d2bd1dae91857cfb87",
            "fcc3a81be85042fdb4fe45215b38772e",
            "dc2376d4950c4c49aec4091f51ff0464",
            "cbcc0ac9e5764681a607e7baa8241817",
            "0a7a8c184137465ba9e7a79f463d581c",
            "75274eeb2fac451e804d773b6b7a415b",
            "33ef5ea4202f48f8a466e1fdf511d3f2"
          ]
        },
        "outputId": "ae6213e4-3c37-43e5-c927-93519bcea1f9"
      },
      "source": [
        "ModelV4().run()"
      ],
      "execution_count": 16,
      "outputs": [
        {
          "output_type": "display_data",
          "data": {
            "application/vnd.jupyter.widget-view+json": {
              "model_id": "383d0afaec47403ab0bbee535bf97deb",
              "version_minor": 0,
              "version_major": 2
            },
            "text/plain": [
              "HBox(children=(FloatProgress(value=0.0, max=1000.0), HTML(value='')))"
            ]
          },
          "metadata": {
            "tags": []
          }
        },
        {
          "output_type": "stream",
          "text": [
            "\n"
          ],
          "name": "stdout"
        },
        {
          "output_type": "display_data",
          "data": {
            "image/png": "[encoded data removed]",
            "text/plain": [
              "<Figure size 640x480 with 1 Axes>"
            ]
          },
          "metadata": {
            "tags": []
          }
        }
      ]
    },
    {
      "cell_type": "markdown",
      "metadata": {
        "id": "p9RGruSGPKm3",
        "colab_type": "text"
      },
      "source": [
        "## Model V5: A better estimate for the fraction of patients that need to go to the ICU"
      ]
    },
    {
      "cell_type": "markdown",
      "metadata": {
        "id": "AR3M-6-5PKm4",
        "colab_type": "text"
      },
      "source": [
        "To get a real estimate for the number of hospital admits that need to go to the ICU, I'll look at what happened in other countries. This is [the approach followed by katifish](https://pandemic.metaculus.com/questions/4155/#comment-28054) on Metaculus."
      ]
    },
    {
      "cell_type": "code",
      "metadata": {
        "id": "9dAkEiYdPKm5",
        "colab_type": "code",
        "colab": {}
      },
      "source": [
        "class ModelV5(ModelV4):\n",
        "    \n",
        "    def frac_patients_icu(self):\n",
        "        \"\"\"\n",
        "        What portion of in-hospital cases in El Paso County will require admission\n",
        "        to the ICU?\n",
        "        \"\"\"\n",
        "        alpha = 0.1 # Rescaling counts becase we're more uncertain than implied by counts\n",
        "        return ergo.random_choice([\n",
        "          ergo.beta_from_hits(alpha * 121, alpha * 508),\n",
        "          ergo.beta_from_hits(alpha * 181, alpha * 507),\n",
        "        ])"
      ],
      "execution_count": 0,
      "outputs": []
    },
    {
      "cell_type": "code",
      "metadata": {
        "id": "KQLZUevTPKm8",
        "colab_type": "code",
        "colab": {
          "base_uri": "https://localhost:8080/",
          "height": 556,
          "referenced_widgets": [
            "a37580b2a7e141c6981ca45255ebf5d1",
            "e0b7208ce6314c038ebff8947f852a2e",
            "845987b15537479896a427c999a5f86c",
            "039cb3fcbcca4dc7a4a6ddf7349a2489",
            "f5944090a21b4fc6adead2ce8d82400d",
            "cee457e30ae948ec802a8399f690c319",
            "059609be459c44cf8aedbcb27f201609",
            "0111a7d02bb44e65a915eb2dd1553e18"
          ]
        },
        "outputId": "b9b82b28-57a3-47aa-bdd3-209849815763"
      },
      "source": [
        "ModelV5().run()"
      ],
      "execution_count": 18,
      "outputs": [
        {
          "output_type": "display_data",
          "data": {
            "application/vnd.jupyter.widget-view+json": {
              "model_id": "a37580b2a7e141c6981ca45255ebf5d1",
              "version_minor": 0,
              "version_major": 2
            },
            "text/plain": [
              "HBox(children=(FloatProgress(value=0.0, max=1000.0), HTML(value='')))"
            ]
          },
          "metadata": {
            "tags": []
          }
        },
        {
          "output_type": "stream",
          "text": [
            "\n"
          ],
          "name": "stdout"
        },
        {
          "output_type": "display_data",
          "data": {
            "image/png": "[encoded data removed]",
            "text/plain": [
              "<Figure size 640x480 with 1 Axes>"
            ]
          },
          "metadata": {
            "tags": []
          }
        }
      ]
    },
    {
      "cell_type": "markdown",
      "metadata": {
        "id": "AI5tjUZsPKm-",
        "colab_type": "text"
      },
      "source": [
        "## Model V6: Decomposing the maximum-patients question"
      ]
    },
    {
      "cell_type": "markdown",
      "metadata": {
        "id": "6YtXB4XQPKm_",
        "colab_type": "text"
      },
      "source": [
        "What is the maximum number of people in the hospital around peak infection time? I'll break this one down into:\n",
        "\n",
        "1. When is the peak infection date?\n",
        "2. What is the largest number of people in the hospital in the 30-day period around this date?\n",
        "\n",
        "Again I'll start with uninformed guesses."
      ]
    },
    {
      "cell_type": "code",
      "metadata": {
        "id": "0mQAmtTSPKm_",
        "colab_type": "code",
        "colab": {}
      },
      "source": [
        "def daterange(start_date, end_date):\n",
        "    for n in range(int((end_date - start_date).days)):\n",
        "        yield start_date + timedelta(n)\n",
        "\n",
        "\n",
        "class ModelV6(ModelV5):\n",
        "    \n",
        "    def max_30d_hospital_confirmed_for_peak(self):\n",
        "        \"\"\"\n",
        "        What will the maximum number of in-hospital lab-confirmed COVID-19 \n",
        "        patients in El Paso County, in the 30-day period during which the \"peak\"\n",
        "        occurs?\n",
        "        \"\"\"        \n",
        "        peak = self.peak_infection_date()\n",
        "        days = daterange(peak - timedelta(15), peak + timedelta(15))\n",
        "        return max(self.hospital_confirmed_for_date(day) for day in days)    \n",
        "    \n",
        "    def peak_infection_date(self) -> date:\n",
        "        \"\"\"\n",
        "        When will El Paso County, Texas, experience its first peak number of COVID\n",
        "        infections?\n",
        "        \"\"\"\n",
        "        start_date = date(2020, 4, 1)                \n",
        "        end_date = date(2020, 7, 1)        \n",
        "        return ergo.random_choice(list(daterange(start_date, end_date)))\n",
        "    \n",
        "    def hospital_confirmed_for_date(self, date: date) -> int:\n",
        "        \"\"\"\n",
        "        The total number of lab-confirmed COVID-19 patients in El Paso County in\n",
        "        the hospital on this date\n",
        "        \"\"\"\n",
        "        return ergo.lognormal_from_interval(10, 100)"
      ],
      "execution_count": 0,
      "outputs": []
    },
    {
      "cell_type": "code",
      "metadata": {
        "id": "TuRQuWdNPKnC",
        "colab_type": "code",
        "colab": {
          "base_uri": "https://localhost:8080/",
          "height": 556,
          "referenced_widgets": [
            "7877d8cf854b473e9fa88b6bd0c8d2cf",
            "f8b7dd04194a4d72ac3d048245844bf8",
            "0a499640bf594c4a9ba07a4f8a4e9a7b",
            "08b07a79ff4548eda76cf387c4342312",
            "f11eee8f2c1142868e00468fee9a7dfa",
            "f0ff39dcfebc429f86a62f25dad8f2fd",
            "68e3e4a3a201467cb25f05d461a99375",
            "1779c62e589c451081ffe1038ac3e0ed"
          ]
        },
        "outputId": "11176f2b-be1e-4b6e-fb43-f285c4120e1a"
      },
      "source": [
        "ModelV6().run()"
      ],
      "execution_count": 20,
      "outputs": [
        {
          "output_type": "display_data",
          "data": {
            "application/vnd.jupyter.widget-view+json": {
              "model_id": "7877d8cf854b473e9fa88b6bd0c8d2cf",
              "version_minor": 0,
              "version_major": 2
            },
            "text/plain": [
              "HBox(children=(FloatProgress(value=0.0, max=1000.0), HTML(value='')))"
            ]
          },
          "metadata": {
            "tags": []
          }
        },
        {
          "output_type": "stream",
          "text": [
            "\n"
          ],
          "name": "stdout"
        },
        {
          "output_type": "display_data",
          "data": {
            "image/png": "[encoded data removed]",
            "text/plain": [
              "<Figure size 640x480 with 1 Axes>"
            ]
          },
          "metadata": {
            "tags": []
          }
        }
      ]
    },
    {
      "cell_type": "markdown",
      "metadata": {
        "id": "UFr033bmPKnG",
        "colab_type": "text"
      },
      "source": [
        "## Model V7: A better estimate for peak infection date and hospitalizations"
      ]
    },
    {
      "cell_type": "markdown",
      "metadata": {
        "id": "G4Hr57UVPKnG",
        "colab_type": "text"
      },
      "source": [
        "To better estimate peak infection date and hospitalizations, I need actual data. A lot happens here, sorry!"
      ]
    },
    {
      "cell_type": "code",
      "metadata": {
        "id": "agOUkCoqPKnH",
        "colab_type": "code",
        "colab": {}
      },
      "source": [
        "from ergo.contrib.el_paso import *\n",
        "\n",
        "START_DATE = date(2020, 4, 1)\n",
        "el_paso_cases = texas_data.get_el_paso_data()\n",
        "get_daily_hospital_confirmed = brachbach.get_daily_hospital_confirmed\n",
        "compiled_data = krismoore.get_krismoore_data()\n",
        "projected_cases = onlyasith.get_onlyasith_results()"
      ],
      "execution_count": 0,
      "outputs": []
    },
    {
      "cell_type": "code",
      "metadata": {
        "id": "Zh0neGW9PKnK",
        "colab_type": "code",
        "colab": {
          "base_uri": "https://localhost:8080/",
          "height": 556,
          "referenced_widgets": [
            "2f095925ae204975a9e6dffdf56d58ab",
            "b98a1036302146d38faca72721b9fbf2",
            "55b7328cc8634643ac24d7fc81de09ad",
            "71581f5e534246f4845b82b7b2148a3e",
            "38910d380fa44747b7dde4b600bf5136",
            "89a85d3f303e47f283ad7071288fadc0",
            "156e921f05e7455c9526f7247fe7ed85",
            "8633290d8bbc4f0aa2470fa4c98c3f03"
          ]
        },
        "outputId": "c95c9303-068c-4f3e-ce2b-7f488ebe9b62"
      },
      "source": [
        "class ModelV7(ModelV6):\n",
        "    \n",
        "    def __init__(self):\n",
        "        self.hospital_confirmed_from_daily_infected_model = get_daily_hospital_confirmed(compiled_data, self.daily_infections)\n",
        "        super(ModelV7, self).__init__()\n",
        "\n",
        "    def peak_infection_date(self) -> date:\n",
        "        \"\"\"\n",
        "        When will El Paso County, Texas, experience its first peak number of COVID\n",
        "        infections?\n",
        "        \"\"\"\n",
        "        end_date = date(2020, 7, 1)\n",
        "        for today in daterange(START_DATE, end_date):\n",
        "            sma_today = self.sma_infections(today)\n",
        "            future_smas = [self.sma_infections(today + timedelta(i)) for i in range(1,11)]\n",
        "            if sma_today > max(future_smas):\n",
        "                return today\n",
        "        return end_date\n",
        "        \n",
        "    def hospital_confirmed_for_date(self, date: date) -> int:\n",
        "        \"\"\"\n",
        "        The total number of lab-confirmed COVID-19 patients in El Paso County in\n",
        "        the hospital on this date\n",
        "        \"\"\"\n",
        "        try:\n",
        "            # Look up in-hospital confirmed cases from @KrisMoore's compiled data\n",
        "            new_hospital_confirmed = compiled_data.loc[date, \"In hospital confirmed\"]\n",
        "            if np.isnan(new_hospital_confirmed):\n",
        "                raise KeyError\n",
        "            return new_hospital_confirmed\n",
        "        except KeyError:\n",
        "            try:\n",
        "                # Get point estimate from @brachbach's regression model\n",
        "                cases = self.hospital_confirmed_from_daily_infected_model(date)\n",
        "\n",
        "                # Add some (fairly arbitrary) uncertainty around this point estimate\n",
        "                if cases == 0:\n",
        "                    return cases\n",
        "                cases_estimate = ergo.lognormal_from_interval(cases * 0.8, cases * 1.2)\n",
        "                return np.clip(cases_estimate, cases * 0.5, cases * 2)\n",
        "            except KeyError:\n",
        "                return 0\n",
        "        \n",
        "    def daily_infections(self, date: date) -> int:\n",
        "        \"\"\"\n",
        "        What is the number of reported (new) Covid-19 infections on [date]?\n",
        "        \"\"\"\n",
        "        try:\n",
        "            # Look up Texas Government data\n",
        "            new_cases = el_paso_cases.loc[date, \"New cases\"]\n",
        "            if np.isnan(new_cases):\n",
        "                raise KeyError\n",
        "            return new_cases\n",
        "        except KeyError:\n",
        "            try:\n",
        "                # Look up projections from @onlyasith's model\n",
        "                cases = projected_cases.loc[date, \"New cases\"]\n",
        "                if np.isnan(cases):\n",
        "                    raise KeyError\n",
        "\n",
        "                # Add some (fairly arbitrary) uncertainty around this point estimate\n",
        "                if cases == 0:\n",
        "                    return cases\n",
        "                cases_estimate = ergo.lognormal_from_interval(cases * 0.8, cases * 1.2)\n",
        "                return np.clip(cases_estimate, cases * 0.5, cases * 2)\n",
        "            except KeyError:\n",
        "                # We're beyond the time range for data and model\n",
        "                return 0\n",
        "\n",
        "    def mean_infections(self, start_date: date, end_date: date):\n",
        "        \"\"\"\n",
        "        What is the average number of reported new infections for this range of \n",
        "        dates? (Including start date, excluding end date)\n",
        "        \"\"\"\n",
        "        days = daterange(start_date, end_date)\n",
        "        return np.mean([self.daily_infections(day) for day in days])\n",
        "\n",
        "    def sma_infections(self, date: date):\n",
        "        \"\"\"\n",
        "        The simple moving average of infections for a date.\n",
        "\n",
        "        Defined in https://pandemic.metaculus.com/questions/4128:\n",
        "\n",
        "        'The 2-day SMA is defined as the unweighted average (arithmetic mean)\n",
        "        over the current day and the previous day.'\n",
        "        \"\"\"\n",
        "        return self.mean_infections(date - timedelta(1), date + timedelta(1))    \n",
        "\n",
        "ModelV7().run()"
      ],
      "execution_count": 24,
      "outputs": [
        {
          "output_type": "display_data",
          "data": {
            "application/vnd.jupyter.widget-view+json": {
              "model_id": "2f095925ae204975a9e6dffdf56d58ab",
              "version_minor": 0,
              "version_major": 2
            },
            "text/plain": [
              "HBox(children=(FloatProgress(value=0.0, max=1000.0), HTML(value='')))"
            ]
          },
          "metadata": {
            "tags": []
          }
        },
        {
          "output_type": "stream",
          "text": [
            "\n"
          ],
          "name": "stdout"
        },
        {
          "output_type": "display_data",
          "data": {
            "image/png": "[encoded data removed]",
            "text/plain": [
              "<Figure size 640x480 with 1 Axes>"
            ]
          },
          "metadata": {
            "tags": []
          }
        }
      ]
    },
    {
      "cell_type": "markdown",
      "metadata": {
        "id": "ORBC2zyqPKnM",
        "colab_type": "text"
      },
      "source": [
        "## How does my prediction compare to the Metaculus community?"
      ]
    },
    {
      "cell_type": "markdown",
      "metadata": {
        "id": "uGG4GLSmPKnM",
        "colab_type": "text"
      },
      "source": [
        "I'll compare my final prediction to the Metaculus community's:"
      ]
    },
    {
      "cell_type": "code",
      "metadata": {
        "id": "WQsKelFPPKnN",
        "colab_type": "code",
        "colab": {
          "base_uri": "https://localhost:8080/",
          "height": 589,
          "referenced_widgets": [
            "4f67000d0ae144b897923b044226ae87",
            "57b1ffdfbfe645b68dfe3904a72ba5ea",
            "5a369e2d43434abc9316d8b915861b4d",
            "c36699136da24151b99f2bc4a5ba553f",
            "329f97d49d354b7f9765f093ff6b2397",
            "ecd6f29e427f400ea4810787df4f8342",
            "bb185551f187476389d63b1912952cfd",
            "aa7c85c5c30a4e3a8bf28f001b2f02a0"
          ]
        },
        "outputId": "19c66ecb-08d2-41c8-d99b-55ee9c3e10e6"
      },
      "source": [
        "modelv7 = ModelV7()\n",
        "samples = ergo.run(modelv7.peak_ventilators, num_samples=1000)\n",
        "peak_ventilators_question.show_prediction(samples, show_community=True)"
      ],
      "execution_count": 25,
      "outputs": [
        {
          "output_type": "display_data",
          "data": {
            "application/vnd.jupyter.widget-view+json": {
              "model_id": "4f67000d0ae144b897923b044226ae87",
              "version_minor": 0,
              "version_major": 2
            },
            "text/plain": [
              "HBox(children=(FloatProgress(value=0.0, max=1000.0), HTML(value='')))"
            ]
          },
          "metadata": {
            "tags": []
          }
        },
        {
          "output_type": "stream",
          "text": [
            "\n"
          ],
          "name": "stdout"
        },
        {
          "output_type": "display_data",
          "data": {
            "image/png": "[encoded data removed]",
            "text/plain": [
              "<Figure size 640x480 with 1 Axes>"
            ]
          },
          "metadata": {
            "tags": []
          }
        }
      ]
    },
    {
      "cell_type": "markdown",
      "metadata": {
        "id": "VdSJerivPKnP",
        "colab_type": "text"
      },
      "source": [
        "Looks pretty good!"
      ]
    },
    {
      "cell_type": "markdown",
      "metadata": {
        "id": "GQvaEq6ZPKnP",
        "colab_type": "text"
      },
      "source": [
        "## Share my prediction"
      ]
    },
    {
      "cell_type": "markdown",
      "metadata": {
        "id": "J7nRdG6dPKnQ",
        "colab_type": "text"
      },
      "source": [
        "I'll submit my prediction to the Metaculus site to make the community prediction more accurate:"
      ]
    },
    {
      "cell_type": "code",
      "metadata": {
        "id": "ig0X4o9ZPKnQ",
        "colab_type": "code",
        "colab": {}
      },
      "source": [
        "# peak_ventilators_question.submit_from_samples(samples)"
      ],
      "execution_count": 0,
      "outputs": []
    },
    {
      "cell_type": "markdown",
      "metadata": {
        "id": "8F3n2Gu2PKnS",
        "colab_type": "text"
      },
      "source": [
        "# To do"
      ]
    },
    {
      "cell_type": "markdown",
      "metadata": {
        "id": "I206UUNhPKnT",
        "colab_type": "text"
      },
      "source": [
        "- Show how prediction changes from model to model\n",
        "- Also plot subquestions\n",
        "- Change plot color\n",
        "- Memoization\n",
        "- Step 7 is too big\n",
        "- Show dependency graph, highlight what we're editing at each stage"
      ]
    }
  ]
}