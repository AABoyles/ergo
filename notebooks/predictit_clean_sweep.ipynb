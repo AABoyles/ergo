{
  "nbformat": 4,
  "nbformat_minor": 0,
  "metadata": {
    "colab": {
      "name": "predictit-clean-sweep.ipynb",
      "provenance": [],
      "collapsed_sections": []
    },
    "kernelspec": {
      "name": "python3",
      "display_name": "Python 3"
    }
  },
  "cells": [
    {
      "cell_type": "markdown",
      "metadata": {
        "id": "jZZyH7El-IT9",
        "colab_type": "text"
      },
      "source": [
        "In this example, we use the PredictIt odds of democrats winning the house, senate, and presidency to make a prediction on whether they will sweep all three.\n",
        "\n",
        "PredictIt is composed of markets, which in turn are composed of questions. Although a PredictIt market has a literal question as it's name, for consistency with Metaculus and Foretold, ergo considers each option in a market to be a seperate \"question\". \n",
        "\n",
        "For instance, in the PredictIt market \"Which party will win the 2020 U.S. presidential election?\", one such question would be the democrat option. This is  binary questions that asks essentially asks \"will democrats win the 2020 U.S. presidential election\".\n",
        "\n",
        "One thing to keep in mind is that the 10% profit fee and 5% withdrawal fee on PredictIt bets is know to distort markets."
      ]
    },
    {
      "cell_type": "markdown",
      "metadata": {
        "id": "I9sieYAtOvMz",
        "colab_type": "text"
      },
      "source": [
        "##SETUP"
      ]
    },
    {
      "cell_type": "code",
      "metadata": {
        "id": "lJlJ76CoKOTp",
        "colab_type": "code",
        "colab": {
          "base_uri": "https://localhost:8080/",
          "height": 90
        },
        "outputId": "ea867a5c-56bb-48e5-e97f-6af4d948b632"
      },
      "source": [
        "!pip install --progress-bar off --quiet poetry\n",
        "!pip install --progress-bar off --quiet git+https://github.com/anthonyebiner/ergo.git"
      ],
      "execution_count": 1,
      "outputs": [
        {
          "output_type": "stream",
          "text": [
            "  Installing build dependencies ... \u001b[?25l\u001b[?25hdone\n",
            "  Getting requirements to build wheel ... \u001b[?25l\u001b[?25hdone\n",
            "    Preparing wheel metadata ... \u001b[?25l\u001b[?25hdone\n",
            "  Building wheel for ergo (PEP 517) ... \u001b[?25l\u001b[?25hdone\n"
          ],
          "name": "stdout"
        }
      ]
    },
    {
      "cell_type": "markdown",
      "metadata": {
        "id": "4pt807cl6EJR",
        "colab_type": "text"
      },
      "source": [
        "If you clone the git repo instead of using pip, you can run \"poetry install notebooks\" to install the required packages for using the contrib functions. Since this isn't possible (to my knowledge) using pip, we install the packages manually."
      ]
    },
    {
      "cell_type": "code",
      "metadata": {
        "id": "XT3e_N0XOzye",
        "colab_type": "code",
        "colab": {}
      },
      "source": [
        "!pip install --progress-bar off --quiet fuzzywuzzy[speedup]"
      ],
      "execution_count": 2,
      "outputs": []
    },
    {
      "cell_type": "markdown",
      "metadata": {
        "id": "MGHry-zC68jP",
        "colab_type": "text"
      },
      "source": [
        "# Code\n",
        "\n"
      ]
    },
    {
      "cell_type": "markdown",
      "metadata": {
        "id": "Fu_S10K-7tp8",
        "colab_type": "text"
      },
      "source": [
        "Import the required packages."
      ]
    },
    {
      "cell_type": "code",
      "metadata": {
        "id": "3nqWcuKa69BE",
        "colab_type": "code",
        "colab": {
          "base_uri": "https://localhost:8080/",
          "height": 90
        },
        "outputId": "ae957e76-a7c4-4c1c-9d59-9473fb49d759"
      },
      "source": [
        "import ergo\n",
        "from ergo.contrib.predictit.fuzzy_search import search_market, search_question"
      ],
      "execution_count": 3,
      "outputs": [
        {
          "output_type": "stream",
          "text": [
            "/usr/local/lib/python3.6/dist-packages/ergo/ppl.py:15: TqdmExperimentalWarning: Using `tqdm.autonotebook.tqdm` in notebook mode. Use `tqdm.tqdm` instead to force console mode (e.g. in jupyter console)\n",
            "  from tqdm.autonotebook import tqdm\n",
            "/usr/local/lib/python3.6/dist-packages/statsmodels/tools/_testing.py:19: FutureWarning: pandas.util.testing is deprecated. Use the functions in the public API at pandas.testing instead.\n",
            "  import pandas.util.testing as tm\n"
          ],
          "name": "stderr"
        }
      ]
    },
    {
      "cell_type": "markdown",
      "metadata": {
        "id": "03VbeFAu7wZz",
        "colab_type": "text"
      },
      "source": [
        "Create an instance of a PredictIt scraper."
      ]
    },
    {
      "cell_type": "code",
      "metadata": {
        "id": "eeejoSF77Vgh",
        "colab_type": "code",
        "colab": {}
      },
      "source": [
        "pi = ergo.PredictIt()"
      ],
      "execution_count": 4,
      "outputs": []
    },
    {
      "cell_type": "markdown",
      "metadata": {
        "id": "vOMtNFQV73zd",
        "colab_type": "text"
      },
      "source": [
        "Search for the markets."
      ]
    },
    {
      "cell_type": "code",
      "metadata": {
        "id": "_P-SvHLR7qX0",
        "colab_type": "code",
        "colab": {}
      },
      "source": [
        "m_senate = search_market(pi,  \"party control senate\")\n",
        "m_house = search_market(pi, \"party control house\")\n",
        "m_pres = search_market(pi, \"party win pres\")"
      ],
      "execution_count": 5,
      "outputs": []
    },
    {
      "cell_type": "markdown",
      "metadata": {
        "id": "PJZKregf8kSR",
        "colab_type": "text"
      },
      "source": [
        "Print the market names to ensure we found the right ones."
      ]
    },
    {
      "cell_type": "code",
      "metadata": {
        "id": "uY9M9WKG8BZE",
        "colab_type": "code",
        "colab": {
          "base_uri": "https://localhost:8080/",
          "height": 72
        },
        "outputId": "25632365-6669-4b75-f4a0-f8e84bae470b"
      },
      "source": [
        "print(\"Senate: \" + m_senate.name)\n",
        "print(\"House: \" + m_house.name)\n",
        "print(\"Pres: \" + m_pres.name)"
      ],
      "execution_count": 6,
      "outputs": [
        {
          "output_type": "stream",
          "text": [
            "Senate: Which party will control the Senate after 2020 election?\n",
            "House: Which party will control the House after 2020 election?\n",
            "Pres: Which party will win the 2020 U.S. presidential election?\n"
          ],
          "name": "stdout"
        }
      ]
    },
    {
      "cell_type": "markdown",
      "metadata": {
        "id": "yy9N_Bwx9feQ",
        "colab_type": "text"
      },
      "source": [
        "Search for the democrat question."
      ]
    },
    {
      "cell_type": "code",
      "metadata": {
        "id": "TwfIDL859jJK",
        "colab_type": "code",
        "colab": {}
      },
      "source": [
        "q_senate = search_question(m_senate, \"dem\")\n",
        "q_house = search_question(m_house, \"dem\")\n",
        "q_pres = search_question(m_pres, \"dem\")\n"
      ],
      "execution_count": 7,
      "outputs": []
    },
    {
      "cell_type": "markdown",
      "metadata": {
        "id": "onwEAOOL91OY",
        "colab_type": "text"
      },
      "source": [
        "Print the question names to ensure we found the right ones."
      ]
    },
    {
      "cell_type": "code",
      "metadata": {
        "id": "UsB9SAmc9rxB",
        "colab_type": "code",
        "colab": {
          "base_uri": "https://localhost:8080/",
          "height": 72
        },
        "outputId": "c900e137-4f68-4dd7-bfd9-5aaa21b6e01a"
      },
      "source": [
        "print(\"Senate: \" + q_senate.name)\n",
        "print(\"House: \" + q_house.name)\n",
        "print(\"Pres: \" + q_pres.name)"
      ],
      "execution_count": 8,
      "outputs": [
        {
          "output_type": "stream",
          "text": [
            "Senate: Democratic\n",
            "House: Democratic\n",
            "Pres: Democratic\n"
          ],
          "name": "stdout"
        }
      ]
    },
    {
      "cell_type": "markdown",
      "metadata": {
        "id": "-H4iCxMIAPLP",
        "colab_type": "text"
      },
      "source": [
        "Multiply the odds of the respective questions to predict the odds of a clean sweep."
      ]
    },
    {
      "cell_type": "code",
      "metadata": {
        "id": "p04YZelVAON5",
        "colab_type": "code",
        "colab": {
          "base_uri": "https://localhost:8080/",
          "height": 35
        },
        "outputId": "6d3bf642-0e02-417f-ccad-4c5e047c927a"
      },
      "source": [
        "clean_sweep = q_senate.get_community_prediction() * q_house.get_community_prediction() * q_pres.get_community_prediction()\n",
        "print(\"Based on these three markets, the odds of a democratic clean sweep is \" + str(round(clean_sweep * 100, 2)) + \"%\")"
      ],
      "execution_count": 9,
      "outputs": [
        {
          "output_type": "stream",
          "text": [
            "Based on these three markets, the odds of a democratic clean sweep is 31.11%\n"
          ],
          "name": "stdout"
        }
      ]
    },
    {
      "cell_type": "markdown",
      "metadata": {
        "id": "_E_Xt8hKA72_",
        "colab_type": "text"
      },
      "source": [
        "Interestingly enough, this is much lower than the odds of a sweep in the specific clean sweep market."
      ]
    },
    {
      "cell_type": "code",
      "metadata": {
        "id": "fyGnBfXVAiNB",
        "colab_type": "code",
        "colab": {
          "base_uri": "https://localhost:8080/",
          "height": 54
        },
        "outputId": "dfeadfe0-09a2-464c-b597-e7bc9e7ae12e"
      },
      "source": [
        "m_sweep = search_market(pi, \"dem clean sweep\")\n",
        "print(m_sweep.name)\n",
        "# Since this market only contains a single question, we can find it by getting the first element from a list of all the questions.\n",
        "q_sweep = list(m_sweep.questions)[0]\n",
        "print(str(q_sweep.get_community_prediction() * 100) + \"%\")"
      ],
      "execution_count": 10,
      "outputs": [
        {
          "output_type": "stream",
          "text": [
            "Will Democrats win the White House, Senate and House in 2020?\n",
            "52.0%\n"
          ],
          "name": "stdout"
        }
      ]
    }
  ]
}