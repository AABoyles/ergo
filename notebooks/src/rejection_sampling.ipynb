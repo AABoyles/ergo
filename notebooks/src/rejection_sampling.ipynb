{
 "cells": [
  {
   "cell_type": "code",
   "execution_count": null,
   "metadata": {},
   "outputs": [],
   "source": [
    "import ergo\n",
    "import numpyro\n",
    "import jax.numpy as np"
   ]
  },
  {
   "cell_type": "code",
   "execution_count": null,
   "metadata": {},
   "outputs": [],
   "source": [
    "def model():\n",
    "    x = ergo.flip(0.5, name=\"x\")\n",
    "    y = ergo.flip(0.5, name=\"y\")\n",
    "    ergo.condition(x or y)\n",
    "\n",
    "trace = ergo.run(model, num_samples=100)\n",
    "\n",
    "trace.groupby([\"x\", \"y\"]).size().reset_index(name=\"count\")"
   ]
  }
 ],
 "metadata": {
  "kernelspec": {
   "display_name": "Python 3",
   "language": "python",
   "name": "python3"
  }
 },
 "nbformat": 4,
 "nbformat_minor": 4
}
