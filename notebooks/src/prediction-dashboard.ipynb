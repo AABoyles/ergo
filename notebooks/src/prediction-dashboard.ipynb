{
 "cells": [
  {
   "cell_type": "markdown",
   "metadata": {},
   "source": [
    "# Setup"
   ]
  },
  {
   "cell_type": "code",
   "execution_count": null,
   "metadata": {},
   "outputs": [],
   "source": [
    "%%capture\n",
    "%pip install --quiet poetry  # Fixes https://github.com/python-poetry/poetry/issues/532\n",
    "%pip install --quiet git+https://github.com/oughtinc/ergo.git"
   ]
  },
  {
   "cell_type": "code",
   "execution_count": null,
   "metadata": {},
   "outputs": [],
   "source": [
    "import ergo\n",
    "import pendulum\n",
    "import pandas as pd;"
   ]
  },
  {
   "cell_type": "code",
   "execution_count": null,
   "metadata": {},
   "outputs": [],
   "source": [
    "%load_ext google.colab.data_table"
   ]
  },
  {
   "cell_type": "code",
   "execution_count": null,
   "metadata": {},
   "outputs": [],
   "source": [
    "metaculus = ergo.Metaculus(username=\"oughtpublic\", password=\"123456\", api_domain=\"pandemic\")"
   ]
  },
  {
   "cell_type": "markdown",
   "metadata": {},
   "source": [
    "# Dashboard"
   ]
  },
  {
   "cell_type": "markdown",
   "metadata": {},
   "source": [
    "## Resolved questions"
   ]
  },
  {
   "cell_type": "code",
   "execution_count": null,
   "metadata": {},
   "outputs": [],
   "source": [
    "resolved_predictions = metaculus.make_questions_df(metaculus.get_questions_json(question_status=\"resolved\", player_status=\"predicted\", pages=9999))"
   ]
  },
  {
   "cell_type": "code",
   "execution_count": null,
   "metadata": {},
   "outputs": [],
   "source": [
    "resolved_predictions[[\"title\", \"resolve_time\", \"i_created\", \"url\", \"id\"]]"
   ]
  },
  {
   "cell_type": "markdown",
   "metadata": {},
   "source": [
    "(Compare https://pandemic.metaculus.com/questions/?order_by=-resolve_time&status=resolved&guessed_by=1120040"
   ]
  },
  {
   "cell_type": "markdown",
   "metadata": {},
   "source": [
    "## Open questions"
   ]
  },
  {
   "cell_type": "code",
   "execution_count": null,
   "metadata": {},
   "outputs": [],
   "source": [
    "open = metaculus.make_questions_df(metaculus.get_questions_json(question_status=\"open\", player_status=\"any\", pages=9999))"
   ]
  },
  {
   "cell_type": "markdown",
   "metadata": {},
   "source": [
    "### Published on or after Mar 25, closing on or before Apr 25"
   ]
  },
  {
   "cell_type": "code",
   "execution_count": null,
   "metadata": {},
   "outputs": [],
   "source": [
    "after_mar_25 = open[open[\"publish_time\"] > pendulum.datetime(2020,3,24, tz=\"America/Los_Angeles\")]\n",
    "before_apr_25 = after_mar_25[after_mar_25[\"close_time\"] < pendulum.datetime(2020,4,26, tz=\"America/Los_Angeles\")]"
   ]
  },
  {
   "cell_type": "code",
   "execution_count": null,
   "metadata": {},
   "outputs": [],
   "source": [
    "before_apr_25[[\"title\", \"publish_time\", \"close_time\", \"i_predicted\", \"i_created\", \"page_url\", \"id\"]]"
   ]
  }
 ],
 "metadata": {
  "jupytext": {
   "cell_metadata_filter": "-all",
   "main_language": "python",
   "notebook_metadata_filter": "-all"
  }
 },
 "nbformat": 4,
 "nbformat_minor": 4
}
