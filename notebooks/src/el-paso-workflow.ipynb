{
 "cells": [
  {
   "cell_type": "markdown",
   "metadata": {},
   "source": [
    "<a href=\"https://colab.research.google.com/github/oughtinc/ergo/blob/master/notebooks/build/el-paso-workflow.ipynb\" target=\"_parent\"><img src=\"https://colab.research.google.com/assets/colab-badge.svg\" alt=\"Open In Colab\"/></a>"
   ]
  },
  {
   "cell_type": "markdown",
   "metadata": {},
   "source": [
    "# Setup"
   ]
  },
  {
   "cell_type": "code",
   "execution_count": null,
   "metadata": {},
   "outputs": [],
   "source": [
    "!pip install --progress-bar off --quiet poetry\n",
    "!pip install --progress-bar off --quiet git+https://github.com/oughtinc/ergo.git@64c4b78139e5c53ebe34acd617fd222662980539"
   ]
  },
  {
   "cell_type": "code",
   "execution_count": null,
   "metadata": {},
   "outputs": [],
   "source": [
    "import warnings\n",
    "import ssl\n",
    "warnings.filterwarnings(action=\"ignore\", category=FutureWarning)\n",
    "warnings.filterwarnings(action=\"ignore\", module=\"plotnine\")\n",
    "ssl._create_default_https_context = ssl._create_unverified_context"
   ]
  },
  {
   "cell_type": "code",
   "execution_count": null,
   "metadata": {},
   "outputs": [],
   "source": [
    "import ergo\n",
    "import seaborn\n",
    "\n",
    "import numpy as np\n",
    "import pandas as pd\n",
    "from datetime import timedelta, date\n",
    "import matplotlib.pyplot as plt\n",
    "\n",
    "pd.set_option('precision', 2)\n",
    "\n",
    "def summarize_samples(samples):\n",
    "    stats = samples.describe(percentiles=[0.05, 0.5, 0.95])\n",
    "    percentile = lambda pt: float(stats.loc[f\"{pt}%\"])\n",
    "    return f\"{percentile(50):.2f} ({percentile(5):.2f} to {percentile(95):.2f})\"\n",
    "\n",
    "def show_marginal(func):\n",
    "    samples = ergo.run(func, num_samples=1000)\n",
    "    seaborn.distplot(samples).set_title(func.__doc__);\n",
    "    plt.show()\n",
    "    print(f\"Median {func.__doc__}: {summarize_samples(samples)}\")"
   ]
  },
  {
   "cell_type": "markdown",
   "metadata": {},
   "source": [
    "# Choose a decision-relevant question"
   ]
  },
  {
   "cell_type": "markdown",
   "metadata": {},
   "source": [
    "## How many ventilators will be needed in El Paso?\n",
    "\n",
    "I want to predict this question:\n",
    "\n",
    "> How many patients with Covid-19 in El Paso County will require invasive ventilation on the day when the number of hospital admissions of cases peak?\n",
    "\n",
    "Background:\n",
    "\n",
    "- El Paso is a county in Texas (population 850,000)\n",
    "- They're preparing for the impact of COVID-19\n",
    "- This questions is part of a series of a dozen questions that have been formulated in partnership between [Metaculus](https://www.metaculus.com) and administrators at Texas Tech University Health Sciences Center, El Paso\n",
    "- The answers on Metaculus will guide on-the-ground decision\n",
    "- This questions is particularly decision-relevant: it's important to have enough ventilators on the day when most are needed, but if you don't need them, they might be put to better use elsewhere\n",
    "\n",
    "## Loading question data from the Metaculus crowd prediction platform\n",
    "\n",
    "Ergo can read and write from Metaculus, Foretold, and other crowd prediction sites.\n",
    "\n",
    "The ventilation questions is [a question](https://pandemic.metaculus.com/questions/4137/) on the crowd prediction site Metaculus, so I'll load it from there:"
   ]
  },
  {
   "cell_type": "code",
   "execution_count": null,
   "metadata": {},
   "outputs": [],
   "source": [
    "metaculus = ergo.Metaculus(username=\"oughtpublic\", password=\"123456\", api_domain=\"pandemic\")\n",
    "peak_ventilators_question = metaculus.get_question(4201, name=\"# ventilators needed on peak day\")\n",
    "peak_ventilators_question"
   ]
  },
  {
   "cell_type": "markdown",
   "metadata": {},
   "source": [
    "This will allow us to compare our prediction to the Metaculus community, and to submit our prediction to the platform."
   ]
  },
  {
   "cell_type": "markdown",
   "metadata": {},
   "source": [
    "# A guess"
   ]
  },
  {
   "cell_type": "markdown",
   "metadata": {},
   "source": [
    "I'll start by making an uninformed baseline prediction. I want to do this before I look at any data or crowd guesses because having this data point will tell me what I'm learning as I go through the forecasting process."
   ]
  },
  {
   "cell_type": "markdown",
   "metadata": {},
   "source": [
    "What is my 90% confidence interval for the number of ventilators needed? I think there is a \n",
    "\n",
    "- less than 5% chance that <3 people require ventilation\n",
    "- less than 5% chance that >1000 people require ventilation\n",
    "\n",
    "So I'll go with a 90% confidence interval of [3, 100].\n",
    "\n",
    "I don't know much about El Paso, ICUs, or ventilators. I feel pretty uncertain and assign non-negligible probability to higher values. I'll go with a lognormal distribution that assigns more probability to the tails than a normal distribution."
   ]
  },
  {
   "cell_type": "markdown",
   "metadata": {},
   "source": [
    "## Distributions in Ergo"
   ]
  },
  {
   "cell_type": "markdown",
   "metadata": {},
   "source": [
    "In Ergo, I can generate a single sample from this distribution like this:"
   ]
  },
  {
   "cell_type": "code",
   "execution_count": null,
   "metadata": {},
   "outputs": [],
   "source": [
    "ergo.lognormal_from_interval(3, 100)"
   ]
  },
  {
   "cell_type": "markdown",
   "metadata": {},
   "source": [
    "To get many samples, I use `ergo.run`:"
   ]
  },
  {
   "cell_type": "code",
   "execution_count": null,
   "metadata": {},
   "outputs": [],
   "source": [
    "def peak_ventilators():\n",
    "    \"# ventilators needed on peak day\"\n",
    "    return ergo.lognormal_from_interval(3, 100)\n",
    "\n",
    "samples = ergo.run(peak_ventilators, num_samples=1000)\n",
    "\n",
    "samples"
   ]
  },
  {
   "cell_type": "markdown",
   "metadata": {},
   "source": [
    "Why think about sampling? As we build out our model, we'll see that: \n",
    "\n",
    "- Composing samplers is easy - it's just programming as usual\n",
    "- Composing probability distributions is hard - it's math\n",
    "\n",
    "We'll build up complex models by composing samplers."
   ]
  },
  {
   "cell_type": "markdown",
   "metadata": {},
   "source": [
    "## Visualizing distributions"
   ]
  },
  {
   "cell_type": "markdown",
   "metadata": {},
   "source": [
    "I can visualize these samples using the `show_prediction` method associated with my question:"
   ]
  },
  {
   "cell_type": "code",
   "execution_count": null,
   "metadata": {},
   "outputs": [],
   "source": [
    "peak_ventilators_question.show_prediction(samples)"
   ]
  },
  {
   "cell_type": "markdown",
   "metadata": {},
   "source": [
    "# Model V1: My guess"
   ]
  },
  {
   "cell_type": "markdown",
   "metadata": {},
   "source": [
    "I'll wrap my guess in a `Model` class so that I can more easily build on it step by step by inheriting from the class, adding more methods, and replacing methods with better implementations:"
   ]
  },
  {
   "cell_type": "code",
   "execution_count": null,
   "metadata": {},
   "outputs": [],
   "source": [
    "class ModelV1:\n",
    "    \n",
    "    def peak_ventilators(self):\n",
    "        \"# ventilators needed on peak day\"\n",
    "        return ergo.lognormal_from_interval(3, 100)\n",
    "\n",
    "    def run(self):\n",
    "        samples = ergo.run(self.peak_ventilators, num_samples=1000)\n",
    "        peak_ventilators_question.show_prediction(samples); plt.show()\n",
    "        print(f\"Median # ventilators needed: {summarize_samples(samples)}\")"
   ]
  },
  {
   "cell_type": "markdown",
   "metadata": {},
   "source": [
    "This doesn't change the result:"
   ]
  },
  {
   "cell_type": "code",
   "execution_count": null,
   "metadata": {},
   "outputs": [],
   "source": [
    "ModelV1().run()"
   ]
  },
  {
   "cell_type": "markdown",
   "metadata": {},
   "source": [
    "It's still an uninformed guess."
   ]
  },
  {
   "cell_type": "markdown",
   "metadata": {},
   "source": [
    "# Model V2: Decomposing the ventilation question"
   ]
  },
  {
   "cell_type": "markdown",
   "metadata": {},
   "source": [
    "## My decomposition\n",
    "\n",
    "My strategy for this question will be to break it into pieces and then improve my estimate for each piece. I'll start by estimating the peak ventilators needed as the product of two things:\n",
    "\n",
    "1. How many patients will be in the ICU on peak day?\n",
    "2. What fraction of those will need ventilators?\n",
    "\n",
    "So my decomposition looks like this:\n",
    "\n",
    "- \\# ventilators needed on peak day =\n",
    "  - \\# icu admissions on peak day *\n",
    "  - % of icu admissions requiring ventilation\n",
    " \n",
    "For both of these I'll make pretty uninformed guesses for now:\n",
    "\n",
    "1. I guess that about 5 to 200 people will be in the ICU on peak day (but I have no idea)\n",
    "2. I'd guess that 1 out of 3 will need ventilators (but I have no idea)\n",
    "\n",
    "For ICU cases, I use the same `lognormal_from_interval` function I used above. I'll always show components of my model in blue and the overall model prediction in red:"
   ]
  },
  {
   "cell_type": "code",
   "execution_count": null,
   "metadata": {},
   "outputs": [],
   "source": [
    "def peak_icu_admissions():\n",
    "    \"# icu admissions on peak day\"\n",
    "    return ergo.lognormal_from_interval(5, 200)\n",
    "\n",
    "show_marginal(peak_icu_admissions)"
   ]
  },
  {
   "cell_type": "markdown",
   "metadata": {},
   "source": [
    "For ventilation need, I'll use a beta-binomial distribution:"
   ]
  },
  {
   "cell_type": "code",
   "execution_count": null,
   "metadata": {},
   "outputs": [],
   "source": [
    "def frac_icu_ventilation():\n",
    "    \"% of icu admissions requiring ventilation\"\n",
    "    return ergo.beta_from_hits(1, 3)"
   ]
  },
  {
   "cell_type": "markdown",
   "metadata": {},
   "source": [
    "This distribution looks like this:"
   ]
  },
  {
   "cell_type": "code",
   "execution_count": null,
   "metadata": {},
   "outputs": [],
   "source": [
    "show_marginal(frac_icu_ventilation)"
   ]
  },
  {
   "cell_type": "markdown",
   "metadata": {},
   "source": [
    "## The new model"
   ]
  },
  {
   "cell_type": "markdown",
   "metadata": {},
   "source": [
    "My model now looks like this:"
   ]
  },
  {
   "cell_type": "code",
   "execution_count": null,
   "metadata": {},
   "outputs": [],
   "source": [
    "class ModelV2(ModelV1):\n",
    "    \n",
    "    def peak_ventilators(self):\n",
    "        \"# ventilators needed on peak day\"\n",
    "        return self.frac_icu_ventilation() * self.peak_icu_admissions()   \n",
    "    \n",
    "    def peak_icu_admissions(self):\n",
    "        \"# icu admissions on peak day\"\n",
    "        return ergo.lognormal_from_interval(5, 200)\n",
    "\n",
    "    def frac_icu_ventilation(self):\n",
    "        \"% of icu admissions requiring ventilation\"\n",
    "        return ergo.beta_from_hits(1, 3)"
   ]
  },
  {
   "cell_type": "markdown",
   "metadata": {},
   "source": [
    "This doesn't change the overall estimate much:"
   ]
  },
  {
   "cell_type": "code",
   "execution_count": null,
   "metadata": {},
   "outputs": [],
   "source": [
    "ModelV2().run()"
   ]
  },
  {
   "cell_type": "markdown",
   "metadata": {},
   "source": [
    "# Model V3: A better estimate for the fraction of ICU admits needing ventilation"
   ]
  },
  {
   "cell_type": "markdown",
   "metadata": {},
   "source": [
    "I want to improve my estimate for the fraction of ICU admits that need ventilation:\n",
    "\n",
    "- \\# ventilators needed on peak day =\n",
    "  - \\# icu admissions on peak day *\n",
    "  - **% of icu admissions requiring ventilation**\n",
    "\n",
    "I'll do this by looking at [data from publications](https://pandemic.metaculus.com/questions/4154/#comment-28155). This is the approach followed by PabloStafforini et al on Metaculus."
   ]
  },
  {
   "cell_type": "code",
   "execution_count": null,
   "metadata": {},
   "outputs": [],
   "source": [
    "class ModelV3(ModelV2):\n",
    "\n",
    "    def frac_icu_ventilation(self):\n",
    "        \"% of icu admissions requiring ventilation\"\n",
    "        ventilation_pseudocounts = 25 + 17 + 0.05 * 1150 + 0.1 * 132\n",
    "        icu_pseudocounts = 100 + 36 + 0.05 * 1300 + 0.1 * 196\n",
    "        return ergo.beta_from_hits(ventilation_pseudocounts, icu_pseudocounts)\n",
    "\n",
    "model_v3 = ModelV3()\n",
    "\n",
    "model_v3.run()"
   ]
  },
  {
   "cell_type": "code",
   "execution_count": null,
   "metadata": {},
   "outputs": [],
   "source": [
    "show_marginal(model_v3.frac_icu_ventilation)"
   ]
  },
  {
   "cell_type": "markdown",
   "metadata": {},
   "source": [
    "This increased the overall estimate since I'd assumed that about 1/3 people need ventilation, but the empirical data says that about 1/2 do."
   ]
  },
  {
   "cell_type": "markdown",
   "metadata": {},
   "source": [
    "# Model V4: Decomposing the peak ICU admits question"
   ]
  },
  {
   "cell_type": "markdown",
   "metadata": {},
   "source": [
    "Now I want to better estimate the number of ICU admits at peak. I'll break it down into:\n",
    "\n",
    "1. What's the maximum number of hospital admissions at peak?\n",
    "2. What fraction of those need to go to the ICU?\n",
    "\n",
    "So my new decomposition looks like this:\n",
    "\n",
    "- \\# ventilators needed on peak day =\n",
    "  - **\\# icu admissions on peak day** *\n",
    "    - **\\# patients on peak hospitalization day** *\n",
    "    - **% of patients going to icu**\n",
    "  - % of icu admissions requiring ventilation\n",
    "    - average found in literature (pablo)\n",
    "\n",
    "I'll again start by making pretty uninformed guesses for both of these questions. I assume that:\n",
    "\n",
    "1. There's about 10 to 100 COVID-19 hospital admissions per day at peak\n",
    "2. About half of those need to go to the ICU"
   ]
  },
  {
   "cell_type": "code",
   "execution_count": null,
   "metadata": {},
   "outputs": [],
   "source": [
    "class ModelV4(ModelV3):\n",
    "\n",
    "    def peak_icu_admissions(self):\n",
    "        \"# icu admissions on peak day\"\n",
    "        max_patients = self.max_30d_hospital_confirmed_for_peak()\n",
    "        return max_patients * self.frac_patients_icu()\n",
    "    \n",
    "    def max_30d_hospital_confirmed_for_peak(self):\n",
    "        \"# patients on peak day\"        \n",
    "        return ergo.lognormal_from_interval(10, 100)\n",
    "    \n",
    "    def frac_patients_icu(self):\n",
    "        \"% of patients going to icu\"\n",
    "        return ergo.beta_from_hits(1, 2)    \n",
    "\n",
    "model_v4 = ModelV4()"
   ]
  },
  {
   "cell_type": "code",
   "execution_count": null,
   "metadata": {},
   "outputs": [],
   "source": [
    "show_marginal(model_v4.peak_icu_admissions)"
   ]
  },
  {
   "cell_type": "code",
   "execution_count": null,
   "metadata": {},
   "outputs": [],
   "source": [
    "show_marginal(model_v4.max_30d_hospital_confirmed_for_peak)"
   ]
  },
  {
   "cell_type": "code",
   "execution_count": null,
   "metadata": {},
   "outputs": [],
   "source": [
    "show_marginal(model_v4.frac_patients_icu)"
   ]
  },
  {
   "cell_type": "code",
   "execution_count": null,
   "metadata": {},
   "outputs": [],
   "source": [
    "model_v4.run()"
   ]
  },
  {
   "cell_type": "markdown",
   "metadata": {},
   "source": [
    "# Model V5: A better estimate for the fraction of patients that need to go to the ICU"
   ]
  },
  {
   "cell_type": "markdown",
   "metadata": {},
   "source": [
    "To get a real estimate for the number of hospital admits that need to go to the ICU, I'll look at what happened in other countries. This is [the approach followed by katifish](https://pandemic.metaculus.com/questions/4155/#comment-28054) on Metaculus.\n",
    "\n",
    "So model 5 looks like this:\n",
    "\n",
    "- \\# ventilators needed on peak day =\n",
    "  - \\# icu admissions on peak day *\n",
    "    - \\# patients on peak hospitalization day *\n",
    "    - **% of patients going to icu**\n",
    "      - **empirical results in other countries (katifish)**\n",
    "  - % of icu admissions requiring ventilation\n",
    "    - average found in literature (pablo)"
   ]
  },
  {
   "cell_type": "code",
   "execution_count": null,
   "metadata": {},
   "outputs": [],
   "source": [
    "class ModelV5(ModelV4):\n",
    "    \n",
    "    def frac_patients_icu(self):\n",
    "        \"% of patients going to icu\"\n",
    "        alpha = 0.1 # Rescaling counts becase we're more uncertain than implied by counts\n",
    "        return ergo.random_choice([\n",
    "          ergo.beta_from_hits(alpha * 121, alpha * 508),\n",
    "          ergo.beta_from_hits(alpha * 181, alpha * 507),\n",
    "        ])\n",
    "\n",
    "model_v5 = ModelV5()"
   ]
  },
  {
   "cell_type": "code",
   "execution_count": null,
   "metadata": {},
   "outputs": [],
   "source": [
    "show_marginal(model_v5.frac_patients_icu)"
   ]
  },
  {
   "cell_type": "code",
   "execution_count": null,
   "metadata": {},
   "outputs": [],
   "source": [
    "model_v5.run()"
   ]
  },
  {
   "cell_type": "markdown",
   "metadata": {},
   "source": [
    "# Model V6: Decomposing the maximum-patients question"
   ]
  },
  {
   "cell_type": "markdown",
   "metadata": {},
   "source": [
    "What is the maximum number of people in the hospital around peak infection time? I'll break this one down into:\n",
    "\n",
    "1. When is the peak infection date?\n",
    "2. What is the largest number of people in the hospital in the 30-day period around this date?\n",
    "\n",
    "Model 6 looks like this:\n",
    "\n",
    "- \\# ventilators needed on peak day =\n",
    "  - \\# icu admissions on peak day *\n",
    "    - **\\# patients on peak hospitalization day** *\n",
    "      - **when is peak infection day?**\n",
    "      - **max daily hospitalizations within 30 days of peak infection day**\n",
    "    - % of patients going to icu\n",
    "      - empirical results in other countries (katifish)\n",
    "  - % of icu admissions requiring ventilation\n",
    "    - average found in literature (pablo)\n",
    "\n",
    "\n",
    "Again I'll start with uninformed guesses."
   ]
  },
  {
   "cell_type": "code",
   "execution_count": null,
   "metadata": {},
   "outputs": [],
   "source": [
    "def daterange(start_date, end_date):\n",
    "    for n in range(int((end_date - start_date).days)):\n",
    "        yield start_date + timedelta(n)\n",
    "\n",
    "\n",
    "class ModelV6(ModelV5):\n",
    "    \n",
    "    def max_30d_hospital_confirmed_for_peak(self):\n",
    "        \"# patients on peak hospitalization day\"        \n",
    "        peak = self.peak_infection_date()\n",
    "        days = daterange(peak - timedelta(15), peak + timedelta(15))\n",
    "        return max(self.hospital_confirmed_for_date(day) for day in days)    \n",
    "    \n",
    "    def peak_infection_date(self) -> date:\n",
    "        \"when is peak infection day?\"\n",
    "        start_date = date(2020, 4, 1)                \n",
    "        end_date = date(2020, 7, 1)        \n",
    "        return ergo.random_choice(list(daterange(start_date, end_date)))\n",
    "    \n",
    "    def hospital_confirmed_for_date(self, date: date) -> int:\n",
    "        \"how many hospitalizations on any given day?\"\n",
    "        return ergo.lognormal_from_interval(10, 100)    \n",
    "\n",
    "model_v6 = ModelV6()"
   ]
  },
  {
   "cell_type": "code",
   "execution_count": null,
   "metadata": {},
   "outputs": [],
   "source": [
    "show_marginal(model_v6.max_30d_hospital_confirmed_for_peak)"
   ]
  },
  {
   "cell_type": "code",
   "execution_count": null,
   "metadata": {},
   "outputs": [],
   "source": [
    "model_v6.run()"
   ]
  },
  {
   "cell_type": "markdown",
   "metadata": {},
   "source": [
    "# Model V7: A better estimate for peak infection date and hospitalizations"
   ]
  },
  {
   "cell_type": "markdown",
   "metadata": {},
   "source": [
    "To better estimate peak infection date and hospitalizations, I need actual data. A lot happens here, sorry! Please skip."
   ]
  },
  {
   "cell_type": "code",
   "execution_count": null,
   "metadata": {},
   "outputs": [],
   "source": [
    "from ergo.contrib.el_paso import *\n",
    "\n",
    "START_DATE = date(2020, 4, 1)\n",
    "el_paso_cases = texas_data.get_el_paso_data()\n",
    "get_daily_hospital_confirmed = brachbach.get_daily_hospital_confirmed\n",
    "compiled_data = krismoore.get_krismoore_data()\n",
    "projected_cases = onlyasith.get_onlyasith_results()"
   ]
  },
  {
   "cell_type": "code",
   "execution_count": null,
   "metadata": {},
   "outputs": [],
   "source": [
    "class ModelV7(ModelV6):\n",
    "    \n",
    "    def __init__(self):\n",
    "        self.hospital_confirmed_from_daily_infected_model = get_daily_hospital_confirmed(compiled_data, self.daily_infections)\n",
    "        super(ModelV7, self).__init__()\n",
    "\n",
    "    def peak_infection_date(self) -> date:\n",
    "        \"when is peak infection day?\"\n",
    "        end_date = date(2020, 7, 1)\n",
    "        for today in daterange(START_DATE, end_date):\n",
    "            sma_today = self.sma_infections(today)\n",
    "            future_smas = [self.sma_infections(today + timedelta(i)) for i in range(1,11)]\n",
    "            if sma_today > max(future_smas):\n",
    "                return today\n",
    "        return end_date\n",
    "        \n",
    "    def hospital_confirmed_for_date(self, date: date) -> int:\n",
    "        \"how many hospitalizations on any given day?\"\n",
    "        try:\n",
    "            # Look up in-hospital confirmed cases from @KrisMoore's compiled data\n",
    "            new_hospital_confirmed = compiled_data.loc[date, \"In hospital confirmed\"]\n",
    "            if np.isnan(new_hospital_confirmed):\n",
    "                raise KeyError\n",
    "            return new_hospital_confirmed\n",
    "        except KeyError:\n",
    "            try:\n",
    "                # Get point estimate from @brachbach's regression model\n",
    "                cases = self.hospital_confirmed_from_daily_infected_model(date)\n",
    "\n",
    "                # Add some (fairly arbitrary) uncertainty around this point estimate\n",
    "                if cases == 0:\n",
    "                    return cases\n",
    "                cases_estimate = ergo.lognormal_from_interval(cases * 0.8, cases * 1.2)\n",
    "                return np.clip(cases_estimate, cases * 0.5, cases * 2)\n",
    "            except KeyError:\n",
    "                return 0\n",
    "        \n",
    "    def daily_infections(self, date: date) -> int:\n",
    "        \"reported new infections per day\"\n",
    "        try:\n",
    "            # Look up Texas Government data\n",
    "            new_cases = el_paso_cases.loc[date, \"New cases\"]\n",
    "            if np.isnan(new_cases):\n",
    "                raise KeyError\n",
    "            return new_cases\n",
    "        except KeyError:\n",
    "            try:\n",
    "                # Look up projections from @onlyasith's model\n",
    "                cases = projected_cases.loc[date, \"New cases\"]\n",
    "                if np.isnan(cases):\n",
    "                    raise KeyError\n",
    "\n",
    "                # Add some (fairly arbitrary) uncertainty around this point estimate\n",
    "                if cases == 0:\n",
    "                    return cases\n",
    "                cases_estimate = ergo.lognormal_from_interval(cases * 0.8, cases * 1.2)\n",
    "                return np.clip(cases_estimate, cases * 0.5, cases * 2)\n",
    "            except KeyError:\n",
    "                # We're beyond the time range for data and model\n",
    "                return 0\n",
    "\n",
    "    def mean_infections(self, start_date: date, end_date: date):\n",
    "        \"mean daily infections (including start date, excluding end date)\"\n",
    "        days = daterange(start_date, end_date)\n",
    "        return np.mean([self.daily_infections(day) for day in days])\n",
    "\n",
    "    def sma_infections(self, date: date):\n",
    "        \"\"\"\n",
    "        The simple moving average of infections for a date.\n",
    "\n",
    "        Defined in https://pandemic.metaculus.com/questions/4128:\n",
    "\n",
    "        'The 2-day SMA is defined as the unweighted average (arithmetic mean)\n",
    "        over the current day and the previous day.'\n",
    "        \"\"\"\n",
    "        return self.mean_infections(date - timedelta(1), date + timedelta(1))    \n",
    "\n",
    "model_v7 = ModelV7() "
   ]
  },
  {
   "cell_type": "code",
   "execution_count": null,
   "metadata": {},
   "outputs": [],
   "source": [
    "print([model_v7.peak_infection_date() for _ in range(10)])\n",
    "show_marginal(model_v7.frac_icu_ventilation)\n",
    "show_marginal(model_v7.peak_icu_admissions)\n",
    "show_marginal(model_v7.frac_patients_icu)\n",
    "show_marginal(model_v7.max_30d_hospital_confirmed_for_peak)"
   ]
  },
  {
   "cell_type": "code",
   "execution_count": null,
   "metadata": {},
   "outputs": [],
   "source": [
    "model_v7.run()"
   ]
  },
  {
   "cell_type": "markdown",
   "metadata": {},
   "source": [
    "# Review"
   ]
  },
  {
   "cell_type": "markdown",
   "metadata": {},
   "source": [
    "My original question was:\n",
    "\n",
    "> How many patients with Covid-19 in El Paso County will require invasive ventilation on the day when the number of hospital admissions of cases peak?\n",
    "\n",
    "My final answer is that a median of 10.5 people will require ventilation.\n",
    "\n",
    "We arrived at this answer by breaking it down as follows:\n",
    "\n",
    "- \\# ventilators needed on peak day [10.48 (6.39 to 16.07)] =\n",
    "  - \\# icu admissions on peak day [21.45 (12.51 to 32.02)] *\n",
    "    - \\# patients on peak hospitalization day [71] *\n",
    "      - when is peak infection day? [2020/4/26]\n",
    "      - max daily hospitalizations within 30 days of peak infection day [71]\n",
    "        - how many hospitalizations on any given day?\n",
    "    - % of patients going to icu [0.30 (0.18 to 0.45)]\n",
    "      - empirical results in other countries (katifish)\n",
    "  - % of icu admissions requiring ventilation [0.51 (0.46 to 0.57)]\n",
    "    - average found in literature (pablo)"
   ]
  },
  {
   "cell_type": "markdown",
   "metadata": {},
   "source": [
    "I'll compare my final prediction to the Metaculus community's:"
   ]
  },
  {
   "cell_type": "code",
   "execution_count": null,
   "metadata": {},
   "outputs": [],
   "source": [
    "model_v7 = ModelV7()\n",
    "samples = ergo.run(model_v7.peak_ventilators, num_samples=1000)\n",
    "peak_ventilators_question.show_prediction(samples, show_community=True)"
   ]
  },
  {
   "cell_type": "markdown",
   "metadata": {},
   "source": [
    "## Share my prediction"
   ]
  },
  {
   "cell_type": "markdown",
   "metadata": {},
   "source": [
    "I'll submit my prediction to the Metaculus site to make the community prediction more accurate:"
   ]
  },
  {
   "cell_type": "code",
   "execution_count": null,
   "metadata": {},
   "outputs": [],
   "source": [
    "# peak_ventilators_question.submit_from_samples(samples)"
   ]
  }
 ],
 "metadata": {
  "jupytext": {
   "cell_metadata_filter": "-all",
   "main_language": "python",
   "notebook_metadata_filter": "-all"
  }
 },
 "nbformat": 4,
 "nbformat_minor": 4
}
