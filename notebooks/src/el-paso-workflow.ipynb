{
 "cells": [
  {
   "cell_type": "markdown",
   "metadata": {},
   "source": [
    "<a href=\"https://colab.research.google.com/github/oughtinc/ergo/blob/master/notebooks/build/el-paso-workflow.ipynb\" target=\"_parent\"><img src=\"https://colab.research.google.com/assets/colab-badge.svg\" alt=\"Open In Colab\"/></a>"
   ]
  },
  {
   "cell_type": "markdown",
   "metadata": {},
   "source": [
    "# Setup"
   ]
  },
  {
   "cell_type": "code",
   "execution_count": null,
   "metadata": {},
   "outputs": [],
   "source": [
    "%%capture\n",
    "!pip install --progress-bar off poetry\n",
    "!pip install --progress-bar off git+https://github.com/oughtinc/ergo.git@547df64bb2fa95cf44825bd5834c0426fa8aa64b"
   ]
  },
  {
   "cell_type": "code",
   "execution_count": null,
   "metadata": {},
   "outputs": [],
   "source": [
    "import warnings\n",
    "import ssl\n",
    "warnings.filterwarnings(action=\"ignore\", category=FutureWarning)\n",
    "warnings.filterwarnings(action=\"ignore\", module=\"plotnine\")\n",
    "ssl._create_default_https_context = ssl._create_unverified_context"
   ]
  },
  {
   "cell_type": "code",
   "execution_count": null,
   "metadata": {},
   "outputs": [],
   "source": [
    "import ergo\n",
    "import seaborn\n",
    "\n",
    "import numpy as np\n",
    "import pandas as pd\n",
    "from datetime import timedelta, date\n",
    "import matplotlib.pyplot as plt\n",
    "\n",
    "pd.set_option('precision', 2)\n",
    "\n",
    "def summarize_samples(samples):\n",
    "    stats = samples.describe(percentiles=[0.05, 0.5, 0.95])\n",
    "    percentile = lambda pt: float(stats.loc[f\"{pt}%\"])\n",
    "    return f\"{percentile(50):.2f} ({percentile(5):.2f} to {percentile(95):.2f})\"\n",
    "\n",
    "def show_marginal(func):\n",
    "    samples = ergo.run(func, num_samples=1000)\n",
    "    seaborn.distplot(samples[\"output\"]).set_title(func.__doc__);\n",
    "    plt.show()\n",
    "    print(f\"Median {func.__doc__}: {summarize_samples(samples['output'])}\")"
   ]
  },
  {
   "cell_type": "markdown",
   "metadata": {},
   "source": [
    "# Choose a decision-relevant question"
   ]
  },
  {
   "cell_type": "markdown",
   "metadata": {},
   "source": [
    "## How many ventilators will be needed in El Paso?\n",
    "\n",
    "I want to predict on this question:\n",
    "\n",
    "> How many ventilators will be needed for COVID patients in El Paso county in May? (On the day when the most ventilators are needed, how many will be needed?)\n",
    "\n",
    "For this tutorial, we'll pretend that we're making the prediction at the end of April -- we'll only use information that we could have had at that time.\n",
    "\n",
    "Background:\n",
    "\n",
    "- El Paso is a county in Texas (population 850,000) that is dealing with the impacts of COVID-19.\n",
    "- The prediction site [Metaculus](https://www.metaculus.com) partnered with administrators at Texas Tech University Health Sciences Center to predict on questions that will guide decision making there.\n",
    "- This question is particularly decision-relevant: it's crucial to have enough ventilators for the patients who need them.\n",
    "\n",
    "## Loading question data from the Metaculus crowd prediction platform\n",
    "\n",
    "Ergo can load questions and make predictions on Metaculus, Foretold, and other crowd prediction sites.\n",
    "\n",
    "I'll load [the relevant question](https://pandemic.metaculus.com/questions/4204)* from Metaculus:"
   ]
  },
  {
   "cell_type": "code",
   "execution_count": null,
   "metadata": {},
   "outputs": [],
   "source": [
    "metaculus = ergo.Metaculus(username=\"oughtpublic\", password=\"123456\", api_domain=\"pandemic\")\n",
    "ventilators_question = metaculus.get_question(4201, name=\"# ventilators needed\")\n",
    "ventilators_question"
   ]
  },
  {
   "cell_type": "markdown",
   "metadata": {},
   "source": [
    "\\**Note: We're not asking exactly the same question as the Metaculus question. Most importantly, the Metaculus question is asking for the number of ventilators needed on a \"peak hospitalizations\" day that's defined in a complex way. To make things simpler, \n",
    "we're just asking how many ventilators are needed on the day when the most ventilators are needed.*"
   ]
  },
  {
   "cell_type": "markdown",
   "metadata": {},
   "source": [
    "# A guess"
   ]
  },
  {
   "cell_type": "markdown",
   "metadata": {},
   "source": [
    "I'll start by making an uninformed guess. I'll do this before I look at any data or anyone else's predictions. That way, I can look back to this guess to see what I learn as I go through the forecasting process."
   ]
  },
  {
   "cell_type": "markdown",
   "metadata": {},
   "source": [
    "What is my 90% confidence interval for the number of ventilators needed? I think there is a \n",
    "\n",
    "- less than 5% chance that <3 people will require ventilation\n",
    "- less than 5% chance that >100 people will require ventilation\n",
    "\n",
    "So I'll go with a 90% confidence interval of [3, 100].\n",
    "\n",
    "I don't know much about El Paso, ICUs, or ventilators. I feel pretty uncertain and assign non-negligible probability to higher values. I'll go with a [lognormal distribution](https://en.wikipedia.org/wiki/Log-normal_distribution), which will assign more probability to the \"long tail\" of higher values than would a normal distribution."
   ]
  },
  {
   "cell_type": "markdown",
   "metadata": {},
   "source": [
    "## Distributions in Ergo"
   ]
  },
  {
   "cell_type": "markdown",
   "metadata": {},
   "source": [
    "In Ergo, I can generate a single sample from this distribution like this:"
   ]
  },
  {
   "cell_type": "code",
   "execution_count": null,
   "metadata": {},
   "outputs": [],
   "source": [
    "ergo.lognormal_from_interval(3, 100)"
   ]
  },
  {
   "cell_type": "markdown",
   "metadata": {},
   "source": [
    "To get many samples, I use `ergo.run`:"
   ]
  },
  {
   "cell_type": "code",
   "execution_count": null,
   "metadata": {},
   "outputs": [],
   "source": [
    "def ventilators_needed():\n",
    "    \"# ventilators needed\"\n",
    "    return ergo.lognormal_from_interval(3, 100)\n",
    "\n",
    "samples = ergo.run(ventilators_needed, num_samples=1000)\n",
    "\n",
    "samples"
   ]
  },
  {
   "cell_type": "markdown",
   "metadata": {},
   "source": [
    "Why sample instead of manipulating distributions directly?\n",
    "\n",
    "As I build out my model, we'll see that: \n",
    "\n",
    "- Composing samplers is easy - it's just programming as usual\n",
    "- Composing probability distributions is hard - it's math\n",
    "\n",
    "I'll build up complex models by composing samplers."
   ]
  },
  {
   "cell_type": "markdown",
   "metadata": {},
   "source": [
    "## Visualizing distributions"
   ]
  },
  {
   "cell_type": "markdown",
   "metadata": {},
   "source": [
    "I can visualize these samples using my question's `show_prediction` method:"
   ]
  },
  {
   "cell_type": "code",
   "execution_count": null,
   "metadata": {},
   "outputs": [],
   "source": [
    "ventilators_question.show_prediction(samples)"
   ]
  },
  {
   "cell_type": "markdown",
   "metadata": {},
   "source": [
    "# Model V1: My guess"
   ]
  },
  {
   "cell_type": "markdown",
   "metadata": {},
   "source": [
    "I'll wrap my guess in a `Model` class so that I can more easily build on it step by step by inheriting from the class, adding more methods, and replacing methods with better implementations:"
   ]
  },
  {
   "cell_type": "code",
   "execution_count": null,
   "metadata": {},
   "outputs": [],
   "source": [
    "class ModelV1:\n",
    "    \n",
    "    def ventilators_needed(self):\n",
    "        \"# ventilators needed\"\n",
    "        return ergo.lognormal_from_interval(3, 100)\n",
    "\n",
    "    def run(self):\n",
    "        samples = ergo.run(self.ventilators_needed, num_samples=1000)\n",
    "        ventilators_question.show_prediction(samples[\"output\"]); plt.show()\n",
    "        print(f\"Median estimate of # ventilators needed: {summarize_samples(samples['output'])}\")"
   ]
  },
  {
   "cell_type": "markdown",
   "metadata": {},
   "source": [
    "This doesn't change the result:"
   ]
  },
  {
   "cell_type": "code",
   "execution_count": null,
   "metadata": {},
   "outputs": [],
   "source": [
    "ModelV1().run()"
   ]
  },
  {
   "cell_type": "markdown",
   "metadata": {},
   "source": [
    "It's still an uninformed guess."
   ]
  },
  {
   "cell_type": "markdown",
   "metadata": {},
   "source": [
    "# Model V2: Decompose ventilators needed"
   ]
  },
  {
   "cell_type": "markdown",
   "metadata": {},
   "source": [
    "## My decomposition\n",
    "\n",
    "My strategy for this question will be to break it into pieces and then improve my estimate for each piece.\n",
    "\n",
    "To estimate the maximum number of ventilators needed, I'll multiply the answers to:\n",
    "\n",
    "1. What's the maximum number of patients who will be in the ICU at once?\n",
    "2. What fraction of those patients will be on ventilators?\n",
    "\n",
    "So my decomposition looks like this:\n",
    "\n",
    "- \\# ventilators needed =\n",
    "  - max # icu patients *\n",
    "  - % of icu patients ventilated\n",
    " \n",
    "For both of these I'll make pretty uninformed guesses for now:\n",
    "\n",
    "1. I guess that about 5 to 200 people will be the maximum number of people in the ICU (but I have no idea)\n",
    "2. I'd guess that 1 out of 3 will need ventilators (but I have no idea)\n",
    "\n",
    "For ICU cases, I use the same `lognormal_from_interval` function I used above. I'll always show components of my model in blue and the overall model prediction in red:"
   ]
  },
  {
   "cell_type": "code",
   "execution_count": null,
   "metadata": {},
   "outputs": [],
   "source": [
    "def max_icu_patients():\n",
    "    \"max # icu patients\"\n",
    "    return ergo.lognormal_from_interval(5, 200)\n",
    "\n",
    "show_marginal(max_icu_patients)"
   ]
  },
  {
   "cell_type": "markdown",
   "metadata": {},
   "source": [
    "For ventilation need, I'll use a [beta-binomial distribution](http://varianceexplained.org/statistics/beta_distribution_and_baseball/):"
   ]
  },
  {
   "cell_type": "code",
   "execution_count": null,
   "metadata": {},
   "outputs": [],
   "source": [
    "def frac_icu_ventilated():\n",
    "    \"% of icu patients ventilated\"\n",
    "    return ergo.beta_from_hits(1, 3)"
   ]
  },
  {
   "cell_type": "markdown",
   "metadata": {},
   "source": [
    "This distribution looks like this:"
   ]
  },
  {
   "cell_type": "code",
   "execution_count": null,
   "metadata": {},
   "outputs": [],
   "source": [
    "show_marginal(frac_icu_ventilated)"
   ]
  },
  {
   "cell_type": "markdown",
   "metadata": {},
   "source": [
    "## My new model"
   ]
  },
  {
   "cell_type": "markdown",
   "metadata": {},
   "source": [
    "My model now looks like this:"
   ]
  },
  {
   "cell_type": "code",
   "execution_count": null,
   "metadata": {},
   "outputs": [],
   "source": [
    "class ModelV2(ModelV1):\n",
    "    \n",
    "    def ventilators_needed(self):\n",
    "        \"# ventilators needed\"\n",
    "        return self.frac_icu_ventilated() * self.max_icu_patients()   \n",
    "    \n",
    "    def max_icu_patients(self):\n",
    "        \"max # of icu patients\"\n",
    "        return ergo.lognormal_from_interval(5, 200)\n",
    "\n",
    "    def frac_icu_ventilated(self):\n",
    "        \"% of icu patients ventilated\"\n",
    "        return ergo.beta_from_hits(1, 3)"
   ]
  },
  {
   "cell_type": "markdown",
   "metadata": {},
   "source": [
    "This doesn't change the overall estimate much:"
   ]
  },
  {
   "cell_type": "code",
   "execution_count": null,
   "metadata": {},
   "outputs": [],
   "source": [
    "model_v2 = ModelV2()\n",
    "model_v2.run()"
   ]
  },
  {
   "cell_type": "markdown",
   "metadata": {},
   "source": [
    "# Model V3: Use external model for # of ICU patients"
   ]
  },
  {
   "cell_type": "markdown",
   "metadata": {},
   "source": [
    "So far, I've just made an uninformed guess about the maximum number of patients in the ICU.\n",
    "\n",
    "I could do more modeling myself to get a more accurate number, but it seems better to just use [this model](https://github.com/shaman-lab/COVID-19Projection)\n",
    "([paper](https://www.medrxiv.org/content/10.1101/2020.03.21.20040303v2)) from the Shaman lab at Columbia university.*"
   ]
  },
  {
   "cell_type": "markdown",
   "metadata": {},
   "source": [
    "\\**Note: the Columbia model directly makes predictions for how many ventilators will be needed, so it would be most sensible to just use those numbers directly. But, that wouldn't make for a very useful or informative tutorial. So instead, I'll pretend that the ventilator predictions don't exist, and I'll make my own based on the Columbia prediction for number of people in the ICU.*"
   ]
  },
  {
   "cell_type": "markdown",
   "metadata": {},
   "source": [
    "Our team made an interface to the Columbia projections, which I'll use here."
   ]
  },
  {
   "cell_type": "code",
   "execution_count": null,
   "metadata": {},
   "outputs": [],
   "source": [
    "from ergo.contrib.el_paso import shaman\n",
    "\n",
    "cu_projections = shaman.load_cu_projections(\"El Paso County TX\")"
   ]
  },
  {
   "cell_type": "markdown",
   "metadata": {},
   "source": [
    "## My new model"
   ]
  },
  {
   "cell_type": "markdown",
   "metadata": {},
   "source": [
    "Now I can change my model to use the Columbia projections rather than my guess from before:"
   ]
  },
  {
   "cell_type": "code",
   "execution_count": null,
   "metadata": {},
   "outputs": [],
   "source": [
    "class ModelV3(ModelV2):\n",
    "    def max_icu_patients(self):\n",
    "        \"max # of icu patients\"\n",
    "        return max(shaman.cu_projections_for_dates(\"ICU\", date(2020,5,1), date(2020,6,1), cu_projections))\n",
    "\n",
    "model_v3 = ModelV3()\n",
    "model_v3.run()"
   ]
  },
  {
   "cell_type": "markdown",
   "metadata": {},
   "source": [
    "### Why did my model results change?"
   ]
  },
  {
   "cell_type": "markdown",
   "metadata": {},
   "source": [
    "This makes the tail of # of ventilators needed considerably fatter. I can see that this is because the Columbia model has a much fatter tail for the max number of ICU patients than my previous guess had:\n",
    "\n",
    "#### 1. My previous guess for max ICU patients"
   ]
  },
  {
   "cell_type": "code",
   "execution_count": null,
   "metadata": {},
   "outputs": [],
   "source": [
    "show_marginal(model_v2.max_icu_patients)"
   ]
  },
  {
   "cell_type": "markdown",
   "metadata": {},
   "source": [
    "#### 2. The Columbia model prediction for max ICU patients"
   ]
  },
  {
   "cell_type": "code",
   "execution_count": null,
   "metadata": {},
   "outputs": [],
   "source": [
    "show_marginal(model_v3.max_icu_patients)"
   ]
  },
  {
   "cell_type": "markdown",
   "metadata": {},
   "source": [
    "# Model V4: Decompose fraction of ICU patients ventilated"
   ]
  },
  {
   "cell_type": "markdown",
   "metadata": {},
   "source": [
    "I want to improve my estimate for the fraction of ICU patients ventilated:\n",
    "\n",
    "- \\# ventilators needed =\n",
    "  - max # icu patients *\n",
    "  - **% of icu patients ventilated**\n",
    "  \n",
    "I can break it down as:\n",
    "- % of icu patients ventilated =\n",
    "  - \\% icu patients that need ventilation at some point while in the ICU *\n",
    "  - icu-ventilation adjustment\n",
    "  \n",
    "I'll skip guessing these values and just go ahead and use data to model them."
   ]
  },
  {
   "cell_type": "markdown",
   "metadata": {},
   "source": [
    "## Fraction of ICU patients that need ventilation at some point during their ICU stay\n",
    "\n",
    "I'll model this by looking at [data from publications](https://pandemic.metaculus.com/questions/4154/#comment-28155). This is the approach followed by PabloStafforini et al on Metaculus."
   ]
  },
  {
   "cell_type": "code",
   "execution_count": null,
   "metadata": {},
   "outputs": [],
   "source": [
    "def icu_receive_ventilation(self):\n",
    "    \"% icu patients that need ventilation at some point while in the ICU\"\n",
    "    ventilation_pseudocounts = 25 + 17 + 0.05 * 1150 + 0.1 * 132\n",
    "    icu_pseudocounts = 100 + 36 + 0.05 * 1300 + 0.1 * 196\n",
    "    return ergo.beta_from_hits(ventilation_pseudocounts, icu_pseudocounts)"
   ]
  },
  {
   "cell_type": "markdown",
   "metadata": {},
   "source": [
    "## ICU-ventilation adjustment\n",
    "\n",
    "### Why is this necessary?\n",
    "\n",
    "It might seem that I could just multiply `max # icu patients * % icu patients that need ventilation at some point while in the ICU` to get `ventilators needed`, but I cannot.\n",
    "\n",
    "To see this, first imagine that:\n",
    "1. There are 100 patients in the ICU\n",
    "2. 1/2 of ICU patients need ventilation at some point during their stay\n",
    "\n",
    "Then `max # icu patients * % icu patients that need ventilation at some point while in the ICU` = 50.\n",
    "\n",
    "`max # icu patients * % icu patients that need ventilation at some point while in the ICU` may give too high an estimate of ventilators needed. Imagine that:\n",
    "1. Patients who will need ventilation at some point during their ICU stay remain in the ICU for the same total amount of time as ICU patients who will never need ventilation\n",
    "2. ICU patients only need ventilation for 1/2 of their ICU stay\n",
    "\n",
    "In this scenario, in fact only 1/4 * 100 = 25 ICU patients will need ventilation at any one time.*"
   ]
  },
  {
   "cell_type": "markdown",
   "metadata": {},
   "source": [
    "\\**Note: Alternatively, `max # icu patients * % icu patients that need ventilation at some point while in the ICU` may give an underestimate. Imagine that:*\n",
    "1. *Patients who will need ventilation at some point during their ICU stay remain in the ICU 10 times as long as ICU patients who will not never need ventilation*\n",
    "2. *All ICU patients who need ventilation need it for their entire stay*\n",
    "\n",
    "*The math is a bit more complicated and I haven't done it, but hopefully it's clear that in fact almost all 100 of the patients will need ventilation at any given time.*"
   ]
  },
  {
   "cell_type": "markdown",
   "metadata": {},
   "source": [
    "### Making the adjustment\n",
    "\n",
    "My model needs some way to adjust for this complication. My guess is that this parameter won't actually have a huge impact, so I'll just guess that it's fairly close to 1:"
   ]
  },
  {
   "cell_type": "code",
   "execution_count": null,
   "metadata": {},
   "outputs": [],
   "source": [
    "def icu_ventilation_adjustment(self):\n",
    "    return ergo.lognormal_from_interval(0.5, 1.5)"
   ]
  },
  {
   "cell_type": "markdown",
   "metadata": {},
   "source": [
    "## My new model\n",
    "\n",
    "### New decomposition\n",
    "My new overall decomposition is:\n",
    "- \\# ventilators needed =\n",
    "  - max # icu patients *\n",
    "  - % of icu patients ventilated\n",
    "      - \\% icu patients that need ventilation at some point while in the ICU *\n",
    "      - icu-ventilation adjustment\n",
    "\n",
    "Updating my model with the new decomposition and submodels:"
   ]
  },
  {
   "cell_type": "code",
   "execution_count": null,
   "metadata": {},
   "outputs": [],
   "source": [
    "class ModelV4(ModelV3):\n",
    "    def icu_receive_ventilation(self):\n",
    "        \"% icu patients that need ventilation at some point while in the ICU\"\n",
    "        ventilation_pseudocounts = 25 + 17 + 0.05 * 1150 + 0.1 * 132\n",
    "        icu_pseudocounts = 100 + 36 + 0.05 * 1300 + 0.1 * 196\n",
    "        return ergo.beta_from_hits(ventilation_pseudocounts, icu_pseudocounts)\n",
    "    \n",
    "    def icu_ventilation_adjustment(self):\n",
    "        \"adjustment to the % of icu patients ventilated at some point to get the % currently ventilated\"\n",
    "        return ergo.lognormal_from_interval(0.5, 1.5)\n",
    "        \n",
    "    def frac_icu_ventilated(self):\n",
    "        \"% of icu patients ventilated\"\n",
    "        return self.icu_receive_ventilation() * self.icu_ventilation_adjustment()\n",
    "\n",
    "model_v4 = ModelV4()"
   ]
  },
  {
   "cell_type": "code",
   "execution_count": null,
   "metadata": {},
   "outputs": [],
   "source": [
    "model_v4.run()"
   ]
  },
  {
   "cell_type": "markdown",
   "metadata": {},
   "source": [
    "This doesn't change my prediction much."
   ]
  },
  {
   "cell_type": "markdown",
   "metadata": {},
   "source": [
    "# Model V5: Ensemble with community prediction"
   ]
  },
  {
   "cell_type": "markdown",
   "metadata": {},
   "source": [
    "In the previous model, I used a model based on data to predict the proportion of ICU patients that need ventilation at some point during their ICU stay.\n",
    "\n",
    "However, there's a Metaculus question for [what proportion of hospital patients will be admitted to the ICU](https://pandemic.metaculus.com/questions/4155/what-portion-of-in-hospital-cases-in-el-paso-county-will-require-admission-to-the-icu/), and another one for [what proportion of hospital patients will require ventilation](https://pandemic.metaculus.com/questions/4154/what-portion-of-in-hospital-patients-with-covid-19-in-el-paso-county-will-require-invasive-ventilation/).\n",
    "\n",
    "If I assume that all ventilated patients are in the ICU, I can do some simple math to get a Metaculus estimate for proportion of ICU patients ventilated:"
   ]
  },
  {
   "cell_type": "code",
   "execution_count": null,
   "metadata": {},
   "outputs": [],
   "source": [
    "icu_admit_per_hospital_admit_question = metaculus.get_question(4155)\n",
    "ventilation_per_hospital_admit = metaculus.get_question(4154)\n",
    "\n",
    "def metaculus_icu_receive_ventilation():\n",
    "    \"\"\"\n",
    "    The Metaculus community's implicit prediction for \n",
    "    % icu patients that need ventilation at some point while in the ICU\n",
    "    \"\"\"\n",
    "    icu_admit_per_hospital_admit_sample = icu_admit_per_hospital_admit_question.sample_community()\n",
    "    ventilation_per_hospital_admit_sample = ventilation_per_hospital_admit.sample_community()\n",
    "    \n",
    "    icu_clipped = max(icu_admit_per_hospital_admit_sample, 0.01)\n",
    "    ventilated_clipped = max(ventilation_per_hospital_admit_sample, 0.01)\n",
    "    \n",
    "    return ventilated_clipped / icu_clipped"
   ]
  },
  {
   "cell_type": "markdown",
   "metadata": {},
   "source": [
    "Comparing to my model:"
   ]
  },
  {
   "cell_type": "code",
   "execution_count": null,
   "metadata": {},
   "outputs": [],
   "source": [
    "num_samples = 100\n",
    "metaculus_samples = [metaculus_icu_receive_ventilation() for _ in range(num_samples)]\n",
    "seaborn.distplot(metaculus_samples)\n",
    "\n",
    "model_samples = ergo.run(model_v4.icu_receive_ventilation, num_samples=num_samples)\n",
    "seaborn.distplot(model_samples).set_title(model_v4.icu_receive_ventilation.__doc__)\n",
    "plt.legend(labels=[\"Metaculus\", \"My model\"])\n",
    "plt.show();"
   ]
  },
  {
   "cell_type": "markdown",
   "metadata": {},
   "source": [
    "The implicit community prediction is similar to my model prediction, but much less confident.\n",
    "\n",
    "## My new model - now with ensembling!\n",
    "I can combine my prediction and the community prediction into an ensembled prediction. I'll sample from the metaculus community prediction half the time, and from the Metaculus community prediction half the time."
   ]
  },
  {
   "cell_type": "code",
   "execution_count": null,
   "metadata": {},
   "outputs": [],
   "source": [
    "class ModelV5(ModelV4):\n",
    "    def my_model_icu_receive_ventilation(self):\n",
    "        \"% icu patients that need ventilation at some point while in the ICU\"\n",
    "        ventilation_pseudocounts = 25 + 17 + 0.05 * 1150 + 0.1 * 132\n",
    "        icu_pseudocounts = 100 + 36 + 0.05 * 1300 + 0.1 * 196\n",
    "        return ergo.beta_from_hits(ventilation_pseudocounts, icu_pseudocounts)\n",
    "    \n",
    "    def metaculus_icu_receive_ventilation(self):\n",
    "        \"\"\"\n",
    "        The Metaculus community's implicit prediction for \n",
    "        % icu patients that need ventilation at some point while in the ICU\n",
    "        \"\"\"\n",
    "        icu_admit_per_hospital_admit_sample = icu_admit_per_hospital_admit_question.sample_community()\n",
    "        ventilation_per_hospital_admit_sample = ventilation_per_hospital_admit.sample_community()\n",
    "\n",
    "        icu_clipped = max(icu_admit_per_hospital_admit_sample, 0.01)\n",
    "        ventilated_clipped = max(ventilation_per_hospital_admit_sample, 0.01)\n",
    "\n",
    "        return ventilated_clipped / icu_clipped\n",
    "    \n",
    "    def icu_receive_ventilation(self):\n",
    "        \"% icu patients that need ventilation at some point while in the ICU\"\n",
    "        # use the community prediction half the time, my model half the time \n",
    "        if ergo.flip(0.5):\n",
    "            return self.metaculus_icu_receive_ventilation()\n",
    "        else:\n",
    "            return self.my_model_icu_receive_ventilation()\n",
    "\n",
    "model_v5 = ModelV5()"
   ]
  },
  {
   "cell_type": "code",
   "execution_count": null,
   "metadata": {},
   "outputs": [],
   "source": [
    "model_v5.run()"
   ]
  },
  {
   "cell_type": "markdown",
   "metadata": {},
   "source": [
    "### Marginals"
   ]
  },
  {
   "cell_type": "markdown",
   "metadata": {},
   "source": [
    "This is my last model, so let's also take a look at all the predictions for its marginals (the steps in the decomposition):"
   ]
  },
  {
   "cell_type": "code",
   "execution_count": null,
   "metadata": {},
   "outputs": [],
   "source": [
    "show_marginal(model_v5.max_icu_patients)"
   ]
  },
  {
   "cell_type": "code",
   "execution_count": null,
   "metadata": {},
   "outputs": [],
   "source": [
    "show_marginal(model_v5.frac_icu_ventilated)"
   ]
  },
  {
   "cell_type": "code",
   "execution_count": null,
   "metadata": {},
   "outputs": [],
   "source": [
    "show_marginal(model_v5.icu_receive_ventilation)"
   ]
  },
  {
   "cell_type": "code",
   "execution_count": null,
   "metadata": {},
   "outputs": [],
   "source": [
    "show_marginal(model_v5.icu_ventilation_adjustment)"
   ]
  },
  {
   "cell_type": "markdown",
   "metadata": {},
   "source": [
    "# Review"
   ]
  },
  {
   "cell_type": "markdown",
   "metadata": {},
   "source": [
    "My original question was:\n",
    "\n",
    "> How many ventilators will be needed for COVID patients in El Paso county in May?\n",
    "\n",
    "We broke it down as follows:\n",
    "\n",
    "- \\# ventilators needed\n",
    "  - max # icu patients  *\n",
    "  - % of icu patients ventilated\n",
    "      - \\% icu patients that need ventilation at some point while in the ICU *\n",
    "      - icu-ventilation adjustment\n",
    "\n",
    "The final answer and the value for each parameter in the breakdown are given in the graphs above."
   ]
  },
  {
   "cell_type": "markdown",
   "metadata": {},
   "source": [
    "# Exercises for the reader\n",
    "\n",
    "Some questions to help you think through and extend my model:\n",
    "\n",
    "1. What did I change about the model at each step and how did that affect my prediction? Do you think the change in my prediction is likely to be an improvement?\n",
    "\n",
    "2. How could I decompose the question further or use better data/submodels to make a better prediction?\n",
    "  \n",
    "  a. How could I make a data/model based prediction for `icu-ventilation adjustment` instead of making a guess?\n",
    "\n",
    "  b. How could I make better use of the Metaculus community predictions to estimate `% icu patients that need ventilation at some point while in the ICU`? Does it make sense to sample from each of the 2 Metaculus questions independently of the other?\n",
    "\n",
    "3. What assumptions does the model make that might be unwarranted?\n",
    "  \n",
    "  a. What does the model assume about the relationship between the number of patients in the ICU on a given day, and the proportion of those patients who need to be ventilated?\n",
    "\n",
    "4. The final model is currently extremely uncertain.\n",
    "  \n",
    "  a. Why?\n",
    "\n",
    "  b. Is that uncertainty warranted?\n",
    "\n",
    "  c. How could you reduce it in a reasonable way?"
   ]
  }
 ],
 "metadata": {
  "jupytext": {
   "cell_metadata_filter": "-all",
   "main_language": "python",
   "notebook_metadata_filter": "-all"
  }
 },
 "nbformat": 4,
 "nbformat_minor": 4
}
