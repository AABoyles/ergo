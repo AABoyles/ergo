{
  "cells": [
    {
      "cell_type": "markdown",
      "metadata": {
      },
      "source": [
        "# Setup\n\n"
      ]
    },
    {
      "cell_type": "code",
      "execution_count": 1,
      "metadata": {
      },
      "outputs": [],
      "source": [
        "%%capture\n%pip install poetry\n%pip install git+https://github.com/oughtinc/ergo.git@993c959d4b5dc5b398f02b842407814b79619a42\n%pip install xlrd"
      ]
    },
    {
      "cell_type": "code",
      "execution_count": 1,
      "metadata": {
      },
      "outputs": [],
      "source": [
        "%load_ext google.colab.data_table"
      ]
    },
    {
      "cell_type": "code",
      "execution_count": 1,
      "metadata": {
      },
      "outputs": [],
      "source": [
        "%%capture\nimport ergo\nimport numpy as np\nimport pandas as pd\nimport ssl\nimport math\nimport datetime\nimport warnings\nimport functools\nfrom datetime import timedelta, date\nfrom ergo.contrib.el_paso import *"
      ]
    },
    {
      "cell_type": "code",
      "execution_count": 1,
      "metadata": {
      },
      "outputs": [],
      "source": [
        "warnings.filterwarnings(module=\"plotnine\", action=\"ignore\")\nwarnings.filterwarnings(module=\"jax\", action=\"ignore\")\nssl._create_default_https_context = ssl._create_unverified_context"
      ]
    },
    {
      "cell_type": "code",
      "execution_count": 1,
      "metadata": {
      },
      "outputs": [],
      "source": [
        "metaculus = ergo.Metaculus(\n    username=\"oughtpublic\", \n    password=\"123456\",\n    api_domain = \"pandemic\"\n)"
      ]
    },
    {
      "cell_type": "markdown",
      "metadata": {
      },
      "source": [
        "# Ergo extensions\n\n"
      ]
    },
    {
      "cell_type": "markdown",
      "metadata": {
      },
      "source": [
        "We'll define some helper functions that might get moved into Ergo in the\nfuture.\n\n"
      ]
    },
    {
      "cell_type": "code",
      "execution_count": 1,
      "metadata": {
      },
      "outputs": [],
      "source": [
        "START_DATE = date(2020, 4, 1)\n\n\ndef daterange(start_date, end_date):\n    for n in range(int((end_date - start_date).days)):\n        yield start_date + timedelta(n)\n\n\n# Rejection sampling\n\ndef rejection_sample(fn, condition):\n    \"\"\"\n    Sample from fn until we get a value that satisfies\n    condition, then return it.\n    \"\"\"\n    while True:        \n        value = fn()\n        if condition(value):\n            return value\n\n\n# Memoization\n\nmemoized_functions = []\n\ndef mem(func):\n    func = functools.lru_cache(None)(func)\n    memoized_functions.append(func)\n    return func\n\ndef clear_mem():\n    for func in memoized_functions:\n        func.cache_clear()\n\n\n# Associate models with questions\n\n# We'll add a sampler here for each question we predict on. \n# Each sampler is a function that returns a single sample\n# from our model predicting on that question.\nsamplers = {}\n\ndef question(question_id, community_weight=0, community_fn=None):\n    q = metaculus.get_question(question_id)\n\n    def decorator(func):\n        tag = func.__name__\n\n        @functools.wraps(func)\n        @mem\n        def sampler():\n            if ergo.flip(community_weight):\n                if community_fn:\n                    value = community_fn()\n                else:\n                    value = q.sample_community()\n            else:\n                value = func()\n            if isinstance(value, date):\n                # FIXME: Ergo needs to handle dates\n                ergo.tag(int((value - START_DATE).days), tag)\n            else:\n                ergo.tag(value, tag)\n            return value\n        sampler.question = q\n        samplers[q.id] = sampler\n        return sampler\n    return decorator\n\ndef summarize_question_samples(samples):\n    sampler_tags = [sampler.__name__ for sampler in samplers.values()]\n    tags_to_show = [tag for tag in sampler_tags if tag in samples.columns]\n    samples_to_show = samples[tags_to_show]\n    summary = samples_to_show.describe().transpose().round(2)\n    display(summary)\n\n\ndef sample_from_ensemble(models, weights):\n    \"\"\"\n    Sample models in proportion to weights\n    \"\"\"\n    return lambda : ergo.random_choice(models, weights)\n\n\ndef plot_question(sampler, num_samples=200, bw=None):\n  def model():\n      clear_mem()\n      sampler()\n\n  samples = ergo.run(model, num_samples=num_samples)\n\n  summarize_question_samples(samples)\n\n  q = sampler.question\n\n  q_samples = samples[sampler.__name__]\n\n  if q.id == 4128: # Date question: Need to convert back to date from days (https://github.com/oughtinc/ergo/issues/144)\n      q_samples = np.array([START_DATE + timedelta(s) for s in q_samples])\n\n  if bw is not None:\n      q.show_prediction(samples=q_samples, show_community=True, percent_kept=0.9, bw=bw)\n  else:\n      q.show_prediction(samples=q_samples, show_community=True, percent_kept=0.9)"
      ]
    },
    {
      "cell_type": "markdown",
      "metadata": {
      },
      "source": [
        "# External data (cases, estimates, models)\n\n"
      ]
    },
    {
      "cell_type": "markdown",
      "metadata": {
      },
      "source": [
        "## Texas government cases data\n\n"
      ]
    },
    {
      "cell_type": "code",
      "execution_count": 1,
      "metadata": {
      },
      "outputs": [],
      "source": [
        "el_paso_cases = texas_data.get_el_paso_data()\n\nel_paso_cases"
      ]
    },
    {
      "cell_type": "markdown",
      "metadata": {
      },
      "source": [
        "## @onlyasith's cases model\n\n"
      ]
    },
    {
      "cell_type": "markdown",
      "metadata": {
      },
      "source": [
        "Pulled from\n[here](https://docs.google.com/spreadsheets/d/1L6pzFAEJ6MfnUwt-ea6tetKyvdi0YubnK_70SGm436c/edit#gid=1807978187)\n\n"
      ]
    },
    {
      "cell_type": "code",
      "execution_count": 1,
      "metadata": {
      },
      "outputs": [],
      "source": [
        "projected_cases = onlyasith.get_onlyasith_results()\n\nprojected_cases"
      ]
    },
    {
      "cell_type": "markdown",
      "metadata": {
      },
      "source": [
        "## Shaman et al. model of confirmed cases\n\n"
      ]
    },
    {
      "cell_type": "markdown",
      "metadata": {
      },
      "source": [
        "[research\narticle](https://www.medrxiv.org/content/10.1101/2020.03.21.20040303v2)\n\nPulled from [here](https://github.com/shaman-lab/COVID-19Projection)\n\n"
      ]
    },
    {
      "cell_type": "code",
      "execution_count": 1,
      "metadata": {
      },
      "outputs": [],
      "source": [
        "scenarios = [\"Projection_nointerv\", \"Projection_60contact\", \"Projection_70contact\", \"Projection_80contact\"]\ncu_model_data = {}\nfor scenario in scenarios:\n  df = pd.read_csv(f\"https://raw.githubusercontent.com/shaman-lab/COVID-19Projection/master/Projection_April26/{scenario}.csv\", parse_dates=[\"Date\"])\n  df = df[df.county == \"El Paso County TX\"]\n  df[\"Date\"] = df[\"Date\"].apply(lambda x: x.date())\n  df.set_index(\"Date\", inplace = True)\n\n  cu_model_data[scenario] = df\n\n@mem\ndef cu_model_scenario():\n  \"\"\"Which of the model scenarios are we in?\"\"\"\n  return ergo.random_choice([s for s in cu_model_data.keys()])\n\n@mem\ndef cu_model_quantile():\n  \"\"\"Where in the distribution of model outputs are we for this model run?\n\n  Want to be consistent across time, so we sample it once per model run\"\"\"\n  return ergo.uniform()"
      ]
    },
    {
      "cell_type": "markdown",
      "metadata": {
      },
      "source": [
        "## @KrisMoore's compiled data\n\n"
      ]
    },
    {
      "cell_type": "markdown",
      "metadata": {
      },
      "source": [
        "Pulled from\n[here](https://docs.google.com/spreadsheets/d/1eGF9xYmDmvAkr-dCmd-N4efHzPyYEfVl0YmL9zBvH9Q/edit#gid=1694267458)\n\n"
      ]
    },
    {
      "cell_type": "code",
      "execution_count": 1,
      "metadata": {
      },
      "outputs": [],
      "source": [
        "compiled_data = krismoore.get_krismoore_data()\n\ncompiled_data"
      ]
    },
    {
      "cell_type": "markdown",
      "metadata": {
      },
      "source": [
        "## @brachbach model (cases -> hospitalized)\n\n"
      ]
    },
    {
      "cell_type": "code",
      "execution_count": 1,
      "metadata": {
      },
      "outputs": [],
      "source": [
        "get_daily_hospital_confirmed = brachbach.get_daily_hospital_confirmed"
      ]
    },
    {
      "cell_type": "markdown",
      "metadata": {
      },
      "source": [
        "# Model components\n\n"
      ]
    },
    {
      "cell_type": "markdown",
      "metadata": {
      },
      "source": [
        "Many of the Metaculus questions are asking to quantify the result of\ncomplex causal processes. To answer 'How many total patients are in\nthe ICU on [date]?' requires a specification of which factors lead to\nan ICU patient&#x2014;from the societal processes that are adopted ->\nexposure risk -> disease development trajectory -> number of icu\npatients. We adopt the approach of trying to explicitly specify the\ncausal process underlying each question. In this section we model some\nof the relevant variables we will make use of in the next section's\nmodels. We will take an ensemble of models approach. We will therefore\nsometimes specify multiple models for each variable we are interested\nin. These models can be mixed together to (hopefully) result in more\nrobust predictions.  Ultimately the mixture parameter would be a\nrandom variable conditioned on the model's success. At the moment it\nis a parameter for the modeler to explicitly tune.\n\n"
      ]
    },
    {
      "cell_type": "markdown",
      "metadata": {
      },
      "source": [
        "## Daily Infections\n\n"
      ]
    },
    {
      "cell_type": "markdown",
      "metadata": {
      },
      "source": [
        "Shaman Model\n\n"
      ]
    },
    {
      "cell_type": "code",
      "execution_count": 1,
      "metadata": {
      },
      "outputs": [],
      "source": [
        "def daily_infections_cu_model(date: date) -> int:\n    \"\"\"\n    Predict the number of reported (new) Covid-19 infections on [date]\n    using the Columbia model\n    \"\"\"\n    scenario = cu_model_scenario()\n    quantile = cu_model_quantile()\n\n    # Extract quantiles of the model distribution\n    xs = np.array([0.025, 0.25, 0.5, 0.75, 0.975])\n    ys = np.array([\n        cu_model_data[scenario][s][date] for s in [\"report_2.5\", \"report_25\", \"report_50\", \"report_75\", \"report_97.5\"]\n    ])\n    # Linearly interpolate\n    return np.interp(quantile, xs, ys)"
      ]
    },
    {
      "cell_type": "markdown",
      "metadata": {
      },
      "source": [
        "onlyasith model+\n\n"
      ]
    },
    {
      "cell_type": "code",
      "execution_count": 1,
      "metadata": {
      },
      "outputs": [],
      "source": [
        "@mem\ndef daily_infections_base_model(date: date) -> int:\n    \"\"\"\n    What is the number of reported (new) Covid-19 infections on [date]?\n    \"\"\"\n    try:\n        # Look up projections from @onlyasith's model\n        cases = projected_cases.loc[date, \"New cases\"]\n        if np.isnan(cases):\n            raise KeyError\n\n        # Add some (fairly arbitrary) uncertainty around this point estimate\n        if cases == 0:\n          return cases\n      cases_estimate = ergo.lognormal_from_interval(cases * 0.8, cases * 1.2)\n        return np.clip(cases_estimate, cases * 0.5, cases * 2)\n        except KeyError:\n            # We're beyond the time range for data and model"
      ]
    },
    {
      "cell_type": "markdown",
      "metadata": {
      },
      "source": [
        "Sample from ensemble\n\n"
      ]
    },
    {
      "cell_type": "code",
      "execution_count": 1,
      "metadata": {
      },
      "outputs": [],
      "source": [
        "def predict_daily_infections(date: date) -> int:\n    \"\"\"\n    Predict the number of reported (new) Covid-19 infections on [date].\n    \"\"\"\n\n    @mem\n    def get_infections_models_by_preference():\n      \"\"\"\n      Set a primary and secondary model.\n      We need the secondary model to fail over toin case the primary model is missing data.\n      Memoize this preference ordering so that we use the same primary model\n      throughout any given run.\n      \"\"\"\n      if ergo.flip(0.7):\n        return [predict_daily_infections_cu_model, lambda date: onlyasith_cases.loc[date, \"New cases\"]]\n\n      return [lambda date: onlyasith_cases.loc[date, \"New cases\"], predict_daily_infections_cu_model]\n\n    models_by_preference = get_infections_models_by_preference()\n\n    for model in models_by_preference:\n      try:\n        infections = model(date)\n        if np.isnan(infections):\n          raise KeyError\n        return int(round(infections))\n      except KeyError:\n        continue\n\n    return 0\n\n@mem\ndef daily_infections(date: date) -> int:\n    \"\"\"\n    What is the number of reported (new) Covid-19 infections on [date]?\n    \"\"\"\n    try:\n      new_cases = el_paso_cases.loc[date, \"New cases\"]\n      if np.isnan(new_cases):\n        raise KeyError\n      return new_cases\n    except KeyError:\n      return predict_daily_infections(date)"
      ]
    },
    {
      "cell_type": "markdown",
      "metadata": {
      },
      "source": [
        "### Case-based variables (mean, sma, peak)\n\n"
      ]
    },
    {
      "cell_type": "code",
      "execution_count": 1,
      "metadata": {
      },
      "outputs": [],
      "source": [
        "@mem\ndef mean_infections(start_date: date, end_date: date):\n    \"\"\"\n    What is the average number of reported new infections for this range of \n    dates? (Including start date, excluding end date)\n    \"\"\"\n    days = daterange(start_date, end_date)\n    return np.mean([daily_infections_v0(day) for day in days])"
      ]
    },
    {
      "cell_type": "code",
      "execution_count": 1,
      "metadata": {
      },
      "outputs": [],
      "source": [
        "@mem\n  def sma_infections(date: date):\n      \"\"\"\n      The simple moving average of infections for a date.\n      \n      Defined in https://pandemic.metaculus.com/questions/4128:\n      \n      'The 2-day SMA is defined as the unweighted average (arithmetic mean)\n      over the current day and the previous day.'\n      \"\"\"\n      return mean_infections(date - timedelta(1), date + timedelta(1))\n\n#+BEGIN_SRC python\n  @mem\n  def peak_compatible_with_historical_data(peak_date):\n      if not peak_date in el_paso_cases.index:\n          return True\n      for comparison_date in daterange(START_DATE, peak_date + timedelta(11)):\n          if comparison_date not in el_paso_cases.index:\n              continue\n          if sma_infections(comparison_date) > sma_infections(peak_date):\n              return False\n          if sma_infections(comparison_date) == sma_infections(peak_date) and comparison_date > peak_date:\n              return False\n      return True\n\n\n@mem\ndef peak_infection_date_community():\n    \"\"\"\n    The community assigns probability to some dates in the past\n    that we already know were not the peak.\n    So instead of sampling from the full community distribution,\n    sample from the portion of the community distribution\n    that is plausibly correct.\n    \"\"\"    \n    peak_date = rejection_sample(\n        peak_infection_date.question.sample_community, \n        peak_compatible_with_historical_data)\n    return peak_date"
      ]
    },
    {
      "cell_type": "markdown",
      "metadata": {
      },
      "source": [
        "## Confirmed Hospital Patients\n\n"
      ]
    },
    {
      "cell_type": "markdown",
      "metadata": {
      },
      "source": [
        "Model from Shaman et al.\n\n"
      ]
    },
    {
      "cell_type": "code",
      "execution_count": 1,
      "metadata": {
      },
      "outputs": [],
      "source": [
        "@mem\ndef get_hospital_confirmed_from_daily_infected_model():\n\n    # from https://penn-chime.phl.io/\n    hospital_stay_days_point_estimate = 7\n\n    hospital_stay_days_fuzzed = round(\n        float(ergo.normal_from_interval(\n            hospital_stay_days_point_estimate * 0.5,\n            hospital_stay_days_point_estimate * 1.5\n        ))\n    )\n\n    hospital_stay_days = max(1, hospital_stay_days_fuzzed)\n\n    has_hospital_confirmed = compiled_data[compiled_data[\"In hospital confirmed\"].notna()]\n\n    data_dates = has_hospital_confirmed.index\n\n    # for each date for which we have data for how many lab-confirmed COVID patients were in the hospital,\n    # how many new confirmed cases were there over the past hospital_stay_days days?\n    def get_recent_infected_data(date):\n      return sum([daily_infections_v0(date - timedelta(n))\n        for n in range(0, hospital_stay_days)])\n\n    recent_infected_data = [[get_recent_infected_data(date)]\n      for date in data_dates]\n\n    reg = LinearRegression(fit_intercept=False).fit(\n        recent_infected_data,\n        has_hospital_confirmed[\"In hospital confirmed\"])\n\n    # TODO: consider adding uncertainty to the fit here\n\n    # now that we've related current hospitalized cases and recent confirmed cases,\n    # return a function that allows us to predict hospitalized cases given estimates\n    # of future confirmed cases\n    def hospital_confirmed_from_daily_infected_model(date: date):\n      recent_infected = sum([daily_infections_v0(date - timedelta(n))\n        for n in range(0, hospital_stay_days)])\n      return int(round(reg.predict([[recent_infected]])[0]))\n\n    return hospital_confirmed_from_daily_infected_model\n\n@mem\ndef hospital_confirmed_for_date(date: date) -> int:\n    \"\"\"\n    The total number of lab-confirmed COVID-19 \n    patients in El Paso County in the hospital on this date\n    \"\"\"\n\n    # We predict the number of lab-confirmed COVID patients\n    # in the hospital on some date\n    # as some multiple of the number of new confirmed COVID cases\n    # over the past 7 or so days\n    # (since someone who gets admitted to the hospital for COVID\n    # will probably stay there for 7 or so days)\n\n    hospital_confirmed_from_daily_infected_model = get_hospital_confirmed_from_daily_infected_model()\n\n    try:\n      new_hospital_confirmed = compiled_data.loc[date, \"In hospital confirmed\"]\n      if np.isnan(new_hospital_confirmed):\n        raise KeyError\n      return new_hospital_confirmed\n    except KeyError:\n      return hospital_confirmed_from_daily_infected_model(date)"
      ]
    },
    {
      "cell_type": "markdown",
      "metadata": {
      },
      "source": [
        "@brachbach model\n\n"
      ]
    },
    {
      "cell_type": "code",
      "execution_count": 1,
      "metadata": {
      },
      "outputs": [],
      "source": [
        "# Build @brachbach model\nhospital_confirmed_from_daily_infected_model = get_daily_hospital_confirmed(compiled_data, daily_infections)\n\n@mem\ndef hospital_confirmed_for_date(date: date) -> int:\n    \"\"\"\n    The total number of lab-confirmed COVID-19 patients in El Paso County in\n    the hospital on this date\n    \"\"\"\n    try:\n        # Look up in-hospital confirmed cases from @KrisMoore's compiled data\n        new_hospital_confirmed = compiled_data.loc[date, \"In hospital confirmed\"]\n        if np.isnan(new_hospital_confirmed):\n            raise KeyError\n        return new_hospital_confirmed\n    except KeyError:\n        try:\n            # Get point estimate from @brachbach's regression model\n            cases = hospital_confirmed_from_daily_infected_model(date)\n\n            # Add some (fairly arbitrary) uncertainty around this point estimate\n            if cases == 0:\n              return cases\n            cases_estimate = ergo.lognormal_from_interval(cases * 0.8, cases * 1.2)\n            return np.clip(cases_estimate, cases * 0.5, cases * 2)\n        except KeyError:\n            return 0"
      ]
    },
    {
      "cell_type": "markdown",
      "metadata": {
      },
      "source": [
        "## Proportion ICU admissions requiring ventilation\n\n"
      ]
    },
    {
      "cell_type": "code",
      "execution_count": 1,
      "metadata": {
      },
      "outputs": [],
      "source": [
        "@mem\ndef frac_icu_ventilation():\n    \"\"\"\n    Proportion of ICU admissions requiring ventilation\n\n    Approach (PabloStafforini et al): \n    https://pandemic.metaculus.com/questions/4154/#comment-28155\n\n    TODO: \n    - Improve how we use case data\n    - Add qualitative adjustments\n    \"\"\"\n    ventilation_pseudocounts = 25 + 17 + 0.05 * 1150 + 0.1 * 132\n    icu_pseudocounts = 100 + 36 + 0.05 * 1300 + 0.1 * 196\n    return ergo.beta_from_hits(ventilation_pseudocounts, icu_pseudocounts)"
      ]
    },
    {
      "cell_type": "markdown",
      "metadata": {
      },
      "source": [
        "# El Paso questions\n\n"
      ]
    },
    {
      "cell_type": "code",
      "execution_count": 1,
      "metadata": {
      },
      "outputs": [],
      "source": [
        "@question(4128, community_weight=0.5, community_fn=peak_infection_date_community)\ndef peak_infection_date() -> date:\n    \"\"\"\n    When will El Paso County, Texas, experience its first peak number of COVID\n    infections?\n    \n    From https://pandemic.metaculus.com/questions/4128:\n    'This question resolves as the date for which\n    the 2-day simple moving average(SMA) of the number of reported new infections\n    is strictly greater than the 2-day SMA over the subsequent 10 days.'\n    \"\"\"\n    end_date = date(2020, 7, 1)\n    for today in daterange(START_DATE, end_date):\n        sma_today = sma_infections(today)\n        future_smas = [sma_infections(today + timedelta(i)) for i in range(1,11)]\n        if sma_today > max(future_smas):\n            return today\n    return end_date\n\nplot_question(peak_infection_date)"
      ]
    },
    {
      "cell_type": "code",
      "execution_count": 1,
      "metadata": {
      },
      "outputs": [],
      "source": [
        "@question(4137, community_weight=0.5)\ndef peak_infections():\n    \"\"\"\n    How many new infections will be reported in El Paso on the day on which\n    the number of new reported infections peaks?\n    \"\"\"\n    peak = peak_infection_date()\n    return daily_infections(peak)\nplot_question(peak_infections)"
      ]
    },
    {
      "cell_type": "code",
      "execution_count": 1,
      "metadata": {
      },
      "outputs": [],
      "source": [
        "@question(4152, community_weight=0.5)\ndef mean_infections_peak345():\n    \"\"\"\n    What will the average number of reported daily infections be in El Paso,\n    over the 3rd, 4th and 5th days after the first \"peak\"?\n    \"\"\"\n    peak = peak_infection_date()\n    return mean_infections(peak + timedelta(3), peak + timedelta(6))\nplot_question(mean_infections_peak345)"
      ]
    },
    {
      "cell_type": "code",
      "execution_count": 1,
      "metadata": {
      },
      "outputs": [],
      "source": [
        "@question(4170, community_weight=0.8)\ndef mean_infections_peak678():\n    \"\"\"\n    What will the average number of reported daily infections be in El Paso,\n    over the 6th, 7th and 8th days after the first \"peak\"?  \n    \"\"\"\n    peak = peak_infection_date()\n    return mean_infections(peak + timedelta(6), peak + timedelta(9))\nplot_question(mean_infections_peak678)"
      ]
    },
    {
      "cell_type": "code",
      "execution_count": 1,
      "metadata": {
      },
      "outputs": [],
      "source": [
        "@question(4155, community_weight=0.7)\ndef frac_patients_icu():\n    \"\"\"\n    What portion of in-hospital cases in El Paso County will require admission\n    to the ICU?\n\n    Following @katifish's approach:\n    https://pandemic.metaculus.com/questions/4155/#comment-28054\n\n    TODO: Add others from katifish comment\n    \"\"\"\n    alpha = 0.1 # Rescaling counts becase we're more uncertain than implied by counts\n    return ergo.random_choice([\n      ergo.beta_from_hits(alpha * 121, alpha * 508),\n      ergo.beta_from_hits(alpha * 181, alpha * 507),\n    ])\nplot_question(frac_patients_icu)"
      ]
    },
    {
      "cell_type": "code",
      "execution_count": 1,
      "metadata": {
      },
      "outputs": [],
      "source": [
        "@question(4154, community_weight=0.3)\ndef frac_patients_invasive():\n    \"\"\"\n    What portion of in-hospital patients with Covid-19 in El Paso County will\n    require invasive ventilation?\n\n    Following @PabloStafforini's indirect estimation approach:\n    https://pandemic.metaculus.com/questions/4154/#comment-28155\n\n    TODO:\n    - Combine with direct estimate\n      direct_estimate = ergo.beta_from_hits(0.1 * 130, 0.1 * 393)\n    \"\"\"\n    return frac_patients_icu() * frac_icu_ventilation()\nplot_question(frac_patients_invasive)"
      ]
    },
    {
      "cell_type": "code",
      "execution_count": 1,
      "metadata": {
      },
      "outputs": [],
      "source": [
        "@question(4153, community_weight=0.3)\ndef max_30d_hospital_confirmed_for_peak():\n    \"\"\"\n    What will the maximum number of in-hospital lab-confirmed COVID-19 \n    patients in El Paso County, in the 30-day period during which the \"peak\"\n    occurs?\n    \"\"\"\n    peak = peak_infection_date()\n    days = daterange(peak - timedelta(15), peak + timedelta(15))\n    return max(hospital_confirmed_for_date(day) for day in days)\n\nplot_question(max_30d_hospital_confirmed_for_peak, bw=0.01)"
      ]
    },
    {
      "cell_type": "code",
      "execution_count": 1,
      "metadata": {
      },
      "outputs": [],
      "source": [
        "@question(4204)\ndef peak_icu_admissions():\n    \"\"\"\n    How many patients with Covid-19 in El Paso County will be admitted to the\n    ICU on the day when the number of hospital admissions of cases peak?\n\n    Following @Tamay's approach:\n    https://pandemic.metaculus.com/questions/4204/\n\n    Alternative:    \n    - peak = peak_hospitalizations_date()\n    - return daily_icu_admissions(peak)\n\n    FIXME: Admissions vs in-hospital patients unclear\n\n    Not mixing in community since this is just the product of two other questions.    \n    \"\"\"\n    max_patients = max_30d_hospital_confirmed_for_peak()\n    return max_patients * frac_patients_icu()\nplot_question(peak_icu_admissions)"
      ]
    },
    {
      "cell_type": "code",
      "execution_count": 1,
      "metadata": {
      },
      "outputs": [],
      "source": [
        "@question(4201)\ndef peak_invasive_ventilation():\n    \"\"\"\n    How many patients with Covid-19 in El Paso County will require invasive \n    ventilation on the day when the number of hospital admissions of cases \n    peak?\n\n    Following @Tamay's approach:\n    https://pandemic.metaculus.com/questions/4201/#comment-28004\n\n    Not mixing in community since this is just the product of two other questions.\n    \"\"\"\n    return frac_icu_ventilation() * peak_icu_admissions()\n\nplot_question(peak_invasive_ventilation)"
      ]
    },
    {
      "cell_type": "markdown",
      "metadata": {
      },
      "source": [
        "# Generate predictions for all questions\n\n"
      ]
    },
    {
      "cell_type": "code",
      "execution_count": 1,
      "metadata": {
      },
      "outputs": [],
      "source": [
        "def model():\n    clear_mem()\n    for sampler in samplers.values():\n        sampler()\n\nsamples = ergo.run(model, num_samples=2000)\n\nsummarize_question_samples(samples)"
      ]
    },
    {
      "cell_type": "markdown",
      "metadata": {
      },
      "source": [
        "# Compare predictions to community\n\n"
      ]
    },
    {
      "cell_type": "markdown",
      "metadata": {
      },
      "source": [
        "This takes a while since we're fitting a mixture of logistic\n  distributions to our samples before visualizing (and submitting) them.\n  These may look a little different from the plots below the questions\n  above, because we've taken more samples from the distribution and we're\n  fitting logistic distributions so we can submit them to metaculus\n\n"
      ]
    },
    {
      "cell_type": "code",
      "execution_count": 1,
      "metadata": {
      },
      "outputs": [],
      "source": [
        "submissions = {}\nfor sampler in samplers.values():\n    q = sampler.question\n\n    q_samples = samples[sampler.__name__]\n\n    if q.id == 4128: # Date question: Need to convert back to date from days (https://github.com/oughtinc/ergo/issues/144)\n        q_samples = np.array([START_DATE + timedelta(s) for s in q_samples])\n\n    if q.id in [4201, 4204, 4137, 4152, 4170, 4153]:\n      # Clip extreme values for questions that we had issues fitting\n      (sample_min, sample_max) = np.quantile(q_samples, [0.04, 0.96])\n      q_samples = q_samples[(q_samples >= sample_min) & (q_samples <= sample_max)]\n\n    submission = q.get_submission_from_samples(q_samples)\n    submissions[q] = submission\n\n    # the graph for this question will be too zoomed out unless we cut off more of the graph\n    if q.id == 4153:\n      q.show_prediction(q_samples, plot_samples=False, plot_fitted=True, show_community=True, percent_kept=0.7)\n    else:\n      q.show_prediction(q_samples, plot_samples=False, plot_fitted=True, show_community=True, percent_kept=0.9)"
      ]
    },
    {
      "cell_type": "code",
      "execution_count": 1,
      "metadata": {
      },
      "outputs": [],
      "source": [
        "# Should we submit this to Metaculus? If so, uncomment the following lines:\n# for q, submission in submissions.items():  \n#     print(q.submit(submission))"
      ]
    }
  ],
  "metadata": {
  },
  "nbformat": 4,
  "nbformat_minor": 0
}
