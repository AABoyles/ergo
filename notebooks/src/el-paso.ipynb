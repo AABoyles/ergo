{
 "cells": [
  {
   "cell_type": "markdown",
   "metadata": {
    "colab_type": "text",
    "id": "Q_-THNG8VDkh"
   },
   "source": [
    "# Setup"
   ]
  },
  {
   "cell_type": "code",
   "execution_count": null,
   "metadata": {
    "colab": {},
    "colab_type": "code",
    "id": "14bP3Mm6U4JT"
   },
   "outputs": [],
   "source": [
    "%%capture\n",
    "%pip install poetry\n",
    "%pip install git+https://github.com/oughtinc/ergo.git@993c959d4b5dc5b398f02b842407814b79619a42\n",
    "%pip install xlrd\n"
   ]
  },
  {
   "cell_type": "code",
   "execution_count": null,
   "metadata": {
    "colab": {},
    "colab_type": "code",
    "id": "Mu7ON6p_VHo6"
   },
   "outputs": [],
   "source": [
    "%load_ext google.colab.data_table"
   ]
  },
  {
   "cell_type": "code",
   "execution_count": null,
   "metadata": {
    "colab": {},
    "colab_type": "code",
    "id": "GUs6gmy-VJg_"
   },
   "outputs": [],
   "source": [
    "%%capture\n",
    "import ergo\n",
    "import numpy as np\n",
    "import pandas as pd\n",
    "import ssl\n",
    "import math\n",
    "import datetime\n",
    "import warnings\n",
    "import functools\n",
    "from datetime import timedelta, date\n",
    "from ergo.contrib.el_paso import *"
   ]
  },
  {
   "cell_type": "code",
   "execution_count": null,
   "metadata": {
    "colab": {},
    "colab_type": "code",
    "id": "6vH8dOGwVMh4"
   },
   "outputs": [],
   "source": [
    "warnings.filterwarnings(module=\"plotnine\", action=\"ignore\")\n",
    "warnings.filterwarnings(module=\"jax\", action=\"ignore\")\n",
    "ssl._create_default_https_context = ssl._create_unverified_context"
   ]
  },
  {
   "cell_type": "code",
   "execution_count": null,
   "metadata": {
    "colab": {},
    "colab_type": "code",
    "id": "sFOWHXjaVYep"
   },
   "outputs": [],
   "source": [
    "metaculus = ergo.Metaculus(\n",
    "    username=\"oughtpublic\", \n",
    "    password=\"123456\",\n",
    "    api_domain = \"pandemic\"\n",
    ")"
   ]
  },
  {
   "cell_type": "markdown",
   "metadata": {
    "colab_type": "text",
    "id": "KLgXU7LdVkjk"
   },
   "source": [
    "# Ergo extensions"
   ]
  },
  {
   "cell_type": "markdown",
   "metadata": {
    "colab_type": "text",
    "id": "so5gNjQAVmEr"
   },
   "source": [
    "We'll define some helper functions that might get moved into Ergo in the future."
   ]
  },
  {
   "cell_type": "code",
   "execution_count": null,
   "metadata": {
    "colab": {},
    "colab_type": "code",
    "id": "jXROZqtXV-Rt"
   },
   "outputs": [],
   "source": [
    "START_DATE = date(2020, 4, 1)\n",
    "\n",
    "\n",
    "def daterange(start_date, end_date):\n",
    "    for n in range(int((end_date - start_date).days)):\n",
    "        yield start_date + timedelta(n)\n",
    "\n",
    "\n",
    "# Memoization\n",
    "\n",
    "memoized_functions = []\n",
    "\n",
    "def mem(func):\n",
    "    func = functools.lru_cache(None)(func)\n",
    "    memoized_functions.append(func)\n",
    "    return func\n",
    "\n",
    "def clear_mem():\n",
    "    for func in memoized_functions:\n",
    "        func.cache_clear()\n",
    "\n",
    "# Associate models with questions\n",
    "\n",
    "# We'll add a sampler here for each question we predict on. \n",
    "# Each sampler is a function that returns a single sample\n",
    "# from our model predicting on that question.\n",
    "samplers = {}\n",
    "\n",
    "def question(question_id, community_weight=0):\n",
    "    q = metaculus.get_question(question_id)\n",
    "\n",
    "    def decorator(func):\n",
    "        tag = func.__name__\n",
    "\n",
    "        @functools.wraps(func)\n",
    "        @mem\n",
    "        def sampler():\n",
    "            if ergo.flip(community_weight):\n",
    "                value = q.sample_community()\n",
    "            else:\n",
    "                value = func()\n",
    "            if isinstance(value, date):\n",
    "                # FIXME: Ergo needs to handle dates\n",
    "                ergo.tag(int((value - START_DATE).days), tag)\n",
    "            else:\n",
    "                ergo.tag(value, tag)\n",
    "            return value\n",
    "        sampler.question = q\n",
    "        samplers[q.id] = sampler\n",
    "        return sampler\n",
    "    return decorator\n",
    "\n",
    "def summarize_question_samples(samples):\n",
    "    sampler_tags = [sampler.__name__ for sampler in samplers.values()]\n",
    "    tags_to_show = [tag for tag in sampler_tags if tag in samples.columns]\n",
    "    samples_to_show = samples[tags_to_show]\n",
    "    summary = samples_to_show.describe().transpose().round(2)\n",
    "    display(summary)\n",
    "\n",
    "def plot_question(sampler, num_samples=200, bw=None):\n",
    "  def model():\n",
    "      clear_mem()\n",
    "      sampler()\n",
    "\n",
    "  samples = ergo.run(model, num_samples=num_samples)\n",
    "\n",
    "  summarize_question_samples(samples)\n",
    "\n",
    "  q = sampler.question\n",
    "\n",
    "  q_samples = samples[sampler.__name__]\n",
    "\n",
    "  if q.id == 4128: # Date question: Need to convert back to date from days (https://github.com/oughtinc/ergo/issues/144)\n",
    "      q_samples = np.array([START_DATE + timedelta(s) for s in q_samples])\n",
    "\n",
    "  if bw is not None:\n",
    "      q.show_prediction(samples=q_samples, show_community=True, percent_kept=0.9, bw=bw)\n",
    "  else:\n",
    "      q.show_prediction(samples=q_samples, show_community=True, percent_kept=0.9)"
   ]
  },
  {
   "cell_type": "markdown",
   "metadata": {
    "colab_type": "text",
    "id": "YHJ07K0oWBvb"
   },
   "source": [
    "# External data (cases, estimates, models)"
   ]
  },
  {
   "cell_type": "markdown",
   "metadata": {
    "colab_type": "text",
    "id": "AuaIf5qUT9Qw"
   },
   "source": [
    "## Texas government cases data"
   ]
  },
  {
   "cell_type": "code",
   "execution_count": null,
   "metadata": {
    "colab": {
     "base_uri": "https://localhost:8080/",
     "height": 623
    },
    "colab_type": "code",
    "id": "PMIpyw_lA9fv",
    "outputId": "81b3e026-d960-47ae-f7f4-7773b32569ad"
   },
   "outputs": [],
   "source": [
    "el_paso_cases = texas_data.get_el_paso_data()\n",
    "\n",
    "el_paso_cases"
   ]
  },
  {
   "cell_type": "markdown",
   "metadata": {
    "colab_type": "text",
    "id": "8e1F7mXTUDPm"
   },
   "source": [
    "## @onlyasith's cases model\n",
    "\n"
   ]
  },
  {
   "cell_type": "markdown",
   "metadata": {
    "colab_type": "text",
    "id": "b7gIpN_oUKoV"
   },
   "source": [
    "Pulled [here](https://docs.google.com/spreadsheets/d/1L6pzFAEJ6MfnUwt-ea6tetKyvdi0YubnK_70SGm436c/edit#gid=1807978187)"
   ]
  },
  {
   "cell_type": "code",
   "execution_count": null,
   "metadata": {
    "colab": {
     "base_uri": "https://localhost:8080/",
     "height": 623
    },
    "colab_type": "code",
    "id": "KRCw-5w_UG9p",
    "outputId": "782b6848-fc7b-4eb2-d831-b2c4d11a7293"
   },
   "outputs": [],
   "source": [
    "projected_cases = onlyasith.get_onlyasith_results()\n",
    "\n",
    "projected_cases"
   ]
  },
  {
   "cell_type": "markdown",
   "metadata": {
    "colab_type": "text",
    "id": "yMiICBUrh5eQ"
   },
   "source": [
    "## @KrisMoore's compiled data\n",
    "\n",
    "Pulled [here](https://docs.google.com/spreadsheets/d/1eGF9xYmDmvAkr-dCmd-N4efHzPyYEfVl0YmL9zBvH9Q/edit#gid=1694267458)."
   ]
  },
  {
   "cell_type": "code",
   "execution_count": null,
   "metadata": {
    "colab": {
     "base_uri": "https://localhost:8080/",
     "height": 623
    },
    "colab_type": "code",
    "id": "3a4gqniKiRMv",
    "outputId": "ca51bdf1-245f-4b61-d9b3-771e8d574774"
   },
   "outputs": [],
   "source": [
    "compiled_data = krismoore.get_krismoore_data()\n",
    "\n",
    "compiled_data"
   ]
  },
  {
   "cell_type": "markdown",
   "metadata": {
    "colab_type": "text",
    "id": "zj9Ow70dXTpp"
   },
   "source": [
    "## @brachbach model (cases -> hospitalized)"
   ]
  },
  {
   "cell_type": "code",
   "execution_count": null,
   "metadata": {
    "colab": {},
    "colab_type": "code",
    "id": "HXvkT9LGXYYL"
   },
   "outputs": [],
   "source": [
    "get_daily_hospital_confirmed = brachbach.get_daily_hospital_confirmed"
   ]
  },
  {
   "cell_type": "markdown",
   "metadata": {
    "colab_type": "text",
    "id": "f5vxl9NyWuHv"
   },
   "source": [
    "# Model components"
   ]
  },
  {
   "cell_type": "code",
   "execution_count": null,
   "metadata": {
    "colab": {},
    "colab_type": "code",
    "id": "chX3ETQOW6Ro"
   },
   "outputs": [],
   "source": [
    "@mem\n",
    "def daily_infections(date: date) -> int:\n",
    "    \"\"\"\n",
    "    What is the number of reported (new) Covid-19 infections on [date]?\n",
    "    \"\"\"\n",
    "    try:\n",
    "        # Look up Texas Government data\n",
    "        new_cases = el_paso_cases.loc[date, \"New cases\"]\n",
    "        if np.isnan(new_cases):\n",
    "            raise KeyError\n",
    "        return new_cases\n",
    "    except KeyError:\n",
    "        try:\n",
    "            # Look up projections from @onlyasith's model\n",
    "            cases = projected_cases.loc[date, \"New cases\"]\n",
    "            if np.isnan(cases):\n",
    "                raise KeyError\n",
    "            \n",
    "            # Add some (fairly arbitrary) uncertainty around this point estimate\n",
    "            if cases == 0:\n",
    "              return cases\n",
    "            cases_estimate = ergo.lognormal_from_interval(cases * 0.8, cases * 1.2)\n",
    "            return np.clip(cases_estimate, cases * 0.5, cases * 2)\n",
    "        except KeyError:\n",
    "            # We're beyond the time range for data and model\n",
    "            return 0\n",
    "\n",
    "@mem\n",
    "def mean_infections(start_date: date, end_date: date):\n",
    "    \"\"\"\n",
    "    What is the average number of reported new infections for this range of \n",
    "    dates? (Including start date, excluding end date)\n",
    "    \"\"\"\n",
    "    days = daterange(start_date, end_date)\n",
    "    return np.mean([daily_infections(day) for day in days])\n",
    "\n",
    "@mem\n",
    "def sma_infections(date: date):\n",
    "    \"\"\"\n",
    "    The simple moving average of infections for a date.\n",
    "    \n",
    "    Defined in https://pandemic.metaculus.com/questions/4128:\n",
    "    \n",
    "    'The 2-day SMA is defined as the unweighted average (arithmetic mean)\n",
    "    over the current day and the previous day.'\n",
    "    \"\"\"\n",
    "    return mean_infections(date - timedelta(1), date + timedelta(1))\n",
    "\n",
    "# Build @brachbach model\n",
    "hospital_confirmed_from_daily_infected_model = get_daily_hospital_confirmed(compiled_data, daily_infections)\n",
    "\n",
    "@mem\n",
    "def hospital_confirmed_for_date(date: date) -> int:\n",
    "    \"\"\"\n",
    "    The total number of lab-confirmed COVID-19 patients in El Paso County in\n",
    "    the hospital on this date\n",
    "    \"\"\"\n",
    "    try:\n",
    "        # Look up in-hospital confirmed cases from @KrisMoore's compiled data\n",
    "        new_hospital_confirmed = compiled_data.loc[date, \"In hospital confirmed\"]\n",
    "        if np.isnan(new_hospital_confirmed):\n",
    "            raise KeyError\n",
    "        return new_hospital_confirmed\n",
    "    except KeyError:\n",
    "        try:\n",
    "            # Get point estimate from @brachbach's regression model\n",
    "            cases = hospital_confirmed_from_daily_infected_model(date)\n",
    "            \n",
    "            # Add some (fairly arbitrary) uncertainty around this point estimate\n",
    "            if cases == 0:\n",
    "              return cases\n",
    "            cases_estimate = ergo.lognormal_from_interval(cases * 0.8, cases * 1.2)\n",
    "            return np.clip(cases_estimate, cases * 0.5, cases * 2)\n",
    "        except KeyError:\n",
    "            return 0\n",
    "\n",
    "@mem\n",
    "def frac_icu_ventilation():\n",
    "    \"\"\"\n",
    "    Proportion of ICU admissions requiring ventilation\n",
    "\n",
    "    Approach (PabloStafforini et al): \n",
    "    https://pandemic.metaculus.com/questions/4154/#comment-28155\n",
    "\n",
    "    TODO: \n",
    "    - Improve how we use case data\n",
    "    - Add qualitative adjustments\n",
    "    \"\"\"\n",
    "    ventilation_pseudocounts = 25 + 17 + 0.05 * 1150 + 0.1 * 132\n",
    "    icu_pseudocounts = 100 + 36 + 0.05 * 1300 + 0.1 * 196\n",
    "    return ergo.beta_from_hits(ventilation_pseudocounts, icu_pseudocounts)"
   ]
  },
  {
   "cell_type": "markdown",
   "metadata": {
    "colab_type": "text",
    "id": "yuyLbplkW611"
   },
   "source": [
    "# El Paso questions"
   ]
  },
  {
   "cell_type": "code",
   "execution_count": null,
   "metadata": {
    "colab": {
     "base_uri": "https://localhost:8080/",
     "height": 730,
     "referenced_widgets": [
      "a337ce22feb14a0eb362aa33d8ea8591",
      "ad5d611f82724dc381040bbf20a8eddf",
      "1e5e460222e84b3b85495a3bce085a0b",
      "e62480ba24944a63a379648e6ef88ff7",
      "8d610580e0d5490da55ca0060e8668c5",
      "980b76f2fc4440f3a20b7861c04ee1a0",
      "ed542f1927da486382fe50e827812c3c",
      "edaf6949189e41ae90685ec702fce95b"
     ]
    },
    "colab_type": "code",
    "id": "NLJEZu9LeLlZ",
    "outputId": "0efa9b70-fd2f-4360-e085-192063bea447"
   },
   "outputs": [],
   "source": [
    "question_4128_community_weigth=0.5\n",
    "\n",
    "# community distribution incorporated differently for this question,\n",
    "# see below\n",
    "@question(4128, community_weight=0)\n",
    "def peak_infection_date() -> date:\n",
    "    \"\"\"\n",
    "    When will El Paso County, Texas, experience its first peak number of COVID\n",
    "    infections?\n",
    "    \n",
    "    From https://pandemic.metaculus.com/questions/4128:\n",
    "    'This question resolves as the date for which\n",
    "    the 2-day simple moving average(SMA) of the number of reported new infections\n",
    "    is strictly greater than the 2-day SMA over the subsequent 10 days.'\n",
    "    \"\"\"\n",
    "\n",
    "    if ergo.flip(question_4128_community_weigth):\n",
    "        \n",
    "        def sample_community():\n",
    "            \"\"\"\n",
    "            The community assigns probability to some dates in the past\n",
    "            that we already know were not the peak.\n",
    "            So instead of sampling from the full community distribution,\n",
    "            sample from the portion of the community distribution\n",
    "            that is plausibly correct\n",
    "            \"\"\"\n",
    "            community_sample = peak_infection_date.question.sample_community()\n",
    "            \n",
    "            # only check implasibility for dates for which we have historical data\n",
    "            if community_sample in el_paso_cases.index:\n",
    "                for comparison_date in daterange(START_DATE, community_sample + timedelta(11)):\n",
    "                    if comparison_date in el_paso_cases.index:\n",
    "                        if (\n",
    "                            sma_infections(comparison_date) > sma_infections(community_sample)\n",
    "                            or (\n",
    "                                sma_infections(comparison_date) == sma_infections(community_sample)\n",
    "                                and comparison_date > community_sample\n",
    "                            )\n",
    "                        ):\n",
    "                            # try again to get an appropriate sample from the community\n",
    "                            return sample_community()\n",
    "                        \n",
    "        \n",
    "            return community_sample     \n",
    "        return sample_community()\n",
    "    else:\n",
    "        end_date = date(2020, 7, 1)\n",
    "        for today in daterange(START_DATE, end_date):\n",
    "            sma_today = sma_infections(today)\n",
    "\n",
    "            future_smas = [sma_infections(today + timedelta(i)) for i in range(1,11)]\n",
    "            if sma_today > max(future_smas):\n",
    "                return today\n",
    "        return end_date\n",
    "plot_question(peak_infection_date)"
   ]
  },
  {
   "cell_type": "code",
   "execution_count": null,
   "metadata": {
    "colab": {
     "base_uri": "https://localhost:8080/",
     "height": 685,
     "referenced_widgets": [
      "34d0e1422f0649a3b1b9421b6e2d4693",
      "5cf8ffe9c4204b218b52e03b5f0238d0",
      "3ac43c95e25e4664bd913c1fcb81585a",
      "01b20eac5d0d4d6d83b12e477eec61a5",
      "410a748a33fb4348a53bb6b356a782d2",
      "0b248025d18943e497a5a0563d355012",
      "cef52dcb66cb4a2ebfb6bcdf74f72a28",
      "55dfca262f1146399d8e9d751686139e"
     ]
    },
    "colab_type": "code",
    "id": "1VeQHr38jPa7",
    "outputId": "b14b454d-3133-4641-a678-48f5b6332e49"
   },
   "outputs": [],
   "source": [
    "@question(4137, community_weight=0.5)\n",
    "def peak_infections():\n",
    "    \"\"\"\n",
    "    How many new infections will be reported in El Paso on the day on which\n",
    "    the number of new reported infections peaks?\n",
    "    \"\"\"\n",
    "    peak = peak_infection_date()\n",
    "    return daily_infections(peak)\n",
    "plot_question(peak_infections)"
   ]
  },
  {
   "cell_type": "code",
   "execution_count": null,
   "metadata": {
    "colab": {
     "base_uri": "https://localhost:8080/",
     "height": 702,
     "referenced_widgets": [
      "2858699f9b5f49789b1e81c2548ebb4f",
      "2ecbe7e0fd6a4530839b55d273b3a4f1",
      "105a20ae877749d9b6e028e37747c7cb",
      "f08dd3059b7b423dbeadaacbf1f88c15",
      "c26c9fbeffab46f2a5e67fbf08079257",
      "d72a64b41178453eabd98ea4f7aafd77",
      "ce4c38179a1d4cd79c96adcae495b56b",
      "97e777661a0c4cba9446d4ae74192a45"
     ]
    },
    "colab_type": "code",
    "id": "0vIpv31pjVcE",
    "outputId": "a67683b5-2aca-48c8-9010-0a772c285972"
   },
   "outputs": [],
   "source": [
    "@question(4152, community_weight=0.5)\n",
    "def mean_infections_peak345():\n",
    "    \"\"\"\n",
    "    What will the average number of reported daily infections be in El Paso,\n",
    "    over the 3rd, 4th and 5th days after the first \"peak\"?\n",
    "    \"\"\"\n",
    "    peak = peak_infection_date()\n",
    "    return mean_infections(peak + timedelta(3), peak + timedelta(6))\n",
    "plot_question(mean_infections_peak345)"
   ]
  },
  {
   "cell_type": "code",
   "execution_count": null,
   "metadata": {
    "colab": {
     "base_uri": "https://localhost:8080/",
     "height": 702,
     "referenced_widgets": [
      "9e4eb63616e6459d8d24a9ee5285869c",
      "47c6533f34bc41acb17cf18762f5ea0c",
      "c6ab7e629bbd4f368c446b08950fc4fa",
      "5254437cbf9c4af0bfe34ee2752cad02",
      "b63b822655ca4703b867bc9798506083",
      "def0cb580a314c2caf59a16741da0f4c",
      "c27d5563dbc34cc18f82ec23854f463c",
      "77a3a5d3a362428fa8c5732dcda7e476"
     ]
    },
    "colab_type": "code",
    "id": "L-1c5lKQW9S8",
    "outputId": "12079d81-e951-4e53-a6dc-0854c776d707"
   },
   "outputs": [],
   "source": [
    "\n",
    "@question(4170, community_weight=0.8)\n",
    "def mean_infections_peak678():\n",
    "    \"\"\"\n",
    "    What will the average number of reported daily infections be in El Paso,\n",
    "    over the 6th, 7th and 8th days after the first \"peak\"?  \n",
    "    \"\"\"\n",
    "    peak = peak_infection_date()\n",
    "    return mean_infections(peak + timedelta(6), peak + timedelta(9))\n",
    "plot_question(mean_infections_peak678)"
   ]
  },
  {
   "cell_type": "code",
   "execution_count": null,
   "metadata": {
    "colab": {
     "base_uri": "https://localhost:8080/",
     "height": 664,
     "referenced_widgets": [
      "fc01b82d501f4e0b8eee9574f08a3c2e",
      "b2ce59ea22dc4dd9a38fcba195b0cda4",
      "da981467afad4e2fb93d4054b61f163f",
      "fa75f0d95f5f4887be0cf3651746d1b7",
      "46ed48f397c44bfb9d4c248699a7b4a0",
      "41c3e35bd43743c28f66813432be68f6",
      "c6a0c64a488c409e858c6b02ba335463",
      "5d293f7f31674f159576cb9e8d86dd91"
     ]
    },
    "colab_type": "code",
    "id": "2YZbvHDjjDca",
    "outputId": "c0b57bd1-3d3a-4fac-e4ee-3e7c174e0228"
   },
   "outputs": [],
   "source": [
    "@question(4155, community_weight=0.7)\n",
    "def frac_patients_icu():\n",
    "    \"\"\"\n",
    "    What portion of in-hospital cases in El Paso County will require admission\n",
    "    to the ICU?\n",
    "\n",
    "    Following @katifish's approach:\n",
    "    https://pandemic.metaculus.com/questions/4155/#comment-28054\n",
    "\n",
    "    TODO: Add others from katifish comment\n",
    "    \"\"\"\n",
    "    alpha = 0.1 # Rescaling counts becase we're more uncertain than implied by counts\n",
    "    return ergo.random_choice([\n",
    "      ergo.beta_from_hits(alpha * 121, alpha * 508),\n",
    "      ergo.beta_from_hits(alpha * 181, alpha * 507),\n",
    "    ])\n",
    "plot_question(frac_patients_icu)"
   ]
  },
  {
   "cell_type": "code",
   "execution_count": null,
   "metadata": {
    "colab": {
     "base_uri": "https://localhost:8080/",
     "height": 685,
     "referenced_widgets": [
      "5c7ff4e7a7c44adcbabd49a75a3bd79f",
      "ba5c58b7ac684cc5b3c05f08ea77d94b",
      "b7dbe69f59fc48e991295af386f8788d",
      "6727c5d73ee94e29bf21db8efab3a7ff",
      "dadbb46eea944a08b51b9662e19132e8",
      "ec4c7d464b004a979885a5b841f29b3f",
      "18562df0a0984b1c9f3bc30d23fe9552",
      "7fb2a2b408f14b8499418648b7bc125d"
     ]
    },
    "colab_type": "code",
    "id": "t93CW729i8fi",
    "outputId": "97f761c0-6807-4664-ef38-ba6b4c892201"
   },
   "outputs": [],
   "source": [
    "@question(4154, community_weight=0.3)\n",
    "def frac_patients_invasive():\n",
    "    \"\"\"\n",
    "    What portion of in-hospital patients with Covid-19 in El Paso County will\n",
    "    require invasive ventilation?\n",
    "\n",
    "    Following @PabloStafforini's indirect estimation approach:\n",
    "    https://pandemic.metaculus.com/questions/4154/#comment-28155\n",
    "\n",
    "    TODO:\n",
    "    - Combine with direct estimate\n",
    "      direct_estimate = ergo.beta_from_hits(0.1 * 130, 0.1 * 393)\n",
    "    \"\"\"\n",
    "    return frac_patients_icu() * frac_icu_ventilation()\n",
    "plot_question(frac_patients_invasive)"
   ]
  },
  {
   "cell_type": "code",
   "execution_count": null,
   "metadata": {
    "colab": {
     "base_uri": "https://localhost:8080/",
     "height": 702,
     "referenced_widgets": [
      "4f405a796a564a69b2a332a2a852692b",
      "3c844a4058f64b9c915e6958ad951f73",
      "7e8fff4b7e3e408ba387ffc704d4e8f2",
      "1cf21d7038dd4d55894a3aa4294d656c",
      "4b7bfed2df334000825c684c35326140",
      "d3e1033637884b00aa36d5771e0dcdea",
      "52c148724cf0408491ad0705ef17cb5a",
      "d84694a9c8b64046a18474db3b3f32f2"
     ]
    },
    "colab_type": "code",
    "id": "8nfFqas-imKT",
    "outputId": "d17fe9e9-0993-453d-c930-5e814d3c4e09"
   },
   "outputs": [],
   "source": [
    "@question(4153, community_weight=0.3)\n",
    "def max_30d_hospital_confirmed_for_peak():\n",
    "    \"\"\"\n",
    "    What will the maximum number of in-hospital lab-confirmed COVID-19 \n",
    "    patients in El Paso County, in the 30-day period during which the \"peak\"\n",
    "    occurs?\n",
    "    \"\"\"\n",
    "    peak = peak_infection_date()\n",
    "    days = daterange(peak - timedelta(15), peak + timedelta(15))\n",
    "    return max(hospital_confirmed_for_date(day) for day in days)\n",
    "\n",
    "plot_question(max_30d_hospital_confirmed_for_peak, bw=0.01)"
   ]
  },
  {
   "cell_type": "code",
   "execution_count": null,
   "metadata": {
    "colab": {
     "base_uri": "https://localhost:8080/",
     "height": 744,
     "referenced_widgets": [
      "aa1a3a660e0d4e7aa40b31adccd8d944",
      "d02ce24197054a239af5d1ce94a56a66",
      "af60e01ee41d4c89929dec06b5dae666",
      "8dfc830e289b44c695a209e00a7a4fb8",
      "110561de47ca4c4aac601a5a825a47da",
      "8f89af49bfd34c108368a894ab953fcc",
      "8523b4b29d594238ac7d8a44fee42979",
      "a7c2028cd08f4206a652d6adb37292f3"
     ]
    },
    "colab_type": "code",
    "id": "4chT7tG8i4At",
    "outputId": "916ffe2b-480b-4eeb-821e-80ebfff4a705"
   },
   "outputs": [],
   "source": [
    "@question(4204)\n",
    "def peak_icu_admissions():\n",
    "    \"\"\"\n",
    "    How many patients with Covid-19 in El Paso County will be admitted to the\n",
    "    ICU on the day when the number of hospital admissions of cases peak?\n",
    "\n",
    "    Following @Tamay's approach:\n",
    "    https://pandemic.metaculus.com/questions/4204/\n",
    "\n",
    "    Alternative:    \n",
    "    - peak = peak_hospitalizations_date()\n",
    "    - return daily_icu_admissions(peak)\n",
    "\n",
    "    FIXME: Admissions vs in-hospital patients unclear\n",
    "\n",
    "    Not mixing in community since this is just the product of two other questions.    \n",
    "    \"\"\"\n",
    "    max_patients = max_30d_hospital_confirmed_for_peak()\n",
    "    return max_patients * frac_patients_icu()\n",
    "plot_question(peak_icu_admissions)"
   ]
  },
  {
   "cell_type": "code",
   "execution_count": null,
   "metadata": {
    "colab": {
     "base_uri": "https://localhost:8080/",
     "height": 765,
     "referenced_widgets": [
      "e704aed70c4048e1a2e55b1bec36a106",
      "632560885e834bf494ad141d22921dd2",
      "42e33cff63a34cdc9bea410d7a6445cf",
      "d71444d138c3440193b05b70a0fe5f37",
      "63fea136c5834d8199e3228196f45b7b",
      "dfe453a532a940c4b93b0a02a9939c5c",
      "08aa69c0c752477086b558b86b360355",
      "718e4954fd3e4b0b8063dc33d367f876"
     ]
    },
    "colab_type": "code",
    "id": "M008tkxOjJfC",
    "outputId": "394b7e25-48e9-4c4c-8796-7ea376101c7f"
   },
   "outputs": [],
   "source": [
    "@question(4201)\n",
    "def peak_invasive_ventilation():\n",
    "    \"\"\"\n",
    "    How many patients with Covid-19 in El Paso County will require invasive \n",
    "    ventilation on the day when the number of hospital admissions of cases \n",
    "    peak?\n",
    "\n",
    "    Following @Tamay's approach:\n",
    "    https://pandemic.metaculus.com/questions/4201/#comment-28004\n",
    "\n",
    "    Not mixing in community since this is just the product of two other questions.\n",
    "    \"\"\"\n",
    "    return frac_icu_ventilation() * peak_icu_admissions()\n",
    "\n",
    "plot_question(peak_invasive_ventilation)"
   ]
  },
  {
   "cell_type": "markdown",
   "metadata": {
    "colab_type": "text",
    "id": "BMVjqvYFYti_"
   },
   "source": [
    "# Generate predictions for all questions"
   ]
  },
  {
   "cell_type": "code",
   "execution_count": null,
   "metadata": {
    "colab": {
     "base_uri": "https://localhost:8080/",
     "height": 326,
     "referenced_widgets": [
      "4fed1c826bce424c813d7133b2f83ac3",
      "b9bd7b8c8cc74855ac5c673b909f2180",
      "74adb62fc0764b01adae440d108318d0",
      "ca25f254d4514118a4a6d5751085d7c3",
      "b7883249da494953a5ef672a238319c0",
      "4e37c69750914823bfb5128ebf2bea55",
      "4c4010c330a14682b56522dd154eb237",
      "09e6134f02b944fab45be149b4722e7f"
     ]
    },
    "colab_type": "code",
    "id": "C-ioJfwyY9qV",
    "outputId": "04db884c-8cca-44c0-92b7-c30665d7aa04"
   },
   "outputs": [],
   "source": [
    "def model():\n",
    "    clear_mem()\n",
    "    for sampler in samplers.values():\n",
    "        sampler()\n",
    "\n",
    "samples = ergo.run(model, num_samples=2000)\n",
    "\n",
    "summarize_question_samples(samples)"
   ]
  },
  {
   "cell_type": "markdown",
   "metadata": {
    "colab_type": "text",
    "id": "mQ6CLIGhZdWQ"
   },
   "source": [
    "# Compare predictions to community"
   ]
  },
  {
   "cell_type": "markdown",
   "metadata": {
    "colab_type": "text",
    "id": "50UP8lQoZpvU"
   },
   "source": [
    "This takes a while since we're fitting a mixture of logistic distributions to our samples before visualizing (and submitting) them.\n",
    "These may look a little different from the plots below the questions above, because we've taken more samples from the distribution and we're fitting logistic distributions so we can submit them to metaculus"
   ]
  },
  {
   "cell_type": "code",
   "execution_count": null,
   "metadata": {
    "colab": {
     "base_uri": "https://localhost:8080/",
     "height": 1000,
     "referenced_widgets": [
      "52d68d63e2634559bc71b25779a4aca4",
      "d3b29596b1fc4f2da0d6de4ba4fcc2a0",
      "70bfee09658244aba16db84460591131",
      "9125bd846945416a90a60580711eff53",
      "64fc8871dbb34622964d14d1b149eff1",
      "91ff906a8e664875b95e04f76cd91cdd",
      "b6dac43b0d714bee81c183eabf73f487",
      "524b6296f04f451eb3f9bd45e43e8262",
      "40a8f2e39cfb4ade9edd3709492b9aaa",
      "6654e178e4ed4745bd49caa56f469cc6",
      "6b18019bbb8e4c2593bb5ffde3c0f627",
      "8612b753125f47aca24163af44c7d2c0",
      "3116e055561a461e912aae0d5236646c",
      "bf97272518c148c892264af6bb16b21f",
      "4bc9b37547a14da8accd92b2dc5c8bbc",
      "0bba906bb21e4327960ef5991d661fce",
      "571dc06223a7405689b6c1fb5532b62d",
      "11c66d82df5d417ba5c22234c4ed9211",
      "fb2274eaffaf4d409e3ff4ccb602244a",
      "aaac015858cf4ee89f45c3d9f2ff02bc",
      "99b30ffc007b4a6ba9a9536d9e17a05d",
      "14a8790de5714abab66dae824cb12d3f",
      "afe8b59cdc244d04bc8d5d4a7544e3ee",
      "993a362302b448e2b14bbea2c9fefc44",
      "be9a07fe71d84472a1996da45c83684a",
      "5e8b27cd87d7475f81d3f4c11892fcc5",
      "11fcb128a2944b04a704ca8adaab9d9a",
      "4afa0659ae6748dbbc435463799106c6",
      "622f38a904d14a189e7a06c211be291d",
      "73413f7383df468db25e9967182b311d",
      "aaff40ac0e1c470abe9377a0bb1409b0",
      "78c868afe8b44a24b3cf3243a9ec14ea",
      "40585f601d384a9e881b77ddbc16bf6e",
      "466217abc2044b56a3dfaf1b4db40eb8",
      "97e0d3749ce24e2e997d06864470ab02",
      "a806a6aa669e47e586db7f88616a79e5",
      "47b7469a22484d9dafb85f26f31042ea",
      "5130200608814f48839b3119c1e1af27",
      "250576faab71410cb4b9ee74399078b6",
      "e8b393d7d63f4a0097a9b630319d883a",
      "2547a5d5de4f490089f62630dcfbabf4",
      "0f350808faa64cc280ae2404ca4cab92",
      "531a93bbd3954341a27958bdec2f3f05",
      "f71a6f376cb54877bce6585472db3fcd",
      "53c97268579e40c7a53e5df4dedbe407",
      "cecf64269bdd45339dc4976b6cec4b8e",
      "6467d9f8b7304cb7b22e123e356706ef",
      "f9a6b1841cdc4ba9b2b8cc96cb40b720",
      "2968319c91eb4a7da2bdfff1fcf51c99",
      "d1e103ee7f9c461a8d0041e89c9cabba",
      "deb4e6ac76a04cd2997b956edc2f9203",
      "87abb47e403140559003670d584e68c2",
      "79753b369a72439cb3de3f0335f33c9d",
      "73e0c3000ac644908e0fd274957feb6f",
      "e892a2dfbb914087b6cd0fd0b84ee5b3",
      "551beebd97044ef2972c5b28c5fcf390",
      "0644ef78c2f8421e9dac094bf3e51dc9",
      "cdcf0d402b2c495fa2b4ffd9f1f9d16a",
      "af4bcca5b7a447008c554018249a2d8e",
      "68caee2ac4fa4a38a75da05d2a44c224",
      "ebc365db551d4d2c9e5d514f3d1ab29f",
      "68bb3b2b83274d33bf8fc8bf722d46af",
      "ceb8b53f42a94c2da0cb764fabfd7a17",
      "d3bde41807bb44a8b170b28e62bd90bb",
      "7cfa4f653226422b926ff6a71962469b",
      "9e16b1d0ef9c484b96d80da27e76824d",
      "bc52c746b66a4f889d6d71f76977b8b1",
      "2ee9a0dc5a6f4fda9975d1ee7ff27ee0",
      "be8b7016be444d08a89239284f72e286",
      "e9693a3da71d4e02bfb2a9c73bee5102",
      "334aabeccd124cbcb3491c4deacbfbd2",
      "7bf2835fa26e449c9eca0e4587ad62df",
      "9ef6325ac38443ba85333ce4a4a7b331",
      "fe88a8660cbe4be195e126b576de5359",
      "da93131da33f47279b6d4e8c00cfd79f",
      "5046b63d212b40a58edda5b443e7ec06",
      "b5eae87ca27d4ebba6c08e89aa810e78",
      "d4cc503344c6429ea3863a00ca69f1dd",
      "3c779e6c01bf4ee697f66da4b89dea19",
      "040e8b92ae3345e9a07b3bbabbb5900d",
      "eb3c7a6ed30846bd88d7a9cf3f19dbad",
      "f5a3b98be36b4ac6abda16c9c9529017",
      "1478a26a0bfb49549fc63ebe0560831f",
      "33b9728862e940adbd3fdf719a48bd37",
      "689a0dbd1f74463ba50d1fff69c98316",
      "31cbfaf3dce7405aafe3fec9a4e1537b",
      "ac2be60544a04149841db8dfdcd999f8",
      "129c70a01fb34e6385058738ed262797",
      "9578c50a619548309f8204b966a91385",
      "db11613da9514b73bf099e5197a2fe8a",
      "55bfa3ed2a304cdd937d0567197906a2",
      "aaa1440d474d4cbebbaf2abfb5717988",
      "2f76431a45e54abb9a96958fd474587c",
      "21ba6ec0b9e34cd0802a81bd0460203d",
      "ee468613def54a948ee3b8e10983c7f4",
      "df526ac6900446d48567c3251422ad07",
      "fbd294d9ef1547c59171d1952f6d4f9a",
      "400fd5b37bab422b8e85a7eadd077a95",
      "f5de6f9058e94e76b90074df27d672c3",
      "53147322a8da4b0fa0f63b6a834384a8",
      "4ec668571ee0458390a8c1b6d6f9fb28",
      "a25b2c6967564fd48973c6d576442479",
      "69de89a5eeb443eab8cb711d7d8fcd6d",
      "7db8321a28854b3ca24d7857afbe75f8",
      "9beca7f372fb488ab8e4ec5600fa1d40",
      "b546ad94df4e4662b1fde837987fdd14",
      "c8e5f24f94244a52bfba3c5ef3b69a47",
      "524f2faddbbb4e2c822318a59f65f3b0",
      "3446d4e164164799b0fa99eb92dfe5c2",
      "60159312e1814f5eae1778f3dd9e8f4a",
      "ebebb14b46d14222818f76f177e01376",
      "6a25c2311ba546baa6b36be5f8e1d2c4",
      "3406c1fe0ab4433d8f1b424501477a8a",
      "f909ae48f4ee48bfaf03242edcf7fdab",
      "ee619346a0c4448ca689781429f73a79",
      "9d53193de8ef467ba325eb08121efaea",
      "86bb757b48b64ee9ab293490d7f8c5f0",
      "67e59e30b9894ab2a42cff3df7b9c957",
      "f26135e2ecb5475ca4afc1787abef684",
      "fed9bb8d72404594ba1e3c8d941379d1",
      "60e8b4c7a3ec475fa86486e4d906064a",
      "9d133c373bd9443db2f00214b588f3c0",
      "f8f96ae0a0534265ad088c9854774c2c",
      "2af515bf9d09416ab3fc38d3f00a21c3",
      "98af7f56f26e4a4d84e1029f9de3a4ad",
      "737e3edd45e647d4afd5f9a91204ebd7",
      "b0f0dbc08a8f4acc9b0d701ef578c72b",
      "ce427b98302f4669ab2d1bc128feaf7e",
      "52c54170135c4165a750cf85d289da83",
      "cf86c607088e4a4890fc73a5e0c68e84",
      "424406f16a54466b97424b663f1a2e0a",
      "930401eb334343bda2c64d6e26ba548d",
      "9e2fbad52ef547e3bd915ece3d8a288d",
      "c115e03b717f4c0f87790edd0c39f156",
      "706dc55a8552450e857bf3e96c0a1358",
      "9533f394bc434b2d999e7a138ff0e29c",
      "4e032adc1c394a5daeda7421aad5c09b",
      "93395941ce4348719598363466c573e1",
      "ab524172f9ac4a4a8e14dfb5732a3047",
      "8bf3e16fe80c4378b2372ba3dbf19e5e",
      "e404cc39ecb14b75abefc938e9b8f1b4",
      "f277f091db3646d29793d728ab25cde2",
      "e0f0471286f4403e96aa4bba8804ec83",
      "9db5684a78df459b8771b5734768cc01"
     ]
    },
    "colab_type": "code",
    "id": "z2DLZ79SZgFF",
    "outputId": "f6d529c8-09f5-42c1-b749-ad410f80390e"
   },
   "outputs": [],
   "source": [
    "submissions = {}\n",
    "for sampler in samplers.values():\n",
    "    q = sampler.question\n",
    "\n",
    "    q_samples = samples[sampler.__name__]\n",
    "\n",
    "    if q.id == 4128: # Date question: Need to convert back to date from days (https://github.com/oughtinc/ergo/issues/144)\n",
    "        q_samples = np.array([START_DATE + timedelta(s) for s in q_samples])\n",
    "\n",
    "    if q.id in [4201, 4204, 4137, 4152, 4170, 4153]:\n",
    "      # Clip extreme values for questions that we had issues fitting\n",
    "      (sample_min, sample_max) = np.quantile(q_samples, [0.02, 0.98])\n",
    "      q_samples = q_samples[(q_samples >= sample_min) & (q_samples <= sample_max)]\n",
    "\n",
    "    submission = q.get_submission_from_samples(q_samples)\n",
    "    submissions[q] = submission\n",
    "\n",
    "    # the graph for this question will be too zoomed out unless we cut off more of the graph\n",
    "    if q.id == 4153:\n",
    "      q.show_prediction(q_samples, plot_samples=False, plot_fitted=True, show_community=True, percent_kept=0.7)\n",
    "    else:\n",
    "      q.show_prediction(q_samples, plot_samples=False, plot_fitted=True, show_community=True, percent_kept=0.9)"
   ]
  },
  {
   "cell_type": "code",
   "execution_count": null,
   "metadata": {
    "colab": {},
    "colab_type": "code",
    "id": "FEEqlyZ_SwPI"
   },
   "outputs": [],
   "source": [
    "# Should we submit this to Metaculus? If so, uncomment the following lines:\n",
    "# for q, submission in submissions.items():  \n",
    "#     print(q.submit(submission))"
   ]
  }
 ],
 "metadata": {
  "kernelspec": {
   "display_name": "Python 3",
   "language": "python",
   "name": "python3"
  }
 },
 "nbformat": 4,
 "nbformat_minor": 4
}
