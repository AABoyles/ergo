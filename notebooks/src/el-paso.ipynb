{
 "cells": [
  {
   "cell_type": "markdown",
   "metadata": {
    "colab_type": "text",
    "id": "Q_-THNG8VDkh"
   },
   "source": [
    "# Setup"
   ]
  },
  {
   "cell_type": "code",
   "execution_count": null,
   "metadata": {
    "colab": {},
    "colab_type": "code",
    "id": "14bP3Mm6U4JT"
   },
   "outputs": [],
   "source": [
    "%%capture\n",
    "%pip install poetry\n",
    "%pip install git+https://github.com/oughtinc/ergo.git@993c959d4b5dc5b398f02b842407814b79619a42\n",
    "%pip install xlrd\n"
   ]
  },
  {
   "cell_type": "code",
   "execution_count": null,
   "metadata": {
    "colab": {},
    "colab_type": "code",
    "id": "Mu7ON6p_VHo6"
   },
   "outputs": [],
   "source": [
    "%load_ext google.colab.data_table"
   ]
  },
  {
   "cell_type": "code",
   "execution_count": null,
   "metadata": {
    "colab": {},
    "colab_type": "code",
    "id": "GUs6gmy-VJg_"
   },
   "outputs": [],
   "source": [
    "%%capture\n",
    "import ergo\n",
    "import numpy as np\n",
    "import pandas as pd\n",
    "import ssl\n",
    "import math\n",
    "import datetime\n",
    "import warnings\n",
    "import functools\n",
    "from datetime import timedelta, date\n",
    "from ergo.contrib.el_paso import *"
   ]
  },
  {
   "cell_type": "code",
   "execution_count": null,
   "metadata": {
    "colab": {},
    "colab_type": "code",
    "id": "6vH8dOGwVMh4"
   },
   "outputs": [],
   "source": [
    "warnings.filterwarnings(module=\"plotnine\", action=\"ignore\")\n",
    "warnings.filterwarnings(module=\"jax\", action=\"ignore\")\n",
    "ssl._create_default_https_context = ssl._create_unverified_context"
   ]
  },
  {
   "cell_type": "code",
   "execution_count": null,
   "metadata": {
    "colab": {},
    "colab_type": "code",
    "id": "sFOWHXjaVYep"
   },
   "outputs": [],
   "source": [
    "metaculus = ergo.Metaculus(\n",
    "    username=\"oughtpublic\", \n",
    "    password=\"123456\",\n",
    "    api_domain = \"pandemic\"\n",
    ")"
   ]
  },
  {
   "cell_type": "markdown",
   "metadata": {
    "colab_type": "text",
    "id": "KLgXU7LdVkjk"
   },
   "source": [
    "# Ergo extensions"
   ]
  },
  {
   "cell_type": "markdown",
   "metadata": {
    "colab_type": "text",
    "id": "so5gNjQAVmEr"
   },
   "source": [
    "We'll define some helper functions that might get moved into Ergo in the future."
   ]
  },
  {
   "cell_type": "code",
   "execution_count": null,
   "metadata": {
    "colab": {},
    "colab_type": "code",
    "id": "jXROZqtXV-Rt"
   },
   "outputs": [],
   "source": [
    "START_DATE = date(2020, 4, 1)\n",
    "\n",
    "\n",
    "def daterange(start_date, end_date):\n",
    "    for n in range(int((end_date - start_date).days)):\n",
    "        yield start_date + timedelta(n)\n",
    "\n",
    "        \n",
    "# Rejection sampling\n",
    "\n",
    "def rejection_sample(fn, condition):\n",
    "    \"\"\"\n",
    "    Sample from fn until we get a value that satisfies\n",
    "    condition, then return it.\n",
    "    \"\"\"\n",
    "    while True:        \n",
    "        value = fn()\n",
    "        if condition(value):\n",
    "            return value\n",
    "\n",
    "\n",
    "# Memoization\n",
    "\n",
    "memoized_functions = []\n",
    "\n",
    "def mem(func):\n",
    "    func = functools.lru_cache(None)(func)\n",
    "    memoized_functions.append(func)\n",
    "    return func\n",
    "\n",
    "def clear_mem():\n",
    "    for func in memoized_functions:\n",
    "        func.cache_clear()\n",
    "\n",
    "        \n",
    "# Associate models with questions\n",
    "\n",
    "# We'll add a sampler here for each question we predict on. \n",
    "# Each sampler is a function that returns a single sample\n",
    "# from our model predicting on that question.\n",
    "samplers = {}\n",
    "\n",
    "def question(question_id, community_weight=0, community_fn=None):\n",
    "    q = metaculus.get_question(question_id)\n",
    "\n",
    "    def decorator(func):\n",
    "        tag = func.__name__\n",
    "\n",
    "        @functools.wraps(func)\n",
    "        @mem\n",
    "        def sampler():\n",
    "            if ergo.flip(community_weight):\n",
    "                if community_fn:\n",
    "                    value = community_fn()\n",
    "                else:\n",
    "                    value = q.sample_community()\n",
    "            else:\n",
    "                value = func()\n",
    "            if isinstance(value, date):\n",
    "                # FIXME: Ergo needs to handle dates\n",
    "                ergo.tag(int((value - START_DATE).days), tag)\n",
    "            else:\n",
    "                ergo.tag(value, tag)\n",
    "            return value\n",
    "        sampler.question = q\n",
    "        samplers[q.id] = sampler\n",
    "        return sampler\n",
    "    return decorator\n",
    "\n",
    "def summarize_question_samples(samples):\n",
    "    sampler_tags = [sampler.__name__ for sampler in samplers.values()]\n",
    "    tags_to_show = [tag for tag in sampler_tags if tag in samples.columns]\n",
    "    samples_to_show = samples[tags_to_show]\n",
    "    summary = samples_to_show.describe().transpose().round(2)\n",
    "    display(summary)\n",
    "\n",
    "def plot_question(sampler, num_samples=200, bw=None):\n",
    "  def model():\n",
    "      clear_mem()\n",
    "      sampler()\n",
    "\n",
    "  samples = ergo.run(model, num_samples=num_samples)\n",
    "\n",
    "  summarize_question_samples(samples)\n",
    "\n",
    "  q = sampler.question\n",
    "\n",
    "  q_samples = samples[sampler.__name__]\n",
    "\n",
    "  if q.id == 4128: # Date question: Need to convert back to date from days (https://github.com/oughtinc/ergo/issues/144)\n",
    "      q_samples = np.array([START_DATE + timedelta(s) for s in q_samples])\n",
    "\n",
    "  if bw is not None:\n",
    "      q.show_prediction(samples=q_samples, show_community=True, percent_kept=0.9, bw=bw)\n",
    "  else:\n",
    "      q.show_prediction(samples=q_samples, show_community=True, percent_kept=0.9)"
   ]
  },
  {
   "cell_type": "markdown",
   "metadata": {
    "colab_type": "text",
    "id": "YHJ07K0oWBvb"
   },
   "source": [
    "# External data (cases, estimates, models)"
   ]
  },
  {
   "cell_type": "markdown",
   "metadata": {
    "colab_type": "text",
    "id": "AuaIf5qUT9Qw"
   },
   "source": [
    "## Texas government cases data"
   ]
  },
  {
   "cell_type": "code",
   "execution_count": null,
   "metadata": {
    "colab": {
     "base_uri": "https://localhost:8080/",
     "height": 623
    },
    "colab_type": "code",
    "id": "PMIpyw_lA9fv",
    "outputId": "81b3e026-d960-47ae-f7f4-7773b32569ad"
   },
   "outputs": [],
   "source": [
    "el_paso_cases = texas_data.get_el_paso_data()\n",
    "\n",
    "el_paso_cases"
   ]
  },
  {
   "cell_type": "markdown",
   "metadata": {
    "colab_type": "text",
    "id": "8e1F7mXTUDPm"
   },
   "source": [
    "## @onlyasith's cases model\n",
    "\n"
   ]
  },
  {
   "cell_type": "markdown",
   "metadata": {
    "colab_type": "text",
    "id": "b7gIpN_oUKoV"
   },
   "source": [
    "Pulled [here](https://docs.google.com/spreadsheets/d/1L6pzFAEJ6MfnUwt-ea6tetKyvdi0YubnK_70SGm436c/edit#gid=1807978187)"
   ]
  },
  {
   "cell_type": "code",
   "execution_count": null,
   "metadata": {
    "colab": {
     "base_uri": "https://localhost:8080/",
     "height": 623
    },
    "colab_type": "code",
    "id": "KRCw-5w_UG9p",
    "outputId": "782b6848-fc7b-4eb2-d831-b2c4d11a7293"
   },
   "outputs": [],
   "source": [
    "projected_cases = onlyasith.get_onlyasith_results()\n",
    "\n",
    "projected_cases"
   ]
  },
  {
   "cell_type": "markdown",
   "metadata": {
    "colab_type": "text",
    "id": "yMiICBUrh5eQ"
   },
   "source": [
    "## @KrisMoore's compiled data\n",
    "\n",
    "Pulled [here](https://docs.google.com/spreadsheets/d/1eGF9xYmDmvAkr-dCmd-N4efHzPyYEfVl0YmL9zBvH9Q/edit#gid=1694267458)."
   ]
  },
  {
   "cell_type": "code",
   "execution_count": null,
   "metadata": {
    "colab": {
     "base_uri": "https://localhost:8080/",
     "height": 623
    },
    "colab_type": "code",
    "id": "3a4gqniKiRMv",
    "outputId": "ca51bdf1-245f-4b61-d9b3-771e8d574774"
   },
   "outputs": [],
   "source": [
    "compiled_data = krismoore.get_krismoore_data()\n",
    "\n",
    "compiled_data"
   ]
  },
  {
   "cell_type": "markdown",
   "metadata": {
    "colab_type": "text",
    "id": "zj9Ow70dXTpp"
   },
   "source": [
    "## @brachbach model (cases -> hospitalized)"
   ]
  },
  {
   "cell_type": "code",
   "execution_count": null,
   "metadata": {
    "colab": {},
    "colab_type": "code",
    "id": "HXvkT9LGXYYL"
   },
   "outputs": [],
   "source": [
    "get_daily_hospital_confirmed = brachbach.get_daily_hospital_confirmed"
   ]
  },
  {
   "cell_type": "markdown",
   "metadata": {
    "colab_type": "text",
    "id": "f5vxl9NyWuHv"
   },
   "source": [
    "# Model components"
   ]
  },
  {
   "cell_type": "code",
   "execution_count": null,
   "metadata": {
    "colab": {},
    "colab_type": "code",
    "id": "chX3ETQOW6Ro"
   },
   "outputs": [],
   "source": [
    "@mem\n",
    "def daily_infections(date: date) -> int:\n",
    "    \"\"\"\n",
    "    What is the number of reported (new) Covid-19 infections on [date]?\n",
    "    \"\"\"\n",
    "    try:\n",
    "        # Look up Texas Government data\n",
    "        new_cases = el_paso_cases.loc[date, \"New cases\"]\n",
    "        if np.isnan(new_cases):\n",
    "            raise KeyError\n",
    "        return new_cases\n",
    "    except KeyError:\n",
    "        try:\n",
    "            # Look up projections from @onlyasith's model\n",
    "            cases = projected_cases.loc[date, \"New cases\"]\n",
    "            if np.isnan(cases):\n",
    "                raise KeyError\n",
    "            \n",
    "            # Add some (fairly arbitrary) uncertainty around this point estimate\n",
    "            if cases == 0:\n",
    "              return cases\n",
    "            cases_estimate = ergo.lognormal_from_interval(cases * 0.8, cases * 1.2)\n",
    "            return np.clip(cases_estimate, cases * 0.5, cases * 2)\n",
    "        except KeyError:\n",
    "            # We're beyond the time range for data and model\n",
    "            return 0\n",
    "\n",
    "@mem\n",
    "def mean_infections(start_date: date, end_date: date):\n",
    "    \"\"\"\n",
    "    What is the average number of reported new infections for this range of \n",
    "    dates? (Including start date, excluding end date)\n",
    "    \"\"\"\n",
    "    days = daterange(start_date, end_date)\n",
    "    return np.mean([daily_infections(day) for day in days])\n",
    "\n",
    "@mem\n",
    "def sma_infections(date: date):\n",
    "    \"\"\"\n",
    "    The simple moving average of infections for a date.\n",
    "    \n",
    "    Defined in https://pandemic.metaculus.com/questions/4128:\n",
    "    \n",
    "    'The 2-day SMA is defined as the unweighted average (arithmetic mean)\n",
    "    over the current day and the previous day.'\n",
    "    \"\"\"\n",
    "    return mean_infections(date - timedelta(1), date + timedelta(1))\n",
    "\n",
    "# Build @brachbach model\n",
    "hospital_confirmed_from_daily_infected_model = get_daily_hospital_confirmed(compiled_data, daily_infections)\n",
    "\n",
    "@mem\n",
    "def hospital_confirmed_for_date(date: date) -> int:\n",
    "    \"\"\"\n",
    "    The total number of lab-confirmed COVID-19 patients in El Paso County in\n",
    "    the hospital on this date\n",
    "    \"\"\"\n",
    "    try:\n",
    "        # Look up in-hospital confirmed cases from @KrisMoore's compiled data\n",
    "        new_hospital_confirmed = compiled_data.loc[date, \"In hospital confirmed\"]\n",
    "        if np.isnan(new_hospital_confirmed):\n",
    "            raise KeyError\n",
    "        return new_hospital_confirmed\n",
    "    except KeyError:\n",
    "        try:\n",
    "            # Get point estimate from @brachbach's regression model\n",
    "            cases = hospital_confirmed_from_daily_infected_model(date)\n",
    "            \n",
    "            # Add some (fairly arbitrary) uncertainty around this point estimate\n",
    "            if cases == 0:\n",
    "              return cases\n",
    "            cases_estimate = ergo.lognormal_from_interval(cases * 0.8, cases * 1.2)\n",
    "            return np.clip(cases_estimate, cases * 0.5, cases * 2)\n",
    "        except KeyError:\n",
    "            return 0\n",
    "\n",
    "@mem\n",
    "def frac_icu_ventilation():\n",
    "    \"\"\"\n",
    "    Proportion of ICU admissions requiring ventilation\n",
    "\n",
    "    Approach (PabloStafforini et al): \n",
    "    https://pandemic.metaculus.com/questions/4154/#comment-28155\n",
    "\n",
    "    TODO: \n",
    "    - Improve how we use case data\n",
    "    - Add qualitative adjustments\n",
    "    \"\"\"\n",
    "    ventilation_pseudocounts = 25 + 17 + 0.05 * 1150 + 0.1 * 132\n",
    "    icu_pseudocounts = 100 + 36 + 0.05 * 1300 + 0.1 * 196\n",
    "    return ergo.beta_from_hits(ventilation_pseudocounts, icu_pseudocounts)\n",
    "\n",
    "@mem\n",
    "def peak_compatible_with_historical_data(peak_date):\n",
    "    if not peak_date in el_paso_cases.index:\n",
    "        return True\n",
    "    for comparison_date in daterange(START_DATE, peak_date + timedelta(11)):\n",
    "        if comparison_date not in el_paso_cases.index:\n",
    "            continue\n",
    "        if sma_infections(comparison_date) > sma_infections(peak_date):\n",
    "            return False\n",
    "        if sma_infections(comparison_date) == sma_infections(peak_date) and comparison_date > peak_date:\n",
    "            return False\n",
    "    return True"
   ]
  },
  {
   "cell_type": "markdown",
   "metadata": {
    "colab_type": "text",
    "id": "yuyLbplkW611"
   },
   "source": [
    "# El Paso questions"
   ]
  },
  {
   "cell_type": "code",
   "execution_count": null,
   "metadata": {
    "colab": {
     "base_uri": "https://localhost:8080/",
     "height": 730,
     "referenced_widgets": [
      "5472fef8cd3242fb9b9783cb6034caaf",
      "d10645d8ca70447d923c20bc037ecf1d",
      "a42ecdf681524fbc9a98fd2175a754fe",
      "3c74bb3abcc14a8aad88dc71b446807c",
      "55767ec3c2e94be581ea0745d94cae92",
      "14b56fc6ee574c93836a59ea12f3244e",
      "2a43b695965e4d1ca6c981e34d6c487c",
      "7b6d0b0924aa4cb08e4ca4bd3588b6e1"
     ]
    },
    "colab_type": "code",
    "id": "NLJEZu9LeLlZ",
    "outputId": "5278685b-3752-4951-9f05-c44e351f977a"
   },
   "outputs": [],
   "source": [
    "@mem\n",
    "def peak_infection_date_community():\n",
    "    \"\"\"\n",
    "    The community assigns probability to some dates in the past\n",
    "    that we already know were not the peak.\n",
    "    So instead of sampling from the full community distribution,\n",
    "    sample from the portion of the community distribution\n",
    "    that is plausibly correct.\n",
    "    \"\"\"    \n",
    "    peak_date = rejection_sample(\n",
    "        peak_infection_date.question.sample_community, \n",
    "        peak_compatible_with_historical_data)\n",
    "    return peak_date\n",
    "\n",
    "\n",
    "@question(4128, community_weight=0.5, community_fn=peak_infection_date_community)\n",
    "def peak_infection_date() -> date:\n",
    "    \"\"\"\n",
    "    When will El Paso County, Texas, experience its first peak number of COVID\n",
    "    infections?\n",
    "    \n",
    "    From https://pandemic.metaculus.com/questions/4128:\n",
    "    'This question resolves as the date for which\n",
    "    the 2-day simple moving average(SMA) of the number of reported new infections\n",
    "    is strictly greater than the 2-day SMA over the subsequent 10 days.'\n",
    "    \"\"\"\n",
    "    end_date = date(2020, 7, 1)\n",
    "    for today in daterange(START_DATE, end_date):\n",
    "        sma_today = sma_infections(today)\n",
    "        future_smas = [sma_infections(today + timedelta(i)) for i in range(1,11)]\n",
    "        if sma_today > max(future_smas):\n",
    "            return today\n",
    "    return end_date\n",
    "\n",
    "plot_question(peak_infection_date)"
   ]
  },
  {
   "cell_type": "code",
   "execution_count": null,
   "metadata": {
    "colab": {
     "base_uri": "https://localhost:8080/",
     "height": 685,
     "referenced_widgets": [
      "34d0e1422f0649a3b1b9421b6e2d4693",
      "5cf8ffe9c4204b218b52e03b5f0238d0",
      "3ac43c95e25e4664bd913c1fcb81585a",
      "01b20eac5d0d4d6d83b12e477eec61a5",
      "410a748a33fb4348a53bb6b356a782d2",
      "0b248025d18943e497a5a0563d355012",
      "cef52dcb66cb4a2ebfb6bcdf74f72a28",
      "55dfca262f1146399d8e9d751686139e"
     ]
    },
    "colab_type": "code",
    "id": "1VeQHr38jPa7",
    "outputId": "b14b454d-3133-4641-a678-48f5b6332e49"
   },
   "outputs": [],
   "source": [
    "@question(4137, community_weight=0.5)\n",
    "def peak_infections():\n",
    "    \"\"\"\n",
    "    How many new infections will be reported in El Paso on the day on which\n",
    "    the number of new reported infections peaks?\n",
    "    \"\"\"\n",
    "    peak = peak_infection_date()\n",
    "    return daily_infections(peak)\n",
    "plot_question(peak_infections)"
   ]
  },
  {
   "cell_type": "code",
   "execution_count": null,
   "metadata": {
    "colab": {
     "base_uri": "https://localhost:8080/",
     "height": 702,
     "referenced_widgets": [
      "2858699f9b5f49789b1e81c2548ebb4f",
      "2ecbe7e0fd6a4530839b55d273b3a4f1",
      "105a20ae877749d9b6e028e37747c7cb",
      "f08dd3059b7b423dbeadaacbf1f88c15",
      "c26c9fbeffab46f2a5e67fbf08079257",
      "d72a64b41178453eabd98ea4f7aafd77",
      "ce4c38179a1d4cd79c96adcae495b56b",
      "97e777661a0c4cba9446d4ae74192a45"
     ]
    },
    "colab_type": "code",
    "id": "0vIpv31pjVcE",
    "outputId": "a67683b5-2aca-48c8-9010-0a772c285972"
   },
   "outputs": [],
   "source": [
    "@question(4152, community_weight=0.5)\n",
    "def mean_infections_peak345():\n",
    "    \"\"\"\n",
    "    What will the average number of reported daily infections be in El Paso,\n",
    "    over the 3rd, 4th and 5th days after the first \"peak\"?\n",
    "    \"\"\"\n",
    "    peak = peak_infection_date()\n",
    "    return mean_infections(peak + timedelta(3), peak + timedelta(6))\n",
    "plot_question(mean_infections_peak345)"
   ]
  },
  {
   "cell_type": "code",
   "execution_count": null,
   "metadata": {
    "colab": {
     "base_uri": "https://localhost:8080/",
     "height": 702,
     "referenced_widgets": [
      "9e4eb63616e6459d8d24a9ee5285869c",
      "47c6533f34bc41acb17cf18762f5ea0c",
      "c6ab7e629bbd4f368c446b08950fc4fa",
      "5254437cbf9c4af0bfe34ee2752cad02",
      "b63b822655ca4703b867bc9798506083",
      "def0cb580a314c2caf59a16741da0f4c",
      "c27d5563dbc34cc18f82ec23854f463c",
      "77a3a5d3a362428fa8c5732dcda7e476"
     ]
    },
    "colab_type": "code",
    "id": "L-1c5lKQW9S8",
    "outputId": "12079d81-e951-4e53-a6dc-0854c776d707"
   },
   "outputs": [],
   "source": [
    "\n",
    "@question(4170, community_weight=0.8)\n",
    "def mean_infections_peak678():\n",
    "    \"\"\"\n",
    "    What will the average number of reported daily infections be in El Paso,\n",
    "    over the 6th, 7th and 8th days after the first \"peak\"?  \n",
    "    \"\"\"\n",
    "    peak = peak_infection_date()\n",
    "    return mean_infections(peak + timedelta(6), peak + timedelta(9))\n",
    "plot_question(mean_infections_peak678)"
   ]
  },
  {
   "cell_type": "code",
   "execution_count": null,
   "metadata": {
    "colab": {
     "base_uri": "https://localhost:8080/",
     "height": 664,
     "referenced_widgets": [
      "fc01b82d501f4e0b8eee9574f08a3c2e",
      "b2ce59ea22dc4dd9a38fcba195b0cda4",
      "da981467afad4e2fb93d4054b61f163f",
      "fa75f0d95f5f4887be0cf3651746d1b7",
      "46ed48f397c44bfb9d4c248699a7b4a0",
      "41c3e35bd43743c28f66813432be68f6",
      "c6a0c64a488c409e858c6b02ba335463",
      "5d293f7f31674f159576cb9e8d86dd91"
     ]
    },
    "colab_type": "code",
    "id": "2YZbvHDjjDca",
    "outputId": "c0b57bd1-3d3a-4fac-e4ee-3e7c174e0228"
   },
   "outputs": [],
   "source": [
    "@question(4155, community_weight=0.7)\n",
    "def frac_patients_icu():\n",
    "    \"\"\"\n",
    "    What portion of in-hospital cases in El Paso County will require admission\n",
    "    to the ICU?\n",
    "\n",
    "    Following @katifish's approach:\n",
    "    https://pandemic.metaculus.com/questions/4155/#comment-28054\n",
    "\n",
    "    TODO: Add others from katifish comment\n",
    "    \"\"\"\n",
    "    alpha = 0.1 # Rescaling counts becase we're more uncertain than implied by counts\n",
    "    return ergo.random_choice([\n",
    "      ergo.beta_from_hits(alpha * 121, alpha * 508),\n",
    "      ergo.beta_from_hits(alpha * 181, alpha * 507),\n",
    "    ])\n",
    "plot_question(frac_patients_icu)"
   ]
  },
  {
   "cell_type": "code",
   "execution_count": null,
   "metadata": {
    "colab": {
     "base_uri": "https://localhost:8080/",
     "height": 685,
     "referenced_widgets": [
      "5c7ff4e7a7c44adcbabd49a75a3bd79f",
      "ba5c58b7ac684cc5b3c05f08ea77d94b",
      "b7dbe69f59fc48e991295af386f8788d",
      "6727c5d73ee94e29bf21db8efab3a7ff",
      "dadbb46eea944a08b51b9662e19132e8",
      "ec4c7d464b004a979885a5b841f29b3f",
      "18562df0a0984b1c9f3bc30d23fe9552",
      "7fb2a2b408f14b8499418648b7bc125d"
     ]
    },
    "colab_type": "code",
    "id": "t93CW729i8fi",
    "outputId": "97f761c0-6807-4664-ef38-ba6b4c892201"
   },
   "outputs": [],
   "source": [
    "@question(4154, community_weight=0.3)\n",
    "def frac_patients_invasive():\n",
    "    \"\"\"\n",
    "    What portion of in-hospital patients with Covid-19 in El Paso County will\n",
    "    require invasive ventilation?\n",
    "\n",
    "    Following @PabloStafforini's indirect estimation approach:\n",
    "    https://pandemic.metaculus.com/questions/4154/#comment-28155\n",
    "\n",
    "    TODO:\n",
    "    - Combine with direct estimate\n",
    "      direct_estimate = ergo.beta_from_hits(0.1 * 130, 0.1 * 393)\n",
    "    \"\"\"\n",
    "    return frac_patients_icu() * frac_icu_ventilation()\n",
    "plot_question(frac_patients_invasive)"
   ]
  },
  {
   "cell_type": "code",
   "execution_count": null,
   "metadata": {
    "colab": {
     "base_uri": "https://localhost:8080/",
     "height": 702,
     "referenced_widgets": [
      "4f405a796a564a69b2a332a2a852692b",
      "3c844a4058f64b9c915e6958ad951f73",
      "7e8fff4b7e3e408ba387ffc704d4e8f2",
      "1cf21d7038dd4d55894a3aa4294d656c",
      "4b7bfed2df334000825c684c35326140",
      "d3e1033637884b00aa36d5771e0dcdea",
      "52c148724cf0408491ad0705ef17cb5a",
      "d84694a9c8b64046a18474db3b3f32f2"
     ]
    },
    "colab_type": "code",
    "id": "8nfFqas-imKT",
    "outputId": "d17fe9e9-0993-453d-c930-5e814d3c4e09"
   },
   "outputs": [],
   "source": [
    "@question(4153, community_weight=0.3)\n",
    "def max_30d_hospital_confirmed_for_peak():\n",
    "    \"\"\"\n",
    "    What will the maximum number of in-hospital lab-confirmed COVID-19 \n",
    "    patients in El Paso County, in the 30-day period during which the \"peak\"\n",
    "    occurs?\n",
    "    \"\"\"\n",
    "    peak = peak_infection_date()\n",
    "    days = daterange(peak - timedelta(15), peak + timedelta(15))\n",
    "    return max(hospital_confirmed_for_date(day) for day in days)\n",
    "\n",
    "plot_question(max_30d_hospital_confirmed_for_peak, bw=0.01)"
   ]
  },
  {
   "cell_type": "code",
   "execution_count": null,
   "metadata": {
    "colab": {
     "base_uri": "https://localhost:8080/",
     "height": 744,
     "referenced_widgets": [
      "aa1a3a660e0d4e7aa40b31adccd8d944",
      "d02ce24197054a239af5d1ce94a56a66",
      "af60e01ee41d4c89929dec06b5dae666",
      "8dfc830e289b44c695a209e00a7a4fb8",
      "110561de47ca4c4aac601a5a825a47da",
      "8f89af49bfd34c108368a894ab953fcc",
      "8523b4b29d594238ac7d8a44fee42979",
      "a7c2028cd08f4206a652d6adb37292f3"
     ]
    },
    "colab_type": "code",
    "id": "4chT7tG8i4At",
    "outputId": "916ffe2b-480b-4eeb-821e-80ebfff4a705"
   },
   "outputs": [],
   "source": [
    "@question(4204)\n",
    "def peak_icu_admissions():\n",
    "    \"\"\"\n",
    "    How many patients with Covid-19 in El Paso County will be admitted to the\n",
    "    ICU on the day when the number of hospital admissions of cases peak?\n",
    "\n",
    "    Following @Tamay's approach:\n",
    "    https://pandemic.metaculus.com/questions/4204/\n",
    "\n",
    "    Alternative:    \n",
    "    - peak = peak_hospitalizations_date()\n",
    "    - return daily_icu_admissions(peak)\n",
    "\n",
    "    FIXME: Admissions vs in-hospital patients unclear\n",
    "\n",
    "    Not mixing in community since this is just the product of two other questions.    \n",
    "    \"\"\"\n",
    "    max_patients = max_30d_hospital_confirmed_for_peak()\n",
    "    return max_patients * frac_patients_icu()\n",
    "plot_question(peak_icu_admissions)"
   ]
  },
  {
   "cell_type": "code",
   "execution_count": null,
   "metadata": {
    "colab": {
     "base_uri": "https://localhost:8080/",
     "height": 765,
     "referenced_widgets": [
      "e704aed70c4048e1a2e55b1bec36a106",
      "632560885e834bf494ad141d22921dd2",
      "42e33cff63a34cdc9bea410d7a6445cf",
      "d71444d138c3440193b05b70a0fe5f37",
      "63fea136c5834d8199e3228196f45b7b",
      "dfe453a532a940c4b93b0a02a9939c5c",
      "08aa69c0c752477086b558b86b360355",
      "718e4954fd3e4b0b8063dc33d367f876"
     ]
    },
    "colab_type": "code",
    "id": "M008tkxOjJfC",
    "outputId": "394b7e25-48e9-4c4c-8796-7ea376101c7f"
   },
   "outputs": [],
   "source": [
    "@question(4201)\n",
    "def peak_invasive_ventilation():\n",
    "    \"\"\"\n",
    "    How many patients with Covid-19 in El Paso County will require invasive \n",
    "    ventilation on the day when the number of hospital admissions of cases \n",
    "    peak?\n",
    "\n",
    "    Following @Tamay's approach:\n",
    "    https://pandemic.metaculus.com/questions/4201/#comment-28004\n",
    "\n",
    "    Not mixing in community since this is just the product of two other questions.\n",
    "    \"\"\"\n",
    "    return frac_icu_ventilation() * peak_icu_admissions()\n",
    "\n",
    "plot_question(peak_invasive_ventilation)"
   ]
  },
  {
   "cell_type": "markdown",
   "metadata": {
    "colab_type": "text",
    "id": "BMVjqvYFYti_"
   },
   "source": [
    "# Generate predictions for all questions"
   ]
  },
  {
   "cell_type": "code",
   "execution_count": null,
   "metadata": {
    "colab": {
     "base_uri": "https://localhost:8080/",
     "height": 326,
     "referenced_widgets": [
      "4fed1c826bce424c813d7133b2f83ac3",
      "b9bd7b8c8cc74855ac5c673b909f2180",
      "74adb62fc0764b01adae440d108318d0",
      "ca25f254d4514118a4a6d5751085d7c3",
      "b7883249da494953a5ef672a238319c0",
      "4e37c69750914823bfb5128ebf2bea55",
      "4c4010c330a14682b56522dd154eb237",
      "09e6134f02b944fab45be149b4722e7f"
     ]
    },
    "colab_type": "code",
    "id": "C-ioJfwyY9qV",
    "outputId": "04db884c-8cca-44c0-92b7-c30665d7aa04"
   },
   "outputs": [],
   "source": [
    "def model():\n",
    "    clear_mem()\n",
    "    for sampler in samplers.values():\n",
    "        sampler()\n",
    "\n",
    "samples = ergo.run(model, num_samples=2000)\n",
    "\n",
    "summarize_question_samples(samples)"
   ]
  },
  {
   "cell_type": "markdown",
   "metadata": {
    "colab_type": "text",
    "id": "mQ6CLIGhZdWQ"
   },
   "source": [
    "# Compare predictions to community"
   ]
  },
  {
   "cell_type": "markdown",
   "metadata": {
    "colab_type": "text",
    "id": "50UP8lQoZpvU"
   },
   "source": [
    "This takes a while since we're fitting a mixture of logistic distributions to our samples before visualizing (and submitting) them.\n",
    "These may look a little different from the plots below the questions above, because we've taken more samples from the distribution and we're fitting logistic distributions so we can submit them to metaculus"
   ]
  },
  {
   "cell_type": "code",
   "execution_count": null,
   "metadata": {
    "colab": {
     "base_uri": "https://localhost:8080/",
     "height": 1000,
     "referenced_widgets": [
      "0097492197ad422f918f29701fbf820f",
      "e5e27b354c4a49a98f9fa288dd015058",
      "33e8925db8934b47aa1e14f69402dbe7",
      "5f7866fe662248328c082a50da002cb7",
      "07319b37246f4daea457153d2b9d7d0b",
      "56ab5a651ff643249d1d49f6426954e9",
      "55ae97b4f12344489f6fd46cf8a26030",
      "97cb794d3128460e946b02b97d0dc398",
      "2c53f5ae7e1245728276d5faa756acee",
      "dc9e318ab48e42bdb00eed894be5d1a8",
      "22ce8d155cfa4823b984d7aaf746c6f1",
      "7c8a2216269547c9bec4b9928bf941a1",
      "f195b4aa864e4dd2a26bd61f1dea0f12",
      "68fb4908b97f41ce811f2840b27049ce",
      "948a91da73f8427b9b77df72d2b8da96",
      "0bdc8afed66e4d08b03c1734dde28120",
      "32a209825fe14b6f84a6824009b5b302",
      "5923ba7c1cf949778139d0d03b6eed31",
      "7f22dc57ff854dd99733d38cd82de02e",
      "91778c5711e54843bf77102cdd810ea7",
      "6dd8675211da48a89f3fb4c6970e53a9",
      "26766734e1644618a792831d7c7cb174",
      "5420f72abcfb44358bed1793bd3fbff1",
      "ddd38e71775f487791e3103c3f262da1",
      "486ae7433dc945c4aee07fdf65135eb9",
      "536efe2de66842d4bace018bb667bd4d",
      "ba0aa0d2788347ceaac648dd6ce8541a",
      "58cca28e0d734a26a8e4fabf55b6035c",
      "02a30432ee60458f88dee91a16987f46",
      "e57d65917d0b4200b36a12b717e21c2c",
      "ccbd7443bdfd449da0c82e76e7d95d63",
      "aa8ceef148944cd7965e3f6802082ad6",
      "e31efaa0896f4874a18f09b170facbdd",
      "ec336097e7a84f4b905335cc67dd4012",
      "3a089cb79bb84331a2fff8d35f5925ee",
      "5f3bd974330f4c3fa38ac10bd8108a4b",
      "87a54a010b244d5e821ff113009fd2e2",
      "0231b4925d2c487f9f6390f85180dfac",
      "d26e1419616e41e98245a4fd2eaa8287",
      "e0b95ba52b7a484d82d6b6a742563820",
      "4106c2385afb4babbc8904f5e21490b8",
      "db2ca1dda3e94dfd89f929b62fbe1461",
      "6b5fbcd69c7340978986eabeee35fcbb",
      "373e663bb32441bf8266adf5a11bd7fe",
      "e4ae165bcc4e4c21a9d5e2eebae2eecc",
      "9c5691efbcec4a97adf024ba31840afc",
      "ce5decd16ddc4ee39291e60dfef19c57",
      "f9feacd2178c4389be546e9412ec44a1",
      "9c5925ea62084eaaa5d2516a1bf50db1",
      "28b1a686121a40fe9fe7bdf35453035d",
      "6c82306e519746f2916339b23b5432e2",
      "2d82bff7463c420cb34ae7d00fa7c7ec",
      "b966c77c609f46d5b4ae615c31aff2a9",
      "92587d4afc264941998b8eaede76cd31",
      "02e987fb60db45c3bfca285f523a4235",
      "06a2f7ac55e341f39617a9dc82152857",
      "5bd8326369464ce5bbaeae564d97d4b3",
      "6fd96479e0d846f1afee9edf31c2617a",
      "e73b8c71234e4fc48fd4dd49f2febabc",
      "dc94fc853ce3436d955436803af2cb8a",
      "f2313bf20f1f48c68374ff0fd746375f",
      "bf7e03152bb642889bbb48d80a8bd1d4",
      "c02b55211ac143a084115610e555b1d8",
      "2d2d93f25292489ab06dc31480582015",
      "fa808f42af684b1489e52abfa00d1beb",
      "473925e70a994b5bbc689f6c7a6908a5",
      "9b80d5c136714f43a4ef8a5532c065a9",
      "57560491e92c434fa96672c40d711eba",
      "e1ec37b2f24f422884e346af90dd6f75",
      "14a84a5772114ebcb95e1e5870e37904",
      "c3aa043a69324c50b4942f21fd3b631b",
      "f52ad5b1315746a58cac568007057175",
      "22d6a38a5e4e41c8b3c6daa47d0d9cc1",
      "b57612424aec42b7a664cbf66000ee93",
      "2c6b002542a54768a75e570f53263ebc",
      "92c337ff5e394d61b0cdf10d68085a6f",
      "4aa8927620344984a91ec172289aef4c",
      "8400e8236c554ab58991724f88e7ed18",
      "b9c48d38b7d9412b9ac8e16e4d79557c",
      "1db4874f4b274de29098e73596fd6c64",
      "4820c4af7bc348d184ff89e049384b80",
      "961805e095494f2886f5b5e0fc5d830d",
      "c0ee33dd7c0546bcba615c8d9ca021b9",
      "dee28c4161a44c81a7da779f51b9a83c",
      "7201a7dfb51e404dbcbe2f8e7659f153",
      "7218d0a9b5264a39aed97ad453035c53",
      "3edb9887b57545018e72e75f8f88c0de",
      "3afdda9f443f446cbd04dcda236201de",
      "f66040e781884cc8824f930073a027bd",
      "ce0f5e254ac44924ac308ac7bec5e14e",
      "e2ac4fd18d414904a9f17f625993941e",
      "bba7a894afa340deb7c300381d146202",
      "8c7a9528ba7f4d67a75907c79e1847ab",
      "9f8581522f0a43868d61d1902d7bb07d",
      "f94146567b92455682b90d6f541719a8",
      "52eae26f678a43ac865f6eb7c5531411",
      "d27ef5715fda45ea8a85eb370e795129",
      "42f73fcd38f249598da977f77f6100c2",
      "8be0a61fedf048c5ac8c86447f06f094",
      "949a2ce4138b45168b55ddb47521a737",
      "6a47663e7f324fc892a391ad0630179f",
      "269bb1176c50486f8fa4335b862f4962",
      "ab685d0bce624c2c8613716a4324e9db",
      "8f029c3739194c5d80f924ba0e3c1841",
      "f8774a6ae15a42c8b960383c710a3745",
      "42e0c26b235745c5a456a2ecce6b84be",
      "bad5a55746084f6682828448034115f7",
      "c9786e2df71b427d8acf16b107121474",
      "8f14d55cd88a4fadae272e0dde7710af",
      "c78501f7cf8541faabc18019afa3a378",
      "3fbcc4aa84e84cf6a4cb75d937fe2a55",
      "cf96b74985f74e919485647288ab690f",
      "ec3cb59e7d8345e9abf41767f4d64e87",
      "47e90937f8c04b48be6725e8df512af5",
      "261c09a6659d40589120b6b4d1d89a27",
      "50bec06ec349497792f0f5e53c5a5c51",
      "6c4833980e594567b59142a091e5b6bb",
      "756cd7bed21846e09616428b4bec629c",
      "cdbd3f7eb74c48b48f88447f9f3df2d5",
      "2732685906f345d68309294fa7296a32",
      "e4cec28f929743b7a09da1bbfd61a236",
      "8a0255d8f47946b283f61fd1e059dc1d",
      "a824f0b41906478b8b393c6d2e0a0a16",
      "d684068e5866488c852b2615b0a79506",
      "21a7ff1da89e46b3b55a9d06389031ec",
      "c13ff63633a54fb696a51b04ff4767cd",
      "f43ded49dba04d0c9995173b4e8f55fa",
      "19d6347cd7f74aeb9f883080b3cef77f",
      "4a0b2fe66a904ffaa8b35fcd622ddebc",
      "f71bdcb03ee34416941efa4e55170fa2",
      "474645c27b5f4662bd9d2c73b88822e4",
      "610417e4a3ff4c1c8dc12ce6cfa6866b",
      "ca9436ce7b684a498f8c912cc0c8eaad",
      "62da098e508b49b6a38bba15e92cd7ab",
      "665922073fa540a2af00ee065cad9818",
      "50bf2d1f283f448f8956e9e42c11e7be",
      "e2cd2723ddb84d1dbc6a833965f983d5",
      "1603a24643f04e6da4e07a0ed8cdec27",
      "2894002e0d0549dda2af96f44db60eb9",
      "d01f6902ecc24f3aafd01fad59358233",
      "baa561e2e7854604a8b68cba91fa2a62",
      "7cf19f8c0e6841818f61356cc15c0c1c",
      "42e8497d45e54d9c993cdd47c6d1fbdc",
      "fb597d8c5d0d48e7833e931a1dd2847e"
     ]
    },
    "colab_type": "code",
    "id": "z2DLZ79SZgFF",
    "outputId": "f450ae30-8af5-405e-db8b-959b3cb8efe8"
   },
   "outputs": [],
   "source": [
    "submissions = {}\n",
    "for sampler in samplers.values():\n",
    "    q = sampler.question\n",
    "\n",
    "    q_samples = samples[sampler.__name__]\n",
    "\n",
    "    if q.id == 4128: # Date question: Need to convert back to date from days (https://github.com/oughtinc/ergo/issues/144)\n",
    "        q_samples = np.array([START_DATE + timedelta(s) for s in q_samples])\n",
    "\n",
    "    if q.id in [4201, 4204, 4137, 4152, 4170, 4153]:\n",
    "      # Clip extreme values for questions that we had issues fitting\n",
    "      (sample_min, sample_max) = np.quantile(q_samples, [0.04, 0.96])\n",
    "      q_samples = q_samples[(q_samples >= sample_min) & (q_samples <= sample_max)]\n",
    "\n",
    "    submission = q.get_submission_from_samples(q_samples)\n",
    "    submissions[q] = submission\n",
    "\n",
    "    # the graph for this question will be too zoomed out unless we cut off more of the graph\n",
    "    if q.id == 4153:\n",
    "      q.show_prediction(q_samples, plot_samples=False, plot_fitted=True, show_community=True, percent_kept=0.7)\n",
    "    else:\n",
    "      q.show_prediction(q_samples, plot_samples=False, plot_fitted=True, show_community=True, percent_kept=0.9)"
   ]
  },
  {
   "cell_type": "code",
   "execution_count": null,
   "metadata": {
    "colab": {},
    "colab_type": "code",
    "id": "FEEqlyZ_SwPI"
   },
   "outputs": [],
   "source": [
    "# Should we submit this to Metaculus? If so, uncomment the following lines:\n",
    "# for q, submission in submissions.items():  \n",
    "#     print(q.submit(submission))"
   ]
  }
 ],
 "metadata": {
  "kernelspec": {
   "display_name": "Python 3",
   "language": "python",
   "name": "python3"
  }
 },
 "nbformat": 4,
 "nbformat_minor": 4
}
